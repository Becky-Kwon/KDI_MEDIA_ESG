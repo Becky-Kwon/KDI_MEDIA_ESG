{
 "cells": [
  {
   "cell_type": "code",
   "execution_count": 1,
   "metadata": {},
   "outputs": [],
   "source": [
    "import pandas as pd"
   ]
  },
  {
   "cell_type": "code",
   "execution_count": 2,
   "metadata": {},
   "outputs": [],
   "source": [
    "df = pd.read_csv('C:/Users/Becky/Dropbox/KDI_ESG_공유/분석데이터/필터링데이터/esg_2018_2021_dataset_ESG_Filtered.csv')"
   ]
  },
  {
   "cell_type": "code",
   "execution_count": 3,
   "metadata": {},
   "outputs": [],
   "source": [
    "df = df[['keyword','title','content','time']]"
   ]
  },
  {
   "cell_type": "code",
   "execution_count": 4,
   "metadata": {},
   "outputs": [
    {
     "name": "stderr",
     "output_type": "stream",
     "text": [
      "C:\\Users\\Becky\\anaconda3\\lib\\site-packages\\openpyxl\\styles\\stylesheet.py:214: UserWarning: Workbook contains no default style, apply openpyxl's default\n",
      "  warn(\"Workbook contains no default style, apply openpyxl's default\")\n"
     ]
    }
   ],
   "source": [
    "name = pd.read_excel('C:/Users/Becky/Dropbox/KDI_ESG_공유/참고자료/코스피100_211230.xlsx')"
   ]
  },
  {
   "cell_type": "code",
   "execution_count": 5,
   "metadata": {},
   "outputs": [],
   "source": [
    "name_list = name['종목명'].to_list()"
   ]
  },
  {
   "cell_type": "code",
   "execution_count": 6,
   "metadata": {},
   "outputs": [],
   "source": [
    "name_list.remove('NAVER')\n",
    "name_list.append('네이버')"
   ]
  },
  {
   "cell_type": "code",
   "execution_count": 7,
   "metadata": {},
   "outputs": [
    {
     "data": {
      "text/plain": [
       "100"
      ]
     },
     "execution_count": 7,
     "metadata": {},
     "output_type": "execute_result"
    }
   ],
   "source": [
    "len(name_list)"
   ]
  },
  {
   "cell_type": "code",
   "execution_count": 8,
   "metadata": {},
   "outputs": [],
   "source": [
    "def name_counter(text):\n",
    "    total_count = 0\n",
    "    for word in name_list:\n",
    "        count_ = text.count(word)\n",
    "        total_count += count_\n",
    "    return total_count"
   ]
  },
  {
   "cell_type": "code",
   "execution_count": 9,
   "metadata": {},
   "outputs": [],
   "source": [
    "a = df['content'][4]"
   ]
  },
  {
   "cell_type": "code",
   "execution_count": 10,
   "metadata": {},
   "outputs": [
    {
     "data": {
      "text/plain": [
       "20"
      ]
     },
     "execution_count": 10,
     "metadata": {},
     "output_type": "execute_result"
    }
   ],
   "source": [
    "name_counter(a)"
   ]
  },
  {
   "cell_type": "code",
   "execution_count": 11,
   "metadata": {},
   "outputs": [],
   "source": [
    "df['name_count']  = df['content'].map(lambda x : name_counter(x))"
   ]
  },
  {
   "cell_type": "code",
   "execution_count": 60,
   "metadata": {},
   "outputs": [],
   "source": [
    "df.to_csv('기업명 카운트.csv', index = False, encoding= 'utf-8-sig')"
   ]
  },
  {
   "cell_type": "code",
   "execution_count": 12,
   "metadata": {},
   "outputs": [],
   "source": [
    "# 기업명 한 번 이상 등장\n",
    "df_1 = df[df['name_count']>=1].reset_index(drop = True)"
   ]
  },
  {
   "cell_type": "code",
   "execution_count": 19,
   "metadata": {},
   "outputs": [],
   "source": [
    "# 기업명 5 번 이상 등장\n",
    "df_5 = df[df['name_count']>=5].reset_index(drop = True)"
   ]
  },
  {
   "cell_type": "code",
   "execution_count": 61,
   "metadata": {},
   "outputs": [],
   "source": [
    "df_1.to_csv('기업명 카운트_1개 이상 기사.csv', index = False, encoding= 'utf-8-sig')"
   ]
  },
  {
   "cell_type": "code",
   "execution_count": 62,
   "metadata": {},
   "outputs": [],
   "source": [
    "df_5.to_csv('기업명 카운트_5개 이상 기사.csv', index = False, encoding= 'utf-8-sig')"
   ]
  },
  {
   "cell_type": "code",
   "execution_count": 24,
   "metadata": {},
   "outputs": [
    {
     "name": "stdout",
     "output_type": "stream",
     "text": [
      "75992\n"
     ]
    },
    {
     "data": {
      "text/plain": [
       "75992"
      ]
     },
     "execution_count": 24,
     "metadata": {},
     "output_type": "execute_result"
    }
   ],
   "source": [
    "print(len(df))\n",
    "len(df_nolabel) + len(df_5_index)"
   ]
  },
  {
   "cell_type": "code",
   "execution_count": 17,
   "metadata": {},
   "outputs": [],
   "source": [
    "# 외주 15000개\n",
    "df_5_index = df[df['name_count']>=5][:15000]"
   ]
  },
  {
   "cell_type": "code",
   "execution_count": 43,
   "metadata": {},
   "outputs": [],
   "source": [
    "df_nolabel = df.drop(df_5_index.index, axis=0).reset_index(drop=True)"
   ]
  },
  {
   "cell_type": "code",
   "execution_count": 44,
   "metadata": {},
   "outputs": [],
   "source": [
    "df_nolabel.to_csv('pred_with_everything.csv', index = False, encoding= 'utf-8-sig')"
   ]
  },
  {
   "cell_type": "code",
   "execution_count": 40,
   "metadata": {},
   "outputs": [],
   "source": [
    "df_nolabel['id'] = list(range(len(df_nolabel)))\n",
    "df_nolabel['label'] = 0\n",
    "df_nolabel = df_nolabel[['id', 'title','label']]\n",
    "df_nolabel.columns = ['id', 'document','label']"
   ]
  },
  {
   "cell_type": "code",
   "execution_count": 45,
   "metadata": {
    "scrolled": true
   },
   "outputs": [
    {
     "data": {
      "text/html": [
       "<div>\n",
       "<style scoped>\n",
       "    .dataframe tbody tr th:only-of-type {\n",
       "        vertical-align: middle;\n",
       "    }\n",
       "\n",
       "    .dataframe tbody tr th {\n",
       "        vertical-align: top;\n",
       "    }\n",
       "\n",
       "    .dataframe thead th {\n",
       "        text-align: right;\n",
       "    }\n",
       "</style>\n",
       "<table border=\"1\" class=\"dataframe\">\n",
       "  <thead>\n",
       "    <tr style=\"text-align: right;\">\n",
       "      <th></th>\n",
       "      <th>keyword</th>\n",
       "      <th>title</th>\n",
       "      <th>content</th>\n",
       "      <th>time</th>\n",
       "      <th>name_count</th>\n",
       "    </tr>\n",
       "  </thead>\n",
       "  <tbody>\n",
       "    <tr>\n",
       "      <th>0</th>\n",
       "      <td>esg</td>\n",
       "      <td>풀무원 오너 경영 마감하고 전문경영인 체제로…이효율 신임 총괄CEO 선임</td>\n",
       "      <td>이효율 풀무원 신임 총괄CEO.ⓒ풀무원풀무원이 창사 이래 33년 오너경영을 마감하고...</td>\n",
       "      <td>2018.01.01.</td>\n",
       "      <td>2</td>\n",
       "    </tr>\n",
       "    <tr>\n",
       "      <th>1</th>\n",
       "      <td>esg</td>\n",
       "      <td>[신년사]김성주 이사장 “국민이 주인인 연금 만들어 가겠다”</td>\n",
       "      <td>- 회과자신(悔過自新) 자세로 새해 각오 다져- 국가의 국민연금 지급보장 중요성 강...</td>\n",
       "      <td>2018.01.02.</td>\n",
       "      <td>1</td>\n",
       "    </tr>\n",
       "    <tr>\n",
       "      <th>2</th>\n",
       "      <td>esg</td>\n",
       "      <td>한미연합훈련 '단골' 본험 리처드함, 동해 떠난다</td>\n",
       "      <td>미7함대 상륙군 기함으로 日 전진 배치, 와스프 함과 3월쯤 임무 교대와스프 함, ...</td>\n",
       "      <td>2018.01.03.</td>\n",
       "      <td>0</td>\n",
       "    </tr>\n",
       "    <tr>\n",
       "      <th>3</th>\n",
       "      <td>esg</td>\n",
       "      <td>MSCI, 사회책임경영 지수에서 삼성전자 제외</td>\n",
       "      <td>삼성전자 사회적 이슈 평가서 낮은 점수 받아삼성전자가 최순실 국정농단 사태로 세계...</td>\n",
       "      <td>2018.01.08.</td>\n",
       "      <td>4</td>\n",
       "    </tr>\n",
       "    <tr>\n",
       "      <th>4</th>\n",
       "      <td>esg</td>\n",
       "      <td>글로벌 자산운용사 SSGA, 엄태종 한국 대표 신규 선임</td>\n",
       "      <td>글로벌 자산운용사인 스테이트 스트리트 글로벌 어드바이저(State Street G...</td>\n",
       "      <td>2018.01.08.</td>\n",
       "      <td>2</td>\n",
       "    </tr>\n",
       "  </tbody>\n",
       "</table>\n",
       "</div>"
      ],
      "text/plain": [
       "  keyword                                     title  \\\n",
       "0     esg  풀무원 오너 경영 마감하고 전문경영인 체제로…이효율 신임 총괄CEO 선임   \n",
       "1     esg         [신년사]김성주 이사장 “국민이 주인인 연금 만들어 가겠다”   \n",
       "2     esg               한미연합훈련 '단골' 본험 리처드함, 동해 떠난다   \n",
       "3     esg                 MSCI, 사회책임경영 지수에서 삼성전자 제외   \n",
       "4     esg           글로벌 자산운용사 SSGA, 엄태종 한국 대표 신규 선임   \n",
       "\n",
       "                                             content         time  name_count  \n",
       "0  이효율 풀무원 신임 총괄CEO.ⓒ풀무원풀무원이 창사 이래 33년 오너경영을 마감하고...  2018.01.01.           2  \n",
       "1  - 회과자신(悔過自新) 자세로 새해 각오 다져- 국가의 국민연금 지급보장 중요성 강...  2018.01.02.           1  \n",
       "2  미7함대 상륙군 기함으로 日 전진 배치, 와스프 함과 3월쯤 임무 교대와스프 함, ...  2018.01.03.           0  \n",
       "3   삼성전자 사회적 이슈 평가서 낮은 점수 받아삼성전자가 최순실 국정농단 사태로 세계...  2018.01.08.           4  \n",
       "4   글로벌 자산운용사인 스테이트 스트리트 글로벌 어드바이저(State Street G...  2018.01.08.           2  "
      ]
     },
     "execution_count": 45,
     "metadata": {},
     "output_type": "execute_result"
    }
   ],
   "source": [
    "df_nolabel.head()"
   ]
  },
  {
   "cell_type": "code",
   "execution_count": 42,
   "metadata": {},
   "outputs": [],
   "source": [
    "df_nolabel.to_csv('pred.csv', index = False, encoding= 'utf-8-sig')"
   ]
  },
  {
   "cell_type": "code",
   "execution_count": 18,
   "metadata": {},
   "outputs": [
    {
     "data": {
      "text/html": [
       "<div>\n",
       "<style scoped>\n",
       "    .dataframe tbody tr th:only-of-type {\n",
       "        vertical-align: middle;\n",
       "    }\n",
       "\n",
       "    .dataframe tbody tr th {\n",
       "        vertical-align: top;\n",
       "    }\n",
       "\n",
       "    .dataframe thead th {\n",
       "        text-align: right;\n",
       "    }\n",
       "</style>\n",
       "<table border=\"1\" class=\"dataframe\">\n",
       "  <thead>\n",
       "    <tr style=\"text-align: right;\">\n",
       "      <th></th>\n",
       "      <th>keyword</th>\n",
       "      <th>title</th>\n",
       "      <th>content</th>\n",
       "      <th>time</th>\n",
       "      <th>name_count</th>\n",
       "    </tr>\n",
       "  </thead>\n",
       "  <tbody>\n",
       "    <tr>\n",
       "      <th>2</th>\n",
       "      <td>esg</td>\n",
       "      <td>[착한투자]거래소 `ESG 사회책임지수`..코스피 두 배 이겼다</td>\n",
       "      <td>- KB운용, 1분기 ESG 사회책임지수 ETF 출시- 4분의 1이 삼성전자..시가...</td>\n",
       "      <td>2018.01.03.</td>\n",
       "      <td>9</td>\n",
       "    </tr>\n",
       "    <tr>\n",
       "      <th>4</th>\n",
       "      <td>esg</td>\n",
       "      <td>[단독]글로벌 ESG 투자 급증하는데···발목잡힌 삼성전자</td>\n",
       "      <td>삼성전자, MSCI 코리아 ESG 리더스 지수서 제외사회적 논쟁 평가서 기준 미달펀...</td>\n",
       "      <td>2018.01.08.</td>\n",
       "      <td>20</td>\n",
       "    </tr>\n",
       "    <tr>\n",
       "      <th>6</th>\n",
       "      <td>esg</td>\n",
       "      <td>[단독]결국 JY 구속 뒤탈...MSCI지수서 빠진 삼성</td>\n",
       "      <td>소모적 논쟁, 경영에 부정적투자 판단하는 지수서 제외 삼성전자(005930)가 세계...</td>\n",
       "      <td>2018.01.08.</td>\n",
       "      <td>9</td>\n",
       "    </tr>\n",
       "    <tr>\n",
       "      <th>9</th>\n",
       "      <td>esg</td>\n",
       "      <td>건설사 CEO 새바람... ‘현장통’지고 ‘재무통’뜬다</td>\n",
       "      <td>현대·대우건설·현대산업개발CEO 후임 재무통 속속 선임대출규제에 후분양제 본격화금융...</td>\n",
       "      <td>2018.01.08.</td>\n",
       "      <td>8</td>\n",
       "    </tr>\n",
       "    <tr>\n",
       "      <th>10</th>\n",
       "      <td>esg</td>\n",
       "      <td>LG전자, MSCI ESG지수 구성종목에 편입</td>\n",
       "      <td>LG전자 (서울=연합뉴스) 전명훈 기자 = 세계적인 지수 산출기관 모건스탠리캐피털인...</td>\n",
       "      <td>2018.01.09.</td>\n",
       "      <td>19</td>\n",
       "    </tr>\n",
       "    <tr>\n",
       "      <th>...</th>\n",
       "      <td>...</td>\n",
       "      <td>...</td>\n",
       "      <td>...</td>\n",
       "      <td>...</td>\n",
       "      <td>...</td>\n",
       "    </tr>\n",
       "    <tr>\n",
       "      <th>75674</th>\n",
       "      <td>지배구조</td>\n",
       "      <td>LG화학·LG엔솔, 북미 최대 배터리 리사이클업체에 600억 투자</td>\n",
       "      <td>LG화학과 LG에너지솔루션이 북미 최대 배터리 리사이클링 업체에 600억원을 투자해...</td>\n",
       "      <td>2021.12.15.</td>\n",
       "      <td>24</td>\n",
       "    </tr>\n",
       "    <tr>\n",
       "      <th>75675</th>\n",
       "      <td>지배구조</td>\n",
       "      <td>SK루브리컨츠, 연비 향상된 초저점도 상용차용 엔진오일 출시</td>\n",
       "      <td>한진 택배차량에 시험해 신제품 효과 확인…탄소 배출량 줄여(서울=연합뉴스) 김영신 ...</td>\n",
       "      <td>2021.12.15.</td>\n",
       "      <td>13</td>\n",
       "    </tr>\n",
       "    <tr>\n",
       "      <th>75676</th>\n",
       "      <td>지배구조</td>\n",
       "      <td>삼성물산·중공업·엔지니어링 인사... 부사장 총 18명 승진…\"성과 기반\"</td>\n",
       "      <td>2022년도 임원 승진인사물산, 부사장 11명·상무 23명중공업, 부사장 3명·상무...</td>\n",
       "      <td>2021.12.15.</td>\n",
       "      <td>9</td>\n",
       "    </tr>\n",
       "    <tr>\n",
       "      <th>75678</th>\n",
       "      <td>지배구조</td>\n",
       "      <td>LG화학·엔솔, 북미 배터리 리사이클링 업체에 600억원 투자</td>\n",
       "      <td>LG화학(051910)과 LG에너지솔루션이 북미 최대 배터리 리사이클링 업체인 라이...</td>\n",
       "      <td>2021.12.15.</td>\n",
       "      <td>10</td>\n",
       "    </tr>\n",
       "    <tr>\n",
       "      <th>75691</th>\n",
       "      <td>지배구조</td>\n",
       "      <td>GS건설, 국내 건설사 중 첫 '그린론' 조달 성공</td>\n",
       "      <td>약 7천20만유로 조달…폴란드 친환경 물류센터 건설에 사용16일 서울 중구 스테이트...</td>\n",
       "      <td>2021.12.16.</td>\n",
       "      <td>16</td>\n",
       "    </tr>\n",
       "  </tbody>\n",
       "</table>\n",
       "<p>15000 rows × 5 columns</p>\n",
       "</div>"
      ],
      "text/plain": [
       "      keyword                                      title  \\\n",
       "2         esg        [착한투자]거래소 `ESG 사회책임지수`..코스피 두 배 이겼다   \n",
       "4         esg           [단독]글로벌 ESG 투자 급증하는데···발목잡힌 삼성전자   \n",
       "6         esg            [단독]결국 JY 구속 뒤탈...MSCI지수서 빠진 삼성   \n",
       "9         esg             건설사 CEO 새바람... ‘현장통’지고 ‘재무통’뜬다   \n",
       "10        esg                  LG전자, MSCI ESG지수 구성종목에 편입   \n",
       "...       ...                                        ...   \n",
       "75674    지배구조       LG화학·LG엔솔, 북미 최대 배터리 리사이클업체에 600억 투자   \n",
       "75675    지배구조          SK루브리컨츠, 연비 향상된 초저점도 상용차용 엔진오일 출시   \n",
       "75676    지배구조  삼성물산·중공업·엔지니어링 인사... 부사장 총 18명 승진…\"성과 기반\"   \n",
       "75678    지배구조         LG화학·엔솔, 북미 배터리 리사이클링 업체에 600억원 투자   \n",
       "75691    지배구조               GS건설, 국내 건설사 중 첫 '그린론' 조달 성공   \n",
       "\n",
       "                                                 content         time  \\\n",
       "2      - KB운용, 1분기 ESG 사회책임지수 ETF 출시- 4분의 1이 삼성전자..시가...  2018.01.03.   \n",
       "4      삼성전자, MSCI 코리아 ESG 리더스 지수서 제외사회적 논쟁 평가서 기준 미달펀...  2018.01.08.   \n",
       "6      소모적 논쟁, 경영에 부정적투자 판단하는 지수서 제외 삼성전자(005930)가 세계...  2018.01.08.   \n",
       "9      현대·대우건설·현대산업개발CEO 후임 재무통 속속 선임대출규제에 후분양제 본격화금융...  2018.01.08.   \n",
       "10     LG전자 (서울=연합뉴스) 전명훈 기자 = 세계적인 지수 산출기관 모건스탠리캐피털인...  2018.01.09.   \n",
       "...                                                  ...          ...   \n",
       "75674  LG화학과 LG에너지솔루션이 북미 최대 배터리 리사이클링 업체에 600억원을 투자해...  2021.12.15.   \n",
       "75675  한진 택배차량에 시험해 신제품 효과 확인…탄소 배출량 줄여(서울=연합뉴스) 김영신 ...  2021.12.15.   \n",
       "75676  2022년도 임원 승진인사물산, 부사장 11명·상무 23명중공업, 부사장 3명·상무...  2021.12.15.   \n",
       "75678  LG화학(051910)과 LG에너지솔루션이 북미 최대 배터리 리사이클링 업체인 라이...  2021.12.15.   \n",
       "75691  약 7천20만유로 조달…폴란드 친환경 물류센터 건설에 사용16일 서울 중구 스테이트...  2021.12.16.   \n",
       "\n",
       "       name_count  \n",
       "2               9  \n",
       "4              20  \n",
       "6               9  \n",
       "9               8  \n",
       "10             19  \n",
       "...           ...  \n",
       "75674          24  \n",
       "75675          13  \n",
       "75676           9  \n",
       "75678          10  \n",
       "75691          16  \n",
       "\n",
       "[15000 rows x 5 columns]"
      ]
     },
     "execution_count": 18,
     "metadata": {},
     "output_type": "execute_result"
    }
   ],
   "source": [
    "df_5_index"
   ]
  },
  {
   "cell_type": "code",
   "execution_count": null,
   "metadata": {},
   "outputs": [],
   "source": []
  },
  {
   "cell_type": "code",
   "execution_count": 65,
   "metadata": {},
   "outputs": [],
   "source": [
    "df_5_part1 = df_5[:3000]\n",
    "df_5_part2 = df_5[3000:6000]\n",
    "df_5_part3 = df_5[6000:9000]\n",
    "df_5_part4 = df_5[9000:12000]\n",
    "df_5_part5 = df_5[12000:15000]"
   ]
  },
  {
   "cell_type": "code",
   "execution_count": 75,
   "metadata": {},
   "outputs": [],
   "source": [
    "df_5_part1.to_excel('외주_part1_3000개.xlsx', index = False, encoding= 'utf-8-sig')\n",
    "df_5_part2.to_excel('외주_part2_3000개.xlsx', index = False, encoding= 'utf-8-sig')\n",
    "df_5_part3.to_excel('외주_part3_3000개.xlsx', index = False, encoding= 'utf-8-sig')\n",
    "df_5_part4.to_excel('외주_part4_3000개.xlsx', index = False, encoding= 'utf-8-sig')\n",
    "df_5_part5.to_excel('외주_part5_3000개.xlsx', index = False, encoding= 'utf-8-sig')"
   ]
  }
 ],
 "metadata": {
  "kernelspec": {
   "display_name": "Python 3",
   "language": "python",
   "name": "python3"
  },
  "language_info": {
   "codemirror_mode": {
    "name": "ipython",
    "version": 3
   },
   "file_extension": ".py",
   "mimetype": "text/x-python",
   "name": "python",
   "nbconvert_exporter": "python",
   "pygments_lexer": "ipython3",
   "version": "3.8.3"
  },
  "toc": {
   "base_numbering": 1,
   "nav_menu": {},
   "number_sections": true,
   "sideBar": true,
   "skip_h1_title": false,
   "title_cell": "Table of Contents",
   "title_sidebar": "Contents",
   "toc_cell": false,
   "toc_position": {},
   "toc_section_display": true,
   "toc_window_display": false
  },
  "varInspector": {
   "cols": {
    "lenName": 16,
    "lenType": 16,
    "lenVar": 40
   },
   "kernels_config": {
    "python": {
     "delete_cmd_postfix": "",
     "delete_cmd_prefix": "del ",
     "library": "var_list.py",
     "varRefreshCmd": "print(var_dic_list())"
    },
    "r": {
     "delete_cmd_postfix": ") ",
     "delete_cmd_prefix": "rm(",
     "library": "var_list.r",
     "varRefreshCmd": "cat(var_dic_list()) "
    }
   },
   "types_to_exclude": [
    "module",
    "function",
    "builtin_function_or_method",
    "instance",
    "_Feature"
   ],
   "window_display": false
  }
 },
 "nbformat": 4,
 "nbformat_minor": 4
}
