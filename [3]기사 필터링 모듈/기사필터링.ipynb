{
 "cells": [
  {
   "cell_type": "code",
   "execution_count": 1,
   "metadata": {},
   "outputs": [],
   "source": [
    "import pandas as pdC:\\Users\\Becky\\Dropbox\\KDI_ESG_공유\\분석데이터"
   ]
  },
  {
   "cell_type": "code",
   "execution_count": 3,
   "metadata": {},
   "outputs": [],
   "source": [
    "pmi_words = pd.read_excel('C:/Users/Becky/Dropbox/KDI_ESG_공유/분석데이터/220211/pmi_word_board.xlsx')\n",
    "embedding_words = pd.read_excel('C:/Users/Becky/Dropbox/KDI_ESG_공유/분석데이터/220211/wordembedding_word_board.xlsx')"
   ]
  },
  {
   "cell_type": "code",
   "execution_count": 4,
   "metadata": {},
   "outputs": [],
   "source": [
    "# pmi 단어\n",
    "pmi_report_esg = pmi_words['report_esg'].tolist()\n",
    "pmi_report_환경 = pmi_words['report_환경_30'].tolist()\n",
    "pmi_report_사회 = pmi_words['report_사회_30'].tolist()\n",
    "pmi_report_지배구조 = pmi_words['report_지배구조_30'].tolist()\n",
    "pmi_article_esg = pmi_words['article_esg'].tolist()\n",
    "pmi_article_환경 = pmi_words['article_환경_1000'].tolist()\n",
    "pmi_article_사회 = pmi_words['article_사회_1000'].tolist()\n",
    "pmi_article_지배구조 = pmi_words['article_지배구조_1000'].tolist()\n",
    "\n",
    "# word embedding 단어\n",
    "embedding_report_esg = embedding_words['report_esg'].tolist()\n",
    "embedding_report_환경 = embedding_words['report_환경'].tolist()\n",
    "embedding_report_사회 = embedding_words['report_사회'].tolist()\n",
    "embedding_report_지배구조 = embedding_words['report_지배구조'].tolist()\n",
    "embedding_article_esg = embedding_words['article_esg'].tolist()\n",
    "embedding_article_환경 = embedding_words['article_환경'].tolist()\n",
    "embedding_article_사회 = embedding_words['article_사회'].tolist()\n",
    "embedding_article_지배구조 = embedding_words['article_지배구조'].tolist()"
   ]
  },
  {
   "cell_type": "code",
   "execution_count": 5,
   "metadata": {},
   "outputs": [],
   "source": [
    "# pmi 단어 article + report merge\n",
    "pmi_esg = list(set(pmi_report_esg + pmi_article_esg))               #60개 \n",
    "pmi_환경 = list(set(pmi_report_환경 + pmi_article_환경))            #55개\n",
    "pmi_사회 = list(set(pmi_report_사회 + pmi_article_사회))            #57개\n",
    "pmi_지배구조 = list(set(pmi_report_지배구조 + pmi_article_지배구조))#51개\n",
    "\n",
    "# word embedding 단어 article + report merge\n",
    "embedding_esg = list(set(embedding_report_esg + embedding_article_esg))               #55개 \n",
    "embedding_환경 = list(set(embedding_report_환경 + embedding_article_환경))            #56개\n",
    "embedding_사회 = list(set(embedding_report_사회 + embedding_article_사회))            #59개\n",
    "embedding_지배구조 = list(set(embedding_report_지배구조 + embedding_article_지배구조))#56개\n",
    "\n",
    "# pmi U word embedding 단어 article + report merge\n",
    "pmi_embedding_esg = list(set(pmi_esg + embedding_esg))               #100개 \n",
    "pmi_embedding_환경 = list(set(pmi_환경 + embedding_환경))            #97개\n",
    "pmi_embedding_사회 = list(set(pmi_사회 + embedding_사회))            #96개\n",
    "pmi_embedding_지배구조 = list(set(pmi_지배구조 + embedding_지배구조))#89개"
   ]
  },
  {
   "cell_type": "code",
   "execution_count": 6,
   "metadata": {},
   "outputs": [
    {
     "data": {
      "text/plain": [
       "['시상식', '적용', 'CSO', '성장세', '한계']"
      ]
     },
     "execution_count": 6,
     "metadata": {},
     "output_type": "execute_result"
    }
   ],
   "source": [
    "pmi_esg[:5]"
   ]
  },
  {
   "cell_type": "code",
   "execution_count": 7,
   "metadata": {},
   "outputs": [],
   "source": [
    "# 카운트 함수 정의\n",
    "def counter(word_list, text):\n",
    "    count_sum = 0\n",
    "    for word in word_list:\n",
    "        #print(word)\n",
    "        count_sum += text.count(word)\n",
    "        #print(text.count(word))\n",
    "    return count_sum"
   ]
  },
  {
   "cell_type": "code",
   "execution_count": 8,
   "metadata": {},
   "outputs": [],
   "source": [
    "ESG_ESG_articles = pd.read_csv(\"C:/Users/Becky/Dropbox/KDI_ESG_공유/참고자료/기사 선정/ESG_ESG_관련_30기사.csv\", index_col = 0)\n",
    "ESG_NotESG_articles = pd.read_csv(\"C:/Users/Becky/Dropbox/KDI_ESG_공유/참고자료/기사 선정/ESG_ESG_관련아닌_30기사.csv\", index_col = 0)\n",
    "환경_ESG_articles = pd.read_csv(\"C:/Users/Becky/Dropbox/KDI_ESG_공유/참고자료/기사 선정/환경_ESG_관련_30기사.csv\", index_col = 0)\n",
    "환경_NotESG_articles = pd.read_excel(\"C:/Users/Becky/Dropbox/KDI_ESG_공유/참고자료/기사 선정/환경_ESG_관련아닌_30기사.xlsx\", index_col = 0)\n",
    "사회_ESG_articles = pd.read_csv(\"C:/Users/Becky/Dropbox/KDI_ESG_공유/참고자료/기사 선정/사회_ESG_관련_30기사.csv\", index_col = 0)\n",
    "사회_NotESG_articles = pd.read_csv(\"C:/Users/Becky/Dropbox/KDI_ESG_공유/참고자료/기사 선정/사회_ESG_관련아닌_30기사.csv\", index_col = 0)\n",
    "지배구조_ESG_articles = pd.read_csv(\"C:/Users/Becky/Dropbox/KDI_ESG_공유/참고자료/기사 선정/지배구조_ESG_관련_30기사.csv\", index_col = 0)\n",
    "지배구조_NotESG_articles = pd.read_csv(\"C:/Users/Becky/Dropbox/KDI_ESG_공유/참고자료/기사 선정/지배구조_ESG_관련아닌_30기사.csv\", index_col = 0)\n",
    "\n",
    "ESG_ESG_articles['article_type'] = 'ESG_ESG' \n",
    "ESG_NotESG_articles['article_type'] = 'ESG_NotESG' \n",
    "환경_ESG_articles['article_type'] = '환경_ESG'\n",
    "환경_NotESG_articles['article_type'] = '환경_NotESG'\n",
    "사회_ESG_articles['article_type'] = '사회_ESG'\n",
    "사회_NotESG_articles['article_type'] = '사회_NotESG'\n",
    "지배구조_ESG_articles['article_type'] = '지배구조_ESG'\n",
    "지배구조_NotESG_articles['article_type'] = '지배구조_NotESG'"
   ]
  },
  {
   "cell_type": "code",
   "execution_count": 9,
   "metadata": {},
   "outputs": [],
   "source": [
    "def articles_counter(articles):\n",
    "    articles['pmi_ESG점수'] = articles['content'].map(lambda x : counter(pmi_esg, x))\n",
    "    articles['pmi_E점수'] = articles['content'].map(lambda x : counter(pmi_환경, x))\n",
    "    articles['pmi_S점수'] = articles['content'].map(lambda x : counter(pmi_사회, x))\n",
    "    articles['pmi_G점수'] = articles['content'].map(lambda x : counter(pmi_지배구조, x))\n",
    "    articles['embedding_ESG점수'] = articles['content'].map(lambda x : counter(embedding_esg, x))\n",
    "    articles['embedding_E점수'] = articles['content'].map(lambda x : counter(embedding_환경, x))\n",
    "    articles['embedding_S점수'] = articles['content'].map(lambda x : counter(embedding_사회, x))\n",
    "    articles['embedding_G점수'] = articles['content'].map(lambda x : counter(embedding_지배구조, x))\n",
    "    articles['pmi_embedding_ESG점수'] = articles['content'].map(lambda x : counter(pmi_embedding_esg, x))\n",
    "    articles['pmi_embedding_E점수'] = articles['content'].map(lambda x : counter(pmi_embedding_환경, x))\n",
    "    articles['pmi_embedding_S점수'] = articles['content'].map(lambda x : counter(pmi_embedding_사회, x))\n",
    "    articles['pmi_embedding_G점수'] = articles['content'].map(lambda x : counter(pmi_embedding_지배구조, x))\n",
    "    return articles"
   ]
  },
  {
   "cell_type": "code",
   "execution_count": 10,
   "metadata": {},
   "outputs": [],
   "source": [
    "ESG_ESG_articles = articles_counter(ESG_ESG_articles)\n",
    "ESG_NotESG_articles = articles_counter(ESG_NotESG_articles)\n",
    "환경_ESG_articles = articles_counter(환경_ESG_articles)\n",
    "환경_NotESG_articles = articles_counter(환경_NotESG_articles)\n",
    "사회_ESG_articles = articles_counter(사회_ESG_articles)\n",
    "사회_NotESG_articles = articles_counter(사회_NotESG_articles)\n",
    "지배구조_ESG_articles = articles_counter(지배구조_ESG_articles)\n",
    "지배구조_NotESG_articles = articles_counter(지배구조_NotESG_articles)"
   ]
  },
  {
   "cell_type": "code",
   "execution_count": 11,
   "metadata": {},
   "outputs": [
    {
     "name": "stdout",
     "output_type": "stream",
     "text": [
      "71\n",
      "101\n",
      "131\n",
      "161\n",
      "191\n",
      "221\n"
     ]
    }
   ],
   "source": [
    "final_score_table = pd.concat([ESG_ESG_articles,ESG_NotESG_articles]).reset_index(drop=True)\n",
    "final_score_table = pd.concat([final_score_table,환경_ESG_articles]).reset_index(drop=True)\n",
    "print(len(final_score_table))\n",
    "final_score_table = pd.concat([final_score_table,환경_NotESG_articles]).reset_index(drop=True)\n",
    "print(len(final_score_table))\n",
    "final_score_table = pd.concat([final_score_table,사회_ESG_articles]).reset_index(drop=True)\n",
    "print(len(final_score_table))\n",
    "final_score_table = pd.concat([final_score_table,사회_NotESG_articles]).reset_index(drop=True)\n",
    "print(len(final_score_table))\n",
    "final_score_table = pd.concat([final_score_table,지배구조_ESG_articles]).reset_index(drop=True)\n",
    "print(len(final_score_table))\n",
    "final_score_table = pd.concat([final_score_table,지배구조_NotESG_articles]).reset_index(drop=True)\n",
    "print(len(final_score_table))"
   ]
  },
  {
   "cell_type": "code",
   "execution_count": 12,
   "metadata": {},
   "outputs": [
    {
     "name": "stdout",
     "output_type": "stream",
     "text": [
      "<class 'pandas.core.frame.DataFrame'>\n",
      "RangeIndex: 221 entries, 0 to 220\n",
      "Data columns (total 21 columns):\n",
      " #   Column               Non-Null Count  Dtype  \n",
      "---  ------               --------------  -----  \n",
      " 0   id                   161 non-null    float64\n",
      " 1   keyword              191 non-null    object \n",
      " 2   title                221 non-null    object \n",
      " 3   url                  221 non-null    object \n",
      " 4   press                221 non-null    object \n",
      " 5   time                 161 non-null    object \n",
      " 6   content              221 non-null    object \n",
      " 7   article_type         221 non-null    object \n",
      " 8   pmi_ESG점수            221 non-null    int64  \n",
      " 9   pmi_E점수              221 non-null    int64  \n",
      " 10  pmi_S점수              221 non-null    int64  \n",
      " 11  pmi_G점수              221 non-null    int64  \n",
      " 12  embedding_ESG점수      221 non-null    int64  \n",
      " 13  embedding_E점수        221 non-null    int64  \n",
      " 14  embedding_S점수        221 non-null    int64  \n",
      " 15  embedding_G점수        221 non-null    int64  \n",
      " 16  pmi_embedding_ESG점수  221 non-null    int64  \n",
      " 17  pmi_embedding_E점수    221 non-null    int64  \n",
      " 18  pmi_embedding_S점수    221 non-null    int64  \n",
      " 19  pmi_embedding_G점수    221 non-null    int64  \n",
      " 20  Unnamed: 8           0 non-null      float64\n",
      "dtypes: float64(2), int64(12), object(7)\n",
      "memory usage: 36.4+ KB\n"
     ]
    }
   ],
   "source": [
    "final_score_table.info()"
   ]
  },
  {
   "cell_type": "code",
   "execution_count": 102,
   "metadata": {},
   "outputs": [],
   "source": [
    "final_table = final_score_table.iloc[:,7:]"
   ]
  },
  {
   "cell_type": "code",
   "execution_count": 107,
   "metadata": {},
   "outputs": [],
   "source": [
    "final_table.to_excel('C:/Users/Becky/Dropbox/KDI_ESG_공유/참고자료/기사 선정/점수계산결과.xlsx',\n",
    "                    index=False)"
   ]
  },
  {
   "cell_type": "code",
   "execution_count": null,
   "metadata": {},
   "outputs": [],
   "source": []
  },
  {
   "cell_type": "markdown",
   "metadata": {},
   "source": [
    "# 4개년 기사 필터링"
   ]
  },
  {
   "cell_type": "code",
   "execution_count": 13,
   "metadata": {},
   "outputs": [],
   "source": [
    "df_4year = pd.read_csv('C:/Users/Becky/Dropbox/KDI_ESG_공유/크롤링 데이터/2018_2021_전처리 데이터/esg_2018_2021_dataset.csv')"
   ]
  },
  {
   "cell_type": "code",
   "execution_count": 14,
   "metadata": {},
   "outputs": [
    {
     "data": {
      "text/html": [
       "<div>\n",
       "<style scoped>\n",
       "    .dataframe tbody tr th:only-of-type {\n",
       "        vertical-align: middle;\n",
       "    }\n",
       "\n",
       "    .dataframe tbody tr th {\n",
       "        vertical-align: top;\n",
       "    }\n",
       "\n",
       "    .dataframe thead th {\n",
       "        text-align: right;\n",
       "    }\n",
       "</style>\n",
       "<table border=\"1\" class=\"dataframe\">\n",
       "  <thead>\n",
       "    <tr style=\"text-align: right;\">\n",
       "      <th></th>\n",
       "      <th>keyword</th>\n",
       "      <th>title</th>\n",
       "      <th>url</th>\n",
       "      <th>press</th>\n",
       "      <th>time</th>\n",
       "      <th>content</th>\n",
       "      <th>noun</th>\n",
       "    </tr>\n",
       "  </thead>\n",
       "  <tbody>\n",
       "    <tr>\n",
       "      <th>126943</th>\n",
       "      <td>지배구조</td>\n",
       "      <td>권준학 농협은행장 \"초혁신 디지털뱅크로 도약하자\"</td>\n",
       "      <td>https://news.naver.com/main/read.naver?mode=LS...</td>\n",
       "      <td>아시아경제</td>\n",
       "      <td>2021.12.31.</td>\n",
       "      <td>2022년 경영목표 달성결의 대회 개최권준학 농협은행장이 30일 서울시 중구 농협은...</td>\n",
       "      <td>['경영', '목표', '달', '성결', '대회', '개최', '학', '농협',...</td>\n",
       "    </tr>\n",
       "    <tr>\n",
       "      <th>126944</th>\n",
       "      <td>지배구조</td>\n",
       "      <td>[신년사] 권오갑 현대중공업 회장 \"혁신 통해 가치 창출해야\"</td>\n",
       "      <td>https://news.naver.com/main/read.naver?mode=LS...</td>\n",
       "      <td>노컷뉴스</td>\n",
       "      <td>2021.12.31.</td>\n",
       "      <td>권오갑 현대중공업지주 회장. 연합뉴스권오갑 현대중공업지주 회장은 31일 사업구조와 ...</td>\n",
       "      <td>['권오갑', '현대', '중공업', '지주', '회장', '권오갑', '현대', ...</td>\n",
       "    </tr>\n",
       "    <tr>\n",
       "      <th>126945</th>\n",
       "      <td>지배구조</td>\n",
       "      <td>결국 원전은 빠졌다···환경부, K택소노미 발표</td>\n",
       "      <td>https://news.naver.com/main/read.naver?mode=LS...</td>\n",
       "      <td>서울경제</td>\n",
       "      <td>2021.12.31.</td>\n",
       "      <td>내년 녹색채권·녹색 프로젝트파이낸싱 등 시범사업경북 울진군 한울원자력발전소 정문에 ...</td>\n",
       "      <td>['내년', '녹', '색채', '녹색', '프로젝트', '싱', '시범', '사업...</td>\n",
       "    </tr>\n",
       "    <tr>\n",
       "      <th>126946</th>\n",
       "      <td>지배구조</td>\n",
       "      <td>[2021년 증시 결산] 올해 증시 NFT·메타버스 등 5대 테마가 달궜다</td>\n",
       "      <td>https://news.naver.com/main/read.naver?mode=LS...</td>\n",
       "      <td>조선비즈</td>\n",
       "      <td>2021.12.31.</td>\n",
       "      <td>코스닥시장 시가총액 10위권 기업 현황./한국거래소 2021년 한해 국내 증시는 코...</td>\n",
       "      <td>['코스닥', '시장', '시가총액', '기업', '현황', '한국', '거래소',...</td>\n",
       "    </tr>\n",
       "    <tr>\n",
       "      <th>126947</th>\n",
       "      <td>환경</td>\n",
       "      <td>경기 환경·시민단체 '삼성 이산화탄소 진상규명 단체' 구성</td>\n",
       "      <td>https://news.naver.com/main/read.naver?mode=LS...</td>\n",
       "      <td>뉴시스</td>\n",
       "      <td>2018.09.05.</td>\n",
       "      <td>()  【수원=뉴시스】 이승호 기자 = 경기도 단위 시민·환경단체와 삼성전자 사업장...</td>\n",
       "      <td>['수원', '이승호', '경기도', '단위', '시민', '환경', '단체', '...</td>\n",
       "    </tr>\n",
       "  </tbody>\n",
       "</table>\n",
       "</div>"
      ],
      "text/plain": [
       "       keyword                                      title  \\\n",
       "126943    지배구조                권준학 농협은행장 \"초혁신 디지털뱅크로 도약하자\"   \n",
       "126944    지배구조         [신년사] 권오갑 현대중공업 회장 \"혁신 통해 가치 창출해야\"   \n",
       "126945    지배구조                 결국 원전은 빠졌다···환경부, K택소노미 발표   \n",
       "126946    지배구조  [2021년 증시 결산] 올해 증시 NFT·메타버스 등 5대 테마가 달궜다   \n",
       "126947      환경           경기 환경·시민단체 '삼성 이산화탄소 진상규명 단체' 구성   \n",
       "\n",
       "                                                      url  press         time  \\\n",
       "126943  https://news.naver.com/main/read.naver?mode=LS...  아시아경제  2021.12.31.   \n",
       "126944  https://news.naver.com/main/read.naver?mode=LS...   노컷뉴스  2021.12.31.   \n",
       "126945  https://news.naver.com/main/read.naver?mode=LS...   서울경제  2021.12.31.   \n",
       "126946  https://news.naver.com/main/read.naver?mode=LS...   조선비즈  2021.12.31.   \n",
       "126947  https://news.naver.com/main/read.naver?mode=LS...    뉴시스  2018.09.05.   \n",
       "\n",
       "                                                  content  \\\n",
       "126943  2022년 경영목표 달성결의 대회 개최권준학 농협은행장이 30일 서울시 중구 농협은...   \n",
       "126944  권오갑 현대중공업지주 회장. 연합뉴스권오갑 현대중공업지주 회장은 31일 사업구조와 ...   \n",
       "126945  내년 녹색채권·녹색 프로젝트파이낸싱 등 시범사업경북 울진군 한울원자력발전소 정문에 ...   \n",
       "126946  코스닥시장 시가총액 10위권 기업 현황./한국거래소 2021년 한해 국내 증시는 코...   \n",
       "126947  ()  【수원=뉴시스】 이승호 기자 = 경기도 단위 시민·환경단체와 삼성전자 사업장...   \n",
       "\n",
       "                                                     noun  \n",
       "126943  ['경영', '목표', '달', '성결', '대회', '개최', '학', '농협',...  \n",
       "126944  ['권오갑', '현대', '중공업', '지주', '회장', '권오갑', '현대', ...  \n",
       "126945  ['내년', '녹', '색채', '녹색', '프로젝트', '싱', '시범', '사업...  \n",
       "126946  ['코스닥', '시장', '시가총액', '기업', '현황', '한국', '거래소',...  \n",
       "126947  ['수원', '이승호', '경기도', '단위', '시민', '환경', '단체', '...  "
      ]
     },
     "execution_count": 14,
     "metadata": {},
     "output_type": "execute_result"
    }
   ],
   "source": [
    "df_4year.tail()"
   ]
  },
  {
   "cell_type": "code",
   "execution_count": 15,
   "metadata": {},
   "outputs": [
    {
     "data": {
      "text/plain": [
       "str"
      ]
     },
     "execution_count": 15,
     "metadata": {},
     "output_type": "execute_result"
    }
   ],
   "source": [
    "con = df_4year.loc[0,'content']\n",
    "type(con)"
   ]
  },
  {
   "cell_type": "code",
   "execution_count": 16,
   "metadata": {},
   "outputs": [],
   "source": [
    "# 문제 있는 index 모으기\n",
    "error = []\n",
    "for index in range(len(df_4year)):\n",
    "    con = df_4year.loc[index,'content']\n",
    "    if type(con) is float:\n",
    "        #print(index)\n",
    "        error.append(index)"
   ]
  },
  {
   "cell_type": "code",
   "execution_count": 17,
   "metadata": {},
   "outputs": [
    {
     "data": {
      "text/plain": [
       "3266"
      ]
     },
     "execution_count": 17,
     "metadata": {},
     "output_type": "execute_result"
    }
   ],
   "source": [
    "len(error)"
   ]
  },
  {
   "cell_type": "code",
   "execution_count": 18,
   "metadata": {
    "scrolled": false
   },
   "outputs": [],
   "source": [
    "# 문제 있는 Content 가 NaN 인 경우 싹 지우기 3266개 삭제\n",
    "df_4year = df_4year.drop(error,axis=0).reset_index(drop=True)"
   ]
  },
  {
   "cell_type": "code",
   "execution_count": 19,
   "metadata": {},
   "outputs": [
    {
     "data": {
      "text/plain": [
       "126948"
      ]
     },
     "execution_count": 19,
     "metadata": {},
     "output_type": "execute_result"
    }
   ],
   "source": [
    "123682 + len(error)"
   ]
  },
  {
   "cell_type": "code",
   "execution_count": 20,
   "metadata": {},
   "outputs": [
    {
     "data": {
      "text/html": [
       "<div>\n",
       "<style scoped>\n",
       "    .dataframe tbody tr th:only-of-type {\n",
       "        vertical-align: middle;\n",
       "    }\n",
       "\n",
       "    .dataframe tbody tr th {\n",
       "        vertical-align: top;\n",
       "    }\n",
       "\n",
       "    .dataframe thead th {\n",
       "        text-align: right;\n",
       "    }\n",
       "</style>\n",
       "<table border=\"1\" class=\"dataframe\">\n",
       "  <thead>\n",
       "    <tr style=\"text-align: right;\">\n",
       "      <th></th>\n",
       "      <th>keyword</th>\n",
       "      <th>title</th>\n",
       "      <th>url</th>\n",
       "      <th>press</th>\n",
       "      <th>time</th>\n",
       "      <th>content</th>\n",
       "      <th>noun</th>\n",
       "    </tr>\n",
       "  </thead>\n",
       "  <tbody>\n",
       "    <tr>\n",
       "      <th>123677</th>\n",
       "      <td>지배구조</td>\n",
       "      <td>권준학 농협은행장 \"초혁신 디지털뱅크로 도약하자\"</td>\n",
       "      <td>https://news.naver.com/main/read.naver?mode=LS...</td>\n",
       "      <td>아시아경제</td>\n",
       "      <td>2021.12.31.</td>\n",
       "      <td>2022년 경영목표 달성결의 대회 개최권준학 농협은행장이 30일 서울시 중구 농협은...</td>\n",
       "      <td>['경영', '목표', '달', '성결', '대회', '개최', '학', '농협',...</td>\n",
       "    </tr>\n",
       "    <tr>\n",
       "      <th>123678</th>\n",
       "      <td>지배구조</td>\n",
       "      <td>[신년사] 권오갑 현대중공업 회장 \"혁신 통해 가치 창출해야\"</td>\n",
       "      <td>https://news.naver.com/main/read.naver?mode=LS...</td>\n",
       "      <td>노컷뉴스</td>\n",
       "      <td>2021.12.31.</td>\n",
       "      <td>권오갑 현대중공업지주 회장. 연합뉴스권오갑 현대중공업지주 회장은 31일 사업구조와 ...</td>\n",
       "      <td>['권오갑', '현대', '중공업', '지주', '회장', '권오갑', '현대', ...</td>\n",
       "    </tr>\n",
       "    <tr>\n",
       "      <th>123679</th>\n",
       "      <td>지배구조</td>\n",
       "      <td>결국 원전은 빠졌다···환경부, K택소노미 발표</td>\n",
       "      <td>https://news.naver.com/main/read.naver?mode=LS...</td>\n",
       "      <td>서울경제</td>\n",
       "      <td>2021.12.31.</td>\n",
       "      <td>내년 녹색채권·녹색 프로젝트파이낸싱 등 시범사업경북 울진군 한울원자력발전소 정문에 ...</td>\n",
       "      <td>['내년', '녹', '색채', '녹색', '프로젝트', '싱', '시범', '사업...</td>\n",
       "    </tr>\n",
       "    <tr>\n",
       "      <th>123680</th>\n",
       "      <td>지배구조</td>\n",
       "      <td>[2021년 증시 결산] 올해 증시 NFT·메타버스 등 5대 테마가 달궜다</td>\n",
       "      <td>https://news.naver.com/main/read.naver?mode=LS...</td>\n",
       "      <td>조선비즈</td>\n",
       "      <td>2021.12.31.</td>\n",
       "      <td>코스닥시장 시가총액 10위권 기업 현황./한국거래소 2021년 한해 국내 증시는 코...</td>\n",
       "      <td>['코스닥', '시장', '시가총액', '기업', '현황', '한국', '거래소',...</td>\n",
       "    </tr>\n",
       "    <tr>\n",
       "      <th>123681</th>\n",
       "      <td>환경</td>\n",
       "      <td>경기 환경·시민단체 '삼성 이산화탄소 진상규명 단체' 구성</td>\n",
       "      <td>https://news.naver.com/main/read.naver?mode=LS...</td>\n",
       "      <td>뉴시스</td>\n",
       "      <td>2018.09.05.</td>\n",
       "      <td>()  【수원=뉴시스】 이승호 기자 = 경기도 단위 시민·환경단체와 삼성전자 사업장...</td>\n",
       "      <td>['수원', '이승호', '경기도', '단위', '시민', '환경', '단체', '...</td>\n",
       "    </tr>\n",
       "  </tbody>\n",
       "</table>\n",
       "</div>"
      ],
      "text/plain": [
       "       keyword                                      title  \\\n",
       "123677    지배구조                권준학 농협은행장 \"초혁신 디지털뱅크로 도약하자\"   \n",
       "123678    지배구조         [신년사] 권오갑 현대중공업 회장 \"혁신 통해 가치 창출해야\"   \n",
       "123679    지배구조                 결국 원전은 빠졌다···환경부, K택소노미 발표   \n",
       "123680    지배구조  [2021년 증시 결산] 올해 증시 NFT·메타버스 등 5대 테마가 달궜다   \n",
       "123681      환경           경기 환경·시민단체 '삼성 이산화탄소 진상규명 단체' 구성   \n",
       "\n",
       "                                                      url  press         time  \\\n",
       "123677  https://news.naver.com/main/read.naver?mode=LS...  아시아경제  2021.12.31.   \n",
       "123678  https://news.naver.com/main/read.naver?mode=LS...   노컷뉴스  2021.12.31.   \n",
       "123679  https://news.naver.com/main/read.naver?mode=LS...   서울경제  2021.12.31.   \n",
       "123680  https://news.naver.com/main/read.naver?mode=LS...   조선비즈  2021.12.31.   \n",
       "123681  https://news.naver.com/main/read.naver?mode=LS...    뉴시스  2018.09.05.   \n",
       "\n",
       "                                                  content  \\\n",
       "123677  2022년 경영목표 달성결의 대회 개최권준학 농협은행장이 30일 서울시 중구 농협은...   \n",
       "123678  권오갑 현대중공업지주 회장. 연합뉴스권오갑 현대중공업지주 회장은 31일 사업구조와 ...   \n",
       "123679  내년 녹색채권·녹색 프로젝트파이낸싱 등 시범사업경북 울진군 한울원자력발전소 정문에 ...   \n",
       "123680  코스닥시장 시가총액 10위권 기업 현황./한국거래소 2021년 한해 국내 증시는 코...   \n",
       "123681  ()  【수원=뉴시스】 이승호 기자 = 경기도 단위 시민·환경단체와 삼성전자 사업장...   \n",
       "\n",
       "                                                     noun  \n",
       "123677  ['경영', '목표', '달', '성결', '대회', '개최', '학', '농협',...  \n",
       "123678  ['권오갑', '현대', '중공업', '지주', '회장', '권오갑', '현대', ...  \n",
       "123679  ['내년', '녹', '색채', '녹색', '프로젝트', '싱', '시범', '사업...  \n",
       "123680  ['코스닥', '시장', '시가총액', '기업', '현황', '한국', '거래소',...  \n",
       "123681  ['수원', '이승호', '경기도', '단위', '시민', '환경', '단체', '...  "
      ]
     },
     "execution_count": 20,
     "metadata": {},
     "output_type": "execute_result"
    }
   ],
   "source": [
    "# 문제 있는 Content 가 NaN 인 경우 싹 지운 상태 123682개\n",
    "df_4year.tail()"
   ]
  },
  {
   "cell_type": "code",
   "execution_count": 21,
   "metadata": {},
   "outputs": [],
   "source": [
    "# '제목'기준으로 중복 지우기 -> 117054 최종 4개년 치 뉴스 개수\n",
    "df_4year = df_4year.drop_duplicates('title').reset_index(drop=True)"
   ]
  },
  {
   "cell_type": "code",
   "execution_count": 22,
   "metadata": {},
   "outputs": [
    {
     "data": {
      "text/html": [
       "<div>\n",
       "<style scoped>\n",
       "    .dataframe tbody tr th:only-of-type {\n",
       "        vertical-align: middle;\n",
       "    }\n",
       "\n",
       "    .dataframe tbody tr th {\n",
       "        vertical-align: top;\n",
       "    }\n",
       "\n",
       "    .dataframe thead th {\n",
       "        text-align: right;\n",
       "    }\n",
       "</style>\n",
       "<table border=\"1\" class=\"dataframe\">\n",
       "  <thead>\n",
       "    <tr style=\"text-align: right;\">\n",
       "      <th></th>\n",
       "      <th>keyword</th>\n",
       "      <th>title</th>\n",
       "      <th>url</th>\n",
       "      <th>press</th>\n",
       "      <th>time</th>\n",
       "      <th>content</th>\n",
       "      <th>noun</th>\n",
       "    </tr>\n",
       "  </thead>\n",
       "  <tbody>\n",
       "    <tr>\n",
       "      <th>117049</th>\n",
       "      <td>지배구조</td>\n",
       "      <td>권준학 농협은행장 \"초혁신 디지털뱅크로 도약하자\"</td>\n",
       "      <td>https://news.naver.com/main/read.naver?mode=LS...</td>\n",
       "      <td>아시아경제</td>\n",
       "      <td>2021.12.31.</td>\n",
       "      <td>2022년 경영목표 달성결의 대회 개최권준학 농협은행장이 30일 서울시 중구 농협은...</td>\n",
       "      <td>['경영', '목표', '달', '성결', '대회', '개최', '학', '농협',...</td>\n",
       "    </tr>\n",
       "    <tr>\n",
       "      <th>117050</th>\n",
       "      <td>지배구조</td>\n",
       "      <td>[신년사] 권오갑 현대중공업 회장 \"혁신 통해 가치 창출해야\"</td>\n",
       "      <td>https://news.naver.com/main/read.naver?mode=LS...</td>\n",
       "      <td>노컷뉴스</td>\n",
       "      <td>2021.12.31.</td>\n",
       "      <td>권오갑 현대중공업지주 회장. 연합뉴스권오갑 현대중공업지주 회장은 31일 사업구조와 ...</td>\n",
       "      <td>['권오갑', '현대', '중공업', '지주', '회장', '권오갑', '현대', ...</td>\n",
       "    </tr>\n",
       "    <tr>\n",
       "      <th>117051</th>\n",
       "      <td>지배구조</td>\n",
       "      <td>결국 원전은 빠졌다···환경부, K택소노미 발표</td>\n",
       "      <td>https://news.naver.com/main/read.naver?mode=LS...</td>\n",
       "      <td>서울경제</td>\n",
       "      <td>2021.12.31.</td>\n",
       "      <td>내년 녹색채권·녹색 프로젝트파이낸싱 등 시범사업경북 울진군 한울원자력발전소 정문에 ...</td>\n",
       "      <td>['내년', '녹', '색채', '녹색', '프로젝트', '싱', '시범', '사업...</td>\n",
       "    </tr>\n",
       "    <tr>\n",
       "      <th>117052</th>\n",
       "      <td>지배구조</td>\n",
       "      <td>[2021년 증시 결산] 올해 증시 NFT·메타버스 등 5대 테마가 달궜다</td>\n",
       "      <td>https://news.naver.com/main/read.naver?mode=LS...</td>\n",
       "      <td>조선비즈</td>\n",
       "      <td>2021.12.31.</td>\n",
       "      <td>코스닥시장 시가총액 10위권 기업 현황./한국거래소 2021년 한해 국내 증시는 코...</td>\n",
       "      <td>['코스닥', '시장', '시가총액', '기업', '현황', '한국', '거래소',...</td>\n",
       "    </tr>\n",
       "    <tr>\n",
       "      <th>117053</th>\n",
       "      <td>환경</td>\n",
       "      <td>경기 환경·시민단체 '삼성 이산화탄소 진상규명 단체' 구성</td>\n",
       "      <td>https://news.naver.com/main/read.naver?mode=LS...</td>\n",
       "      <td>뉴시스</td>\n",
       "      <td>2018.09.05.</td>\n",
       "      <td>()  【수원=뉴시스】 이승호 기자 = 경기도 단위 시민·환경단체와 삼성전자 사업장...</td>\n",
       "      <td>['수원', '이승호', '경기도', '단위', '시민', '환경', '단체', '...</td>\n",
       "    </tr>\n",
       "  </tbody>\n",
       "</table>\n",
       "</div>"
      ],
      "text/plain": [
       "       keyword                                      title  \\\n",
       "117049    지배구조                권준학 농협은행장 \"초혁신 디지털뱅크로 도약하자\"   \n",
       "117050    지배구조         [신년사] 권오갑 현대중공업 회장 \"혁신 통해 가치 창출해야\"   \n",
       "117051    지배구조                 결국 원전은 빠졌다···환경부, K택소노미 발표   \n",
       "117052    지배구조  [2021년 증시 결산] 올해 증시 NFT·메타버스 등 5대 테마가 달궜다   \n",
       "117053      환경           경기 환경·시민단체 '삼성 이산화탄소 진상규명 단체' 구성   \n",
       "\n",
       "                                                      url  press         time  \\\n",
       "117049  https://news.naver.com/main/read.naver?mode=LS...  아시아경제  2021.12.31.   \n",
       "117050  https://news.naver.com/main/read.naver?mode=LS...   노컷뉴스  2021.12.31.   \n",
       "117051  https://news.naver.com/main/read.naver?mode=LS...   서울경제  2021.12.31.   \n",
       "117052  https://news.naver.com/main/read.naver?mode=LS...   조선비즈  2021.12.31.   \n",
       "117053  https://news.naver.com/main/read.naver?mode=LS...    뉴시스  2018.09.05.   \n",
       "\n",
       "                                                  content  \\\n",
       "117049  2022년 경영목표 달성결의 대회 개최권준학 농협은행장이 30일 서울시 중구 농협은...   \n",
       "117050  권오갑 현대중공업지주 회장. 연합뉴스권오갑 현대중공업지주 회장은 31일 사업구조와 ...   \n",
       "117051  내년 녹색채권·녹색 프로젝트파이낸싱 등 시범사업경북 울진군 한울원자력발전소 정문에 ...   \n",
       "117052  코스닥시장 시가총액 10위권 기업 현황./한국거래소 2021년 한해 국내 증시는 코...   \n",
       "117053  ()  【수원=뉴시스】 이승호 기자 = 경기도 단위 시민·환경단체와 삼성전자 사업장...   \n",
       "\n",
       "                                                     noun  \n",
       "117049  ['경영', '목표', '달', '성결', '대회', '개최', '학', '농협',...  \n",
       "117050  ['권오갑', '현대', '중공업', '지주', '회장', '권오갑', '현대', ...  \n",
       "117051  ['내년', '녹', '색채', '녹색', '프로젝트', '싱', '시범', '사업...  \n",
       "117052  ['코스닥', '시장', '시가총액', '기업', '현황', '한국', '거래소',...  \n",
       "117053  ['수원', '이승호', '경기도', '단위', '시민', '환경', '단체', '...  "
      ]
     },
     "execution_count": 22,
     "metadata": {},
     "output_type": "execute_result"
    }
   ],
   "source": [
    "df_4year.tail()"
   ]
  },
  {
   "cell_type": "code",
   "execution_count": 23,
   "metadata": {
    "scrolled": true
   },
   "outputs": [],
   "source": [
    "df_4year.to_csv('C:/Users/Becky/Dropbox/KDI_ESG_공유/크롤링 데이터/2018_2021_전처리 데이터/esg_2018_2021_dataset_nonull_drop.csv', \n",
    "                index=False, encoding='utf-8-sig')"
   ]
  },
  {
   "cell_type": "code",
   "execution_count": 26,
   "metadata": {},
   "outputs": [],
   "source": [
    "df_4year_count = articles_counter(df_4year)"
   ]
  },
  {
   "cell_type": "code",
   "execution_count": 27,
   "metadata": {},
   "outputs": [],
   "source": [
    "df_4year_count = df_4year_count[['keyword','title','content','time',\n",
    "                                 'pmi_ESG점수','pmi_E점수','pmi_S점수','pmi_G점수',\n",
    "                                 'embedding_ESG점수','embedding_E점수','embedding_S점수','embedding_G점수',\n",
    "                                 'pmi_embedding_ESG점수','pmi_embedding_E점수','pmi_embedding_S점수','pmi_embedding_G점수']]"
   ]
  },
  {
   "cell_type": "code",
   "execution_count": 28,
   "metadata": {},
   "outputs": [
    {
     "name": "stderr",
     "output_type": "stream",
     "text": [
      "<ipython-input-28-fd07fb07d789>:1: SettingWithCopyWarning: \n",
      "A value is trying to be set on a copy of a slice from a DataFrame.\n",
      "Try using .loc[row_indexer,col_indexer] = value instead\n",
      "\n",
      "See the caveats in the documentation: https://pandas.pydata.org/pandas-docs/stable/user_guide/indexing.html#returning-a-view-versus-a-copy\n",
      "  df_4year_count['classification'] = 'X'\n",
      "C:\\Users\\Becky\\anaconda3\\lib\\site-packages\\pandas\\core\\indexing.py:1720: SettingWithCopyWarning: \n",
      "A value is trying to be set on a copy of a slice from a DataFrame.\n",
      "Try using .loc[row_indexer,col_indexer] = value instead\n",
      "\n",
      "See the caveats in the documentation: https://pandas.pydata.org/pandas-docs/stable/user_guide/indexing.html#returning-a-view-versus-a-copy\n",
      "  self._setitem_single_column(loc, value, pi)\n"
     ]
    }
   ],
   "source": [
    "df_4year_count['classification'] = 'X'\n",
    "df_4year_count.loc[(df_4year_count['embedding_ESG점수']>=18)\n",
    "                   |(df_4year_count['embedding_E점수']>=7)\n",
    "                   |(df_4year_count['embedding_S점수']>=11)\n",
    "                   |(df_4year_count['embedding_G점수']>=33), 'classification'] = 'ESG'"
   ]
  },
  {
   "cell_type": "code",
   "execution_count": 30,
   "metadata": {},
   "outputs": [],
   "source": [
    "df_4year_count.to_csv('C:/Users/Becky/Dropbox/KDI_ESG_공유/크롤링 데이터/2018_2021_전처리 데이터/esg_2018_2021_dataset_count.csv', index=False)"
   ]
  },
  {
   "cell_type": "code",
   "execution_count": 31,
   "metadata": {},
   "outputs": [],
   "source": [
    "# ESG로 필터링된거는 13804개....큰일...\n",
    "df_4year_count_ESG = df_4year_count[df_4year_count['classification'] == 'ESG'].reset_index(drop=True)"
   ]
  },
  {
   "cell_type": "code",
   "execution_count": 33,
   "metadata": {},
   "outputs": [],
   "source": [
    "df_4year_count_ESG.to_csv('C:/Users/Becky/Dropbox/KDI_ESG_공유/크롤링 데이터/2018_2021_전처리 데이터/esg_2018_2021_dataset_ESG_Filtered.csv', index=False)"
   ]
  },
  {
   "cell_type": "code",
   "execution_count": null,
   "metadata": {},
   "outputs": [],
   "source": []
  }
 ],
 "metadata": {
  "kernelspec": {
   "display_name": "Python 3",
   "language": "python",
   "name": "python3"
  },
  "language_info": {
   "codemirror_mode": {
    "name": "ipython",
    "version": 3
   },
   "file_extension": ".py",
   "mimetype": "text/x-python",
   "name": "python",
   "nbconvert_exporter": "python",
   "pygments_lexer": "ipython3",
   "version": "3.8.8"
  },
  "toc": {
   "base_numbering": 1,
   "nav_menu": {},
   "number_sections": true,
   "sideBar": true,
   "skip_h1_title": false,
   "title_cell": "Table of Contents",
   "title_sidebar": "Contents",
   "toc_cell": false,
   "toc_position": {},
   "toc_section_display": true,
   "toc_window_display": false
  },
  "varInspector": {
   "cols": {
    "lenName": 16,
    "lenType": 16,
    "lenVar": 40
   },
   "kernels_config": {
    "python": {
     "delete_cmd_postfix": "",
     "delete_cmd_prefix": "del ",
     "library": "var_list.py",
     "varRefreshCmd": "print(var_dic_list())"
    },
    "r": {
     "delete_cmd_postfix": ") ",
     "delete_cmd_prefix": "rm(",
     "library": "var_list.r",
     "varRefreshCmd": "cat(var_dic_list()) "
    }
   },
   "types_to_exclude": [
    "module",
    "function",
    "builtin_function_or_method",
    "instance",
    "_Feature"
   ],
   "window_display": false
  }
 },
 "nbformat": 4,
 "nbformat_minor": 4
}
