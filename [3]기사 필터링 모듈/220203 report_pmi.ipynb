{
 "cells": [
  {
   "cell_type": "code",
   "execution_count": 1,
   "metadata": {},
   "outputs": [],
   "source": [
    "import pandas as pd\n",
    "import numpy as np\n",
    "import pymysql\n",
    "import re\n",
    "import math\n",
    "import ast"
   ]
  },
  {
   "cell_type": "code",
   "execution_count": 2,
   "metadata": {},
   "outputs": [],
   "source": [
    "N=1000000000000"
   ]
  },
  {
   "cell_type": "code",
   "execution_count": 3,
   "metadata": {},
   "outputs": [],
   "source": [
    "df = pd.read_csv('esg_report_cleansing.csv')\n"
   ]
  },
  {
   "cell_type": "code",
   "execution_count": 4,
   "metadata": {},
   "outputs": [
    {
     "name": "stdout",
     "output_type": "stream",
     "text": [
      "      filename          content                    noun\n",
      "0  report_2018  2018 SUSTINVEST            [SUSTINVEST]\n",
      "1  report_2018  상장기업 ESG 분석 보고서  [상장, 기업, ESG, 분석, 보고서]\n",
      "2  report_2018    1 글로벌 책임투자 현황       [글로벌, 책임, 투자, 현황]\n",
      "3  report_2018     2 국내 책임투자 현황        [국내, 책임, 투자, 현황]\n",
      "4  report_2018  1 평가대상기업 및 기본정보        [대상, 기업, 기본, 정보]\n"
     ]
    }
   ],
   "source": [
    "df['noun']  = df['noun'].map(lambda x : ast.literal_eval(x))\n",
    "print(df.head(5))"
   ]
  },
  {
   "cell_type": "code",
   "execution_count": 5,
   "metadata": {},
   "outputs": [
    {
     "name": "stdout",
     "output_type": "stream",
     "text": [
      "[['SUSTINVEST'], ['상장', '기업', 'ESG', '분석', '보고서'], ['글로벌', '책임', '투자', '현황']]\n"
     ]
    }
   ],
   "source": [
    "tokenized_data = []\n",
    "for noun_list in df['noun']:\n",
    "    tokenized_data.append(noun_list)\n",
    "print(tokenized_data[:3])"
   ]
  },
  {
   "cell_type": "code",
   "execution_count": 6,
   "metadata": {},
   "outputs": [],
   "source": [
    "count_table = pd.DataFrame(columns = ['noun','count','total','probability'])\n",
    "pmi_table = pd.DataFrame(columns = ['noun1','noun2','co-occurence','pmi'])\n"
   ]
  },
  {
   "cell_type": "code",
   "execution_count": 7,
   "metadata": {},
   "outputs": [
    {
     "name": "stdout",
     "output_type": "stream",
     "text": [
      "Corp size= 2867\n"
     ]
    }
   ],
   "source": [
    "corp=tokenized_data\n",
    "print(\"Corp size=\",len(corp))\n",
    "\n",
    "dic={}\n",
    "tot=0"
   ]
  },
  {
   "cell_type": "code",
   "execution_count": 8,
   "metadata": {},
   "outputs": [
    {
     "name": "stdout",
     "output_type": "stream",
     "text": [
      "100\n",
      "200\n",
      "300\n",
      "400\n",
      "500\n",
      "600\n",
      "700\n",
      "800\n",
      "900\n",
      "1000\n",
      "1100\n",
      "1200\n",
      "1300\n",
      "1400\n",
      "1500\n",
      "1600\n",
      "1700\n",
      "1800\n",
      "1900\n",
      "2000\n",
      "2100\n",
      "2200\n",
      "2300\n",
      "2400\n",
      "2500\n",
      "2600\n",
      "2700\n",
      "2800\n"
     ]
    }
   ],
   "source": [
    "i=0\n",
    "for d in corp:\n",
    "    i+=1\n",
    "    if i%100==0: print(i)\n",
    "    if i>N: break\n",
    "    for w in d:\n",
    "        tot+=1\n",
    "        if w not in dic:\n",
    "            dic[w]=1\n",
    "        else:\n",
    "            dic[w]+=1"
   ]
  },
  {
   "cell_type": "code",
   "execution_count": 9,
   "metadata": {},
   "outputs": [
    {
     "name": "stdout",
     "output_type": "stream",
     "text": [
      "l= 5571\n"
     ]
    }
   ],
   "source": [
    "klist = list(dic.keys())\n",
    "l=len(klist)\n",
    "print('l=',l)\n",
    "\n",
    "idx={}\n",
    "for i in range(l):\n",
    "    idx[klist[i]]=i\n",
    "#print(klist)\n",
    "dic2d=np.zeros((l,l), dtype=np.int32)"
   ]
  },
  {
   "cell_type": "code",
   "execution_count": 10,
   "metadata": {},
   "outputs": [
    {
     "name": "stdout",
     "output_type": "stream",
     "text": [
      "100\n",
      "200\n",
      "300\n",
      "400\n",
      "500\n",
      "600\n",
      "700\n",
      "800\n",
      "900\n",
      "1000\n",
      "1100\n",
      "1200\n",
      "1300\n",
      "1400\n",
      "1500\n",
      "1600\n",
      "1700\n",
      "1800\n",
      "1900\n",
      "2000\n",
      "2100\n",
      "2200\n",
      "2300\n",
      "2400\n",
      "2500\n",
      "2600\n",
      "2700\n",
      "2800\n"
     ]
    }
   ],
   "source": [
    "i=0\n",
    "for d in corp:\n",
    "    i+=1\n",
    "    if i%100==0: print(i)\n",
    "    if i>N: break\n",
    "    l1=len(d)\n",
    "    for i1 in range(0,l1):\n",
    "        for i2 in range(0, l1):\n",
    "            w1=d[i1]\n",
    "            w2=d[i2]\n",
    "            if w1==w2: continue\n",
    "            dic2d[idx[w1],idx[w2]]+=1\n",
    "\n",
    "            if w1=='하인스' or w2=='하인스':\n",
    "                print(w1,w2)\n",
    "exit(0)"
   ]
  },
  {
   "cell_type": "code",
   "execution_count": null,
   "metadata": {},
   "outputs": [],
   "source": []
  }
 ],
 "metadata": {
  "kernelspec": {
   "display_name": "Python 3",
   "language": "python",
   "name": "python3"
  },
  "language_info": {
   "codemirror_mode": {
    "name": "ipython",
    "version": 3
   },
   "file_extension": ".py",
   "mimetype": "text/x-python",
   "name": "python",
   "nbconvert_exporter": "python",
   "pygments_lexer": "ipython3",
   "version": "3.8.3"
  },
  "toc": {
   "base_numbering": 1,
   "nav_menu": {},
   "number_sections": true,
   "sideBar": true,
   "skip_h1_title": false,
   "title_cell": "Table of Contents",
   "title_sidebar": "Contents",
   "toc_cell": false,
   "toc_position": {},
   "toc_section_display": true,
   "toc_window_display": false
  },
  "varInspector": {
   "cols": {
    "lenName": 16,
    "lenType": 16,
    "lenVar": 40
   },
   "kernels_config": {
    "python": {
     "delete_cmd_postfix": "",
     "delete_cmd_prefix": "del ",
     "library": "var_list.py",
     "varRefreshCmd": "print(var_dic_list())"
    },
    "r": {
     "delete_cmd_postfix": ") ",
     "delete_cmd_prefix": "rm(",
     "library": "var_list.r",
     "varRefreshCmd": "cat(var_dic_list()) "
    }
   },
   "types_to_exclude": [
    "module",
    "function",
    "builtin_function_or_method",
    "instance",
    "_Feature"
   ],
   "window_display": false
  }
 },
 "nbformat": 4,
 "nbformat_minor": 5
}
