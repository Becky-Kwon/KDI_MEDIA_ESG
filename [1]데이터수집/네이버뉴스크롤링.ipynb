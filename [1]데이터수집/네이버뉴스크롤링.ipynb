{
 "cells": [
  {
   "cell_type": "markdown",
   "metadata": {},
   "source": [
    "# 1) Crawling main table 제작"
   ]
  },
  {
   "cell_type": "code",
   "execution_count": 1,
   "metadata": {},
   "outputs": [],
   "source": [
    "#import selenium\n",
    "#from selenium import webdriver\n",
    "from tqdm.notebook import tqdm\n",
    "from bs4 import BeautifulSoup\n",
    "from urllib.request import Request, urlopen\n",
    "import requests\n",
    "import re\n",
    "import pandas as pd\n",
    "import numpy as np\n",
    "import pymysql\n",
    "import sqlalchemy"
   ]
  },
  {
   "cell_type": "code",
   "execution_count": 2,
   "metadata": {},
   "outputs": [],
   "source": [
    "conn = pymysql.connect(host='127.0.0.1', user='root', password='1234',db='esg_db', charset='utf8mb4')\n",
    "cursor = conn.cursor()\n"
   ]
  },
  {
   "cell_type": "code",
   "execution_count": null,
   "metadata": {},
   "outputs": [],
   "source": []
  },
  {
   "cell_type": "code",
   "execution_count": null,
   "metadata": {},
   "outputs": [],
   "source": []
  },
  {
   "cell_type": "code",
   "execution_count": null,
   "metadata": {},
   "outputs": [],
   "source": []
  },
  {
   "cell_type": "code",
   "execution_count": null,
   "metadata": {},
   "outputs": [],
   "source": []
  },
  {
   "cell_type": "code",
   "execution_count": 3,
   "metadata": {},
   "outputs": [],
   "source": [
    "def url_collect(keyword, date_st, date_ed, page_num):\n",
    "    #keyword = input('검색 키워드를 입력하세요 : ')\n",
    "    #date_st = input('기사 작성 시작 날짜를 입력하세요 : ')\n",
    "    #date_ed = input('기사 작성 끝 날짜를 입력하세요 : ')\n",
    "    date__st = date_st[:4] + '.' + date_st[4:6] + '.' + date_st[6:]\n",
    "    date__ed = date_ed[:4] + '.' + date_ed[4:6] + '.' + date_ed[6:]\n",
    "\n",
    "    final_df =  pd.DataFrame({'title' : [], \n",
    "                             'url' : [], \n",
    "                             'press' : [], \n",
    "                             'date' : [] })\n",
    "\n",
    "    for i in tqdm(range(page_num)):\n",
    "\n",
    "        #driver = webdriver.Chrome(executable_path='chromedriver.exe')\n",
    "        url_keyword = 'https://search.naver.com/search.naver?where=news&sm=tab_pge&query=' + keyword\n",
    "        url_keyword_date = url_keyword + '&sort=0&photo=0&field=0&pd=3&ds=' + date__st + '&de=' + date__ed + '&cluster_rank=38&mynews=0&office_type=0&office_section_code=0&news_office_checked=&nso=so:r,p:from' + date_st + 'to' + date_ed + ',a:all&start=' + str(i) + '1'\n",
    "        page = requests.get(url_keyword_date)  #네이버 뉴스 + 검색어 + 기간 적용해 접속\n",
    "        #print(url_keyword_date)\n",
    "        html = BeautifulSoup(page.text, \"html.parser\")\n",
    "\n",
    "        time_list = []\n",
    "        title_list = []\n",
    "        url_list = []\n",
    "        press_list = []\n",
    "\n",
    "        # 기사작성 시간\n",
    "        time_tag = html.find_all('span', {'class' : 'info'})\n",
    "        for time in time_tag:\n",
    "            #print(time.text)\n",
    "            if '면'  in time.text:\n",
    "                time = 'none'\n",
    "            elif 'CHIEF EXECUTIVE' in time.text:\n",
    "                 time = 'none'\n",
    "            else :\n",
    "                time_list.append(time.text)\n",
    "\n",
    "\n",
    "        # 기사 제목\n",
    "        ar_tag = html.find_all('a', {'class' : 'news_tit'})\n",
    "        for ar in ar_tag:\n",
    "            title_list.append(ar.get('title'))\n",
    "\n",
    "        # 기사 url\n",
    "        articles = html.select(\"li.bx > div > div > div.news_info > div.info_group\")\n",
    "        for article in articles:\n",
    "            k = article.find_all('a', {'class' : 'info'})\n",
    "            #print(k)\n",
    "            try :\n",
    "                url = k[1].get('href')\n",
    "            except :\n",
    "                url = k[0].get('href')    \n",
    "            url_list.append(url)\n",
    "\n",
    "        # 기사 언론사    \n",
    "        ar_press = html.find_all('a', {'class' : 'info press'})\n",
    "        for arr in ar_press:\n",
    "            if '언론사 선정' in arr.text:\n",
    "                press = arr.text[:-6]\n",
    "            else : press = arr.text\n",
    "            press_list.append(press)\n",
    "\n",
    "        #print(time_list)\n",
    "        data = pd.DataFrame({'title' : title_list, \n",
    "                             'url' : url_list, \n",
    "                             'press' : press_list, \n",
    "                             'date' : time_list })\n",
    "        #print(data)\n",
    "        final_df = pd.concat([final_df, data]).reset_index(drop=True)\n",
    "        #print(final_df)\n",
    "    return final_df"
   ]
  },
  {
   "cell_type": "code",
   "execution_count": null,
   "metadata": {},
   "outputs": [],
   "source": []
  },
  {
   "cell_type": "code",
   "execution_count": null,
   "metadata": {},
   "outputs": [],
   "source": []
  },
  {
   "cell_type": "code",
   "execution_count": null,
   "metadata": {},
   "outputs": [],
   "source": []
  },
  {
   "cell_type": "code",
   "execution_count": null,
   "metadata": {},
   "outputs": [],
   "source": []
  },
  {
   "cell_type": "code",
   "execution_count": null,
   "metadata": {},
   "outputs": [],
   "source": []
  },
  {
   "cell_type": "code",
   "execution_count": null,
   "metadata": {},
   "outputs": [],
   "source": []
  },
  {
   "cell_type": "markdown",
   "metadata": {},
   "source": [
    "## * naver 뉴스 url을 가지지 않는 기사 지우기 + 10개 맞추기"
   ]
  },
  {
   "cell_type": "code",
   "execution_count": 4,
   "metadata": {
    "scrolled": true
   },
   "outputs": [],
   "source": [
    "def naver_cut_10(final_df):\n",
    "    final_df['url_check'] = final_df['url'].apply(lambda x: 1 if 'naver' in x  else 0)\n",
    "    final_df = final_df.loc[final_df['url_check'] == 1,['title','url','press','date']].reset_index(drop=True)\n",
    "    final_df = final_df.head(10)\n",
    "    return final_df"
   ]
  },
  {
   "cell_type": "markdown",
   "metadata": {},
   "source": [
    "## ** 근 2년의 url 수집 모두 수집 "
   ]
  },
  {
   "cell_type": "code",
   "execution_count": 5,
   "metadata": {},
   "outputs": [],
   "source": [
    "date = pd.read_excel('date.xlsx')   #날짜 데이터셋로드\n",
    "date = date.iloc[366:].reset_index(drop=True) #2021년 만!!"
   ]
  },
  {
   "cell_type": "code",
   "execution_count": 6,
   "metadata": {},
   "outputs": [
    {
     "data": {
      "text/html": [
       "<div>\n",
       "<style scoped>\n",
       "    .dataframe tbody tr th:only-of-type {\n",
       "        vertical-align: middle;\n",
       "    }\n",
       "\n",
       "    .dataframe tbody tr th {\n",
       "        vertical-align: top;\n",
       "    }\n",
       "\n",
       "    .dataframe thead th {\n",
       "        text-align: right;\n",
       "    }\n",
       "</style>\n",
       "<table border=\"1\" class=\"dataframe\">\n",
       "  <thead>\n",
       "    <tr style=\"text-align: right;\">\n",
       "      <th></th>\n",
       "      <th>date</th>\n",
       "    </tr>\n",
       "  </thead>\n",
       "  <tbody>\n",
       "    <tr>\n",
       "      <th>0</th>\n",
       "      <td>2021-01-01</td>\n",
       "    </tr>\n",
       "    <tr>\n",
       "      <th>1</th>\n",
       "      <td>2021-01-02</td>\n",
       "    </tr>\n",
       "    <tr>\n",
       "      <th>2</th>\n",
       "      <td>2021-01-03</td>\n",
       "    </tr>\n",
       "    <tr>\n",
       "      <th>3</th>\n",
       "      <td>2021-01-04</td>\n",
       "    </tr>\n",
       "    <tr>\n",
       "      <th>4</th>\n",
       "      <td>2021-01-05</td>\n",
       "    </tr>\n",
       "    <tr>\n",
       "      <th>...</th>\n",
       "      <td>...</td>\n",
       "    </tr>\n",
       "    <tr>\n",
       "      <th>360</th>\n",
       "      <td>2021-12-27</td>\n",
       "    </tr>\n",
       "    <tr>\n",
       "      <th>361</th>\n",
       "      <td>2021-12-28</td>\n",
       "    </tr>\n",
       "    <tr>\n",
       "      <th>362</th>\n",
       "      <td>2021-12-29</td>\n",
       "    </tr>\n",
       "    <tr>\n",
       "      <th>363</th>\n",
       "      <td>2021-12-30</td>\n",
       "    </tr>\n",
       "    <tr>\n",
       "      <th>364</th>\n",
       "      <td>2021-12-31</td>\n",
       "    </tr>\n",
       "  </tbody>\n",
       "</table>\n",
       "<p>365 rows × 1 columns</p>\n",
       "</div>"
      ],
      "text/plain": [
       "          date\n",
       "0   2021-01-01\n",
       "1   2021-01-02\n",
       "2   2021-01-03\n",
       "3   2021-01-04\n",
       "4   2021-01-05\n",
       "..         ...\n",
       "360 2021-12-27\n",
       "361 2021-12-28\n",
       "362 2021-12-29\n",
       "363 2021-12-30\n",
       "364 2021-12-31\n",
       "\n",
       "[365 rows x 1 columns]"
      ]
     },
     "execution_count": 6,
     "metadata": {},
     "output_type": "execute_result"
    }
   ],
   "source": [
    "date"
   ]
  },
  {
   "cell_type": "code",
   "execution_count": 6,
   "metadata": {
    "scrolled": false
   },
   "outputs": [
    {
     "data": {
      "application/vnd.jupyter.widget-view+json": {
       "model_id": "6e2fc5b0d8b845448d219088fd75c0e5",
       "version_major": 2,
       "version_minor": 0
      },
      "text/plain": [
       "  0%|          | 0/365 [00:00<?, ?it/s]"
      ]
     },
     "metadata": {},
     "output_type": "display_data"
    },
    {
     "name": "stdout",
     "output_type": "stream",
     "text": [
      "날짜는 20210101\n"
     ]
    },
    {
     "data": {
      "application/vnd.jupyter.widget-view+json": {
       "model_id": "80a89cd17f904508b5b09302c2cc3f76",
       "version_major": 2,
       "version_minor": 0
      },
      "text/plain": [
       "  0%|          | 0/10 [00:00<?, ?it/s]"
      ]
     },
     "metadata": {},
     "output_type": "display_data"
    },
    {
     "name": "stdout",
     "output_type": "stream",
     "text": [
      "날짜는 20210102\n"
     ]
    },
    {
     "data": {
      "application/vnd.jupyter.widget-view+json": {
       "model_id": "a598428134674061ab9327f53ac5dc3d",
       "version_major": 2,
       "version_minor": 0
      },
      "text/plain": [
       "  0%|          | 0/10 [00:00<?, ?it/s]"
      ]
     },
     "metadata": {},
     "output_type": "display_data"
    },
    {
     "name": "stdout",
     "output_type": "stream",
     "text": [
      "날짜는 20210103\n"
     ]
    },
    {
     "data": {
      "application/vnd.jupyter.widget-view+json": {
       "model_id": "7213833b1f444cd8859eadc8865d21b7",
       "version_major": 2,
       "version_minor": 0
      },
      "text/plain": [
       "  0%|          | 0/10 [00:00<?, ?it/s]"
      ]
     },
     "metadata": {},
     "output_type": "display_data"
    },
    {
     "name": "stdout",
     "output_type": "stream",
     "text": [
      "날짜는 20210104\n"
     ]
    },
    {
     "data": {
      "application/vnd.jupyter.widget-view+json": {
       "model_id": "a788c564d0f944bfa6321bd693b7e942",
       "version_major": 2,
       "version_minor": 0
      },
      "text/plain": [
       "  0%|          | 0/10 [00:00<?, ?it/s]"
      ]
     },
     "metadata": {},
     "output_type": "display_data"
    },
    {
     "name": "stdout",
     "output_type": "stream",
     "text": [
      "날짜는 20210105\n"
     ]
    },
    {
     "data": {
      "application/vnd.jupyter.widget-view+json": {
       "model_id": "f35aba2f72d54d61b1ecdba7ac9acd51",
       "version_major": 2,
       "version_minor": 0
      },
      "text/plain": [
       "  0%|          | 0/10 [00:00<?, ?it/s]"
      ]
     },
     "metadata": {},
     "output_type": "display_data"
    },
    {
     "name": "stdout",
     "output_type": "stream",
     "text": [
      "날짜는 20210106\n"
     ]
    },
    {
     "data": {
      "application/vnd.jupyter.widget-view+json": {
       "model_id": "c2711ea383a24a218112e039d6fd8e5f",
       "version_major": 2,
       "version_minor": 0
      },
      "text/plain": [
       "  0%|          | 0/10 [00:00<?, ?it/s]"
      ]
     },
     "metadata": {},
     "output_type": "display_data"
    },
    {
     "name": "stdout",
     "output_type": "stream",
     "text": [
      "날짜는 20210107\n"
     ]
    },
    {
     "data": {
      "application/vnd.jupyter.widget-view+json": {
       "model_id": "7c6c87bb20804f4fad318d63c48fca69",
       "version_major": 2,
       "version_minor": 0
      },
      "text/plain": [
       "  0%|          | 0/10 [00:00<?, ?it/s]"
      ]
     },
     "metadata": {},
     "output_type": "display_data"
    },
    {
     "name": "stdout",
     "output_type": "stream",
     "text": [
      "날짜는 20210108\n"
     ]
    },
    {
     "data": {
      "application/vnd.jupyter.widget-view+json": {
       "model_id": "811dec0eed99408ebe49f8b23f8a2e14",
       "version_major": 2,
       "version_minor": 0
      },
      "text/plain": [
       "  0%|          | 0/10 [00:00<?, ?it/s]"
      ]
     },
     "metadata": {},
     "output_type": "display_data"
    },
    {
     "name": "stdout",
     "output_type": "stream",
     "text": [
      "날짜는 20210109\n"
     ]
    },
    {
     "data": {
      "application/vnd.jupyter.widget-view+json": {
       "model_id": "3c6f6ff202de461ca37374460dcc478c",
       "version_major": 2,
       "version_minor": 0
      },
      "text/plain": [
       "  0%|          | 0/10 [00:00<?, ?it/s]"
      ]
     },
     "metadata": {},
     "output_type": "display_data"
    },
    {
     "name": "stdout",
     "output_type": "stream",
     "text": [
      "날짜는 20210110\n"
     ]
    },
    {
     "data": {
      "application/vnd.jupyter.widget-view+json": {
       "model_id": "b139fb6c431447619d0ba837e85fd5da",
       "version_major": 2,
       "version_minor": 0
      },
      "text/plain": [
       "  0%|          | 0/10 [00:00<?, ?it/s]"
      ]
     },
     "metadata": {},
     "output_type": "display_data"
    },
    {
     "name": "stdout",
     "output_type": "stream",
     "text": [
      "날짜는 20210111\n"
     ]
    },
    {
     "data": {
      "application/vnd.jupyter.widget-view+json": {
       "model_id": "b9ff781b7e424e5f94e479d54bae1160",
       "version_major": 2,
       "version_minor": 0
      },
      "text/plain": [
       "  0%|          | 0/10 [00:00<?, ?it/s]"
      ]
     },
     "metadata": {},
     "output_type": "display_data"
    },
    {
     "name": "stdout",
     "output_type": "stream",
     "text": [
      "날짜는 20210112\n"
     ]
    },
    {
     "data": {
      "application/vnd.jupyter.widget-view+json": {
       "model_id": "35ad150405a44570a009254b8db4be09",
       "version_major": 2,
       "version_minor": 0
      },
      "text/plain": [
       "  0%|          | 0/10 [00:00<?, ?it/s]"
      ]
     },
     "metadata": {},
     "output_type": "display_data"
    },
    {
     "name": "stdout",
     "output_type": "stream",
     "text": [
      "날짜는 20210113\n"
     ]
    },
    {
     "data": {
      "application/vnd.jupyter.widget-view+json": {
       "model_id": "e503aaaf3e9649e99b8ecdcb54894c12",
       "version_major": 2,
       "version_minor": 0
      },
      "text/plain": [
       "  0%|          | 0/10 [00:00<?, ?it/s]"
      ]
     },
     "metadata": {},
     "output_type": "display_data"
    },
    {
     "name": "stdout",
     "output_type": "stream",
     "text": [
      "날짜는 20210114\n"
     ]
    },
    {
     "data": {
      "application/vnd.jupyter.widget-view+json": {
       "model_id": "7a78592fec114657aca23c047977aba0",
       "version_major": 2,
       "version_minor": 0
      },
      "text/plain": [
       "  0%|          | 0/10 [00:00<?, ?it/s]"
      ]
     },
     "metadata": {},
     "output_type": "display_data"
    },
    {
     "name": "stdout",
     "output_type": "stream",
     "text": [
      "날짜는 20210115\n"
     ]
    },
    {
     "data": {
      "application/vnd.jupyter.widget-view+json": {
       "model_id": "8ecac1e7ad4d4197a535661b964d7999",
       "version_major": 2,
       "version_minor": 0
      },
      "text/plain": [
       "  0%|          | 0/10 [00:00<?, ?it/s]"
      ]
     },
     "metadata": {},
     "output_type": "display_data"
    },
    {
     "name": "stdout",
     "output_type": "stream",
     "text": [
      "날짜는 20210116\n"
     ]
    },
    {
     "data": {
      "application/vnd.jupyter.widget-view+json": {
       "model_id": "469f9882d912435aa97e6b64b92a546e",
       "version_major": 2,
       "version_minor": 0
      },
      "text/plain": [
       "  0%|          | 0/10 [00:00<?, ?it/s]"
      ]
     },
     "metadata": {},
     "output_type": "display_data"
    },
    {
     "name": "stdout",
     "output_type": "stream",
     "text": [
      "날짜는 20210117\n"
     ]
    },
    {
     "data": {
      "application/vnd.jupyter.widget-view+json": {
       "model_id": "2400ad70f5ed4a8790438874eba92b33",
       "version_major": 2,
       "version_minor": 0
      },
      "text/plain": [
       "  0%|          | 0/10 [00:00<?, ?it/s]"
      ]
     },
     "metadata": {},
     "output_type": "display_data"
    },
    {
     "name": "stdout",
     "output_type": "stream",
     "text": [
      "날짜는 20210118\n"
     ]
    },
    {
     "data": {
      "application/vnd.jupyter.widget-view+json": {
       "model_id": "0f620e9f02394d2da8d149fd5694dc8f",
       "version_major": 2,
       "version_minor": 0
      },
      "text/plain": [
       "  0%|          | 0/10 [00:00<?, ?it/s]"
      ]
     },
     "metadata": {},
     "output_type": "display_data"
    },
    {
     "name": "stdout",
     "output_type": "stream",
     "text": [
      "날짜는 20210119\n"
     ]
    },
    {
     "data": {
      "application/vnd.jupyter.widget-view+json": {
       "model_id": "3f236c2de7eb4e5784cd945da040aea8",
       "version_major": 2,
       "version_minor": 0
      },
      "text/plain": [
       "  0%|          | 0/10 [00:00<?, ?it/s]"
      ]
     },
     "metadata": {},
     "output_type": "display_data"
    },
    {
     "name": "stdout",
     "output_type": "stream",
     "text": [
      "날짜는 20210120\n"
     ]
    },
    {
     "data": {
      "application/vnd.jupyter.widget-view+json": {
       "model_id": "13e1fc8646d54f47932b1cbf4ff7c08f",
       "version_major": 2,
       "version_minor": 0
      },
      "text/plain": [
       "  0%|          | 0/10 [00:00<?, ?it/s]"
      ]
     },
     "metadata": {},
     "output_type": "display_data"
    },
    {
     "name": "stdout",
     "output_type": "stream",
     "text": [
      "날짜는 20210121\n"
     ]
    },
    {
     "data": {
      "application/vnd.jupyter.widget-view+json": {
       "model_id": "b4ad0c26c97c4249965d305c55842139",
       "version_major": 2,
       "version_minor": 0
      },
      "text/plain": [
       "  0%|          | 0/10 [00:00<?, ?it/s]"
      ]
     },
     "metadata": {},
     "output_type": "display_data"
    },
    {
     "name": "stdout",
     "output_type": "stream",
     "text": [
      "날짜는 20210122\n"
     ]
    },
    {
     "data": {
      "application/vnd.jupyter.widget-view+json": {
       "model_id": "1aedc1a94c4f4fec99a6c3632c5fa4f2",
       "version_major": 2,
       "version_minor": 0
      },
      "text/plain": [
       "  0%|          | 0/10 [00:00<?, ?it/s]"
      ]
     },
     "metadata": {},
     "output_type": "display_data"
    },
    {
     "name": "stdout",
     "output_type": "stream",
     "text": [
      "날짜는 20210123\n"
     ]
    },
    {
     "data": {
      "application/vnd.jupyter.widget-view+json": {
       "model_id": "b491b27a036240dca3b208caaa20b42e",
       "version_major": 2,
       "version_minor": 0
      },
      "text/plain": [
       "  0%|          | 0/10 [00:00<?, ?it/s]"
      ]
     },
     "metadata": {},
     "output_type": "display_data"
    },
    {
     "name": "stdout",
     "output_type": "stream",
     "text": [
      "날짜는 20210124\n"
     ]
    },
    {
     "data": {
      "application/vnd.jupyter.widget-view+json": {
       "model_id": "b636a66543814203a0ec56fea45d16ff",
       "version_major": 2,
       "version_minor": 0
      },
      "text/plain": [
       "  0%|          | 0/10 [00:00<?, ?it/s]"
      ]
     },
     "metadata": {},
     "output_type": "display_data"
    },
    {
     "name": "stdout",
     "output_type": "stream",
     "text": [
      "날짜는 20210125\n"
     ]
    },
    {
     "data": {
      "application/vnd.jupyter.widget-view+json": {
       "model_id": "026d73ef3d8c4c0dba5e77e413f0d3ec",
       "version_major": 2,
       "version_minor": 0
      },
      "text/plain": [
       "  0%|          | 0/10 [00:00<?, ?it/s]"
      ]
     },
     "metadata": {},
     "output_type": "display_data"
    },
    {
     "name": "stdout",
     "output_type": "stream",
     "text": [
      "날짜는 20210126\n"
     ]
    },
    {
     "data": {
      "application/vnd.jupyter.widget-view+json": {
       "model_id": "4091e08ac5694b38888692aecf67d20d",
       "version_major": 2,
       "version_minor": 0
      },
      "text/plain": [
       "  0%|          | 0/10 [00:00<?, ?it/s]"
      ]
     },
     "metadata": {},
     "output_type": "display_data"
    },
    {
     "name": "stdout",
     "output_type": "stream",
     "text": [
      "날짜는 20210127\n"
     ]
    },
    {
     "data": {
      "application/vnd.jupyter.widget-view+json": {
       "model_id": "215705596a0d41a19331d6e456fe7ef7",
       "version_major": 2,
       "version_minor": 0
      },
      "text/plain": [
       "  0%|          | 0/10 [00:00<?, ?it/s]"
      ]
     },
     "metadata": {},
     "output_type": "display_data"
    },
    {
     "name": "stdout",
     "output_type": "stream",
     "text": [
      "날짜는 20210128\n"
     ]
    },
    {
     "data": {
      "application/vnd.jupyter.widget-view+json": {
       "model_id": "1a01461567af444ab64e89482d49657a",
       "version_major": 2,
       "version_minor": 0
      },
      "text/plain": [
       "  0%|          | 0/10 [00:00<?, ?it/s]"
      ]
     },
     "metadata": {},
     "output_type": "display_data"
    },
    {
     "name": "stdout",
     "output_type": "stream",
     "text": [
      "날짜는 20210129\n"
     ]
    },
    {
     "data": {
      "application/vnd.jupyter.widget-view+json": {
       "model_id": "f1ebbbf627454a04806d99a1580714ee",
       "version_major": 2,
       "version_minor": 0
      },
      "text/plain": [
       "  0%|          | 0/10 [00:00<?, ?it/s]"
      ]
     },
     "metadata": {},
     "output_type": "display_data"
    },
    {
     "name": "stdout",
     "output_type": "stream",
     "text": [
      "날짜는 20210130\n"
     ]
    },
    {
     "data": {
      "application/vnd.jupyter.widget-view+json": {
       "model_id": "df4b77f86c704ed390d7eafb6f27a067",
       "version_major": 2,
       "version_minor": 0
      },
      "text/plain": [
       "  0%|          | 0/10 [00:00<?, ?it/s]"
      ]
     },
     "metadata": {},
     "output_type": "display_data"
    },
    {
     "name": "stdout",
     "output_type": "stream",
     "text": [
      "날짜는 20210131\n"
     ]
    },
    {
     "data": {
      "application/vnd.jupyter.widget-view+json": {
       "model_id": "066bb282249a4aa78269845f4e4fe289",
       "version_major": 2,
       "version_minor": 0
      },
      "text/plain": [
       "  0%|          | 0/10 [00:00<?, ?it/s]"
      ]
     },
     "metadata": {},
     "output_type": "display_data"
    },
    {
     "name": "stdout",
     "output_type": "stream",
     "text": [
      "날짜는 20210201\n"
     ]
    },
    {
     "data": {
      "application/vnd.jupyter.widget-view+json": {
       "model_id": "8e026bc0e1d04d9eab5180acb8c859be",
       "version_major": 2,
       "version_minor": 0
      },
      "text/plain": [
       "  0%|          | 0/10 [00:00<?, ?it/s]"
      ]
     },
     "metadata": {},
     "output_type": "display_data"
    },
    {
     "name": "stdout",
     "output_type": "stream",
     "text": [
      "날짜는 20210202\n"
     ]
    },
    {
     "data": {
      "application/vnd.jupyter.widget-view+json": {
       "model_id": "9e0dec65bd7647a8a06be80c9caad8a9",
       "version_major": 2,
       "version_minor": 0
      },
      "text/plain": [
       "  0%|          | 0/10 [00:00<?, ?it/s]"
      ]
     },
     "metadata": {},
     "output_type": "display_data"
    },
    {
     "name": "stdout",
     "output_type": "stream",
     "text": [
      "날짜는 20210203\n"
     ]
    },
    {
     "data": {
      "application/vnd.jupyter.widget-view+json": {
       "model_id": "d8da31a8830347f492de76219741af32",
       "version_major": 2,
       "version_minor": 0
      },
      "text/plain": [
       "  0%|          | 0/10 [00:00<?, ?it/s]"
      ]
     },
     "metadata": {},
     "output_type": "display_data"
    },
    {
     "name": "stdout",
     "output_type": "stream",
     "text": [
      "날짜는 20210204\n"
     ]
    },
    {
     "data": {
      "application/vnd.jupyter.widget-view+json": {
       "model_id": "ea280460f3884b5aa4e2d1a207da1e12",
       "version_major": 2,
       "version_minor": 0
      },
      "text/plain": [
       "  0%|          | 0/10 [00:00<?, ?it/s]"
      ]
     },
     "metadata": {},
     "output_type": "display_data"
    },
    {
     "name": "stdout",
     "output_type": "stream",
     "text": [
      "날짜는 20210205\n"
     ]
    },
    {
     "data": {
      "application/vnd.jupyter.widget-view+json": {
       "model_id": "73bd11d0fd6c4ce381b229d212431482",
       "version_major": 2,
       "version_minor": 0
      },
      "text/plain": [
       "  0%|          | 0/10 [00:00<?, ?it/s]"
      ]
     },
     "metadata": {},
     "output_type": "display_data"
    },
    {
     "name": "stdout",
     "output_type": "stream",
     "text": [
      "날짜는 20210206\n"
     ]
    },
    {
     "data": {
      "application/vnd.jupyter.widget-view+json": {
       "model_id": "e1a2e04ce64c448db919a6243ab88edc",
       "version_major": 2,
       "version_minor": 0
      },
      "text/plain": [
       "  0%|          | 0/10 [00:00<?, ?it/s]"
      ]
     },
     "metadata": {},
     "output_type": "display_data"
    },
    {
     "name": "stdout",
     "output_type": "stream",
     "text": [
      "날짜는 20210207\n"
     ]
    },
    {
     "data": {
      "application/vnd.jupyter.widget-view+json": {
       "model_id": "d05d5e735f6c4cd7bead69137fd1c313",
       "version_major": 2,
       "version_minor": 0
      },
      "text/plain": [
       "  0%|          | 0/10 [00:00<?, ?it/s]"
      ]
     },
     "metadata": {},
     "output_type": "display_data"
    },
    {
     "name": "stdout",
     "output_type": "stream",
     "text": [
      "날짜는 20210208\n"
     ]
    },
    {
     "data": {
      "application/vnd.jupyter.widget-view+json": {
       "model_id": "eda75f228cd8438ba96424126a84feb6",
       "version_major": 2,
       "version_minor": 0
      },
      "text/plain": [
       "  0%|          | 0/10 [00:00<?, ?it/s]"
      ]
     },
     "metadata": {},
     "output_type": "display_data"
    },
    {
     "name": "stdout",
     "output_type": "stream",
     "text": [
      "날짜는 20210209\n"
     ]
    },
    {
     "data": {
      "application/vnd.jupyter.widget-view+json": {
       "model_id": "dfdb06bd5918469b9bc82afd365c7c72",
       "version_major": 2,
       "version_minor": 0
      },
      "text/plain": [
       "  0%|          | 0/10 [00:00<?, ?it/s]"
      ]
     },
     "metadata": {},
     "output_type": "display_data"
    },
    {
     "name": "stdout",
     "output_type": "stream",
     "text": [
      "날짜는 20210210\n"
     ]
    },
    {
     "data": {
      "application/vnd.jupyter.widget-view+json": {
       "model_id": "7723895756c04a2c80a3f911d899dc07",
       "version_major": 2,
       "version_minor": 0
      },
      "text/plain": [
       "  0%|          | 0/10 [00:00<?, ?it/s]"
      ]
     },
     "metadata": {},
     "output_type": "display_data"
    },
    {
     "name": "stdout",
     "output_type": "stream",
     "text": [
      "날짜는 20210211\n"
     ]
    },
    {
     "data": {
      "application/vnd.jupyter.widget-view+json": {
       "model_id": "01fbd4f5511a49b58e3826e65a656030",
       "version_major": 2,
       "version_minor": 0
      },
      "text/plain": [
       "  0%|          | 0/10 [00:00<?, ?it/s]"
      ]
     },
     "metadata": {},
     "output_type": "display_data"
    },
    {
     "name": "stdout",
     "output_type": "stream",
     "text": [
      "날짜는 20210212\n"
     ]
    },
    {
     "data": {
      "application/vnd.jupyter.widget-view+json": {
       "model_id": "6f9c36d4bc18462887715e5f46a4566d",
       "version_major": 2,
       "version_minor": 0
      },
      "text/plain": [
       "  0%|          | 0/10 [00:00<?, ?it/s]"
      ]
     },
     "metadata": {},
     "output_type": "display_data"
    },
    {
     "name": "stdout",
     "output_type": "stream",
     "text": [
      "날짜는 20210213\n"
     ]
    },
    {
     "data": {
      "application/vnd.jupyter.widget-view+json": {
       "model_id": "00171c844504488fb5b46f7683cc3312",
       "version_major": 2,
       "version_minor": 0
      },
      "text/plain": [
       "  0%|          | 0/10 [00:00<?, ?it/s]"
      ]
     },
     "metadata": {},
     "output_type": "display_data"
    },
    {
     "name": "stdout",
     "output_type": "stream",
     "text": [
      "날짜는 20210214\n"
     ]
    },
    {
     "data": {
      "application/vnd.jupyter.widget-view+json": {
       "model_id": "b798a9c1173f4d7bb6455756437ceb7a",
       "version_major": 2,
       "version_minor": 0
      },
      "text/plain": [
       "  0%|          | 0/10 [00:00<?, ?it/s]"
      ]
     },
     "metadata": {},
     "output_type": "display_data"
    },
    {
     "name": "stdout",
     "output_type": "stream",
     "text": [
      "날짜는 20210215\n"
     ]
    },
    {
     "data": {
      "application/vnd.jupyter.widget-view+json": {
       "model_id": "438d646b67ca4acfbf35a6461531e3dc",
       "version_major": 2,
       "version_minor": 0
      },
      "text/plain": [
       "  0%|          | 0/10 [00:00<?, ?it/s]"
      ]
     },
     "metadata": {},
     "output_type": "display_data"
    },
    {
     "name": "stdout",
     "output_type": "stream",
     "text": [
      "날짜는 20210216\n"
     ]
    },
    {
     "data": {
      "application/vnd.jupyter.widget-view+json": {
       "model_id": "77c0366ec770492893612d1b9f73cb63",
       "version_major": 2,
       "version_minor": 0
      },
      "text/plain": [
       "  0%|          | 0/10 [00:00<?, ?it/s]"
      ]
     },
     "metadata": {},
     "output_type": "display_data"
    },
    {
     "name": "stdout",
     "output_type": "stream",
     "text": [
      "날짜는 20210217\n"
     ]
    },
    {
     "data": {
      "application/vnd.jupyter.widget-view+json": {
       "model_id": "a4bdc31e15aa4f4cb45c7dad1912fe97",
       "version_major": 2,
       "version_minor": 0
      },
      "text/plain": [
       "  0%|          | 0/10 [00:00<?, ?it/s]"
      ]
     },
     "metadata": {},
     "output_type": "display_data"
    },
    {
     "name": "stdout",
     "output_type": "stream",
     "text": [
      "날짜는 20210218\n"
     ]
    },
    {
     "data": {
      "application/vnd.jupyter.widget-view+json": {
       "model_id": "7b47ccb7cfa644af822cc8bdf6e04f89",
       "version_major": 2,
       "version_minor": 0
      },
      "text/plain": [
       "  0%|          | 0/10 [00:00<?, ?it/s]"
      ]
     },
     "metadata": {},
     "output_type": "display_data"
    },
    {
     "name": "stdout",
     "output_type": "stream",
     "text": [
      "날짜는 20210219\n"
     ]
    },
    {
     "data": {
      "application/vnd.jupyter.widget-view+json": {
       "model_id": "afd5466dafa043a3a16a0baf65a36d7f",
       "version_major": 2,
       "version_minor": 0
      },
      "text/plain": [
       "  0%|          | 0/10 [00:00<?, ?it/s]"
      ]
     },
     "metadata": {},
     "output_type": "display_data"
    },
    {
     "name": "stdout",
     "output_type": "stream",
     "text": [
      "날짜는 20210220\n"
     ]
    },
    {
     "data": {
      "application/vnd.jupyter.widget-view+json": {
       "model_id": "6434c77a38f84b1996401736da1ef19a",
       "version_major": 2,
       "version_minor": 0
      },
      "text/plain": [
       "  0%|          | 0/10 [00:00<?, ?it/s]"
      ]
     },
     "metadata": {},
     "output_type": "display_data"
    },
    {
     "name": "stdout",
     "output_type": "stream",
     "text": [
      "날짜는 20210221\n"
     ]
    },
    {
     "data": {
      "application/vnd.jupyter.widget-view+json": {
       "model_id": "85c408b7c94346dd976e655b9c1ca8e2",
       "version_major": 2,
       "version_minor": 0
      },
      "text/plain": [
       "  0%|          | 0/10 [00:00<?, ?it/s]"
      ]
     },
     "metadata": {},
     "output_type": "display_data"
    },
    {
     "name": "stdout",
     "output_type": "stream",
     "text": [
      "날짜는 20210222\n"
     ]
    },
    {
     "data": {
      "application/vnd.jupyter.widget-view+json": {
       "model_id": "ca569d8d613546b09ba0f44a9220f8c9",
       "version_major": 2,
       "version_minor": 0
      },
      "text/plain": [
       "  0%|          | 0/10 [00:00<?, ?it/s]"
      ]
     },
     "metadata": {},
     "output_type": "display_data"
    },
    {
     "name": "stdout",
     "output_type": "stream",
     "text": [
      "날짜는 20210223\n"
     ]
    },
    {
     "data": {
      "application/vnd.jupyter.widget-view+json": {
       "model_id": "a17e7cac1a274260b62b93432d3cec3a",
       "version_major": 2,
       "version_minor": 0
      },
      "text/plain": [
       "  0%|          | 0/10 [00:00<?, ?it/s]"
      ]
     },
     "metadata": {},
     "output_type": "display_data"
    },
    {
     "name": "stdout",
     "output_type": "stream",
     "text": [
      "날짜는 20210224\n"
     ]
    },
    {
     "data": {
      "application/vnd.jupyter.widget-view+json": {
       "model_id": "69aaacb9bb8c4ff2b9cecdb35d9aa13c",
       "version_major": 2,
       "version_minor": 0
      },
      "text/plain": [
       "  0%|          | 0/10 [00:00<?, ?it/s]"
      ]
     },
     "metadata": {},
     "output_type": "display_data"
    },
    {
     "name": "stdout",
     "output_type": "stream",
     "text": [
      "날짜는 20210225\n"
     ]
    },
    {
     "data": {
      "application/vnd.jupyter.widget-view+json": {
       "model_id": "ed45aae338974ba7adfa384c45804bd1",
       "version_major": 2,
       "version_minor": 0
      },
      "text/plain": [
       "  0%|          | 0/10 [00:00<?, ?it/s]"
      ]
     },
     "metadata": {},
     "output_type": "display_data"
    },
    {
     "name": "stdout",
     "output_type": "stream",
     "text": [
      "날짜는 20210226\n"
     ]
    },
    {
     "data": {
      "application/vnd.jupyter.widget-view+json": {
       "model_id": "be1d1afce1334ae7b3504653bb2dc168",
       "version_major": 2,
       "version_minor": 0
      },
      "text/plain": [
       "  0%|          | 0/10 [00:00<?, ?it/s]"
      ]
     },
     "metadata": {},
     "output_type": "display_data"
    },
    {
     "name": "stdout",
     "output_type": "stream",
     "text": [
      "날짜는 20210227\n"
     ]
    },
    {
     "data": {
      "application/vnd.jupyter.widget-view+json": {
       "model_id": "38ee77ae0abe4e539023cc97cbdb002a",
       "version_major": 2,
       "version_minor": 0
      },
      "text/plain": [
       "  0%|          | 0/10 [00:00<?, ?it/s]"
      ]
     },
     "metadata": {},
     "output_type": "display_data"
    },
    {
     "name": "stdout",
     "output_type": "stream",
     "text": [
      "날짜는 20210228\n"
     ]
    },
    {
     "data": {
      "application/vnd.jupyter.widget-view+json": {
       "model_id": "cc3643e4ce134d4aae598b214ecd892f",
       "version_major": 2,
       "version_minor": 0
      },
      "text/plain": [
       "  0%|          | 0/10 [00:00<?, ?it/s]"
      ]
     },
     "metadata": {},
     "output_type": "display_data"
    },
    {
     "name": "stdout",
     "output_type": "stream",
     "text": [
      "날짜는 20210301\n"
     ]
    },
    {
     "data": {
      "application/vnd.jupyter.widget-view+json": {
       "model_id": "52e7875471774340b2e3709c03e1f743",
       "version_major": 2,
       "version_minor": 0
      },
      "text/plain": [
       "  0%|          | 0/10 [00:00<?, ?it/s]"
      ]
     },
     "metadata": {},
     "output_type": "display_data"
    },
    {
     "name": "stdout",
     "output_type": "stream",
     "text": [
      "날짜는 20210302\n"
     ]
    },
    {
     "data": {
      "application/vnd.jupyter.widget-view+json": {
       "model_id": "87fd556dc161473cae89762b7a97e2a2",
       "version_major": 2,
       "version_minor": 0
      },
      "text/plain": [
       "  0%|          | 0/10 [00:00<?, ?it/s]"
      ]
     },
     "metadata": {},
     "output_type": "display_data"
    },
    {
     "name": "stdout",
     "output_type": "stream",
     "text": [
      "**********************************************************************\n",
      "20210302 오류 있어 데이터 수집되지 않음\n",
      "**********************************************************************\n",
      "날짜는 20210303\n"
     ]
    },
    {
     "data": {
      "application/vnd.jupyter.widget-view+json": {
       "model_id": "d91557da439a4a8084a5bdd8869b1069",
       "version_major": 2,
       "version_minor": 0
      },
      "text/plain": [
       "  0%|          | 0/10 [00:00<?, ?it/s]"
      ]
     },
     "metadata": {},
     "output_type": "display_data"
    },
    {
     "name": "stdout",
     "output_type": "stream",
     "text": [
      "날짜는 20210304\n"
     ]
    },
    {
     "data": {
      "application/vnd.jupyter.widget-view+json": {
       "model_id": "1d32c17b2615490b8b056ae3f910c0f2",
       "version_major": 2,
       "version_minor": 0
      },
      "text/plain": [
       "  0%|          | 0/10 [00:00<?, ?it/s]"
      ]
     },
     "metadata": {},
     "output_type": "display_data"
    },
    {
     "name": "stdout",
     "output_type": "stream",
     "text": [
      "날짜는 20210305\n"
     ]
    },
    {
     "data": {
      "application/vnd.jupyter.widget-view+json": {
       "model_id": "e105c71c77b240fcba95f6de68f9d299",
       "version_major": 2,
       "version_minor": 0
      },
      "text/plain": [
       "  0%|          | 0/10 [00:00<?, ?it/s]"
      ]
     },
     "metadata": {},
     "output_type": "display_data"
    },
    {
     "name": "stdout",
     "output_type": "stream",
     "text": [
      "날짜는 20210306\n"
     ]
    },
    {
     "data": {
      "application/vnd.jupyter.widget-view+json": {
       "model_id": "d1b9e2f9b8e349278ee365b50bcebd71",
       "version_major": 2,
       "version_minor": 0
      },
      "text/plain": [
       "  0%|          | 0/10 [00:00<?, ?it/s]"
      ]
     },
     "metadata": {},
     "output_type": "display_data"
    },
    {
     "name": "stdout",
     "output_type": "stream",
     "text": [
      "날짜는 20210307\n"
     ]
    },
    {
     "data": {
      "application/vnd.jupyter.widget-view+json": {
       "model_id": "93010f9aa1724f31be348f3b56b9e51a",
       "version_major": 2,
       "version_minor": 0
      },
      "text/plain": [
       "  0%|          | 0/10 [00:00<?, ?it/s]"
      ]
     },
     "metadata": {},
     "output_type": "display_data"
    },
    {
     "name": "stdout",
     "output_type": "stream",
     "text": [
      "날짜는 20210308\n"
     ]
    },
    {
     "data": {
      "application/vnd.jupyter.widget-view+json": {
       "model_id": "31726d21d87b4bbe8fed38d73fd9cde7",
       "version_major": 2,
       "version_minor": 0
      },
      "text/plain": [
       "  0%|          | 0/10 [00:00<?, ?it/s]"
      ]
     },
     "metadata": {},
     "output_type": "display_data"
    },
    {
     "name": "stdout",
     "output_type": "stream",
     "text": [
      "날짜는 20210309\n"
     ]
    },
    {
     "data": {
      "application/vnd.jupyter.widget-view+json": {
       "model_id": "5efee0e960f24650a107e24816d36a88",
       "version_major": 2,
       "version_minor": 0
      },
      "text/plain": [
       "  0%|          | 0/10 [00:00<?, ?it/s]"
      ]
     },
     "metadata": {},
     "output_type": "display_data"
    },
    {
     "name": "stdout",
     "output_type": "stream",
     "text": [
      "날짜는 20210310\n"
     ]
    },
    {
     "data": {
      "application/vnd.jupyter.widget-view+json": {
       "model_id": "0db60707dc9a4cb8a8040b8df4f01697",
       "version_major": 2,
       "version_minor": 0
      },
      "text/plain": [
       "  0%|          | 0/10 [00:00<?, ?it/s]"
      ]
     },
     "metadata": {},
     "output_type": "display_data"
    },
    {
     "name": "stdout",
     "output_type": "stream",
     "text": [
      "날짜는 20210311\n"
     ]
    },
    {
     "data": {
      "application/vnd.jupyter.widget-view+json": {
       "model_id": "a8895f91c37f433a90815e423e85bd82",
       "version_major": 2,
       "version_minor": 0
      },
      "text/plain": [
       "  0%|          | 0/10 [00:00<?, ?it/s]"
      ]
     },
     "metadata": {},
     "output_type": "display_data"
    },
    {
     "name": "stdout",
     "output_type": "stream",
     "text": [
      "날짜는 20210312\n"
     ]
    },
    {
     "data": {
      "application/vnd.jupyter.widget-view+json": {
       "model_id": "3a04e3f8d6474f41b7a0fa5d4397356a",
       "version_major": 2,
       "version_minor": 0
      },
      "text/plain": [
       "  0%|          | 0/10 [00:00<?, ?it/s]"
      ]
     },
     "metadata": {},
     "output_type": "display_data"
    },
    {
     "name": "stdout",
     "output_type": "stream",
     "text": [
      "날짜는 20210313\n"
     ]
    },
    {
     "data": {
      "application/vnd.jupyter.widget-view+json": {
       "model_id": "306e4d7d1fc44ddbb16a59b2094c46cc",
       "version_major": 2,
       "version_minor": 0
      },
      "text/plain": [
       "  0%|          | 0/10 [00:00<?, ?it/s]"
      ]
     },
     "metadata": {},
     "output_type": "display_data"
    },
    {
     "name": "stdout",
     "output_type": "stream",
     "text": [
      "날짜는 20210314\n"
     ]
    },
    {
     "data": {
      "application/vnd.jupyter.widget-view+json": {
       "model_id": "3c92fbb35fa24fca9227897707c8a683",
       "version_major": 2,
       "version_minor": 0
      },
      "text/plain": [
       "  0%|          | 0/10 [00:00<?, ?it/s]"
      ]
     },
     "metadata": {},
     "output_type": "display_data"
    },
    {
     "name": "stdout",
     "output_type": "stream",
     "text": [
      "날짜는 20210315\n"
     ]
    },
    {
     "data": {
      "application/vnd.jupyter.widget-view+json": {
       "model_id": "8993c55596b248a58dbf7b426ba263e6",
       "version_major": 2,
       "version_minor": 0
      },
      "text/plain": [
       "  0%|          | 0/10 [00:00<?, ?it/s]"
      ]
     },
     "metadata": {},
     "output_type": "display_data"
    },
    {
     "name": "stdout",
     "output_type": "stream",
     "text": [
      "날짜는 20210316\n"
     ]
    },
    {
     "data": {
      "application/vnd.jupyter.widget-view+json": {
       "model_id": "166f7f3484af4ebdba4a1a423fcff571",
       "version_major": 2,
       "version_minor": 0
      },
      "text/plain": [
       "  0%|          | 0/10 [00:00<?, ?it/s]"
      ]
     },
     "metadata": {},
     "output_type": "display_data"
    },
    {
     "name": "stdout",
     "output_type": "stream",
     "text": [
      "날짜는 20210317\n"
     ]
    },
    {
     "data": {
      "application/vnd.jupyter.widget-view+json": {
       "model_id": "af0fcd1466cc47c1b8295160c3019464",
       "version_major": 2,
       "version_minor": 0
      },
      "text/plain": [
       "  0%|          | 0/10 [00:00<?, ?it/s]"
      ]
     },
     "metadata": {},
     "output_type": "display_data"
    },
    {
     "name": "stdout",
     "output_type": "stream",
     "text": [
      "날짜는 20210318\n"
     ]
    },
    {
     "data": {
      "application/vnd.jupyter.widget-view+json": {
       "model_id": "575913e1611b481e9424cf70f0db81fd",
       "version_major": 2,
       "version_minor": 0
      },
      "text/plain": [
       "  0%|          | 0/10 [00:00<?, ?it/s]"
      ]
     },
     "metadata": {},
     "output_type": "display_data"
    },
    {
     "name": "stdout",
     "output_type": "stream",
     "text": [
      "날짜는 20210319\n"
     ]
    },
    {
     "data": {
      "application/vnd.jupyter.widget-view+json": {
       "model_id": "d0fe0576166749f7907c7672b52cb72b",
       "version_major": 2,
       "version_minor": 0
      },
      "text/plain": [
       "  0%|          | 0/10 [00:00<?, ?it/s]"
      ]
     },
     "metadata": {},
     "output_type": "display_data"
    },
    {
     "name": "stdout",
     "output_type": "stream",
     "text": [
      "날짜는 20210320\n"
     ]
    },
    {
     "data": {
      "application/vnd.jupyter.widget-view+json": {
       "model_id": "8bb7cffcdc6b4b0aab868eed5578c9ca",
       "version_major": 2,
       "version_minor": 0
      },
      "text/plain": [
       "  0%|          | 0/10 [00:00<?, ?it/s]"
      ]
     },
     "metadata": {},
     "output_type": "display_data"
    },
    {
     "name": "stdout",
     "output_type": "stream",
     "text": [
      "날짜는 20210321\n"
     ]
    },
    {
     "data": {
      "application/vnd.jupyter.widget-view+json": {
       "model_id": "5d40e6a56922495db9d83503fbeb3e41",
       "version_major": 2,
       "version_minor": 0
      },
      "text/plain": [
       "  0%|          | 0/10 [00:00<?, ?it/s]"
      ]
     },
     "metadata": {},
     "output_type": "display_data"
    },
    {
     "name": "stdout",
     "output_type": "stream",
     "text": [
      "날짜는 20210322\n"
     ]
    },
    {
     "data": {
      "application/vnd.jupyter.widget-view+json": {
       "model_id": "0505e5aba47746bfa788850ad18a0c61",
       "version_major": 2,
       "version_minor": 0
      },
      "text/plain": [
       "  0%|          | 0/10 [00:00<?, ?it/s]"
      ]
     },
     "metadata": {},
     "output_type": "display_data"
    },
    {
     "name": "stdout",
     "output_type": "stream",
     "text": [
      "날짜는 20210323\n"
     ]
    },
    {
     "data": {
      "application/vnd.jupyter.widget-view+json": {
       "model_id": "fc9a8c90f4a744f797fa691855aa2e14",
       "version_major": 2,
       "version_minor": 0
      },
      "text/plain": [
       "  0%|          | 0/10 [00:00<?, ?it/s]"
      ]
     },
     "metadata": {},
     "output_type": "display_data"
    },
    {
     "name": "stdout",
     "output_type": "stream",
     "text": [
      "날짜는 20210324\n"
     ]
    },
    {
     "data": {
      "application/vnd.jupyter.widget-view+json": {
       "model_id": "b8a0df7b0a0840c7b71828fb9d431ef3",
       "version_major": 2,
       "version_minor": 0
      },
      "text/plain": [
       "  0%|          | 0/10 [00:00<?, ?it/s]"
      ]
     },
     "metadata": {},
     "output_type": "display_data"
    },
    {
     "name": "stdout",
     "output_type": "stream",
     "text": [
      "날짜는 20210325\n"
     ]
    },
    {
     "data": {
      "application/vnd.jupyter.widget-view+json": {
       "model_id": "163ba829d2254746888bc2b6620be82d",
       "version_major": 2,
       "version_minor": 0
      },
      "text/plain": [
       "  0%|          | 0/10 [00:00<?, ?it/s]"
      ]
     },
     "metadata": {},
     "output_type": "display_data"
    },
    {
     "name": "stdout",
     "output_type": "stream",
     "text": [
      "날짜는 20210326\n"
     ]
    },
    {
     "data": {
      "application/vnd.jupyter.widget-view+json": {
       "model_id": "bc92c172603d4aaca5c74f44bc378a09",
       "version_major": 2,
       "version_minor": 0
      },
      "text/plain": [
       "  0%|          | 0/10 [00:00<?, ?it/s]"
      ]
     },
     "metadata": {},
     "output_type": "display_data"
    },
    {
     "name": "stdout",
     "output_type": "stream",
     "text": [
      "날짜는 20210327\n"
     ]
    },
    {
     "data": {
      "application/vnd.jupyter.widget-view+json": {
       "model_id": "517b9a129901482dae3a4cda7e48d7b6",
       "version_major": 2,
       "version_minor": 0
      },
      "text/plain": [
       "  0%|          | 0/10 [00:00<?, ?it/s]"
      ]
     },
     "metadata": {},
     "output_type": "display_data"
    },
    {
     "name": "stdout",
     "output_type": "stream",
     "text": [
      "날짜는 20210328\n"
     ]
    },
    {
     "data": {
      "application/vnd.jupyter.widget-view+json": {
       "model_id": "3bd9e67ecb4945aba47a6aa04cde4ceb",
       "version_major": 2,
       "version_minor": 0
      },
      "text/plain": [
       "  0%|          | 0/10 [00:00<?, ?it/s]"
      ]
     },
     "metadata": {},
     "output_type": "display_data"
    },
    {
     "name": "stdout",
     "output_type": "stream",
     "text": [
      "날짜는 20210329\n"
     ]
    },
    {
     "data": {
      "application/vnd.jupyter.widget-view+json": {
       "model_id": "6cc1e17f851546acb49ba79f6787360e",
       "version_major": 2,
       "version_minor": 0
      },
      "text/plain": [
       "  0%|          | 0/10 [00:00<?, ?it/s]"
      ]
     },
     "metadata": {},
     "output_type": "display_data"
    },
    {
     "name": "stdout",
     "output_type": "stream",
     "text": [
      "날짜는 20210330\n"
     ]
    },
    {
     "data": {
      "application/vnd.jupyter.widget-view+json": {
       "model_id": "11a4e9977bef4d64a647be9a99df626a",
       "version_major": 2,
       "version_minor": 0
      },
      "text/plain": [
       "  0%|          | 0/10 [00:00<?, ?it/s]"
      ]
     },
     "metadata": {},
     "output_type": "display_data"
    },
    {
     "name": "stdout",
     "output_type": "stream",
     "text": [
      "날짜는 20210331\n"
     ]
    },
    {
     "data": {
      "application/vnd.jupyter.widget-view+json": {
       "model_id": "bb9e9a4de2db4b69b65d546373481c88",
       "version_major": 2,
       "version_minor": 0
      },
      "text/plain": [
       "  0%|          | 0/10 [00:00<?, ?it/s]"
      ]
     },
     "metadata": {},
     "output_type": "display_data"
    },
    {
     "name": "stdout",
     "output_type": "stream",
     "text": [
      "날짜는 20210401\n"
     ]
    },
    {
     "data": {
      "application/vnd.jupyter.widget-view+json": {
       "model_id": "0bdbdd2deab3456e9da3d4b6a2582f54",
       "version_major": 2,
       "version_minor": 0
      },
      "text/plain": [
       "  0%|          | 0/10 [00:00<?, ?it/s]"
      ]
     },
     "metadata": {},
     "output_type": "display_data"
    },
    {
     "name": "stdout",
     "output_type": "stream",
     "text": [
      "**********************************************************************\n",
      "20210401 오류 있어 데이터 수집되지 않음\n",
      "**********************************************************************\n",
      "날짜는 20210402\n"
     ]
    },
    {
     "data": {
      "application/vnd.jupyter.widget-view+json": {
       "model_id": "6b8c1db0cd244b08a460d13af98992c7",
       "version_major": 2,
       "version_minor": 0
      },
      "text/plain": [
       "  0%|          | 0/10 [00:00<?, ?it/s]"
      ]
     },
     "metadata": {},
     "output_type": "display_data"
    },
    {
     "name": "stdout",
     "output_type": "stream",
     "text": [
      "날짜는 20210403\n"
     ]
    },
    {
     "data": {
      "application/vnd.jupyter.widget-view+json": {
       "model_id": "720d3d9b6bed4f8fbdf749f937c6a340",
       "version_major": 2,
       "version_minor": 0
      },
      "text/plain": [
       "  0%|          | 0/10 [00:00<?, ?it/s]"
      ]
     },
     "metadata": {},
     "output_type": "display_data"
    },
    {
     "name": "stdout",
     "output_type": "stream",
     "text": [
      "날짜는 20210404\n"
     ]
    },
    {
     "data": {
      "application/vnd.jupyter.widget-view+json": {
       "model_id": "e9ac93c428f941cd9f898037f7f61c8f",
       "version_major": 2,
       "version_minor": 0
      },
      "text/plain": [
       "  0%|          | 0/10 [00:00<?, ?it/s]"
      ]
     },
     "metadata": {},
     "output_type": "display_data"
    },
    {
     "name": "stdout",
     "output_type": "stream",
     "text": [
      "날짜는 20210405\n"
     ]
    },
    {
     "data": {
      "application/vnd.jupyter.widget-view+json": {
       "model_id": "bbdc2a9568cd43e5ad19273d82f825d6",
       "version_major": 2,
       "version_minor": 0
      },
      "text/plain": [
       "  0%|          | 0/10 [00:00<?, ?it/s]"
      ]
     },
     "metadata": {},
     "output_type": "display_data"
    },
    {
     "name": "stdout",
     "output_type": "stream",
     "text": [
      "날짜는 20210406\n"
     ]
    },
    {
     "data": {
      "application/vnd.jupyter.widget-view+json": {
       "model_id": "a6c18c163c624e919c6a71608e60e03a",
       "version_major": 2,
       "version_minor": 0
      },
      "text/plain": [
       "  0%|          | 0/10 [00:00<?, ?it/s]"
      ]
     },
     "metadata": {},
     "output_type": "display_data"
    },
    {
     "name": "stdout",
     "output_type": "stream",
     "text": [
      "날짜는 20210407\n"
     ]
    },
    {
     "data": {
      "application/vnd.jupyter.widget-view+json": {
       "model_id": "e0de29637df74fa79fd2ae6f54b8ee88",
       "version_major": 2,
       "version_minor": 0
      },
      "text/plain": [
       "  0%|          | 0/10 [00:00<?, ?it/s]"
      ]
     },
     "metadata": {},
     "output_type": "display_data"
    },
    {
     "name": "stdout",
     "output_type": "stream",
     "text": [
      "날짜는 20210408\n"
     ]
    },
    {
     "data": {
      "application/vnd.jupyter.widget-view+json": {
       "model_id": "259c4188ac1842a4817937e4cd4e7eaa",
       "version_major": 2,
       "version_minor": 0
      },
      "text/plain": [
       "  0%|          | 0/10 [00:00<?, ?it/s]"
      ]
     },
     "metadata": {},
     "output_type": "display_data"
    },
    {
     "name": "stdout",
     "output_type": "stream",
     "text": [
      "날짜는 20210409\n"
     ]
    },
    {
     "data": {
      "application/vnd.jupyter.widget-view+json": {
       "model_id": "8c9d5b58227d48098946cf87ba69ef1f",
       "version_major": 2,
       "version_minor": 0
      },
      "text/plain": [
       "  0%|          | 0/10 [00:00<?, ?it/s]"
      ]
     },
     "metadata": {},
     "output_type": "display_data"
    },
    {
     "name": "stdout",
     "output_type": "stream",
     "text": [
      "날짜는 20210410\n"
     ]
    },
    {
     "data": {
      "application/vnd.jupyter.widget-view+json": {
       "model_id": "3d1d5806251a4347835cfbb53bfc46c3",
       "version_major": 2,
       "version_minor": 0
      },
      "text/plain": [
       "  0%|          | 0/10 [00:00<?, ?it/s]"
      ]
     },
     "metadata": {},
     "output_type": "display_data"
    },
    {
     "name": "stdout",
     "output_type": "stream",
     "text": [
      "날짜는 20210411\n"
     ]
    },
    {
     "data": {
      "application/vnd.jupyter.widget-view+json": {
       "model_id": "c0b6dc52bbcd42af9703d79348f2d106",
       "version_major": 2,
       "version_minor": 0
      },
      "text/plain": [
       "  0%|          | 0/10 [00:00<?, ?it/s]"
      ]
     },
     "metadata": {},
     "output_type": "display_data"
    },
    {
     "name": "stdout",
     "output_type": "stream",
     "text": [
      "날짜는 20210412\n"
     ]
    },
    {
     "data": {
      "application/vnd.jupyter.widget-view+json": {
       "model_id": "8adf71114b0f44a8ab307e103aeaca60",
       "version_major": 2,
       "version_minor": 0
      },
      "text/plain": [
       "  0%|          | 0/10 [00:00<?, ?it/s]"
      ]
     },
     "metadata": {},
     "output_type": "display_data"
    },
    {
     "name": "stdout",
     "output_type": "stream",
     "text": [
      "날짜는 20210413\n"
     ]
    },
    {
     "data": {
      "application/vnd.jupyter.widget-view+json": {
       "model_id": "d4494ee98a3f47d69342ec260b1dd761",
       "version_major": 2,
       "version_minor": 0
      },
      "text/plain": [
       "  0%|          | 0/10 [00:00<?, ?it/s]"
      ]
     },
     "metadata": {},
     "output_type": "display_data"
    },
    {
     "name": "stdout",
     "output_type": "stream",
     "text": [
      "날짜는 20210414\n"
     ]
    },
    {
     "data": {
      "application/vnd.jupyter.widget-view+json": {
       "model_id": "c419cea8550242edade07743c41c0df5",
       "version_major": 2,
       "version_minor": 0
      },
      "text/plain": [
       "  0%|          | 0/10 [00:00<?, ?it/s]"
      ]
     },
     "metadata": {},
     "output_type": "display_data"
    },
    {
     "name": "stdout",
     "output_type": "stream",
     "text": [
      "날짜는 20210415\n"
     ]
    },
    {
     "data": {
      "application/vnd.jupyter.widget-view+json": {
       "model_id": "2f02a8bf306c40e09634e8852d6da8e5",
       "version_major": 2,
       "version_minor": 0
      },
      "text/plain": [
       "  0%|          | 0/10 [00:00<?, ?it/s]"
      ]
     },
     "metadata": {},
     "output_type": "display_data"
    },
    {
     "name": "stdout",
     "output_type": "stream",
     "text": [
      "날짜는 20210416\n"
     ]
    },
    {
     "data": {
      "application/vnd.jupyter.widget-view+json": {
       "model_id": "2f4025f2c64b4eb0b4bff14fd86a25ac",
       "version_major": 2,
       "version_minor": 0
      },
      "text/plain": [
       "  0%|          | 0/10 [00:00<?, ?it/s]"
      ]
     },
     "metadata": {},
     "output_type": "display_data"
    },
    {
     "name": "stdout",
     "output_type": "stream",
     "text": [
      "날짜는 20210417\n"
     ]
    },
    {
     "data": {
      "application/vnd.jupyter.widget-view+json": {
       "model_id": "e5051eb0936144ffbd4eae4b3ae59717",
       "version_major": 2,
       "version_minor": 0
      },
      "text/plain": [
       "  0%|          | 0/10 [00:00<?, ?it/s]"
      ]
     },
     "metadata": {},
     "output_type": "display_data"
    },
    {
     "name": "stdout",
     "output_type": "stream",
     "text": [
      "날짜는 20210418\n"
     ]
    },
    {
     "data": {
      "application/vnd.jupyter.widget-view+json": {
       "model_id": "88bb74af30d94eeab856e59235c684ac",
       "version_major": 2,
       "version_minor": 0
      },
      "text/plain": [
       "  0%|          | 0/10 [00:00<?, ?it/s]"
      ]
     },
     "metadata": {},
     "output_type": "display_data"
    },
    {
     "name": "stdout",
     "output_type": "stream",
     "text": [
      "날짜는 20210419\n"
     ]
    },
    {
     "data": {
      "application/vnd.jupyter.widget-view+json": {
       "model_id": "2089b308ee514af080b962e7e0ab92c4",
       "version_major": 2,
       "version_minor": 0
      },
      "text/plain": [
       "  0%|          | 0/10 [00:00<?, ?it/s]"
      ]
     },
     "metadata": {},
     "output_type": "display_data"
    },
    {
     "name": "stdout",
     "output_type": "stream",
     "text": [
      "날짜는 20210420\n"
     ]
    },
    {
     "data": {
      "application/vnd.jupyter.widget-view+json": {
       "model_id": "501de05fcfe0405fa690cc392666f135",
       "version_major": 2,
       "version_minor": 0
      },
      "text/plain": [
       "  0%|          | 0/10 [00:00<?, ?it/s]"
      ]
     },
     "metadata": {},
     "output_type": "display_data"
    },
    {
     "name": "stdout",
     "output_type": "stream",
     "text": [
      "날짜는 20210421\n"
     ]
    },
    {
     "data": {
      "application/vnd.jupyter.widget-view+json": {
       "model_id": "828f129c79974b2195d326ebe205353a",
       "version_major": 2,
       "version_minor": 0
      },
      "text/plain": [
       "  0%|          | 0/10 [00:00<?, ?it/s]"
      ]
     },
     "metadata": {},
     "output_type": "display_data"
    },
    {
     "name": "stdout",
     "output_type": "stream",
     "text": [
      "날짜는 20210422\n"
     ]
    },
    {
     "data": {
      "application/vnd.jupyter.widget-view+json": {
       "model_id": "722a71c5291a4c8185ea9b69acb1bc7d",
       "version_major": 2,
       "version_minor": 0
      },
      "text/plain": [
       "  0%|          | 0/10 [00:00<?, ?it/s]"
      ]
     },
     "metadata": {},
     "output_type": "display_data"
    },
    {
     "name": "stdout",
     "output_type": "stream",
     "text": [
      "날짜는 20210423\n"
     ]
    },
    {
     "data": {
      "application/vnd.jupyter.widget-view+json": {
       "model_id": "a167485bfae44b6885bd6009df6d9577",
       "version_major": 2,
       "version_minor": 0
      },
      "text/plain": [
       "  0%|          | 0/10 [00:00<?, ?it/s]"
      ]
     },
     "metadata": {},
     "output_type": "display_data"
    },
    {
     "name": "stdout",
     "output_type": "stream",
     "text": [
      "날짜는 20210424\n"
     ]
    },
    {
     "data": {
      "application/vnd.jupyter.widget-view+json": {
       "model_id": "993dad2af54e4a7c8d5f45cf8cd5f1ab",
       "version_major": 2,
       "version_minor": 0
      },
      "text/plain": [
       "  0%|          | 0/10 [00:00<?, ?it/s]"
      ]
     },
     "metadata": {},
     "output_type": "display_data"
    },
    {
     "name": "stdout",
     "output_type": "stream",
     "text": [
      "날짜는 20210425\n"
     ]
    },
    {
     "data": {
      "application/vnd.jupyter.widget-view+json": {
       "model_id": "e8bc777d11514d9491e8a2a4213e435e",
       "version_major": 2,
       "version_minor": 0
      },
      "text/plain": [
       "  0%|          | 0/10 [00:00<?, ?it/s]"
      ]
     },
     "metadata": {},
     "output_type": "display_data"
    },
    {
     "name": "stdout",
     "output_type": "stream",
     "text": [
      "날짜는 20210426\n"
     ]
    },
    {
     "data": {
      "application/vnd.jupyter.widget-view+json": {
       "model_id": "3d6bf8ce06014c38aa7fe2ce19609627",
       "version_major": 2,
       "version_minor": 0
      },
      "text/plain": [
       "  0%|          | 0/10 [00:00<?, ?it/s]"
      ]
     },
     "metadata": {},
     "output_type": "display_data"
    },
    {
     "name": "stdout",
     "output_type": "stream",
     "text": [
      "날짜는 20210427\n"
     ]
    },
    {
     "data": {
      "application/vnd.jupyter.widget-view+json": {
       "model_id": "8184b5c6b4be4119b752a70f2d216d58",
       "version_major": 2,
       "version_minor": 0
      },
      "text/plain": [
       "  0%|          | 0/10 [00:00<?, ?it/s]"
      ]
     },
     "metadata": {},
     "output_type": "display_data"
    },
    {
     "name": "stdout",
     "output_type": "stream",
     "text": [
      "날짜는 20210428\n"
     ]
    },
    {
     "data": {
      "application/vnd.jupyter.widget-view+json": {
       "model_id": "6713628c9fe3409fb26060824c4924af",
       "version_major": 2,
       "version_minor": 0
      },
      "text/plain": [
       "  0%|          | 0/10 [00:00<?, ?it/s]"
      ]
     },
     "metadata": {},
     "output_type": "display_data"
    },
    {
     "name": "stdout",
     "output_type": "stream",
     "text": [
      "날짜는 20210429\n"
     ]
    },
    {
     "data": {
      "application/vnd.jupyter.widget-view+json": {
       "model_id": "5d8eb89c80424f2a92eb3a1e75f3e756",
       "version_major": 2,
       "version_minor": 0
      },
      "text/plain": [
       "  0%|          | 0/10 [00:00<?, ?it/s]"
      ]
     },
     "metadata": {},
     "output_type": "display_data"
    },
    {
     "name": "stdout",
     "output_type": "stream",
     "text": [
      "날짜는 20210430\n"
     ]
    },
    {
     "data": {
      "application/vnd.jupyter.widget-view+json": {
       "model_id": "9aaaa977ff23462195de666f1ffd650f",
       "version_major": 2,
       "version_minor": 0
      },
      "text/plain": [
       "  0%|          | 0/10 [00:00<?, ?it/s]"
      ]
     },
     "metadata": {},
     "output_type": "display_data"
    },
    {
     "name": "stdout",
     "output_type": "stream",
     "text": [
      "날짜는 20210501\n"
     ]
    },
    {
     "data": {
      "application/vnd.jupyter.widget-view+json": {
       "model_id": "d5528baa854347ac864cf1b3ac54f2e8",
       "version_major": 2,
       "version_minor": 0
      },
      "text/plain": [
       "  0%|          | 0/10 [00:00<?, ?it/s]"
      ]
     },
     "metadata": {},
     "output_type": "display_data"
    },
    {
     "name": "stdout",
     "output_type": "stream",
     "text": [
      "날짜는 20210502\n"
     ]
    },
    {
     "data": {
      "application/vnd.jupyter.widget-view+json": {
       "model_id": "f8484fa9ec8846fea32060711e3f5691",
       "version_major": 2,
       "version_minor": 0
      },
      "text/plain": [
       "  0%|          | 0/10 [00:00<?, ?it/s]"
      ]
     },
     "metadata": {},
     "output_type": "display_data"
    },
    {
     "name": "stdout",
     "output_type": "stream",
     "text": [
      "날짜는 20210503\n"
     ]
    },
    {
     "data": {
      "application/vnd.jupyter.widget-view+json": {
       "model_id": "6aa32ddd1649401caedbe8a9e07293e6",
       "version_major": 2,
       "version_minor": 0
      },
      "text/plain": [
       "  0%|          | 0/10 [00:00<?, ?it/s]"
      ]
     },
     "metadata": {},
     "output_type": "display_data"
    },
    {
     "name": "stdout",
     "output_type": "stream",
     "text": [
      "날짜는 20210504\n"
     ]
    },
    {
     "data": {
      "application/vnd.jupyter.widget-view+json": {
       "model_id": "62a749066f164db0bccab4d7e653f180",
       "version_major": 2,
       "version_minor": 0
      },
      "text/plain": [
       "  0%|          | 0/10 [00:00<?, ?it/s]"
      ]
     },
     "metadata": {},
     "output_type": "display_data"
    },
    {
     "name": "stdout",
     "output_type": "stream",
     "text": [
      "날짜는 20210505\n"
     ]
    },
    {
     "data": {
      "application/vnd.jupyter.widget-view+json": {
       "model_id": "457a8885041c4f44a6bf08fe0c6551f5",
       "version_major": 2,
       "version_minor": 0
      },
      "text/plain": [
       "  0%|          | 0/10 [00:00<?, ?it/s]"
      ]
     },
     "metadata": {},
     "output_type": "display_data"
    },
    {
     "name": "stdout",
     "output_type": "stream",
     "text": [
      "날짜는 20210506\n"
     ]
    },
    {
     "data": {
      "application/vnd.jupyter.widget-view+json": {
       "model_id": "6177e9af7dff486fa9bc45b854920ea3",
       "version_major": 2,
       "version_minor": 0
      },
      "text/plain": [
       "  0%|          | 0/10 [00:00<?, ?it/s]"
      ]
     },
     "metadata": {},
     "output_type": "display_data"
    },
    {
     "name": "stdout",
     "output_type": "stream",
     "text": [
      "날짜는 20210507\n"
     ]
    },
    {
     "data": {
      "application/vnd.jupyter.widget-view+json": {
       "model_id": "99eaa20de56e4d6e8b3c606cb6c29c58",
       "version_major": 2,
       "version_minor": 0
      },
      "text/plain": [
       "  0%|          | 0/10 [00:00<?, ?it/s]"
      ]
     },
     "metadata": {},
     "output_type": "display_data"
    },
    {
     "name": "stdout",
     "output_type": "stream",
     "text": [
      "날짜는 20210508\n"
     ]
    },
    {
     "data": {
      "application/vnd.jupyter.widget-view+json": {
       "model_id": "b5507f9b41c745859e42521b0cd6e354",
       "version_major": 2,
       "version_minor": 0
      },
      "text/plain": [
       "  0%|          | 0/10 [00:00<?, ?it/s]"
      ]
     },
     "metadata": {},
     "output_type": "display_data"
    },
    {
     "name": "stdout",
     "output_type": "stream",
     "text": [
      "날짜는 20210509\n"
     ]
    },
    {
     "data": {
      "application/vnd.jupyter.widget-view+json": {
       "model_id": "5409b7b28d464421b45b6df5c76bf796",
       "version_major": 2,
       "version_minor": 0
      },
      "text/plain": [
       "  0%|          | 0/10 [00:00<?, ?it/s]"
      ]
     },
     "metadata": {},
     "output_type": "display_data"
    },
    {
     "name": "stdout",
     "output_type": "stream",
     "text": [
      "날짜는 20210510\n"
     ]
    },
    {
     "data": {
      "application/vnd.jupyter.widget-view+json": {
       "model_id": "feda026d48434b53a5ecd92cfb63d0be",
       "version_major": 2,
       "version_minor": 0
      },
      "text/plain": [
       "  0%|          | 0/10 [00:00<?, ?it/s]"
      ]
     },
     "metadata": {},
     "output_type": "display_data"
    },
    {
     "name": "stdout",
     "output_type": "stream",
     "text": [
      "날짜는 20210511\n"
     ]
    },
    {
     "data": {
      "application/vnd.jupyter.widget-view+json": {
       "model_id": "00d18ccaeca74f71a7af1c875457b6be",
       "version_major": 2,
       "version_minor": 0
      },
      "text/plain": [
       "  0%|          | 0/10 [00:00<?, ?it/s]"
      ]
     },
     "metadata": {},
     "output_type": "display_data"
    },
    {
     "name": "stdout",
     "output_type": "stream",
     "text": [
      "날짜는 20210512\n"
     ]
    },
    {
     "data": {
      "application/vnd.jupyter.widget-view+json": {
       "model_id": "3697fab92bb54a4f9785f4ca676d620b",
       "version_major": 2,
       "version_minor": 0
      },
      "text/plain": [
       "  0%|          | 0/10 [00:00<?, ?it/s]"
      ]
     },
     "metadata": {},
     "output_type": "display_data"
    },
    {
     "name": "stdout",
     "output_type": "stream",
     "text": [
      "날짜는 20210513\n"
     ]
    },
    {
     "data": {
      "application/vnd.jupyter.widget-view+json": {
       "model_id": "1ccfbd47560c418bb67bbf98fb4754b7",
       "version_major": 2,
       "version_minor": 0
      },
      "text/plain": [
       "  0%|          | 0/10 [00:00<?, ?it/s]"
      ]
     },
     "metadata": {},
     "output_type": "display_data"
    },
    {
     "name": "stdout",
     "output_type": "stream",
     "text": [
      "날짜는 20210514\n"
     ]
    },
    {
     "data": {
      "application/vnd.jupyter.widget-view+json": {
       "model_id": "969f8e75ffb74f9bb489cce23af535e8",
       "version_major": 2,
       "version_minor": 0
      },
      "text/plain": [
       "  0%|          | 0/10 [00:00<?, ?it/s]"
      ]
     },
     "metadata": {},
     "output_type": "display_data"
    },
    {
     "name": "stdout",
     "output_type": "stream",
     "text": [
      "날짜는 20210515\n"
     ]
    },
    {
     "data": {
      "application/vnd.jupyter.widget-view+json": {
       "model_id": "9366778431ca4506997ccb3be8295789",
       "version_major": 2,
       "version_minor": 0
      },
      "text/plain": [
       "  0%|          | 0/10 [00:00<?, ?it/s]"
      ]
     },
     "metadata": {},
     "output_type": "display_data"
    },
    {
     "name": "stdout",
     "output_type": "stream",
     "text": [
      "날짜는 20210516\n"
     ]
    },
    {
     "data": {
      "application/vnd.jupyter.widget-view+json": {
       "model_id": "e5c427ea023a4b8685c5d9f8a120ef89",
       "version_major": 2,
       "version_minor": 0
      },
      "text/plain": [
       "  0%|          | 0/10 [00:00<?, ?it/s]"
      ]
     },
     "metadata": {},
     "output_type": "display_data"
    },
    {
     "name": "stdout",
     "output_type": "stream",
     "text": [
      "날짜는 20210517\n"
     ]
    },
    {
     "data": {
      "application/vnd.jupyter.widget-view+json": {
       "model_id": "29740c4b8e4f43ca92dba1fd2c3d7502",
       "version_major": 2,
       "version_minor": 0
      },
      "text/plain": [
       "  0%|          | 0/10 [00:00<?, ?it/s]"
      ]
     },
     "metadata": {},
     "output_type": "display_data"
    },
    {
     "name": "stdout",
     "output_type": "stream",
     "text": [
      "날짜는 20210518\n"
     ]
    },
    {
     "data": {
      "application/vnd.jupyter.widget-view+json": {
       "model_id": "ee35d90b1f4e48ae8630abf950f4ba80",
       "version_major": 2,
       "version_minor": 0
      },
      "text/plain": [
       "  0%|          | 0/10 [00:00<?, ?it/s]"
      ]
     },
     "metadata": {},
     "output_type": "display_data"
    },
    {
     "name": "stdout",
     "output_type": "stream",
     "text": [
      "날짜는 20210519\n"
     ]
    },
    {
     "data": {
      "application/vnd.jupyter.widget-view+json": {
       "model_id": "186a90739343453a8b732769eeda6573",
       "version_major": 2,
       "version_minor": 0
      },
      "text/plain": [
       "  0%|          | 0/10 [00:00<?, ?it/s]"
      ]
     },
     "metadata": {},
     "output_type": "display_data"
    },
    {
     "name": "stdout",
     "output_type": "stream",
     "text": [
      "날짜는 20210520\n"
     ]
    },
    {
     "data": {
      "application/vnd.jupyter.widget-view+json": {
       "model_id": "0b0fc04330ee4b629dc1df72d16d588a",
       "version_major": 2,
       "version_minor": 0
      },
      "text/plain": [
       "  0%|          | 0/10 [00:00<?, ?it/s]"
      ]
     },
     "metadata": {},
     "output_type": "display_data"
    },
    {
     "name": "stdout",
     "output_type": "stream",
     "text": [
      "날짜는 20210521\n"
     ]
    },
    {
     "data": {
      "application/vnd.jupyter.widget-view+json": {
       "model_id": "16ed5bec17d4427699b03a359104df94",
       "version_major": 2,
       "version_minor": 0
      },
      "text/plain": [
       "  0%|          | 0/10 [00:00<?, ?it/s]"
      ]
     },
     "metadata": {},
     "output_type": "display_data"
    },
    {
     "name": "stdout",
     "output_type": "stream",
     "text": [
      "날짜는 20210522\n"
     ]
    },
    {
     "data": {
      "application/vnd.jupyter.widget-view+json": {
       "model_id": "5f5d4b4a1aaf42049c113ced4771b348",
       "version_major": 2,
       "version_minor": 0
      },
      "text/plain": [
       "  0%|          | 0/10 [00:00<?, ?it/s]"
      ]
     },
     "metadata": {},
     "output_type": "display_data"
    },
    {
     "name": "stdout",
     "output_type": "stream",
     "text": [
      "날짜는 20210523\n"
     ]
    },
    {
     "data": {
      "application/vnd.jupyter.widget-view+json": {
       "model_id": "e36b8103950142b9a297f69317c8a6e5",
       "version_major": 2,
       "version_minor": 0
      },
      "text/plain": [
       "  0%|          | 0/10 [00:00<?, ?it/s]"
      ]
     },
     "metadata": {},
     "output_type": "display_data"
    },
    {
     "name": "stdout",
     "output_type": "stream",
     "text": [
      "날짜는 20210524\n"
     ]
    },
    {
     "data": {
      "application/vnd.jupyter.widget-view+json": {
       "model_id": "c9dad4b63a2c406f9d95611990d1cfa8",
       "version_major": 2,
       "version_minor": 0
      },
      "text/plain": [
       "  0%|          | 0/10 [00:00<?, ?it/s]"
      ]
     },
     "metadata": {},
     "output_type": "display_data"
    },
    {
     "name": "stdout",
     "output_type": "stream",
     "text": [
      "날짜는 20210525\n"
     ]
    },
    {
     "data": {
      "application/vnd.jupyter.widget-view+json": {
       "model_id": "8da48dd5e42d44a99ebcbfad0814408d",
       "version_major": 2,
       "version_minor": 0
      },
      "text/plain": [
       "  0%|          | 0/10 [00:00<?, ?it/s]"
      ]
     },
     "metadata": {},
     "output_type": "display_data"
    },
    {
     "name": "stdout",
     "output_type": "stream",
     "text": [
      "날짜는 20210526\n"
     ]
    },
    {
     "data": {
      "application/vnd.jupyter.widget-view+json": {
       "model_id": "62aeb066f36343ac9a0552e48c8e0519",
       "version_major": 2,
       "version_minor": 0
      },
      "text/plain": [
       "  0%|          | 0/10 [00:00<?, ?it/s]"
      ]
     },
     "metadata": {},
     "output_type": "display_data"
    },
    {
     "name": "stdout",
     "output_type": "stream",
     "text": [
      "날짜는 20210527\n"
     ]
    },
    {
     "data": {
      "application/vnd.jupyter.widget-view+json": {
       "model_id": "72a5853d18784c349226b629e4abbccc",
       "version_major": 2,
       "version_minor": 0
      },
      "text/plain": [
       "  0%|          | 0/10 [00:00<?, ?it/s]"
      ]
     },
     "metadata": {},
     "output_type": "display_data"
    },
    {
     "name": "stdout",
     "output_type": "stream",
     "text": [
      "날짜는 20210528\n"
     ]
    },
    {
     "data": {
      "application/vnd.jupyter.widget-view+json": {
       "model_id": "23ab23a75aa448a0b12665a29d832d42",
       "version_major": 2,
       "version_minor": 0
      },
      "text/plain": [
       "  0%|          | 0/10 [00:00<?, ?it/s]"
      ]
     },
     "metadata": {},
     "output_type": "display_data"
    },
    {
     "name": "stdout",
     "output_type": "stream",
     "text": [
      "날짜는 20210529\n"
     ]
    },
    {
     "data": {
      "application/vnd.jupyter.widget-view+json": {
       "model_id": "e3c74bd2f51b4818811c99df5c8441c2",
       "version_major": 2,
       "version_minor": 0
      },
      "text/plain": [
       "  0%|          | 0/10 [00:00<?, ?it/s]"
      ]
     },
     "metadata": {},
     "output_type": "display_data"
    },
    {
     "name": "stdout",
     "output_type": "stream",
     "text": [
      "날짜는 20210530\n"
     ]
    },
    {
     "data": {
      "application/vnd.jupyter.widget-view+json": {
       "model_id": "35044aecf7b04ed4aabc5c1f240a6e4f",
       "version_major": 2,
       "version_minor": 0
      },
      "text/plain": [
       "  0%|          | 0/10 [00:00<?, ?it/s]"
      ]
     },
     "metadata": {},
     "output_type": "display_data"
    },
    {
     "name": "stdout",
     "output_type": "stream",
     "text": [
      "날짜는 20210531\n"
     ]
    },
    {
     "data": {
      "application/vnd.jupyter.widget-view+json": {
       "model_id": "f6c13b33c25c46d1af7dd043b02e597d",
       "version_major": 2,
       "version_minor": 0
      },
      "text/plain": [
       "  0%|          | 0/10 [00:00<?, ?it/s]"
      ]
     },
     "metadata": {},
     "output_type": "display_data"
    },
    {
     "name": "stdout",
     "output_type": "stream",
     "text": [
      "날짜는 20210601\n"
     ]
    },
    {
     "data": {
      "application/vnd.jupyter.widget-view+json": {
       "model_id": "aaed884d83dd4d759f9e5d3f2ad32291",
       "version_major": 2,
       "version_minor": 0
      },
      "text/plain": [
       "  0%|          | 0/10 [00:00<?, ?it/s]"
      ]
     },
     "metadata": {},
     "output_type": "display_data"
    },
    {
     "name": "stdout",
     "output_type": "stream",
     "text": [
      "**********************************************************************\n",
      "20210601 오류 있어 데이터 수집되지 않음\n",
      "**********************************************************************\n",
      "날짜는 20210602\n"
     ]
    },
    {
     "data": {
      "application/vnd.jupyter.widget-view+json": {
       "model_id": "10450f34b32341e6bc9ab1e759c07e6c",
       "version_major": 2,
       "version_minor": 0
      },
      "text/plain": [
       "  0%|          | 0/10 [00:00<?, ?it/s]"
      ]
     },
     "metadata": {},
     "output_type": "display_data"
    },
    {
     "name": "stdout",
     "output_type": "stream",
     "text": [
      "날짜는 20210603\n"
     ]
    },
    {
     "data": {
      "application/vnd.jupyter.widget-view+json": {
       "model_id": "d720146a1b144b658c82be0634128056",
       "version_major": 2,
       "version_minor": 0
      },
      "text/plain": [
       "  0%|          | 0/10 [00:00<?, ?it/s]"
      ]
     },
     "metadata": {},
     "output_type": "display_data"
    },
    {
     "name": "stdout",
     "output_type": "stream",
     "text": [
      "날짜는 20210604\n"
     ]
    },
    {
     "data": {
      "application/vnd.jupyter.widget-view+json": {
       "model_id": "76ad06ee5ecc47438fdbe4615d58c6c2",
       "version_major": 2,
       "version_minor": 0
      },
      "text/plain": [
       "  0%|          | 0/10 [00:00<?, ?it/s]"
      ]
     },
     "metadata": {},
     "output_type": "display_data"
    },
    {
     "name": "stdout",
     "output_type": "stream",
     "text": [
      "날짜는 20210605\n"
     ]
    },
    {
     "data": {
      "application/vnd.jupyter.widget-view+json": {
       "model_id": "25948fb1b3a441c38cd66bb07a97e485",
       "version_major": 2,
       "version_minor": 0
      },
      "text/plain": [
       "  0%|          | 0/10 [00:00<?, ?it/s]"
      ]
     },
     "metadata": {},
     "output_type": "display_data"
    },
    {
     "name": "stdout",
     "output_type": "stream",
     "text": [
      "날짜는 20210606\n"
     ]
    },
    {
     "data": {
      "application/vnd.jupyter.widget-view+json": {
       "model_id": "8cdc44df5a6741379498815384325752",
       "version_major": 2,
       "version_minor": 0
      },
      "text/plain": [
       "  0%|          | 0/10 [00:00<?, ?it/s]"
      ]
     },
     "metadata": {},
     "output_type": "display_data"
    },
    {
     "name": "stdout",
     "output_type": "stream",
     "text": [
      "날짜는 20210607\n"
     ]
    },
    {
     "data": {
      "application/vnd.jupyter.widget-view+json": {
       "model_id": "0cf7152d62c7451c92476c2fffa199f9",
       "version_major": 2,
       "version_minor": 0
      },
      "text/plain": [
       "  0%|          | 0/10 [00:00<?, ?it/s]"
      ]
     },
     "metadata": {},
     "output_type": "display_data"
    },
    {
     "name": "stdout",
     "output_type": "stream",
     "text": [
      "날짜는 20210608\n"
     ]
    },
    {
     "data": {
      "application/vnd.jupyter.widget-view+json": {
       "model_id": "b1bbaa58d2954f4483f59dfa8b8b8463",
       "version_major": 2,
       "version_minor": 0
      },
      "text/plain": [
       "  0%|          | 0/10 [00:00<?, ?it/s]"
      ]
     },
     "metadata": {},
     "output_type": "display_data"
    },
    {
     "name": "stdout",
     "output_type": "stream",
     "text": [
      "날짜는 20210609\n"
     ]
    },
    {
     "data": {
      "application/vnd.jupyter.widget-view+json": {
       "model_id": "042bb5d491b24b0fb49e48c5141af38a",
       "version_major": 2,
       "version_minor": 0
      },
      "text/plain": [
       "  0%|          | 0/10 [00:00<?, ?it/s]"
      ]
     },
     "metadata": {},
     "output_type": "display_data"
    },
    {
     "name": "stdout",
     "output_type": "stream",
     "text": [
      "날짜는 20210610\n"
     ]
    },
    {
     "data": {
      "application/vnd.jupyter.widget-view+json": {
       "model_id": "487a1d1c43eb408796a1c2b56b17aa52",
       "version_major": 2,
       "version_minor": 0
      },
      "text/plain": [
       "  0%|          | 0/10 [00:00<?, ?it/s]"
      ]
     },
     "metadata": {},
     "output_type": "display_data"
    },
    {
     "name": "stdout",
     "output_type": "stream",
     "text": [
      "날짜는 20210611\n"
     ]
    },
    {
     "data": {
      "application/vnd.jupyter.widget-view+json": {
       "model_id": "7c0d423bf0154d01bbe2711173ecfc07",
       "version_major": 2,
       "version_minor": 0
      },
      "text/plain": [
       "  0%|          | 0/10 [00:00<?, ?it/s]"
      ]
     },
     "metadata": {},
     "output_type": "display_data"
    },
    {
     "name": "stdout",
     "output_type": "stream",
     "text": [
      "날짜는 20210612\n"
     ]
    },
    {
     "data": {
      "application/vnd.jupyter.widget-view+json": {
       "model_id": "23051cfe79384da29a631098c26d14e6",
       "version_major": 2,
       "version_minor": 0
      },
      "text/plain": [
       "  0%|          | 0/10 [00:00<?, ?it/s]"
      ]
     },
     "metadata": {},
     "output_type": "display_data"
    },
    {
     "name": "stdout",
     "output_type": "stream",
     "text": [
      "날짜는 20210613\n"
     ]
    },
    {
     "data": {
      "application/vnd.jupyter.widget-view+json": {
       "model_id": "c94c1ac752c841fd96bed688be993c9f",
       "version_major": 2,
       "version_minor": 0
      },
      "text/plain": [
       "  0%|          | 0/10 [00:00<?, ?it/s]"
      ]
     },
     "metadata": {},
     "output_type": "display_data"
    },
    {
     "name": "stdout",
     "output_type": "stream",
     "text": [
      "날짜는 20210614\n"
     ]
    },
    {
     "data": {
      "application/vnd.jupyter.widget-view+json": {
       "model_id": "eb986ffdd2c043ac861a2b747fdf8a3b",
       "version_major": 2,
       "version_minor": 0
      },
      "text/plain": [
       "  0%|          | 0/10 [00:00<?, ?it/s]"
      ]
     },
     "metadata": {},
     "output_type": "display_data"
    },
    {
     "name": "stdout",
     "output_type": "stream",
     "text": [
      "날짜는 20210615\n"
     ]
    },
    {
     "data": {
      "application/vnd.jupyter.widget-view+json": {
       "model_id": "b1c0051261dd4d37b4eb648e8ae82118",
       "version_major": 2,
       "version_minor": 0
      },
      "text/plain": [
       "  0%|          | 0/10 [00:00<?, ?it/s]"
      ]
     },
     "metadata": {},
     "output_type": "display_data"
    },
    {
     "name": "stdout",
     "output_type": "stream",
     "text": [
      "날짜는 20210616\n"
     ]
    },
    {
     "data": {
      "application/vnd.jupyter.widget-view+json": {
       "model_id": "6bb4b78f84124b09975ca6d1430c86cf",
       "version_major": 2,
       "version_minor": 0
      },
      "text/plain": [
       "  0%|          | 0/10 [00:00<?, ?it/s]"
      ]
     },
     "metadata": {},
     "output_type": "display_data"
    },
    {
     "name": "stdout",
     "output_type": "stream",
     "text": [
      "날짜는 20210617\n"
     ]
    },
    {
     "data": {
      "application/vnd.jupyter.widget-view+json": {
       "model_id": "e24c340a2b4f4b099fce9909d619f002",
       "version_major": 2,
       "version_minor": 0
      },
      "text/plain": [
       "  0%|          | 0/10 [00:00<?, ?it/s]"
      ]
     },
     "metadata": {},
     "output_type": "display_data"
    },
    {
     "name": "stdout",
     "output_type": "stream",
     "text": [
      "날짜는 20210618\n"
     ]
    },
    {
     "data": {
      "application/vnd.jupyter.widget-view+json": {
       "model_id": "8f5bd651aed6492bace9e64fae0fb27b",
       "version_major": 2,
       "version_minor": 0
      },
      "text/plain": [
       "  0%|          | 0/10 [00:00<?, ?it/s]"
      ]
     },
     "metadata": {},
     "output_type": "display_data"
    },
    {
     "name": "stdout",
     "output_type": "stream",
     "text": [
      "날짜는 20210619\n"
     ]
    },
    {
     "data": {
      "application/vnd.jupyter.widget-view+json": {
       "model_id": "ed904c326c204861915a193ac02cc485",
       "version_major": 2,
       "version_minor": 0
      },
      "text/plain": [
       "  0%|          | 0/10 [00:00<?, ?it/s]"
      ]
     },
     "metadata": {},
     "output_type": "display_data"
    },
    {
     "name": "stdout",
     "output_type": "stream",
     "text": [
      "날짜는 20210620\n"
     ]
    },
    {
     "data": {
      "application/vnd.jupyter.widget-view+json": {
       "model_id": "0ba15bfa6eec4d48a8231a023c5065ac",
       "version_major": 2,
       "version_minor": 0
      },
      "text/plain": [
       "  0%|          | 0/10 [00:00<?, ?it/s]"
      ]
     },
     "metadata": {},
     "output_type": "display_data"
    },
    {
     "name": "stdout",
     "output_type": "stream",
     "text": [
      "날짜는 20210621\n"
     ]
    },
    {
     "data": {
      "application/vnd.jupyter.widget-view+json": {
       "model_id": "9322aff1924e4f81be9c0eedfbdba024",
       "version_major": 2,
       "version_minor": 0
      },
      "text/plain": [
       "  0%|          | 0/10 [00:00<?, ?it/s]"
      ]
     },
     "metadata": {},
     "output_type": "display_data"
    },
    {
     "name": "stdout",
     "output_type": "stream",
     "text": [
      "날짜는 20210622\n"
     ]
    },
    {
     "data": {
      "application/vnd.jupyter.widget-view+json": {
       "model_id": "308d3066a278457c9197e9e0e2012366",
       "version_major": 2,
       "version_minor": 0
      },
      "text/plain": [
       "  0%|          | 0/10 [00:00<?, ?it/s]"
      ]
     },
     "metadata": {},
     "output_type": "display_data"
    },
    {
     "name": "stdout",
     "output_type": "stream",
     "text": [
      "날짜는 20210623\n"
     ]
    },
    {
     "data": {
      "application/vnd.jupyter.widget-view+json": {
       "model_id": "8dcfccae3f1945c2bada5262acbfd47b",
       "version_major": 2,
       "version_minor": 0
      },
      "text/plain": [
       "  0%|          | 0/10 [00:00<?, ?it/s]"
      ]
     },
     "metadata": {},
     "output_type": "display_data"
    },
    {
     "name": "stdout",
     "output_type": "stream",
     "text": [
      "날짜는 20210624\n"
     ]
    },
    {
     "data": {
      "application/vnd.jupyter.widget-view+json": {
       "model_id": "4ae93aa8cbc74af3828e4e355f8fe7bf",
       "version_major": 2,
       "version_minor": 0
      },
      "text/plain": [
       "  0%|          | 0/10 [00:00<?, ?it/s]"
      ]
     },
     "metadata": {},
     "output_type": "display_data"
    },
    {
     "name": "stdout",
     "output_type": "stream",
     "text": [
      "날짜는 20210625\n"
     ]
    },
    {
     "data": {
      "application/vnd.jupyter.widget-view+json": {
       "model_id": "f44256fc54f84b2b819a56ec2e10d84f",
       "version_major": 2,
       "version_minor": 0
      },
      "text/plain": [
       "  0%|          | 0/10 [00:00<?, ?it/s]"
      ]
     },
     "metadata": {},
     "output_type": "display_data"
    },
    {
     "name": "stdout",
     "output_type": "stream",
     "text": [
      "날짜는 20210626\n"
     ]
    },
    {
     "data": {
      "application/vnd.jupyter.widget-view+json": {
       "model_id": "5ee7193d0bed46e8b0d25f864b1fee46",
       "version_major": 2,
       "version_minor": 0
      },
      "text/plain": [
       "  0%|          | 0/10 [00:00<?, ?it/s]"
      ]
     },
     "metadata": {},
     "output_type": "display_data"
    },
    {
     "name": "stdout",
     "output_type": "stream",
     "text": [
      "날짜는 20210627\n"
     ]
    },
    {
     "data": {
      "application/vnd.jupyter.widget-view+json": {
       "model_id": "5b3a0c8aa7174fc3bfb3e98d82b181d0",
       "version_major": 2,
       "version_minor": 0
      },
      "text/plain": [
       "  0%|          | 0/10 [00:00<?, ?it/s]"
      ]
     },
     "metadata": {},
     "output_type": "display_data"
    },
    {
     "name": "stdout",
     "output_type": "stream",
     "text": [
      "날짜는 20210628\n"
     ]
    },
    {
     "data": {
      "application/vnd.jupyter.widget-view+json": {
       "model_id": "f7a1f8ecdd8d420a8d87d4bd45d001d1",
       "version_major": 2,
       "version_minor": 0
      },
      "text/plain": [
       "  0%|          | 0/10 [00:00<?, ?it/s]"
      ]
     },
     "metadata": {},
     "output_type": "display_data"
    },
    {
     "name": "stdout",
     "output_type": "stream",
     "text": [
      "날짜는 20210629\n"
     ]
    },
    {
     "data": {
      "application/vnd.jupyter.widget-view+json": {
       "model_id": "b333045fa2334122bec1b01ed51f6517",
       "version_major": 2,
       "version_minor": 0
      },
      "text/plain": [
       "  0%|          | 0/10 [00:00<?, ?it/s]"
      ]
     },
     "metadata": {},
     "output_type": "display_data"
    },
    {
     "name": "stdout",
     "output_type": "stream",
     "text": [
      "날짜는 20210630\n"
     ]
    },
    {
     "data": {
      "application/vnd.jupyter.widget-view+json": {
       "model_id": "e8d80fdb1f25474c840e92afc3cced1a",
       "version_major": 2,
       "version_minor": 0
      },
      "text/plain": [
       "  0%|          | 0/10 [00:00<?, ?it/s]"
      ]
     },
     "metadata": {},
     "output_type": "display_data"
    },
    {
     "name": "stdout",
     "output_type": "stream",
     "text": [
      "날짜는 20210701\n"
     ]
    },
    {
     "data": {
      "application/vnd.jupyter.widget-view+json": {
       "model_id": "d3390a2b397245f3855a0094b96f1ad8",
       "version_major": 2,
       "version_minor": 0
      },
      "text/plain": [
       "  0%|          | 0/10 [00:00<?, ?it/s]"
      ]
     },
     "metadata": {},
     "output_type": "display_data"
    },
    {
     "name": "stdout",
     "output_type": "stream",
     "text": [
      "날짜는 20210702\n"
     ]
    },
    {
     "data": {
      "application/vnd.jupyter.widget-view+json": {
       "model_id": "d0922170919241febd1417977c5ad32e",
       "version_major": 2,
       "version_minor": 0
      },
      "text/plain": [
       "  0%|          | 0/10 [00:00<?, ?it/s]"
      ]
     },
     "metadata": {},
     "output_type": "display_data"
    },
    {
     "name": "stdout",
     "output_type": "stream",
     "text": [
      "날짜는 20210703\n"
     ]
    },
    {
     "data": {
      "application/vnd.jupyter.widget-view+json": {
       "model_id": "afbfa0ee5bb6469b9c84024325d4cd6e",
       "version_major": 2,
       "version_minor": 0
      },
      "text/plain": [
       "  0%|          | 0/10 [00:00<?, ?it/s]"
      ]
     },
     "metadata": {},
     "output_type": "display_data"
    },
    {
     "name": "stdout",
     "output_type": "stream",
     "text": [
      "날짜는 20210704\n"
     ]
    },
    {
     "data": {
      "application/vnd.jupyter.widget-view+json": {
       "model_id": "64641521db534499b4524a7c9a4f6b3e",
       "version_major": 2,
       "version_minor": 0
      },
      "text/plain": [
       "  0%|          | 0/10 [00:00<?, ?it/s]"
      ]
     },
     "metadata": {},
     "output_type": "display_data"
    },
    {
     "name": "stdout",
     "output_type": "stream",
     "text": [
      "날짜는 20210705\n"
     ]
    },
    {
     "data": {
      "application/vnd.jupyter.widget-view+json": {
       "model_id": "9cb07e7aa44d4fc2b02e91b71949d3e6",
       "version_major": 2,
       "version_minor": 0
      },
      "text/plain": [
       "  0%|          | 0/10 [00:00<?, ?it/s]"
      ]
     },
     "metadata": {},
     "output_type": "display_data"
    },
    {
     "name": "stdout",
     "output_type": "stream",
     "text": [
      "날짜는 20210706\n"
     ]
    },
    {
     "data": {
      "application/vnd.jupyter.widget-view+json": {
       "model_id": "1a988318a2184844899a6700400c1156",
       "version_major": 2,
       "version_minor": 0
      },
      "text/plain": [
       "  0%|          | 0/10 [00:00<?, ?it/s]"
      ]
     },
     "metadata": {},
     "output_type": "display_data"
    },
    {
     "name": "stdout",
     "output_type": "stream",
     "text": [
      "날짜는 20210707\n"
     ]
    },
    {
     "data": {
      "application/vnd.jupyter.widget-view+json": {
       "model_id": "7bc30bbcf58049a39fde97f22dac29d6",
       "version_major": 2,
       "version_minor": 0
      },
      "text/plain": [
       "  0%|          | 0/10 [00:00<?, ?it/s]"
      ]
     },
     "metadata": {},
     "output_type": "display_data"
    },
    {
     "name": "stdout",
     "output_type": "stream",
     "text": [
      "날짜는 20210708\n"
     ]
    },
    {
     "data": {
      "application/vnd.jupyter.widget-view+json": {
       "model_id": "82488dada90242fe986820a21591e98a",
       "version_major": 2,
       "version_minor": 0
      },
      "text/plain": [
       "  0%|          | 0/10 [00:00<?, ?it/s]"
      ]
     },
     "metadata": {},
     "output_type": "display_data"
    },
    {
     "name": "stdout",
     "output_type": "stream",
     "text": [
      "날짜는 20210709\n"
     ]
    },
    {
     "data": {
      "application/vnd.jupyter.widget-view+json": {
       "model_id": "6d9f7e01b1da4b359dc8ee96a225c1e4",
       "version_major": 2,
       "version_minor": 0
      },
      "text/plain": [
       "  0%|          | 0/10 [00:00<?, ?it/s]"
      ]
     },
     "metadata": {},
     "output_type": "display_data"
    },
    {
     "name": "stdout",
     "output_type": "stream",
     "text": [
      "날짜는 20210710\n"
     ]
    },
    {
     "data": {
      "application/vnd.jupyter.widget-view+json": {
       "model_id": "56a0dbc7cc7f49fc98de2d94f4c68bb5",
       "version_major": 2,
       "version_minor": 0
      },
      "text/plain": [
       "  0%|          | 0/10 [00:00<?, ?it/s]"
      ]
     },
     "metadata": {},
     "output_type": "display_data"
    },
    {
     "name": "stdout",
     "output_type": "stream",
     "text": [
      "날짜는 20210711\n"
     ]
    },
    {
     "data": {
      "application/vnd.jupyter.widget-view+json": {
       "model_id": "2c84aa5b534e4ce9a662a8458ce81aff",
       "version_major": 2,
       "version_minor": 0
      },
      "text/plain": [
       "  0%|          | 0/10 [00:00<?, ?it/s]"
      ]
     },
     "metadata": {},
     "output_type": "display_data"
    },
    {
     "name": "stdout",
     "output_type": "stream",
     "text": [
      "날짜는 20210712\n"
     ]
    },
    {
     "data": {
      "application/vnd.jupyter.widget-view+json": {
       "model_id": "291925aa83fd46eea30235853d8e4fbd",
       "version_major": 2,
       "version_minor": 0
      },
      "text/plain": [
       "  0%|          | 0/10 [00:00<?, ?it/s]"
      ]
     },
     "metadata": {},
     "output_type": "display_data"
    },
    {
     "name": "stdout",
     "output_type": "stream",
     "text": [
      "날짜는 20210713\n"
     ]
    },
    {
     "data": {
      "application/vnd.jupyter.widget-view+json": {
       "model_id": "eee72a3b8a89445382cba4b29a72c724",
       "version_major": 2,
       "version_minor": 0
      },
      "text/plain": [
       "  0%|          | 0/10 [00:00<?, ?it/s]"
      ]
     },
     "metadata": {},
     "output_type": "display_data"
    },
    {
     "name": "stdout",
     "output_type": "stream",
     "text": [
      "날짜는 20210714\n"
     ]
    },
    {
     "data": {
      "application/vnd.jupyter.widget-view+json": {
       "model_id": "5ee6dd1494c247c8981c9334b079d878",
       "version_major": 2,
       "version_minor": 0
      },
      "text/plain": [
       "  0%|          | 0/10 [00:00<?, ?it/s]"
      ]
     },
     "metadata": {},
     "output_type": "display_data"
    },
    {
     "name": "stdout",
     "output_type": "stream",
     "text": [
      "날짜는 20210715\n"
     ]
    },
    {
     "data": {
      "application/vnd.jupyter.widget-view+json": {
       "model_id": "7c535a2a80824311b5fde57ed04b4e8b",
       "version_major": 2,
       "version_minor": 0
      },
      "text/plain": [
       "  0%|          | 0/10 [00:00<?, ?it/s]"
      ]
     },
     "metadata": {},
     "output_type": "display_data"
    },
    {
     "name": "stdout",
     "output_type": "stream",
     "text": [
      "날짜는 20210716\n"
     ]
    },
    {
     "data": {
      "application/vnd.jupyter.widget-view+json": {
       "model_id": "23bfd6362c0d4a38a958cc1aae064d3d",
       "version_major": 2,
       "version_minor": 0
      },
      "text/plain": [
       "  0%|          | 0/10 [00:00<?, ?it/s]"
      ]
     },
     "metadata": {},
     "output_type": "display_data"
    },
    {
     "name": "stdout",
     "output_type": "stream",
     "text": [
      "날짜는 20210717\n"
     ]
    },
    {
     "data": {
      "application/vnd.jupyter.widget-view+json": {
       "model_id": "7c518e370db74306b2de15cf5c8a003b",
       "version_major": 2,
       "version_minor": 0
      },
      "text/plain": [
       "  0%|          | 0/10 [00:00<?, ?it/s]"
      ]
     },
     "metadata": {},
     "output_type": "display_data"
    },
    {
     "name": "stdout",
     "output_type": "stream",
     "text": [
      "날짜는 20210718\n"
     ]
    },
    {
     "data": {
      "application/vnd.jupyter.widget-view+json": {
       "model_id": "5bbf1debe8ca4e86bbb5a7ab0adfdb8c",
       "version_major": 2,
       "version_minor": 0
      },
      "text/plain": [
       "  0%|          | 0/10 [00:00<?, ?it/s]"
      ]
     },
     "metadata": {},
     "output_type": "display_data"
    },
    {
     "name": "stdout",
     "output_type": "stream",
     "text": [
      "날짜는 20210719\n"
     ]
    },
    {
     "data": {
      "application/vnd.jupyter.widget-view+json": {
       "model_id": "d26407992b1d4e59b0ce4ac6fc80e668",
       "version_major": 2,
       "version_minor": 0
      },
      "text/plain": [
       "  0%|          | 0/10 [00:00<?, ?it/s]"
      ]
     },
     "metadata": {},
     "output_type": "display_data"
    },
    {
     "name": "stdout",
     "output_type": "stream",
     "text": [
      "날짜는 20210720\n"
     ]
    },
    {
     "data": {
      "application/vnd.jupyter.widget-view+json": {
       "model_id": "183b036c36664ce188b3c6617a13a105",
       "version_major": 2,
       "version_minor": 0
      },
      "text/plain": [
       "  0%|          | 0/10 [00:00<?, ?it/s]"
      ]
     },
     "metadata": {},
     "output_type": "display_data"
    },
    {
     "name": "stdout",
     "output_type": "stream",
     "text": [
      "날짜는 20210721\n"
     ]
    },
    {
     "data": {
      "application/vnd.jupyter.widget-view+json": {
       "model_id": "06402a613b9741b1a416f2db97a9f39f",
       "version_major": 2,
       "version_minor": 0
      },
      "text/plain": [
       "  0%|          | 0/10 [00:00<?, ?it/s]"
      ]
     },
     "metadata": {},
     "output_type": "display_data"
    },
    {
     "name": "stdout",
     "output_type": "stream",
     "text": [
      "날짜는 20210722\n"
     ]
    },
    {
     "data": {
      "application/vnd.jupyter.widget-view+json": {
       "model_id": "b62a8d3b1ded44e8bc7f0063c67ca60c",
       "version_major": 2,
       "version_minor": 0
      },
      "text/plain": [
       "  0%|          | 0/10 [00:00<?, ?it/s]"
      ]
     },
     "metadata": {},
     "output_type": "display_data"
    },
    {
     "name": "stdout",
     "output_type": "stream",
     "text": [
      "날짜는 20210723\n"
     ]
    },
    {
     "data": {
      "application/vnd.jupyter.widget-view+json": {
       "model_id": "495f0eec6edb40bb90faeb9b1343209f",
       "version_major": 2,
       "version_minor": 0
      },
      "text/plain": [
       "  0%|          | 0/10 [00:00<?, ?it/s]"
      ]
     },
     "metadata": {},
     "output_type": "display_data"
    },
    {
     "name": "stdout",
     "output_type": "stream",
     "text": [
      "날짜는 20210724\n"
     ]
    },
    {
     "data": {
      "application/vnd.jupyter.widget-view+json": {
       "model_id": "d4c26a09a41b4189b20d4f8cae48ae7d",
       "version_major": 2,
       "version_minor": 0
      },
      "text/plain": [
       "  0%|          | 0/10 [00:00<?, ?it/s]"
      ]
     },
     "metadata": {},
     "output_type": "display_data"
    },
    {
     "name": "stdout",
     "output_type": "stream",
     "text": [
      "날짜는 20210725\n"
     ]
    },
    {
     "data": {
      "application/vnd.jupyter.widget-view+json": {
       "model_id": "f9b4fc174e124cd29bcca35299f268cc",
       "version_major": 2,
       "version_minor": 0
      },
      "text/plain": [
       "  0%|          | 0/10 [00:00<?, ?it/s]"
      ]
     },
     "metadata": {},
     "output_type": "display_data"
    },
    {
     "name": "stdout",
     "output_type": "stream",
     "text": [
      "날짜는 20210726\n"
     ]
    },
    {
     "data": {
      "application/vnd.jupyter.widget-view+json": {
       "model_id": "5f25e7284b244afd8f90f674531b0e4c",
       "version_major": 2,
       "version_minor": 0
      },
      "text/plain": [
       "  0%|          | 0/10 [00:00<?, ?it/s]"
      ]
     },
     "metadata": {},
     "output_type": "display_data"
    },
    {
     "name": "stdout",
     "output_type": "stream",
     "text": [
      "날짜는 20210727\n"
     ]
    },
    {
     "data": {
      "application/vnd.jupyter.widget-view+json": {
       "model_id": "87f536e0578344f8aeaa48db989db4cc",
       "version_major": 2,
       "version_minor": 0
      },
      "text/plain": [
       "  0%|          | 0/10 [00:00<?, ?it/s]"
      ]
     },
     "metadata": {},
     "output_type": "display_data"
    },
    {
     "name": "stdout",
     "output_type": "stream",
     "text": [
      "날짜는 20210728\n"
     ]
    },
    {
     "data": {
      "application/vnd.jupyter.widget-view+json": {
       "model_id": "f66fd249ec1049b49d0200f5fd8c2dcf",
       "version_major": 2,
       "version_minor": 0
      },
      "text/plain": [
       "  0%|          | 0/10 [00:00<?, ?it/s]"
      ]
     },
     "metadata": {},
     "output_type": "display_data"
    },
    {
     "name": "stdout",
     "output_type": "stream",
     "text": [
      "날짜는 20210729\n"
     ]
    },
    {
     "data": {
      "application/vnd.jupyter.widget-view+json": {
       "model_id": "3c47a94a18ce474bab2423ab30810974",
       "version_major": 2,
       "version_minor": 0
      },
      "text/plain": [
       "  0%|          | 0/10 [00:00<?, ?it/s]"
      ]
     },
     "metadata": {},
     "output_type": "display_data"
    },
    {
     "name": "stdout",
     "output_type": "stream",
     "text": [
      "날짜는 20210730\n"
     ]
    },
    {
     "data": {
      "application/vnd.jupyter.widget-view+json": {
       "model_id": "67d8cb18d9b8418c91ea1c9069ebfbef",
       "version_major": 2,
       "version_minor": 0
      },
      "text/plain": [
       "  0%|          | 0/10 [00:00<?, ?it/s]"
      ]
     },
     "metadata": {},
     "output_type": "display_data"
    },
    {
     "name": "stdout",
     "output_type": "stream",
     "text": [
      "날짜는 20210731\n"
     ]
    },
    {
     "data": {
      "application/vnd.jupyter.widget-view+json": {
       "model_id": "426ba51b64334428810c8144be4082b8",
       "version_major": 2,
       "version_minor": 0
      },
      "text/plain": [
       "  0%|          | 0/10 [00:00<?, ?it/s]"
      ]
     },
     "metadata": {},
     "output_type": "display_data"
    },
    {
     "name": "stdout",
     "output_type": "stream",
     "text": [
      "날짜는 20210801\n"
     ]
    },
    {
     "data": {
      "application/vnd.jupyter.widget-view+json": {
       "model_id": "15d7b3460cae4a45a171d472b40d0567",
       "version_major": 2,
       "version_minor": 0
      },
      "text/plain": [
       "  0%|          | 0/10 [00:00<?, ?it/s]"
      ]
     },
     "metadata": {},
     "output_type": "display_data"
    },
    {
     "name": "stdout",
     "output_type": "stream",
     "text": [
      "날짜는 20210802\n"
     ]
    },
    {
     "data": {
      "application/vnd.jupyter.widget-view+json": {
       "model_id": "d32c581fe15b4c1e9f6418b6b7de6b3e",
       "version_major": 2,
       "version_minor": 0
      },
      "text/plain": [
       "  0%|          | 0/10 [00:00<?, ?it/s]"
      ]
     },
     "metadata": {},
     "output_type": "display_data"
    },
    {
     "name": "stdout",
     "output_type": "stream",
     "text": [
      "날짜는 20210803\n"
     ]
    },
    {
     "data": {
      "application/vnd.jupyter.widget-view+json": {
       "model_id": "8921013daefb4bb692a65c8abfe0cd2b",
       "version_major": 2,
       "version_minor": 0
      },
      "text/plain": [
       "  0%|          | 0/10 [00:00<?, ?it/s]"
      ]
     },
     "metadata": {},
     "output_type": "display_data"
    },
    {
     "name": "stdout",
     "output_type": "stream",
     "text": [
      "날짜는 20210804\n"
     ]
    },
    {
     "data": {
      "application/vnd.jupyter.widget-view+json": {
       "model_id": "09f2e90b4b9a457ba54b790bff0fd0bb",
       "version_major": 2,
       "version_minor": 0
      },
      "text/plain": [
       "  0%|          | 0/10 [00:00<?, ?it/s]"
      ]
     },
     "metadata": {},
     "output_type": "display_data"
    },
    {
     "name": "stdout",
     "output_type": "stream",
     "text": [
      "**********************************************************************\n",
      "20210804 오류 있어 데이터 수집되지 않음\n",
      "**********************************************************************\n",
      "날짜는 20210805\n"
     ]
    },
    {
     "data": {
      "application/vnd.jupyter.widget-view+json": {
       "model_id": "d7120bce00cc49dc862f4e8d3068fa40",
       "version_major": 2,
       "version_minor": 0
      },
      "text/plain": [
       "  0%|          | 0/10 [00:00<?, ?it/s]"
      ]
     },
     "metadata": {},
     "output_type": "display_data"
    },
    {
     "name": "stdout",
     "output_type": "stream",
     "text": [
      "날짜는 20210806\n"
     ]
    },
    {
     "data": {
      "application/vnd.jupyter.widget-view+json": {
       "model_id": "9157b27095ae411ba6822c09b1a8f53f",
       "version_major": 2,
       "version_minor": 0
      },
      "text/plain": [
       "  0%|          | 0/10 [00:00<?, ?it/s]"
      ]
     },
     "metadata": {},
     "output_type": "display_data"
    },
    {
     "name": "stdout",
     "output_type": "stream",
     "text": [
      "날짜는 20210807\n"
     ]
    },
    {
     "data": {
      "application/vnd.jupyter.widget-view+json": {
       "model_id": "6ec4e4cebba74b0bbcf882b8c65c1f97",
       "version_major": 2,
       "version_minor": 0
      },
      "text/plain": [
       "  0%|          | 0/10 [00:00<?, ?it/s]"
      ]
     },
     "metadata": {},
     "output_type": "display_data"
    },
    {
     "name": "stdout",
     "output_type": "stream",
     "text": [
      "날짜는 20210808\n"
     ]
    },
    {
     "data": {
      "application/vnd.jupyter.widget-view+json": {
       "model_id": "f697359932084caaadb9f8bf1c086f85",
       "version_major": 2,
       "version_minor": 0
      },
      "text/plain": [
       "  0%|          | 0/10 [00:00<?, ?it/s]"
      ]
     },
     "metadata": {},
     "output_type": "display_data"
    },
    {
     "name": "stdout",
     "output_type": "stream",
     "text": [
      "날짜는 20210809\n"
     ]
    },
    {
     "data": {
      "application/vnd.jupyter.widget-view+json": {
       "model_id": "49716b8869b84d03bef76cd4c04666b2",
       "version_major": 2,
       "version_minor": 0
      },
      "text/plain": [
       "  0%|          | 0/10 [00:00<?, ?it/s]"
      ]
     },
     "metadata": {},
     "output_type": "display_data"
    },
    {
     "name": "stdout",
     "output_type": "stream",
     "text": [
      "날짜는 20210810\n"
     ]
    },
    {
     "data": {
      "application/vnd.jupyter.widget-view+json": {
       "model_id": "55b4adcbf5d04ceaa687ad263feb8da5",
       "version_major": 2,
       "version_minor": 0
      },
      "text/plain": [
       "  0%|          | 0/10 [00:00<?, ?it/s]"
      ]
     },
     "metadata": {},
     "output_type": "display_data"
    },
    {
     "name": "stdout",
     "output_type": "stream",
     "text": [
      "날짜는 20210811\n"
     ]
    },
    {
     "data": {
      "application/vnd.jupyter.widget-view+json": {
       "model_id": "0eb8c87de9184f989be46bfcdb715ac5",
       "version_major": 2,
       "version_minor": 0
      },
      "text/plain": [
       "  0%|          | 0/10 [00:00<?, ?it/s]"
      ]
     },
     "metadata": {},
     "output_type": "display_data"
    },
    {
     "name": "stdout",
     "output_type": "stream",
     "text": [
      "날짜는 20210812\n"
     ]
    },
    {
     "data": {
      "application/vnd.jupyter.widget-view+json": {
       "model_id": "12e1985a5e804d42a073d027efd51281",
       "version_major": 2,
       "version_minor": 0
      },
      "text/plain": [
       "  0%|          | 0/10 [00:00<?, ?it/s]"
      ]
     },
     "metadata": {},
     "output_type": "display_data"
    },
    {
     "name": "stdout",
     "output_type": "stream",
     "text": [
      "날짜는 20210813\n"
     ]
    },
    {
     "data": {
      "application/vnd.jupyter.widget-view+json": {
       "model_id": "63c92dde6a3f441f8dfd4a1a675d539b",
       "version_major": 2,
       "version_minor": 0
      },
      "text/plain": [
       "  0%|          | 0/10 [00:00<?, ?it/s]"
      ]
     },
     "metadata": {},
     "output_type": "display_data"
    },
    {
     "name": "stdout",
     "output_type": "stream",
     "text": [
      "날짜는 20210814\n"
     ]
    },
    {
     "data": {
      "application/vnd.jupyter.widget-view+json": {
       "model_id": "4ac2f4f9c10e4a0782772c331400d3fa",
       "version_major": 2,
       "version_minor": 0
      },
      "text/plain": [
       "  0%|          | 0/10 [00:00<?, ?it/s]"
      ]
     },
     "metadata": {},
     "output_type": "display_data"
    },
    {
     "name": "stdout",
     "output_type": "stream",
     "text": [
      "날짜는 20210815\n"
     ]
    },
    {
     "data": {
      "application/vnd.jupyter.widget-view+json": {
       "model_id": "85ee16ae06ac4b1dae7eccf8cda9a275",
       "version_major": 2,
       "version_minor": 0
      },
      "text/plain": [
       "  0%|          | 0/10 [00:00<?, ?it/s]"
      ]
     },
     "metadata": {},
     "output_type": "display_data"
    },
    {
     "name": "stdout",
     "output_type": "stream",
     "text": [
      "날짜는 20210816\n"
     ]
    },
    {
     "data": {
      "application/vnd.jupyter.widget-view+json": {
       "model_id": "80b484df00834bc597a3ff7f0f95e467",
       "version_major": 2,
       "version_minor": 0
      },
      "text/plain": [
       "  0%|          | 0/10 [00:00<?, ?it/s]"
      ]
     },
     "metadata": {},
     "output_type": "display_data"
    },
    {
     "name": "stdout",
     "output_type": "stream",
     "text": [
      "날짜는 20210817\n"
     ]
    },
    {
     "data": {
      "application/vnd.jupyter.widget-view+json": {
       "model_id": "05978ce31dbb43649be6cc6ff65e8e39",
       "version_major": 2,
       "version_minor": 0
      },
      "text/plain": [
       "  0%|          | 0/10 [00:00<?, ?it/s]"
      ]
     },
     "metadata": {},
     "output_type": "display_data"
    },
    {
     "name": "stdout",
     "output_type": "stream",
     "text": [
      "날짜는 20210818\n"
     ]
    },
    {
     "data": {
      "application/vnd.jupyter.widget-view+json": {
       "model_id": "c1ac4c8d49b149d6b99328bdee03df21",
       "version_major": 2,
       "version_minor": 0
      },
      "text/plain": [
       "  0%|          | 0/10 [00:00<?, ?it/s]"
      ]
     },
     "metadata": {},
     "output_type": "display_data"
    },
    {
     "name": "stdout",
     "output_type": "stream",
     "text": [
      "날짜는 20210819\n"
     ]
    },
    {
     "data": {
      "application/vnd.jupyter.widget-view+json": {
       "model_id": "9237a5d932d04a7ba4900137395a9e74",
       "version_major": 2,
       "version_minor": 0
      },
      "text/plain": [
       "  0%|          | 0/10 [00:00<?, ?it/s]"
      ]
     },
     "metadata": {},
     "output_type": "display_data"
    },
    {
     "name": "stdout",
     "output_type": "stream",
     "text": [
      "날짜는 20210820\n"
     ]
    },
    {
     "data": {
      "application/vnd.jupyter.widget-view+json": {
       "model_id": "f399f5e09eb94a46a600c2ded709a469",
       "version_major": 2,
       "version_minor": 0
      },
      "text/plain": [
       "  0%|          | 0/10 [00:00<?, ?it/s]"
      ]
     },
     "metadata": {},
     "output_type": "display_data"
    },
    {
     "name": "stdout",
     "output_type": "stream",
     "text": [
      "날짜는 20210821\n"
     ]
    },
    {
     "data": {
      "application/vnd.jupyter.widget-view+json": {
       "model_id": "0a2618b1e73b4684853f875ed1dea09e",
       "version_major": 2,
       "version_minor": 0
      },
      "text/plain": [
       "  0%|          | 0/10 [00:00<?, ?it/s]"
      ]
     },
     "metadata": {},
     "output_type": "display_data"
    },
    {
     "name": "stdout",
     "output_type": "stream",
     "text": [
      "날짜는 20210822\n"
     ]
    },
    {
     "data": {
      "application/vnd.jupyter.widget-view+json": {
       "model_id": "788af499714443bb8ec33c8c99e832b2",
       "version_major": 2,
       "version_minor": 0
      },
      "text/plain": [
       "  0%|          | 0/10 [00:00<?, ?it/s]"
      ]
     },
     "metadata": {},
     "output_type": "display_data"
    },
    {
     "name": "stdout",
     "output_type": "stream",
     "text": [
      "날짜는 20210823\n"
     ]
    },
    {
     "data": {
      "application/vnd.jupyter.widget-view+json": {
       "model_id": "7905241b29fd44afb69c1812a96f2205",
       "version_major": 2,
       "version_minor": 0
      },
      "text/plain": [
       "  0%|          | 0/10 [00:00<?, ?it/s]"
      ]
     },
     "metadata": {},
     "output_type": "display_data"
    },
    {
     "name": "stdout",
     "output_type": "stream",
     "text": [
      "날짜는 20210824\n"
     ]
    },
    {
     "data": {
      "application/vnd.jupyter.widget-view+json": {
       "model_id": "25747b32b603429696be0221dd0539c6",
       "version_major": 2,
       "version_minor": 0
      },
      "text/plain": [
       "  0%|          | 0/10 [00:00<?, ?it/s]"
      ]
     },
     "metadata": {},
     "output_type": "display_data"
    },
    {
     "name": "stdout",
     "output_type": "stream",
     "text": [
      "날짜는 20210825\n"
     ]
    },
    {
     "data": {
      "application/vnd.jupyter.widget-view+json": {
       "model_id": "ad4e6d831b8943f38f1590803287c53e",
       "version_major": 2,
       "version_minor": 0
      },
      "text/plain": [
       "  0%|          | 0/10 [00:00<?, ?it/s]"
      ]
     },
     "metadata": {},
     "output_type": "display_data"
    },
    {
     "name": "stdout",
     "output_type": "stream",
     "text": [
      "날짜는 20210826\n"
     ]
    },
    {
     "data": {
      "application/vnd.jupyter.widget-view+json": {
       "model_id": "42a6072dc6d1423caf5c15f70928afdb",
       "version_major": 2,
       "version_minor": 0
      },
      "text/plain": [
       "  0%|          | 0/10 [00:00<?, ?it/s]"
      ]
     },
     "metadata": {},
     "output_type": "display_data"
    },
    {
     "name": "stdout",
     "output_type": "stream",
     "text": [
      "날짜는 20210827\n"
     ]
    },
    {
     "data": {
      "application/vnd.jupyter.widget-view+json": {
       "model_id": "13d0c30f70a349ec91f7e6bf33ee184a",
       "version_major": 2,
       "version_minor": 0
      },
      "text/plain": [
       "  0%|          | 0/10 [00:00<?, ?it/s]"
      ]
     },
     "metadata": {},
     "output_type": "display_data"
    },
    {
     "name": "stdout",
     "output_type": "stream",
     "text": [
      "날짜는 20210828\n"
     ]
    },
    {
     "data": {
      "application/vnd.jupyter.widget-view+json": {
       "model_id": "4022035a9a11401ab9797ab090e38f11",
       "version_major": 2,
       "version_minor": 0
      },
      "text/plain": [
       "  0%|          | 0/10 [00:00<?, ?it/s]"
      ]
     },
     "metadata": {},
     "output_type": "display_data"
    },
    {
     "name": "stdout",
     "output_type": "stream",
     "text": [
      "날짜는 20210829\n"
     ]
    },
    {
     "data": {
      "application/vnd.jupyter.widget-view+json": {
       "model_id": "b3653a10c5524e058585696f979a304e",
       "version_major": 2,
       "version_minor": 0
      },
      "text/plain": [
       "  0%|          | 0/10 [00:00<?, ?it/s]"
      ]
     },
     "metadata": {},
     "output_type": "display_data"
    },
    {
     "name": "stdout",
     "output_type": "stream",
     "text": [
      "날짜는 20210830\n"
     ]
    },
    {
     "data": {
      "application/vnd.jupyter.widget-view+json": {
       "model_id": "66480475efc44e40a891eac268a97148",
       "version_major": 2,
       "version_minor": 0
      },
      "text/plain": [
       "  0%|          | 0/10 [00:00<?, ?it/s]"
      ]
     },
     "metadata": {},
     "output_type": "display_data"
    },
    {
     "name": "stdout",
     "output_type": "stream",
     "text": [
      "날짜는 20210831\n"
     ]
    },
    {
     "data": {
      "application/vnd.jupyter.widget-view+json": {
       "model_id": "e59b43d8791c44a1897d083da69e60a8",
       "version_major": 2,
       "version_minor": 0
      },
      "text/plain": [
       "  0%|          | 0/10 [00:00<?, ?it/s]"
      ]
     },
     "metadata": {},
     "output_type": "display_data"
    },
    {
     "name": "stdout",
     "output_type": "stream",
     "text": [
      "날짜는 20210901\n"
     ]
    },
    {
     "data": {
      "application/vnd.jupyter.widget-view+json": {
       "model_id": "28fb876430e9492fb8ef9731c4910949",
       "version_major": 2,
       "version_minor": 0
      },
      "text/plain": [
       "  0%|          | 0/10 [00:00<?, ?it/s]"
      ]
     },
     "metadata": {},
     "output_type": "display_data"
    },
    {
     "name": "stdout",
     "output_type": "stream",
     "text": [
      "**********************************************************************\n",
      "20210901 오류 있어 데이터 수집되지 않음\n",
      "**********************************************************************\n",
      "날짜는 20210902\n"
     ]
    },
    {
     "data": {
      "application/vnd.jupyter.widget-view+json": {
       "model_id": "bb189216973c4c4092c93cc69a0ee245",
       "version_major": 2,
       "version_minor": 0
      },
      "text/plain": [
       "  0%|          | 0/10 [00:00<?, ?it/s]"
      ]
     },
     "metadata": {},
     "output_type": "display_data"
    },
    {
     "name": "stdout",
     "output_type": "stream",
     "text": [
      "날짜는 20210903\n"
     ]
    },
    {
     "data": {
      "application/vnd.jupyter.widget-view+json": {
       "model_id": "b4fac4807c664f22864b965f9e289aac",
       "version_major": 2,
       "version_minor": 0
      },
      "text/plain": [
       "  0%|          | 0/10 [00:00<?, ?it/s]"
      ]
     },
     "metadata": {},
     "output_type": "display_data"
    },
    {
     "name": "stdout",
     "output_type": "stream",
     "text": [
      "날짜는 20210904\n"
     ]
    },
    {
     "data": {
      "application/vnd.jupyter.widget-view+json": {
       "model_id": "ac3b34d2897e47d08c5d394d089eede8",
       "version_major": 2,
       "version_minor": 0
      },
      "text/plain": [
       "  0%|          | 0/10 [00:00<?, ?it/s]"
      ]
     },
     "metadata": {},
     "output_type": "display_data"
    },
    {
     "name": "stdout",
     "output_type": "stream",
     "text": [
      "날짜는 20210905\n"
     ]
    },
    {
     "data": {
      "application/vnd.jupyter.widget-view+json": {
       "model_id": "9e5ccd80b2da4079844d9ac7045d7106",
       "version_major": 2,
       "version_minor": 0
      },
      "text/plain": [
       "  0%|          | 0/10 [00:00<?, ?it/s]"
      ]
     },
     "metadata": {},
     "output_type": "display_data"
    },
    {
     "name": "stdout",
     "output_type": "stream",
     "text": [
      "날짜는 20210906\n"
     ]
    },
    {
     "data": {
      "application/vnd.jupyter.widget-view+json": {
       "model_id": "bc4a5f2e8ee341f0990b250678fc5fb0",
       "version_major": 2,
       "version_minor": 0
      },
      "text/plain": [
       "  0%|          | 0/10 [00:00<?, ?it/s]"
      ]
     },
     "metadata": {},
     "output_type": "display_data"
    },
    {
     "name": "stdout",
     "output_type": "stream",
     "text": [
      "날짜는 20210907\n"
     ]
    },
    {
     "data": {
      "application/vnd.jupyter.widget-view+json": {
       "model_id": "a3ae49df2d364abd88fa76d6f616f939",
       "version_major": 2,
       "version_minor": 0
      },
      "text/plain": [
       "  0%|          | 0/10 [00:00<?, ?it/s]"
      ]
     },
     "metadata": {},
     "output_type": "display_data"
    },
    {
     "name": "stdout",
     "output_type": "stream",
     "text": [
      "날짜는 20210908\n"
     ]
    },
    {
     "data": {
      "application/vnd.jupyter.widget-view+json": {
       "model_id": "e9513fc83e644b0da7bfe66e2c277cfb",
       "version_major": 2,
       "version_minor": 0
      },
      "text/plain": [
       "  0%|          | 0/10 [00:00<?, ?it/s]"
      ]
     },
     "metadata": {},
     "output_type": "display_data"
    },
    {
     "name": "stdout",
     "output_type": "stream",
     "text": [
      "날짜는 20210909\n"
     ]
    },
    {
     "data": {
      "application/vnd.jupyter.widget-view+json": {
       "model_id": "6af5d9e86e0c4d1895eb2d99d789c45b",
       "version_major": 2,
       "version_minor": 0
      },
      "text/plain": [
       "  0%|          | 0/10 [00:00<?, ?it/s]"
      ]
     },
     "metadata": {},
     "output_type": "display_data"
    },
    {
     "name": "stdout",
     "output_type": "stream",
     "text": [
      "날짜는 20210910\n"
     ]
    },
    {
     "data": {
      "application/vnd.jupyter.widget-view+json": {
       "model_id": "a8def51bf058434ea354de2ca3181349",
       "version_major": 2,
       "version_minor": 0
      },
      "text/plain": [
       "  0%|          | 0/10 [00:00<?, ?it/s]"
      ]
     },
     "metadata": {},
     "output_type": "display_data"
    },
    {
     "name": "stdout",
     "output_type": "stream",
     "text": [
      "날짜는 20210911\n"
     ]
    },
    {
     "data": {
      "application/vnd.jupyter.widget-view+json": {
       "model_id": "c83c95c7ddbc491598999cc8c020cbda",
       "version_major": 2,
       "version_minor": 0
      },
      "text/plain": [
       "  0%|          | 0/10 [00:00<?, ?it/s]"
      ]
     },
     "metadata": {},
     "output_type": "display_data"
    },
    {
     "name": "stdout",
     "output_type": "stream",
     "text": [
      "날짜는 20210912\n"
     ]
    },
    {
     "data": {
      "application/vnd.jupyter.widget-view+json": {
       "model_id": "012cce5b20854ac6ad456f561377f258",
       "version_major": 2,
       "version_minor": 0
      },
      "text/plain": [
       "  0%|          | 0/10 [00:00<?, ?it/s]"
      ]
     },
     "metadata": {},
     "output_type": "display_data"
    },
    {
     "name": "stdout",
     "output_type": "stream",
     "text": [
      "날짜는 20210913\n"
     ]
    },
    {
     "data": {
      "application/vnd.jupyter.widget-view+json": {
       "model_id": "05adfa83cfff4fc8b126162a7e48858a",
       "version_major": 2,
       "version_minor": 0
      },
      "text/plain": [
       "  0%|          | 0/10 [00:00<?, ?it/s]"
      ]
     },
     "metadata": {},
     "output_type": "display_data"
    },
    {
     "name": "stdout",
     "output_type": "stream",
     "text": [
      "날짜는 20210914\n"
     ]
    },
    {
     "data": {
      "application/vnd.jupyter.widget-view+json": {
       "model_id": "bf5779546d7c46dcafbf88d20e7f40c1",
       "version_major": 2,
       "version_minor": 0
      },
      "text/plain": [
       "  0%|          | 0/10 [00:00<?, ?it/s]"
      ]
     },
     "metadata": {},
     "output_type": "display_data"
    },
    {
     "name": "stdout",
     "output_type": "stream",
     "text": [
      "날짜는 20210915\n"
     ]
    },
    {
     "data": {
      "application/vnd.jupyter.widget-view+json": {
       "model_id": "2536bea2e118484a9ce40d405550ff7d",
       "version_major": 2,
       "version_minor": 0
      },
      "text/plain": [
       "  0%|          | 0/10 [00:00<?, ?it/s]"
      ]
     },
     "metadata": {},
     "output_type": "display_data"
    },
    {
     "name": "stdout",
     "output_type": "stream",
     "text": [
      "날짜는 20210916\n"
     ]
    },
    {
     "data": {
      "application/vnd.jupyter.widget-view+json": {
       "model_id": "b188bcee318d4f2f85b14aa5e3f300b2",
       "version_major": 2,
       "version_minor": 0
      },
      "text/plain": [
       "  0%|          | 0/10 [00:00<?, ?it/s]"
      ]
     },
     "metadata": {},
     "output_type": "display_data"
    },
    {
     "name": "stdout",
     "output_type": "stream",
     "text": [
      "날짜는 20210917\n"
     ]
    },
    {
     "data": {
      "application/vnd.jupyter.widget-view+json": {
       "model_id": "3f5c9a3e13034002b68f066526de0a99",
       "version_major": 2,
       "version_minor": 0
      },
      "text/plain": [
       "  0%|          | 0/10 [00:00<?, ?it/s]"
      ]
     },
     "metadata": {},
     "output_type": "display_data"
    },
    {
     "name": "stdout",
     "output_type": "stream",
     "text": [
      "날짜는 20210918\n"
     ]
    },
    {
     "data": {
      "application/vnd.jupyter.widget-view+json": {
       "model_id": "48be78a62ca34495a9f6089162687833",
       "version_major": 2,
       "version_minor": 0
      },
      "text/plain": [
       "  0%|          | 0/10 [00:00<?, ?it/s]"
      ]
     },
     "metadata": {},
     "output_type": "display_data"
    },
    {
     "name": "stdout",
     "output_type": "stream",
     "text": [
      "날짜는 20210919\n"
     ]
    },
    {
     "data": {
      "application/vnd.jupyter.widget-view+json": {
       "model_id": "2045bdfe3aa54de18496435b800f97d3",
       "version_major": 2,
       "version_minor": 0
      },
      "text/plain": [
       "  0%|          | 0/10 [00:00<?, ?it/s]"
      ]
     },
     "metadata": {},
     "output_type": "display_data"
    },
    {
     "name": "stdout",
     "output_type": "stream",
     "text": [
      "날짜는 20210920\n"
     ]
    },
    {
     "data": {
      "application/vnd.jupyter.widget-view+json": {
       "model_id": "07605e4a3d944ab5a9ad51ea80d8edc9",
       "version_major": 2,
       "version_minor": 0
      },
      "text/plain": [
       "  0%|          | 0/10 [00:00<?, ?it/s]"
      ]
     },
     "metadata": {},
     "output_type": "display_data"
    },
    {
     "name": "stdout",
     "output_type": "stream",
     "text": [
      "날짜는 20210921\n"
     ]
    },
    {
     "data": {
      "application/vnd.jupyter.widget-view+json": {
       "model_id": "edf6fbaedfb6427e95023d64748ff7b9",
       "version_major": 2,
       "version_minor": 0
      },
      "text/plain": [
       "  0%|          | 0/10 [00:00<?, ?it/s]"
      ]
     },
     "metadata": {},
     "output_type": "display_data"
    },
    {
     "name": "stdout",
     "output_type": "stream",
     "text": [
      "날짜는 20210922\n"
     ]
    },
    {
     "data": {
      "application/vnd.jupyter.widget-view+json": {
       "model_id": "db4916efe3104cf7bf1091f788a70c84",
       "version_major": 2,
       "version_minor": 0
      },
      "text/plain": [
       "  0%|          | 0/10 [00:00<?, ?it/s]"
      ]
     },
     "metadata": {},
     "output_type": "display_data"
    },
    {
     "name": "stdout",
     "output_type": "stream",
     "text": [
      "날짜는 20210923\n"
     ]
    },
    {
     "data": {
      "application/vnd.jupyter.widget-view+json": {
       "model_id": "5fe761756dba4ae4bab9dd41fdd3789f",
       "version_major": 2,
       "version_minor": 0
      },
      "text/plain": [
       "  0%|          | 0/10 [00:00<?, ?it/s]"
      ]
     },
     "metadata": {},
     "output_type": "display_data"
    },
    {
     "name": "stdout",
     "output_type": "stream",
     "text": [
      "날짜는 20210924\n"
     ]
    },
    {
     "data": {
      "application/vnd.jupyter.widget-view+json": {
       "model_id": "72245096c1884b0085f87488a9ae19a0",
       "version_major": 2,
       "version_minor": 0
      },
      "text/plain": [
       "  0%|          | 0/10 [00:00<?, ?it/s]"
      ]
     },
     "metadata": {},
     "output_type": "display_data"
    },
    {
     "name": "stdout",
     "output_type": "stream",
     "text": [
      "날짜는 20210925\n"
     ]
    },
    {
     "data": {
      "application/vnd.jupyter.widget-view+json": {
       "model_id": "a873823c8a7d443d8229df4a616891d4",
       "version_major": 2,
       "version_minor": 0
      },
      "text/plain": [
       "  0%|          | 0/10 [00:00<?, ?it/s]"
      ]
     },
     "metadata": {},
     "output_type": "display_data"
    },
    {
     "name": "stdout",
     "output_type": "stream",
     "text": [
      "날짜는 20210926\n"
     ]
    },
    {
     "data": {
      "application/vnd.jupyter.widget-view+json": {
       "model_id": "1edb8881abd34c7faccbaf6ff9fd9af6",
       "version_major": 2,
       "version_minor": 0
      },
      "text/plain": [
       "  0%|          | 0/10 [00:00<?, ?it/s]"
      ]
     },
     "metadata": {},
     "output_type": "display_data"
    },
    {
     "name": "stdout",
     "output_type": "stream",
     "text": [
      "날짜는 20210927\n"
     ]
    },
    {
     "data": {
      "application/vnd.jupyter.widget-view+json": {
       "model_id": "8b8386318ecd4a8689540a0af53a2157",
       "version_major": 2,
       "version_minor": 0
      },
      "text/plain": [
       "  0%|          | 0/10 [00:00<?, ?it/s]"
      ]
     },
     "metadata": {},
     "output_type": "display_data"
    },
    {
     "name": "stdout",
     "output_type": "stream",
     "text": [
      "날짜는 20210928\n"
     ]
    },
    {
     "data": {
      "application/vnd.jupyter.widget-view+json": {
       "model_id": "3c61086d76824c65b9881cdd313bf6f0",
       "version_major": 2,
       "version_minor": 0
      },
      "text/plain": [
       "  0%|          | 0/10 [00:00<?, ?it/s]"
      ]
     },
     "metadata": {},
     "output_type": "display_data"
    },
    {
     "name": "stdout",
     "output_type": "stream",
     "text": [
      "날짜는 20210929\n"
     ]
    },
    {
     "data": {
      "application/vnd.jupyter.widget-view+json": {
       "model_id": "fef95fa9919d463d979cd5877b50df11",
       "version_major": 2,
       "version_minor": 0
      },
      "text/plain": [
       "  0%|          | 0/10 [00:00<?, ?it/s]"
      ]
     },
     "metadata": {},
     "output_type": "display_data"
    },
    {
     "name": "stdout",
     "output_type": "stream",
     "text": [
      "날짜는 20210930\n"
     ]
    },
    {
     "data": {
      "application/vnd.jupyter.widget-view+json": {
       "model_id": "43d52aba5e5d401aa04bf20790598d39",
       "version_major": 2,
       "version_minor": 0
      },
      "text/plain": [
       "  0%|          | 0/10 [00:00<?, ?it/s]"
      ]
     },
     "metadata": {},
     "output_type": "display_data"
    },
    {
     "name": "stdout",
     "output_type": "stream",
     "text": [
      "날짜는 20211001\n"
     ]
    },
    {
     "data": {
      "application/vnd.jupyter.widget-view+json": {
       "model_id": "7007a1ff7fd7459d91db75eb1d3ad786",
       "version_major": 2,
       "version_minor": 0
      },
      "text/plain": [
       "  0%|          | 0/10 [00:00<?, ?it/s]"
      ]
     },
     "metadata": {},
     "output_type": "display_data"
    },
    {
     "name": "stdout",
     "output_type": "stream",
     "text": [
      "**********************************************************************\n",
      "20211001 오류 있어 데이터 수집되지 않음\n",
      "**********************************************************************\n",
      "날짜는 20211002\n"
     ]
    },
    {
     "data": {
      "application/vnd.jupyter.widget-view+json": {
       "model_id": "3b1ce715a2534689ba538d46bf9481aa",
       "version_major": 2,
       "version_minor": 0
      },
      "text/plain": [
       "  0%|          | 0/10 [00:00<?, ?it/s]"
      ]
     },
     "metadata": {},
     "output_type": "display_data"
    },
    {
     "name": "stdout",
     "output_type": "stream",
     "text": [
      "날짜는 20211003\n"
     ]
    },
    {
     "data": {
      "application/vnd.jupyter.widget-view+json": {
       "model_id": "3d9f4d26350845e5ad5884eb1ee06d60",
       "version_major": 2,
       "version_minor": 0
      },
      "text/plain": [
       "  0%|          | 0/10 [00:00<?, ?it/s]"
      ]
     },
     "metadata": {},
     "output_type": "display_data"
    },
    {
     "name": "stdout",
     "output_type": "stream",
     "text": [
      "날짜는 20211004\n"
     ]
    },
    {
     "data": {
      "application/vnd.jupyter.widget-view+json": {
       "model_id": "e47c5ad301f145ffa7f28016a2fa139e",
       "version_major": 2,
       "version_minor": 0
      },
      "text/plain": [
       "  0%|          | 0/10 [00:00<?, ?it/s]"
      ]
     },
     "metadata": {},
     "output_type": "display_data"
    },
    {
     "name": "stdout",
     "output_type": "stream",
     "text": [
      "날짜는 20211005\n"
     ]
    },
    {
     "data": {
      "application/vnd.jupyter.widget-view+json": {
       "model_id": "1d27def66f8f402abc8da6dc0c5e3f99",
       "version_major": 2,
       "version_minor": 0
      },
      "text/plain": [
       "  0%|          | 0/10 [00:00<?, ?it/s]"
      ]
     },
     "metadata": {},
     "output_type": "display_data"
    },
    {
     "name": "stdout",
     "output_type": "stream",
     "text": [
      "날짜는 20211006\n"
     ]
    },
    {
     "data": {
      "application/vnd.jupyter.widget-view+json": {
       "model_id": "e1773e5d8b4240e3b9349f5fa8ca0523",
       "version_major": 2,
       "version_minor": 0
      },
      "text/plain": [
       "  0%|          | 0/10 [00:00<?, ?it/s]"
      ]
     },
     "metadata": {},
     "output_type": "display_data"
    },
    {
     "name": "stdout",
     "output_type": "stream",
     "text": [
      "날짜는 20211007\n"
     ]
    },
    {
     "data": {
      "application/vnd.jupyter.widget-view+json": {
       "model_id": "7cbdc0e37602449384731850f0b5e732",
       "version_major": 2,
       "version_minor": 0
      },
      "text/plain": [
       "  0%|          | 0/10 [00:00<?, ?it/s]"
      ]
     },
     "metadata": {},
     "output_type": "display_data"
    },
    {
     "name": "stdout",
     "output_type": "stream",
     "text": [
      "날짜는 20211008\n"
     ]
    },
    {
     "data": {
      "application/vnd.jupyter.widget-view+json": {
       "model_id": "5179298052ec4f99adb1aef9018d7c7d",
       "version_major": 2,
       "version_minor": 0
      },
      "text/plain": [
       "  0%|          | 0/10 [00:00<?, ?it/s]"
      ]
     },
     "metadata": {},
     "output_type": "display_data"
    },
    {
     "name": "stdout",
     "output_type": "stream",
     "text": [
      "날짜는 20211009\n"
     ]
    },
    {
     "data": {
      "application/vnd.jupyter.widget-view+json": {
       "model_id": "1281acac57dd4cfe939f070cdc9ddb69",
       "version_major": 2,
       "version_minor": 0
      },
      "text/plain": [
       "  0%|          | 0/10 [00:00<?, ?it/s]"
      ]
     },
     "metadata": {},
     "output_type": "display_data"
    },
    {
     "name": "stdout",
     "output_type": "stream",
     "text": [
      "날짜는 20211010\n"
     ]
    },
    {
     "data": {
      "application/vnd.jupyter.widget-view+json": {
       "model_id": "ed2af8a0a1944f4cbd496e06aa65f047",
       "version_major": 2,
       "version_minor": 0
      },
      "text/plain": [
       "  0%|          | 0/10 [00:00<?, ?it/s]"
      ]
     },
     "metadata": {},
     "output_type": "display_data"
    },
    {
     "name": "stdout",
     "output_type": "stream",
     "text": [
      "날짜는 20211011\n"
     ]
    },
    {
     "data": {
      "application/vnd.jupyter.widget-view+json": {
       "model_id": "4a974a6dc5f44db18c2989d2e0be1233",
       "version_major": 2,
       "version_minor": 0
      },
      "text/plain": [
       "  0%|          | 0/10 [00:00<?, ?it/s]"
      ]
     },
     "metadata": {},
     "output_type": "display_data"
    },
    {
     "name": "stdout",
     "output_type": "stream",
     "text": [
      "날짜는 20211012\n"
     ]
    },
    {
     "data": {
      "application/vnd.jupyter.widget-view+json": {
       "model_id": "0db7b8b18ba341cbbd7dfd9d942d42d1",
       "version_major": 2,
       "version_minor": 0
      },
      "text/plain": [
       "  0%|          | 0/10 [00:00<?, ?it/s]"
      ]
     },
     "metadata": {},
     "output_type": "display_data"
    },
    {
     "name": "stdout",
     "output_type": "stream",
     "text": [
      "날짜는 20211013\n"
     ]
    },
    {
     "data": {
      "application/vnd.jupyter.widget-view+json": {
       "model_id": "aa43df6f7d6b4f2e87fbba66a54145a6",
       "version_major": 2,
       "version_minor": 0
      },
      "text/plain": [
       "  0%|          | 0/10 [00:00<?, ?it/s]"
      ]
     },
     "metadata": {},
     "output_type": "display_data"
    },
    {
     "name": "stdout",
     "output_type": "stream",
     "text": [
      "날짜는 20211014\n"
     ]
    },
    {
     "data": {
      "application/vnd.jupyter.widget-view+json": {
       "model_id": "53830260ad2f40da8c7b87dde54f32c5",
       "version_major": 2,
       "version_minor": 0
      },
      "text/plain": [
       "  0%|          | 0/10 [00:00<?, ?it/s]"
      ]
     },
     "metadata": {},
     "output_type": "display_data"
    },
    {
     "name": "stdout",
     "output_type": "stream",
     "text": [
      "날짜는 20211015\n"
     ]
    },
    {
     "data": {
      "application/vnd.jupyter.widget-view+json": {
       "model_id": "b32055a44ac345ffb0019ed5b0ccd567",
       "version_major": 2,
       "version_minor": 0
      },
      "text/plain": [
       "  0%|          | 0/10 [00:00<?, ?it/s]"
      ]
     },
     "metadata": {},
     "output_type": "display_data"
    },
    {
     "name": "stdout",
     "output_type": "stream",
     "text": [
      "날짜는 20211016\n"
     ]
    },
    {
     "data": {
      "application/vnd.jupyter.widget-view+json": {
       "model_id": "7929ac4d26f14c3991210dd6afad24d9",
       "version_major": 2,
       "version_minor": 0
      },
      "text/plain": [
       "  0%|          | 0/10 [00:00<?, ?it/s]"
      ]
     },
     "metadata": {},
     "output_type": "display_data"
    },
    {
     "name": "stdout",
     "output_type": "stream",
     "text": [
      "날짜는 20211017\n"
     ]
    },
    {
     "data": {
      "application/vnd.jupyter.widget-view+json": {
       "model_id": "e1d4deed04574fd0a48b5d0189c34c6d",
       "version_major": 2,
       "version_minor": 0
      },
      "text/plain": [
       "  0%|          | 0/10 [00:00<?, ?it/s]"
      ]
     },
     "metadata": {},
     "output_type": "display_data"
    },
    {
     "name": "stdout",
     "output_type": "stream",
     "text": [
      "날짜는 20211018\n"
     ]
    },
    {
     "data": {
      "application/vnd.jupyter.widget-view+json": {
       "model_id": "da8da3ae57f748c18696cdfd1bb74448",
       "version_major": 2,
       "version_minor": 0
      },
      "text/plain": [
       "  0%|          | 0/10 [00:00<?, ?it/s]"
      ]
     },
     "metadata": {},
     "output_type": "display_data"
    },
    {
     "name": "stdout",
     "output_type": "stream",
     "text": [
      "날짜는 20211019\n"
     ]
    },
    {
     "data": {
      "application/vnd.jupyter.widget-view+json": {
       "model_id": "37eeab15fabf48988ae7586969cc04d2",
       "version_major": 2,
       "version_minor": 0
      },
      "text/plain": [
       "  0%|          | 0/10 [00:00<?, ?it/s]"
      ]
     },
     "metadata": {},
     "output_type": "display_data"
    },
    {
     "name": "stdout",
     "output_type": "stream",
     "text": [
      "날짜는 20211020\n"
     ]
    },
    {
     "data": {
      "application/vnd.jupyter.widget-view+json": {
       "model_id": "eb6a1518de72479f9025f7c757955334",
       "version_major": 2,
       "version_minor": 0
      },
      "text/plain": [
       "  0%|          | 0/10 [00:00<?, ?it/s]"
      ]
     },
     "metadata": {},
     "output_type": "display_data"
    },
    {
     "name": "stdout",
     "output_type": "stream",
     "text": [
      "날짜는 20211021\n"
     ]
    },
    {
     "data": {
      "application/vnd.jupyter.widget-view+json": {
       "model_id": "72500d9c2b9642f78dacfa3ca7766102",
       "version_major": 2,
       "version_minor": 0
      },
      "text/plain": [
       "  0%|          | 0/10 [00:00<?, ?it/s]"
      ]
     },
     "metadata": {},
     "output_type": "display_data"
    },
    {
     "name": "stdout",
     "output_type": "stream",
     "text": [
      "날짜는 20211022\n"
     ]
    },
    {
     "data": {
      "application/vnd.jupyter.widget-view+json": {
       "model_id": "f1cff75629014631b0b7b225ee8cecc5",
       "version_major": 2,
       "version_minor": 0
      },
      "text/plain": [
       "  0%|          | 0/10 [00:00<?, ?it/s]"
      ]
     },
     "metadata": {},
     "output_type": "display_data"
    },
    {
     "name": "stdout",
     "output_type": "stream",
     "text": [
      "날짜는 20211023\n"
     ]
    },
    {
     "data": {
      "application/vnd.jupyter.widget-view+json": {
       "model_id": "e0e2c2508fbd478180ce09982b8e098a",
       "version_major": 2,
       "version_minor": 0
      },
      "text/plain": [
       "  0%|          | 0/10 [00:00<?, ?it/s]"
      ]
     },
     "metadata": {},
     "output_type": "display_data"
    },
    {
     "name": "stdout",
     "output_type": "stream",
     "text": [
      "날짜는 20211024\n"
     ]
    },
    {
     "data": {
      "application/vnd.jupyter.widget-view+json": {
       "model_id": "4c92f5e2530b47b9825be26822f4807b",
       "version_major": 2,
       "version_minor": 0
      },
      "text/plain": [
       "  0%|          | 0/10 [00:00<?, ?it/s]"
      ]
     },
     "metadata": {},
     "output_type": "display_data"
    },
    {
     "name": "stdout",
     "output_type": "stream",
     "text": [
      "날짜는 20211025\n"
     ]
    },
    {
     "data": {
      "application/vnd.jupyter.widget-view+json": {
       "model_id": "3b1a013c18a14e5486724acc04fe8a0c",
       "version_major": 2,
       "version_minor": 0
      },
      "text/plain": [
       "  0%|          | 0/10 [00:00<?, ?it/s]"
      ]
     },
     "metadata": {},
     "output_type": "display_data"
    },
    {
     "name": "stdout",
     "output_type": "stream",
     "text": [
      "날짜는 20211026\n"
     ]
    },
    {
     "data": {
      "application/vnd.jupyter.widget-view+json": {
       "model_id": "87e14a1316b1454fb96aa811a643997b",
       "version_major": 2,
       "version_minor": 0
      },
      "text/plain": [
       "  0%|          | 0/10 [00:00<?, ?it/s]"
      ]
     },
     "metadata": {},
     "output_type": "display_data"
    },
    {
     "name": "stdout",
     "output_type": "stream",
     "text": [
      "날짜는 20211027\n"
     ]
    },
    {
     "data": {
      "application/vnd.jupyter.widget-view+json": {
       "model_id": "4929f1c0f5994a4fa3d434f57a21efe2",
       "version_major": 2,
       "version_minor": 0
      },
      "text/plain": [
       "  0%|          | 0/10 [00:00<?, ?it/s]"
      ]
     },
     "metadata": {},
     "output_type": "display_data"
    },
    {
     "name": "stdout",
     "output_type": "stream",
     "text": [
      "날짜는 20211028\n"
     ]
    },
    {
     "data": {
      "application/vnd.jupyter.widget-view+json": {
       "model_id": "8ece73a2395d4ec7a81cb344db60ebeb",
       "version_major": 2,
       "version_minor": 0
      },
      "text/plain": [
       "  0%|          | 0/10 [00:00<?, ?it/s]"
      ]
     },
     "metadata": {},
     "output_type": "display_data"
    },
    {
     "name": "stdout",
     "output_type": "stream",
     "text": [
      "날짜는 20211029\n"
     ]
    },
    {
     "data": {
      "application/vnd.jupyter.widget-view+json": {
       "model_id": "af248676b5c74b94a166ec6e8625c242",
       "version_major": 2,
       "version_minor": 0
      },
      "text/plain": [
       "  0%|          | 0/10 [00:00<?, ?it/s]"
      ]
     },
     "metadata": {},
     "output_type": "display_data"
    },
    {
     "name": "stdout",
     "output_type": "stream",
     "text": [
      "날짜는 20211030\n"
     ]
    },
    {
     "data": {
      "application/vnd.jupyter.widget-view+json": {
       "model_id": "c0f437366f0e4b499249e795e5f66100",
       "version_major": 2,
       "version_minor": 0
      },
      "text/plain": [
       "  0%|          | 0/10 [00:00<?, ?it/s]"
      ]
     },
     "metadata": {},
     "output_type": "display_data"
    },
    {
     "name": "stdout",
     "output_type": "stream",
     "text": [
      "날짜는 20211031\n"
     ]
    },
    {
     "data": {
      "application/vnd.jupyter.widget-view+json": {
       "model_id": "4dc242b47392457d8a3c96b70181c248",
       "version_major": 2,
       "version_minor": 0
      },
      "text/plain": [
       "  0%|          | 0/10 [00:00<?, ?it/s]"
      ]
     },
     "metadata": {},
     "output_type": "display_data"
    },
    {
     "name": "stdout",
     "output_type": "stream",
     "text": [
      "날짜는 20211101\n"
     ]
    },
    {
     "data": {
      "application/vnd.jupyter.widget-view+json": {
       "model_id": "7a3b365ac3b644c3a794dec5734e560b",
       "version_major": 2,
       "version_minor": 0
      },
      "text/plain": [
       "  0%|          | 0/10 [00:00<?, ?it/s]"
      ]
     },
     "metadata": {},
     "output_type": "display_data"
    },
    {
     "name": "stdout",
     "output_type": "stream",
     "text": [
      "날짜는 20211102\n"
     ]
    },
    {
     "data": {
      "application/vnd.jupyter.widget-view+json": {
       "model_id": "4e611ceb0b5f437999dea99514233a33",
       "version_major": 2,
       "version_minor": 0
      },
      "text/plain": [
       "  0%|          | 0/10 [00:00<?, ?it/s]"
      ]
     },
     "metadata": {},
     "output_type": "display_data"
    },
    {
     "name": "stdout",
     "output_type": "stream",
     "text": [
      "**********************************************************************\n",
      "20211102 오류 있어 데이터 수집되지 않음\n",
      "**********************************************************************\n",
      "날짜는 20211103\n"
     ]
    },
    {
     "data": {
      "application/vnd.jupyter.widget-view+json": {
       "model_id": "dac35097e543468a83c50c90ce9b87f4",
       "version_major": 2,
       "version_minor": 0
      },
      "text/plain": [
       "  0%|          | 0/10 [00:00<?, ?it/s]"
      ]
     },
     "metadata": {},
     "output_type": "display_data"
    },
    {
     "name": "stdout",
     "output_type": "stream",
     "text": [
      "날짜는 20211104\n"
     ]
    },
    {
     "data": {
      "application/vnd.jupyter.widget-view+json": {
       "model_id": "dc2c93f6a4b544a7a6e387cb2a14829d",
       "version_major": 2,
       "version_minor": 0
      },
      "text/plain": [
       "  0%|          | 0/10 [00:00<?, ?it/s]"
      ]
     },
     "metadata": {},
     "output_type": "display_data"
    },
    {
     "name": "stdout",
     "output_type": "stream",
     "text": [
      "날짜는 20211105\n"
     ]
    },
    {
     "data": {
      "application/vnd.jupyter.widget-view+json": {
       "model_id": "7737794bdd1d41eeb24adcdf13ef9bdf",
       "version_major": 2,
       "version_minor": 0
      },
      "text/plain": [
       "  0%|          | 0/10 [00:00<?, ?it/s]"
      ]
     },
     "metadata": {},
     "output_type": "display_data"
    },
    {
     "name": "stdout",
     "output_type": "stream",
     "text": [
      "날짜는 20211106\n"
     ]
    },
    {
     "data": {
      "application/vnd.jupyter.widget-view+json": {
       "model_id": "62274f3338e54e2b854ea1befb461d56",
       "version_major": 2,
       "version_minor": 0
      },
      "text/plain": [
       "  0%|          | 0/10 [00:00<?, ?it/s]"
      ]
     },
     "metadata": {},
     "output_type": "display_data"
    },
    {
     "name": "stdout",
     "output_type": "stream",
     "text": [
      "날짜는 20211107\n"
     ]
    },
    {
     "data": {
      "application/vnd.jupyter.widget-view+json": {
       "model_id": "beee174593ea4d0cbd9304f95f4dd2e1",
       "version_major": 2,
       "version_minor": 0
      },
      "text/plain": [
       "  0%|          | 0/10 [00:00<?, ?it/s]"
      ]
     },
     "metadata": {},
     "output_type": "display_data"
    },
    {
     "name": "stdout",
     "output_type": "stream",
     "text": [
      "날짜는 20211108\n"
     ]
    },
    {
     "data": {
      "application/vnd.jupyter.widget-view+json": {
       "model_id": "8a23e8a322ef478c80137d5a4f38ac86",
       "version_major": 2,
       "version_minor": 0
      },
      "text/plain": [
       "  0%|          | 0/10 [00:00<?, ?it/s]"
      ]
     },
     "metadata": {},
     "output_type": "display_data"
    },
    {
     "name": "stdout",
     "output_type": "stream",
     "text": [
      "날짜는 20211109\n"
     ]
    },
    {
     "data": {
      "application/vnd.jupyter.widget-view+json": {
       "model_id": "8e7e1011fbee4eb9a41b52db3fae0e7f",
       "version_major": 2,
       "version_minor": 0
      },
      "text/plain": [
       "  0%|          | 0/10 [00:00<?, ?it/s]"
      ]
     },
     "metadata": {},
     "output_type": "display_data"
    },
    {
     "name": "stdout",
     "output_type": "stream",
     "text": [
      "날짜는 20211110\n"
     ]
    },
    {
     "data": {
      "application/vnd.jupyter.widget-view+json": {
       "model_id": "315955e97a854b30844cd9a2a5e3875c",
       "version_major": 2,
       "version_minor": 0
      },
      "text/plain": [
       "  0%|          | 0/10 [00:00<?, ?it/s]"
      ]
     },
     "metadata": {},
     "output_type": "display_data"
    },
    {
     "name": "stdout",
     "output_type": "stream",
     "text": [
      "날짜는 20211111\n"
     ]
    },
    {
     "data": {
      "application/vnd.jupyter.widget-view+json": {
       "model_id": "7c223a02bc3745699e788f1fab034550",
       "version_major": 2,
       "version_minor": 0
      },
      "text/plain": [
       "  0%|          | 0/10 [00:00<?, ?it/s]"
      ]
     },
     "metadata": {},
     "output_type": "display_data"
    },
    {
     "name": "stdout",
     "output_type": "stream",
     "text": [
      "날짜는 20211112\n"
     ]
    },
    {
     "data": {
      "application/vnd.jupyter.widget-view+json": {
       "model_id": "183a665a6ab44c52aef831f0a20bf9a6",
       "version_major": 2,
       "version_minor": 0
      },
      "text/plain": [
       "  0%|          | 0/10 [00:00<?, ?it/s]"
      ]
     },
     "metadata": {},
     "output_type": "display_data"
    },
    {
     "name": "stdout",
     "output_type": "stream",
     "text": [
      "날짜는 20211113\n"
     ]
    },
    {
     "data": {
      "application/vnd.jupyter.widget-view+json": {
       "model_id": "179bad9e299a4e7682f203776047905f",
       "version_major": 2,
       "version_minor": 0
      },
      "text/plain": [
       "  0%|          | 0/10 [00:00<?, ?it/s]"
      ]
     },
     "metadata": {},
     "output_type": "display_data"
    },
    {
     "name": "stdout",
     "output_type": "stream",
     "text": [
      "날짜는 20211114\n"
     ]
    },
    {
     "data": {
      "application/vnd.jupyter.widget-view+json": {
       "model_id": "94dbc334232e43858fdc043b90a4a902",
       "version_major": 2,
       "version_minor": 0
      },
      "text/plain": [
       "  0%|          | 0/10 [00:00<?, ?it/s]"
      ]
     },
     "metadata": {},
     "output_type": "display_data"
    },
    {
     "name": "stdout",
     "output_type": "stream",
     "text": [
      "날짜는 20211115\n"
     ]
    },
    {
     "data": {
      "application/vnd.jupyter.widget-view+json": {
       "model_id": "77c5685a5e914b15bf0ea0ff40151dc5",
       "version_major": 2,
       "version_minor": 0
      },
      "text/plain": [
       "  0%|          | 0/10 [00:00<?, ?it/s]"
      ]
     },
     "metadata": {},
     "output_type": "display_data"
    },
    {
     "name": "stdout",
     "output_type": "stream",
     "text": [
      "날짜는 20211116\n"
     ]
    },
    {
     "data": {
      "application/vnd.jupyter.widget-view+json": {
       "model_id": "88d5dce2292e4c67a28abe963d545ada",
       "version_major": 2,
       "version_minor": 0
      },
      "text/plain": [
       "  0%|          | 0/10 [00:00<?, ?it/s]"
      ]
     },
     "metadata": {},
     "output_type": "display_data"
    },
    {
     "name": "stdout",
     "output_type": "stream",
     "text": [
      "날짜는 20211117\n"
     ]
    },
    {
     "data": {
      "application/vnd.jupyter.widget-view+json": {
       "model_id": "ad4094daf42840adbc26f7c11c3de235",
       "version_major": 2,
       "version_minor": 0
      },
      "text/plain": [
       "  0%|          | 0/10 [00:00<?, ?it/s]"
      ]
     },
     "metadata": {},
     "output_type": "display_data"
    },
    {
     "name": "stdout",
     "output_type": "stream",
     "text": [
      "날짜는 20211118\n"
     ]
    },
    {
     "data": {
      "application/vnd.jupyter.widget-view+json": {
       "model_id": "e365034158224f19921b031f1efae67c",
       "version_major": 2,
       "version_minor": 0
      },
      "text/plain": [
       "  0%|          | 0/10 [00:00<?, ?it/s]"
      ]
     },
     "metadata": {},
     "output_type": "display_data"
    },
    {
     "name": "stdout",
     "output_type": "stream",
     "text": [
      "날짜는 20211119\n"
     ]
    },
    {
     "data": {
      "application/vnd.jupyter.widget-view+json": {
       "model_id": "337dda0d3c5e4e3cb95bd78bdbfe1396",
       "version_major": 2,
       "version_minor": 0
      },
      "text/plain": [
       "  0%|          | 0/10 [00:00<?, ?it/s]"
      ]
     },
     "metadata": {},
     "output_type": "display_data"
    },
    {
     "name": "stdout",
     "output_type": "stream",
     "text": [
      "날짜는 20211120\n"
     ]
    },
    {
     "data": {
      "application/vnd.jupyter.widget-view+json": {
       "model_id": "4ed8a4451b9a473b870ac9bbcabc2a6e",
       "version_major": 2,
       "version_minor": 0
      },
      "text/plain": [
       "  0%|          | 0/10 [00:00<?, ?it/s]"
      ]
     },
     "metadata": {},
     "output_type": "display_data"
    },
    {
     "name": "stdout",
     "output_type": "stream",
     "text": [
      "날짜는 20211121\n"
     ]
    },
    {
     "data": {
      "application/vnd.jupyter.widget-view+json": {
       "model_id": "4b7c6906ee5c4429b2dee1ce7bc6ffc0",
       "version_major": 2,
       "version_minor": 0
      },
      "text/plain": [
       "  0%|          | 0/10 [00:00<?, ?it/s]"
      ]
     },
     "metadata": {},
     "output_type": "display_data"
    },
    {
     "name": "stdout",
     "output_type": "stream",
     "text": [
      "날짜는 20211122\n"
     ]
    },
    {
     "data": {
      "application/vnd.jupyter.widget-view+json": {
       "model_id": "f7cc0bdcbd0748ad847b9b77bdf459c9",
       "version_major": 2,
       "version_minor": 0
      },
      "text/plain": [
       "  0%|          | 0/10 [00:00<?, ?it/s]"
      ]
     },
     "metadata": {},
     "output_type": "display_data"
    },
    {
     "name": "stdout",
     "output_type": "stream",
     "text": [
      "날짜는 20211123\n"
     ]
    },
    {
     "data": {
      "application/vnd.jupyter.widget-view+json": {
       "model_id": "1a544963d26b416889c8306750e01b74",
       "version_major": 2,
       "version_minor": 0
      },
      "text/plain": [
       "  0%|          | 0/10 [00:00<?, ?it/s]"
      ]
     },
     "metadata": {},
     "output_type": "display_data"
    },
    {
     "name": "stdout",
     "output_type": "stream",
     "text": [
      "날짜는 20211124\n"
     ]
    },
    {
     "data": {
      "application/vnd.jupyter.widget-view+json": {
       "model_id": "3405d151d44a40ad8b3e1aa05cb7a4ae",
       "version_major": 2,
       "version_minor": 0
      },
      "text/plain": [
       "  0%|          | 0/10 [00:00<?, ?it/s]"
      ]
     },
     "metadata": {},
     "output_type": "display_data"
    },
    {
     "name": "stdout",
     "output_type": "stream",
     "text": [
      "날짜는 20211125\n"
     ]
    },
    {
     "data": {
      "application/vnd.jupyter.widget-view+json": {
       "model_id": "e2e0496a196c4207ac2c2f36802dea4b",
       "version_major": 2,
       "version_minor": 0
      },
      "text/plain": [
       "  0%|          | 0/10 [00:00<?, ?it/s]"
      ]
     },
     "metadata": {},
     "output_type": "display_data"
    },
    {
     "name": "stdout",
     "output_type": "stream",
     "text": [
      "날짜는 20211126\n"
     ]
    },
    {
     "data": {
      "application/vnd.jupyter.widget-view+json": {
       "model_id": "f5cf4a7306fc49bf87865192058e5585",
       "version_major": 2,
       "version_minor": 0
      },
      "text/plain": [
       "  0%|          | 0/10 [00:00<?, ?it/s]"
      ]
     },
     "metadata": {},
     "output_type": "display_data"
    },
    {
     "name": "stdout",
     "output_type": "stream",
     "text": [
      "날짜는 20211127\n"
     ]
    },
    {
     "data": {
      "application/vnd.jupyter.widget-view+json": {
       "model_id": "6bd04045fa764c70b8c0e826dece2f2f",
       "version_major": 2,
       "version_minor": 0
      },
      "text/plain": [
       "  0%|          | 0/10 [00:00<?, ?it/s]"
      ]
     },
     "metadata": {},
     "output_type": "display_data"
    },
    {
     "name": "stdout",
     "output_type": "stream",
     "text": [
      "날짜는 20211128\n"
     ]
    },
    {
     "data": {
      "application/vnd.jupyter.widget-view+json": {
       "model_id": "3676a465d61c4079a57e9b1ba3405aea",
       "version_major": 2,
       "version_minor": 0
      },
      "text/plain": [
       "  0%|          | 0/10 [00:00<?, ?it/s]"
      ]
     },
     "metadata": {},
     "output_type": "display_data"
    },
    {
     "name": "stdout",
     "output_type": "stream",
     "text": [
      "날짜는 20211129\n"
     ]
    },
    {
     "data": {
      "application/vnd.jupyter.widget-view+json": {
       "model_id": "a2feb6c6487c4fc8b5497ab835f20984",
       "version_major": 2,
       "version_minor": 0
      },
      "text/plain": [
       "  0%|          | 0/10 [00:00<?, ?it/s]"
      ]
     },
     "metadata": {},
     "output_type": "display_data"
    },
    {
     "name": "stdout",
     "output_type": "stream",
     "text": [
      "날짜는 20211130\n"
     ]
    },
    {
     "data": {
      "application/vnd.jupyter.widget-view+json": {
       "model_id": "d63fe7f47c0b485d86cacfb2e796260f",
       "version_major": 2,
       "version_minor": 0
      },
      "text/plain": [
       "  0%|          | 0/10 [00:00<?, ?it/s]"
      ]
     },
     "metadata": {},
     "output_type": "display_data"
    },
    {
     "name": "stdout",
     "output_type": "stream",
     "text": [
      "날짜는 20211201\n"
     ]
    },
    {
     "data": {
      "application/vnd.jupyter.widget-view+json": {
       "model_id": "da412dbf9a3649e9b64cb41629fdd3de",
       "version_major": 2,
       "version_minor": 0
      },
      "text/plain": [
       "  0%|          | 0/10 [00:00<?, ?it/s]"
      ]
     },
     "metadata": {},
     "output_type": "display_data"
    },
    {
     "name": "stdout",
     "output_type": "stream",
     "text": [
      "**********************************************************************\n",
      "20211201 오류 있어 데이터 수집되지 않음\n",
      "**********************************************************************\n",
      "날짜는 20211202\n"
     ]
    },
    {
     "data": {
      "application/vnd.jupyter.widget-view+json": {
       "model_id": "d0e53678fc5d42e28bba7e3d6444665b",
       "version_major": 2,
       "version_minor": 0
      },
      "text/plain": [
       "  0%|          | 0/10 [00:00<?, ?it/s]"
      ]
     },
     "metadata": {},
     "output_type": "display_data"
    },
    {
     "name": "stdout",
     "output_type": "stream",
     "text": [
      "날짜는 20211203\n"
     ]
    },
    {
     "data": {
      "application/vnd.jupyter.widget-view+json": {
       "model_id": "ed1221e1de984211a691ac612fe543df",
       "version_major": 2,
       "version_minor": 0
      },
      "text/plain": [
       "  0%|          | 0/10 [00:00<?, ?it/s]"
      ]
     },
     "metadata": {},
     "output_type": "display_data"
    },
    {
     "name": "stdout",
     "output_type": "stream",
     "text": [
      "날짜는 20211204\n"
     ]
    },
    {
     "data": {
      "application/vnd.jupyter.widget-view+json": {
       "model_id": "2de5edf52135402cbf6018b02f2cbe83",
       "version_major": 2,
       "version_minor": 0
      },
      "text/plain": [
       "  0%|          | 0/10 [00:00<?, ?it/s]"
      ]
     },
     "metadata": {},
     "output_type": "display_data"
    },
    {
     "name": "stdout",
     "output_type": "stream",
     "text": [
      "날짜는 20211205\n"
     ]
    },
    {
     "data": {
      "application/vnd.jupyter.widget-view+json": {
       "model_id": "01489406ad094263a0d401a42e03a740",
       "version_major": 2,
       "version_minor": 0
      },
      "text/plain": [
       "  0%|          | 0/10 [00:00<?, ?it/s]"
      ]
     },
     "metadata": {},
     "output_type": "display_data"
    },
    {
     "name": "stdout",
     "output_type": "stream",
     "text": [
      "날짜는 20211206\n"
     ]
    },
    {
     "data": {
      "application/vnd.jupyter.widget-view+json": {
       "model_id": "fcefdad2d26b48d0ab7c33d5def09141",
       "version_major": 2,
       "version_minor": 0
      },
      "text/plain": [
       "  0%|          | 0/10 [00:00<?, ?it/s]"
      ]
     },
     "metadata": {},
     "output_type": "display_data"
    },
    {
     "name": "stdout",
     "output_type": "stream",
     "text": [
      "날짜는 20211207\n"
     ]
    },
    {
     "data": {
      "application/vnd.jupyter.widget-view+json": {
       "model_id": "a765b89b3ee44f5ba5a5541acf0ef14e",
       "version_major": 2,
       "version_minor": 0
      },
      "text/plain": [
       "  0%|          | 0/10 [00:00<?, ?it/s]"
      ]
     },
     "metadata": {},
     "output_type": "display_data"
    },
    {
     "name": "stdout",
     "output_type": "stream",
     "text": [
      "날짜는 20211208\n"
     ]
    },
    {
     "data": {
      "application/vnd.jupyter.widget-view+json": {
       "model_id": "f96641cfa4614c18a26de57a145aefed",
       "version_major": 2,
       "version_minor": 0
      },
      "text/plain": [
       "  0%|          | 0/10 [00:00<?, ?it/s]"
      ]
     },
     "metadata": {},
     "output_type": "display_data"
    },
    {
     "name": "stdout",
     "output_type": "stream",
     "text": [
      "날짜는 20211209\n"
     ]
    },
    {
     "data": {
      "application/vnd.jupyter.widget-view+json": {
       "model_id": "da2fa0cbc8f14c6b8043a3e1cea166fd",
       "version_major": 2,
       "version_minor": 0
      },
      "text/plain": [
       "  0%|          | 0/10 [00:00<?, ?it/s]"
      ]
     },
     "metadata": {},
     "output_type": "display_data"
    },
    {
     "name": "stdout",
     "output_type": "stream",
     "text": [
      "날짜는 20211210\n"
     ]
    },
    {
     "data": {
      "application/vnd.jupyter.widget-view+json": {
       "model_id": "084dc857fa6749bb857455838fd94c7c",
       "version_major": 2,
       "version_minor": 0
      },
      "text/plain": [
       "  0%|          | 0/10 [00:00<?, ?it/s]"
      ]
     },
     "metadata": {},
     "output_type": "display_data"
    },
    {
     "name": "stdout",
     "output_type": "stream",
     "text": [
      "날짜는 20211211\n"
     ]
    },
    {
     "data": {
      "application/vnd.jupyter.widget-view+json": {
       "model_id": "d229d29999ae443292e8bbe78080a4f3",
       "version_major": 2,
       "version_minor": 0
      },
      "text/plain": [
       "  0%|          | 0/10 [00:00<?, ?it/s]"
      ]
     },
     "metadata": {},
     "output_type": "display_data"
    },
    {
     "name": "stdout",
     "output_type": "stream",
     "text": [
      "날짜는 20211212\n"
     ]
    },
    {
     "data": {
      "application/vnd.jupyter.widget-view+json": {
       "model_id": "a78457c3bf1049518281ffb660d0c892",
       "version_major": 2,
       "version_minor": 0
      },
      "text/plain": [
       "  0%|          | 0/10 [00:00<?, ?it/s]"
      ]
     },
     "metadata": {},
     "output_type": "display_data"
    },
    {
     "name": "stdout",
     "output_type": "stream",
     "text": [
      "날짜는 20211213\n"
     ]
    },
    {
     "data": {
      "application/vnd.jupyter.widget-view+json": {
       "model_id": "0139e1117e484c00ad1cf348054ff823",
       "version_major": 2,
       "version_minor": 0
      },
      "text/plain": [
       "  0%|          | 0/10 [00:00<?, ?it/s]"
      ]
     },
     "metadata": {},
     "output_type": "display_data"
    },
    {
     "name": "stdout",
     "output_type": "stream",
     "text": [
      "날짜는 20211214\n"
     ]
    },
    {
     "data": {
      "application/vnd.jupyter.widget-view+json": {
       "model_id": "2278ba26581245f89725ed536014c972",
       "version_major": 2,
       "version_minor": 0
      },
      "text/plain": [
       "  0%|          | 0/10 [00:00<?, ?it/s]"
      ]
     },
     "metadata": {},
     "output_type": "display_data"
    },
    {
     "name": "stdout",
     "output_type": "stream",
     "text": [
      "날짜는 20211215\n"
     ]
    },
    {
     "data": {
      "application/vnd.jupyter.widget-view+json": {
       "model_id": "49b48a75fb234f7ba16d5567f9dce2d8",
       "version_major": 2,
       "version_minor": 0
      },
      "text/plain": [
       "  0%|          | 0/10 [00:00<?, ?it/s]"
      ]
     },
     "metadata": {},
     "output_type": "display_data"
    },
    {
     "name": "stdout",
     "output_type": "stream",
     "text": [
      "날짜는 20211216\n"
     ]
    },
    {
     "data": {
      "application/vnd.jupyter.widget-view+json": {
       "model_id": "ce7f040fea624c50b1cd38c789aee5f9",
       "version_major": 2,
       "version_minor": 0
      },
      "text/plain": [
       "  0%|          | 0/10 [00:00<?, ?it/s]"
      ]
     },
     "metadata": {},
     "output_type": "display_data"
    },
    {
     "name": "stdout",
     "output_type": "stream",
     "text": [
      "날짜는 20211217\n"
     ]
    },
    {
     "data": {
      "application/vnd.jupyter.widget-view+json": {
       "model_id": "c0636348f9454c698c885aad38cd7b3d",
       "version_major": 2,
       "version_minor": 0
      },
      "text/plain": [
       "  0%|          | 0/10 [00:00<?, ?it/s]"
      ]
     },
     "metadata": {},
     "output_type": "display_data"
    },
    {
     "name": "stdout",
     "output_type": "stream",
     "text": [
      "날짜는 20211218\n"
     ]
    },
    {
     "data": {
      "application/vnd.jupyter.widget-view+json": {
       "model_id": "27b58afa70e841e08eee0355b4a548b7",
       "version_major": 2,
       "version_minor": 0
      },
      "text/plain": [
       "  0%|          | 0/10 [00:00<?, ?it/s]"
      ]
     },
     "metadata": {},
     "output_type": "display_data"
    },
    {
     "name": "stdout",
     "output_type": "stream",
     "text": [
      "날짜는 20211219\n"
     ]
    },
    {
     "data": {
      "application/vnd.jupyter.widget-view+json": {
       "model_id": "744ddc513e7948a795c5ec740655ba40",
       "version_major": 2,
       "version_minor": 0
      },
      "text/plain": [
       "  0%|          | 0/10 [00:00<?, ?it/s]"
      ]
     },
     "metadata": {},
     "output_type": "display_data"
    },
    {
     "name": "stdout",
     "output_type": "stream",
     "text": [
      "날짜는 20211220\n"
     ]
    },
    {
     "data": {
      "application/vnd.jupyter.widget-view+json": {
       "model_id": "69ba42ffdcaa47469aa2630000a1ef35",
       "version_major": 2,
       "version_minor": 0
      },
      "text/plain": [
       "  0%|          | 0/10 [00:00<?, ?it/s]"
      ]
     },
     "metadata": {},
     "output_type": "display_data"
    },
    {
     "name": "stdout",
     "output_type": "stream",
     "text": [
      "날짜는 20211221\n"
     ]
    },
    {
     "data": {
      "application/vnd.jupyter.widget-view+json": {
       "model_id": "2927ed032a304fdf93bd7370ef3124b1",
       "version_major": 2,
       "version_minor": 0
      },
      "text/plain": [
       "  0%|          | 0/10 [00:00<?, ?it/s]"
      ]
     },
     "metadata": {},
     "output_type": "display_data"
    },
    {
     "name": "stdout",
     "output_type": "stream",
     "text": [
      "날짜는 20211222\n"
     ]
    },
    {
     "data": {
      "application/vnd.jupyter.widget-view+json": {
       "model_id": "80489a696af64e0797fe02cda242a893",
       "version_major": 2,
       "version_minor": 0
      },
      "text/plain": [
       "  0%|          | 0/10 [00:00<?, ?it/s]"
      ]
     },
     "metadata": {},
     "output_type": "display_data"
    },
    {
     "name": "stdout",
     "output_type": "stream",
     "text": [
      "날짜는 20211223\n"
     ]
    },
    {
     "data": {
      "application/vnd.jupyter.widget-view+json": {
       "model_id": "4f900ffd43c3423380ae63d6cbb225fe",
       "version_major": 2,
       "version_minor": 0
      },
      "text/plain": [
       "  0%|          | 0/10 [00:00<?, ?it/s]"
      ]
     },
     "metadata": {},
     "output_type": "display_data"
    },
    {
     "name": "stdout",
     "output_type": "stream",
     "text": [
      "날짜는 20211224\n"
     ]
    },
    {
     "data": {
      "application/vnd.jupyter.widget-view+json": {
       "model_id": "5826f6fcb3704c54bceec166b93feef1",
       "version_major": 2,
       "version_minor": 0
      },
      "text/plain": [
       "  0%|          | 0/10 [00:00<?, ?it/s]"
      ]
     },
     "metadata": {},
     "output_type": "display_data"
    },
    {
     "name": "stdout",
     "output_type": "stream",
     "text": [
      "날짜는 20211225\n"
     ]
    },
    {
     "data": {
      "application/vnd.jupyter.widget-view+json": {
       "model_id": "f4e487ccbdce4fb48930320566df5988",
       "version_major": 2,
       "version_minor": 0
      },
      "text/plain": [
       "  0%|          | 0/10 [00:00<?, ?it/s]"
      ]
     },
     "metadata": {},
     "output_type": "display_data"
    },
    {
     "name": "stdout",
     "output_type": "stream",
     "text": [
      "날짜는 20211226\n"
     ]
    },
    {
     "data": {
      "application/vnd.jupyter.widget-view+json": {
       "model_id": "d0687d17ee824cacbf4edd6a8526c43b",
       "version_major": 2,
       "version_minor": 0
      },
      "text/plain": [
       "  0%|          | 0/10 [00:00<?, ?it/s]"
      ]
     },
     "metadata": {},
     "output_type": "display_data"
    },
    {
     "name": "stdout",
     "output_type": "stream",
     "text": [
      "날짜는 20211227\n"
     ]
    },
    {
     "data": {
      "application/vnd.jupyter.widget-view+json": {
       "model_id": "ff20f244187e4564b1e31879214d2aba",
       "version_major": 2,
       "version_minor": 0
      },
      "text/plain": [
       "  0%|          | 0/10 [00:00<?, ?it/s]"
      ]
     },
     "metadata": {},
     "output_type": "display_data"
    },
    {
     "name": "stdout",
     "output_type": "stream",
     "text": [
      "날짜는 20211228\n"
     ]
    },
    {
     "data": {
      "application/vnd.jupyter.widget-view+json": {
       "model_id": "d3595dc827ac4569b02b783e2eb7e35f",
       "version_major": 2,
       "version_minor": 0
      },
      "text/plain": [
       "  0%|          | 0/10 [00:00<?, ?it/s]"
      ]
     },
     "metadata": {},
     "output_type": "display_data"
    },
    {
     "name": "stdout",
     "output_type": "stream",
     "text": [
      "날짜는 20211229\n"
     ]
    },
    {
     "data": {
      "application/vnd.jupyter.widget-view+json": {
       "model_id": "9aa833dd9a9942ea9777153272ebe730",
       "version_major": 2,
       "version_minor": 0
      },
      "text/plain": [
       "  0%|          | 0/10 [00:00<?, ?it/s]"
      ]
     },
     "metadata": {},
     "output_type": "display_data"
    },
    {
     "name": "stdout",
     "output_type": "stream",
     "text": [
      "날짜는 20211230\n"
     ]
    },
    {
     "data": {
      "application/vnd.jupyter.widget-view+json": {
       "model_id": "29782e8718bf4661894124c0c9aa6bd9",
       "version_major": 2,
       "version_minor": 0
      },
      "text/plain": [
       "  0%|          | 0/10 [00:00<?, ?it/s]"
      ]
     },
     "metadata": {},
     "output_type": "display_data"
    },
    {
     "name": "stdout",
     "output_type": "stream",
     "text": [
      "날짜는 20211231\n"
     ]
    },
    {
     "data": {
      "application/vnd.jupyter.widget-view+json": {
       "model_id": "ee1372ebda684b8b90582328d8f305b1",
       "version_major": 2,
       "version_minor": 0
      },
      "text/plain": [
       "  0%|          | 0/10 [00:00<?, ?it/s]"
      ]
     },
     "metadata": {},
     "output_type": "display_data"
    },
    {
     "name": "stdout",
     "output_type": "stream",
     "text": [
      "총 8 개의 날짜, 데이터 수집 되지 않음\n"
     ]
    }
   ],
   "source": [
    "url_dataset =  pd.DataFrame({'title' : [], \n",
    "                                 'url' : [], \n",
    "                                 'press' : [], \n",
    "                                 'date' : [] })\n",
    "\n",
    "error_date = []\n",
    "for j in tqdm(range(len(date))):\n",
    "    # 날짜 셋팅\n",
    "    start_date = str(date.iloc[j,0])[:4] + str(date.iloc[j,0])[5:7] + str(date.iloc[j,0])[8:10]\n",
    "    end_date = start_date\n",
    "    print( '날짜는',end_date)\n",
    "    try : \n",
    "        temp_url = url_collect('esg', start_date, end_date, 10)\n",
    "        temp_url = naver_cut_10(temp_url)\n",
    "        url_dataset = pd.concat([url_dataset, temp_url]).reset_index(drop=True)\n",
    "    #print(temp_url)\n",
    "    #print(len(temp_url))\n",
    "    #print('---------------------------------')\n",
    "    \n",
    "    sql = \"\"\"\n",
    "            INSERT INTO esg_url_crawl(\n",
    "            title, url, press, date) VALUES(%s,%s,%s,%s)\n",
    "           \"\"\"\n",
    "    cursor.executemany(sql, data)\n",
    "    conn.commit()    \n",
    "    \n",
    "    except :\n",
    "        print(\"***********************************\"*2)\n",
    "        print(end_date, '오류 있어 데이터 수집되지 않음')\n",
    "        error_date.append(start_date)\n",
    "        print(\"***********************************\"*2)\n",
    "\n",
    "print('총', len(error_date),'개의 날짜, 데이터 수집 되지 않음')"
   ]
  },
  {
   "cell_type": "code",
   "execution_count": 9,
   "metadata": {},
   "outputs": [
    {
     "name": "stdout",
     "output_type": "stream",
     "text": [
      "['20210302', '20210401', '20210601', '20210804', '20210901', '20211001', '20211102', '20211201']\n"
     ]
    },
    {
     "data": {
      "text/plain": [
       "8"
      ]
     },
     "execution_count": 9,
     "metadata": {},
     "output_type": "execute_result"
    }
   ],
   "source": [
    "# 2021년 중 8개의 날짜는 제대로 수집되지 않음...\n",
    "print(error_date)\n",
    "len(error_date)"
   ]
  },
  {
   "cell_type": "markdown",
   "metadata": {},
   "source": [
    "## *** 중복 지우기"
   ]
  },
  {
   "cell_type": "code",
   "execution_count": 16,
   "metadata": {},
   "outputs": [],
   "source": [
    "url_table = pd.read_csv('url_dataset_2021.csv')\n",
    "url_table = url_table.drop_duplicates().reset_index(drop = True) #3557개 -> 3472개로 줄음"
   ]
  },
  {
   "cell_type": "code",
   "execution_count": 9,
   "metadata": {},
   "outputs": [
    {
     "data": {
      "text/html": [
       "<div>\n",
       "<style scoped>\n",
       "    .dataframe tbody tr th:only-of-type {\n",
       "        vertical-align: middle;\n",
       "    }\n",
       "\n",
       "    .dataframe tbody tr th {\n",
       "        vertical-align: top;\n",
       "    }\n",
       "\n",
       "    .dataframe thead th {\n",
       "        text-align: right;\n",
       "    }\n",
       "</style>\n",
       "<table border=\"1\" class=\"dataframe\">\n",
       "  <thead>\n",
       "    <tr style=\"text-align: right;\">\n",
       "      <th></th>\n",
       "      <th>title</th>\n",
       "      <th>url</th>\n",
       "      <th>press</th>\n",
       "      <th>date</th>\n",
       "    </tr>\n",
       "  </thead>\n",
       "  <tbody>\n",
       "    <tr>\n",
       "      <th>0</th>\n",
       "      <td>올해는 ESG 정보공시 표준화 원년, 압박 더 거세진다</td>\n",
       "      <td>https://news.naver.com/main/read.naver?mode=LS...</td>\n",
       "      <td>머니투데이</td>\n",
       "      <td>2021.01.01.</td>\n",
       "    </tr>\n",
       "    <tr>\n",
       "      <th>1</th>\n",
       "      <td>서학개미 사로잡은 美 ESG ETF, 올해도 高高할까</td>\n",
       "      <td>https://news.naver.com/main/read.naver?mode=LS...</td>\n",
       "      <td>매일경제</td>\n",
       "      <td>2021.01.01.</td>\n",
       "    </tr>\n",
       "    <tr>\n",
       "      <th>2</th>\n",
       "      <td>[신년사]방문규 수은 행장 \"수출 6000억달러 선봉장될 것\"</td>\n",
       "      <td>https://news.naver.com/main/read.naver?mode=LS...</td>\n",
       "      <td>뉴시스</td>\n",
       "      <td>2021.01.01.</td>\n",
       "    </tr>\n",
       "    <tr>\n",
       "      <th>3</th>\n",
       "      <td>[韓산업 대전환 ①] 격변기의 시대…대전환 앞당겼다</td>\n",
       "      <td>https://news.naver.com/main/read.naver?mode=LS...</td>\n",
       "      <td>아이뉴스24</td>\n",
       "      <td>2021.01.01.</td>\n",
       "    </tr>\n",
       "    <tr>\n",
       "      <th>4</th>\n",
       "      <td>펀드사태 혼쭐난 금융권, 외부 `포청천` 영입</td>\n",
       "      <td>https://news.naver.com/main/read.naver?mode=LS...</td>\n",
       "      <td>매일경제</td>\n",
       "      <td>2021.01.01.</td>\n",
       "    </tr>\n",
       "    <tr>\n",
       "      <th>...</th>\n",
       "      <td>...</td>\n",
       "      <td>...</td>\n",
       "      <td>...</td>\n",
       "      <td>...</td>\n",
       "    </tr>\n",
       "    <tr>\n",
       "      <th>3466</th>\n",
       "      <td>국립공원공단, 제1차 '국립공원공단 ESG 위원회' 개최</td>\n",
       "      <td>https://news.naver.com/main/read.naver?mode=LS...</td>\n",
       "      <td>연합뉴스</td>\n",
       "      <td>6일 전</td>\n",
       "    </tr>\n",
       "    <tr>\n",
       "      <th>3467</th>\n",
       "      <td>ESG 열풍 이어지는데…‘나쁜 기업’ 투자하는 BAD ETF 시선 집중</td>\n",
       "      <td>https://news.naver.com/main/read.naver?mode=LS...</td>\n",
       "      <td>매경이코노미</td>\n",
       "      <td>6일 전</td>\n",
       "    </tr>\n",
       "    <tr>\n",
       "      <th>3468</th>\n",
       "      <td>가스안전공사, 조직개편…미래성장실·ESG경영처 신설</td>\n",
       "      <td>https://news.naver.com/main/read.naver?mode=LS...</td>\n",
       "      <td>전자신문</td>\n",
       "      <td>7일 전</td>\n",
       "    </tr>\n",
       "    <tr>\n",
       "      <th>3469</th>\n",
       "      <td>동원개발, 새로운 CI 개발…'ESG+S 경영' 선포</td>\n",
       "      <td>https://news.naver.com/main/read.naver?mode=LS...</td>\n",
       "      <td>국민일보</td>\n",
       "      <td>7일 전</td>\n",
       "    </tr>\n",
       "    <tr>\n",
       "      <th>3470</th>\n",
       "      <td>동원그룹, 지속가능한 기업 활동으로 ESG 경영 실천</td>\n",
       "      <td>https://news.naver.com/main/read.naver?mode=LS...</td>\n",
       "      <td>매일경제</td>\n",
       "      <td>6일 전</td>\n",
       "    </tr>\n",
       "  </tbody>\n",
       "</table>\n",
       "<p>3471 rows × 4 columns</p>\n",
       "</div>"
      ],
      "text/plain": [
       "                                        title  \\\n",
       "0              올해는 ESG 정보공시 표준화 원년, 압박 더 거세진다   \n",
       "1               서학개미 사로잡은 美 ESG ETF, 올해도 高高할까   \n",
       "2          [신년사]방문규 수은 행장 \"수출 6000억달러 선봉장될 것\"   \n",
       "3                [韓산업 대전환 ①] 격변기의 시대…대전환 앞당겼다   \n",
       "4                   펀드사태 혼쭐난 금융권, 외부 `포청천` 영입   \n",
       "...                                       ...   \n",
       "3466          국립공원공단, 제1차 '국립공원공단 ESG 위원회' 개최   \n",
       "3467  ESG 열풍 이어지는데…‘나쁜 기업’ 투자하는 BAD ETF 시선 집중   \n",
       "3468             가스안전공사, 조직개편…미래성장실·ESG경영처 신설   \n",
       "3469            동원개발, 새로운 CI 개발…'ESG+S 경영' 선포   \n",
       "3470            동원그룹, 지속가능한 기업 활동으로 ESG 경영 실천   \n",
       "\n",
       "                                                    url   press         date  \n",
       "0     https://news.naver.com/main/read.naver?mode=LS...   머니투데이  2021.01.01.  \n",
       "1     https://news.naver.com/main/read.naver?mode=LS...    매일경제  2021.01.01.  \n",
       "2     https://news.naver.com/main/read.naver?mode=LS...     뉴시스  2021.01.01.  \n",
       "3     https://news.naver.com/main/read.naver?mode=LS...  아이뉴스24  2021.01.01.  \n",
       "4     https://news.naver.com/main/read.naver?mode=LS...    매일경제  2021.01.01.  \n",
       "...                                                 ...     ...          ...  \n",
       "3466  https://news.naver.com/main/read.naver?mode=LS...    연합뉴스         6일 전  \n",
       "3467  https://news.naver.com/main/read.naver?mode=LS...  매경이코노미         6일 전  \n",
       "3468  https://news.naver.com/main/read.naver?mode=LS...    전자신문         7일 전  \n",
       "3469  https://news.naver.com/main/read.naver?mode=LS...    국민일보         7일 전  \n",
       "3470  https://news.naver.com/main/read.naver?mode=LS...    매일경제         6일 전  \n",
       "\n",
       "[3471 rows x 4 columns]"
      ]
     },
     "execution_count": 9,
     "metadata": {},
     "output_type": "execute_result"
    }
   ],
   "source": [
    "url_table"
   ]
  },
  {
   "cell_type": "code",
   "execution_count": 10,
   "metadata": {},
   "outputs": [],
   "source": [
    "# 수집 데이터 저장\n",
    "url_table.to_csv('url_dataset_2021_drop.csv', encoding = 'utf-8-sig', index=False)"
   ]
  },
  {
   "cell_type": "code",
   "execution_count": 11,
   "metadata": {},
   "outputs": [
    {
     "ename": "NameError",
     "evalue": "name 'url_dataset' is not defined",
     "output_type": "error",
     "traceback": [
      "\u001b[1;31m---------------------------------------------------------------------------\u001b[0m",
      "\u001b[1;31mNameError\u001b[0m                                 Traceback (most recent call last)",
      "\u001b[1;32m<ipython-input-11-478757262caa>\u001b[0m in \u001b[0;36m<module>\u001b[1;34m\u001b[0m\n\u001b[0;32m      1\u001b[0m \u001b[1;31m# 수집 데이터 저장\u001b[0m\u001b[1;33m\u001b[0m\u001b[1;33m\u001b[0m\u001b[1;33m\u001b[0m\u001b[0m\n\u001b[1;32m----> 2\u001b[1;33m \u001b[0murl_dataset\u001b[0m\u001b[1;33m.\u001b[0m\u001b[0mto_csv\u001b[0m\u001b[1;33m(\u001b[0m\u001b[1;34m'url_dataset_2021.csv'\u001b[0m\u001b[1;33m,\u001b[0m \u001b[0mencoding\u001b[0m \u001b[1;33m=\u001b[0m \u001b[1;34m'utf-8-sig'\u001b[0m\u001b[1;33m,\u001b[0m \u001b[0mindex\u001b[0m\u001b[1;33m=\u001b[0m\u001b[1;32mFalse\u001b[0m\u001b[1;33m)\u001b[0m\u001b[1;33m\u001b[0m\u001b[1;33m\u001b[0m\u001b[0m\n\u001b[0m",
      "\u001b[1;31mNameError\u001b[0m: name 'url_dataset' is not defined"
     ]
    }
   ],
   "source": [
    "# 수집 데이터 저장\n",
    "url_dataset.to_csv('url_dataset_2021.csv', encoding = 'utf-8-sig', index=False)"
   ]
  },
  {
   "cell_type": "code",
   "execution_count": 12,
   "metadata": {
    "scrolled": true
   },
   "outputs": [
    {
     "ename": "TypeError",
     "evalue": "url_collect() missing 1 required positional argument: 'page_num'",
     "output_type": "error",
     "traceback": [
      "\u001b[1;31m---------------------------------------------------------------------------\u001b[0m",
      "\u001b[1;31mTypeError\u001b[0m                                 Traceback (most recent call last)",
      "\u001b[1;32m<ipython-input-12-f76171424fc5>\u001b[0m in \u001b[0;36m<module>\u001b[1;34m\u001b[0m\n\u001b[0;32m      1\u001b[0m \u001b[1;31m#### 기사 수집에 문제 있는 날짜들\u001b[0m\u001b[1;33m\u001b[0m\u001b[1;33m\u001b[0m\u001b[1;33m\u001b[0m\u001b[0m\n\u001b[1;32m----> 2\u001b[1;33m \u001b[0murl_collect\u001b[0m\u001b[1;33m(\u001b[0m\u001b[1;34m'esg'\u001b[0m\u001b[1;33m,\u001b[0m \u001b[1;34m'20200907'\u001b[0m\u001b[1;33m,\u001b[0m \u001b[1;34m'20200907'\u001b[0m\u001b[1;33m)\u001b[0m\u001b[1;33m\u001b[0m\u001b[1;33m\u001b[0m\u001b[0m\n\u001b[0m",
      "\u001b[1;31mTypeError\u001b[0m: url_collect() missing 1 required positional argument: 'page_num'"
     ]
    }
   ],
   "source": [
    "#### 기사 수집에 문제 있는 날짜들\n",
    "url_collect('esg', '20200907', '20200907')"
   ]
  },
  {
   "cell_type": "code",
   "execution_count": null,
   "metadata": {},
   "outputs": [],
   "source": []
  },
  {
   "cell_type": "markdown",
   "metadata": {},
   "source": [
    "# 2) 본문 crawling"
   ]
  },
  {
   "cell_type": "code",
   "execution_count": 4,
   "metadata": {
    "scrolled": true
   },
   "outputs": [],
   "source": [
    "url_table = pd.read_csv('url_dataset_2021_drop.csv')\n",
    "url_table2 = pd.read_csv('url_dataset_2021_drop.csv')\n",
    "\n",
    "text_url = url_table\n",
    "text_url['content'] = np.nan"
   ]
  },
  {
   "cell_type": "code",
   "execution_count": 5,
   "metadata": {},
   "outputs": [],
   "source": [
    "data = list(url_table2.itertuples(index=False, name=None))\n",
    "data\n",
    "\n",
    "sql = \"\"\"\n",
    "INSERT INTO esg_url_crawl(\n",
    "    title, url, press, date) VALUES(%s,%s,%s,%s)\n",
    "\"\"\"\n",
    "\n",
    "cursor.executemany(sql, data)\n",
    "conn.commit()"
   ]
  },
  {
   "cell_type": "code",
   "execution_count": null,
   "metadata": {
    "scrolled": true
   },
   "outputs": [],
   "source": [
    "text_url"
   ]
  },
  {
   "cell_type": "code",
   "execution_count": null,
   "metadata": {},
   "outputs": [
    {
     "data": {
      "application/vnd.jupyter.widget-view+json": {
       "model_id": "873d4396fc1247eb864ed87e02860b95",
       "version_major": 2,
       "version_minor": 0
      },
      "text/plain": [
       "0it [00:00, ?it/s]"
      ]
     },
     "metadata": {},
     "output_type": "display_data"
    },
    {
     "name": "stdout",
     "output_type": "stream",
     "text": [
      "0 https://news.naver.com/main/read.naver?mode=LSD&mid=sec&sid1=101&oid=008&aid=0004522316\n",
      "엔터 치세요 :\n",
      "\n",
      "\n",
      "\n",
      "\n",
      "\n",
      "\t\n",
      "\t[머니투데이 대담=박재범 증권부장, 정리=황국상 기자  ] [[포스트 코로나, ESG가 경제 시스템을 바꾼다]산업·금융·법조계 ESG 전문가 대담]/사진제공=이미지투데이2020년은 ESG(환경·사회적 가치·지배구조) 논의의 원년으로 평가된다. 포털 사이트 다음(Daum)에서 ‘ESG’를 키워드로 해서 검색되는 뉴스 건수만 2만9200건(2020년 12월24일 기준)에 이른다. 2000년 1월부터 2019년 12월말까지, 20년간 나온 전체 ESG 뉴스 건수(약 1만2600건)의 2배를 넘는다. ESG가 주목을 받은 것은 지난해 전세계를 뒤흔든 코로나19(COVID-19) 때문이었다. 전염병이 경제 시스템 전반에 충격을 가하자 정부와 기업들은 그간 눈여겨 보지 않았던 비재무적 리스크 요인에 대한 관리 필요성을 절감했다. 주요 기업이나 금융사들이 ESG를 전사 리스크 관리나 전략기획 차원에서 다루기 시작한 것도 2020년부터다. 올해는 어떨까. 머니투데이는 2021년 신축년을 맞아 기업과 금융, 법조계 등 다양한 분야에서 활동하는 ESG 전문가들을 초빙해 ‘ESG 규제환경의 변화 - 기업·금융의 갈 길’이라는 주제로 대담을 진행했다.이번 대담에는 권기준 SK 수펙스협의회 SV위원회 부사장, 김성우 김앤장법률사무소 환경에너지연구소장, 우상현 KB은행 CIB(기업투자금융) 전무 겸 KB증권 IB(투자은행) 부사장, 윤석모 삼성증권 리서치센터장 겸 ESG연구소장이 참여했다.(이상 가나다 순) 코로나19가 확산되고 있는 시기임을 감안해 이번 대담은 박재범 머니투데이 증권부장 진행에 따라 온라인 화상회의로 진행됐다.━돈 버는 방식의 변화… '해 안끼치고 돈 벌기'→'착하게 돈 벌기'━ESG는 경제 중심, 기업 활동 중심에 들어와 있다. 이에 비해 아직 일반 국민의 체감도는 떨어진다. ‘뜬구름 잡는’ 선언처럼 느끼는 이도 적잖다. 다소 구체화된 ‘지속 가능한 경영’이란 시각도 있다. 대담 참여자들은 “착한 기업, 착하게 돈버는 기업, 착한 자본시장”으로 ESG 의미를 설명했다. ▶박재범 증권부장(이하 박 부장) =  대기업들에게는 ESG가 주요 화두가 된지 오래지만 중소기업이나 일반 국민들에게는 ESG가 아직 낯설다. ESG를 알기 쉽게 설명해달라. 우리 기업들이 어떻게 ESG 경영을 하고 있는지 소개도 부탁드린다.▶김성우 김앤장 환경에너지연구소장(이하 김 소장) = 이미 ESG를 위한 여건은 마련돼 있다. 일반 국민들도 미세먼지 사태 등을 경험하며 환경 리스크에 대한 고민이 깊어졌다. 화석연료를 덜 쓰고 에너지를 아껴서 기후변화 위기를 막아보자는 인식도 높아졌다. 이같은 공감대에 힘입어 연기금 등 글로벌 투자자들이 기업에 ESG 정보공개 압박을 가하기 시작했다. ESG 리스크 관리 필요성에 대한 대중의 인식이 높아지지 않으면 투자자들이 적극적으로 압박하지 못한다.▶윤석모 삼성증권 리서치센터장 겸 ESG연구소장(이하 윤 센터장) = 18세기부터 이미 윤리투자가 존재했다. 기업이 재무적 성과를 거두는 과정에서 사회나 환경 등 다른 부문에 피해를 끼치지 않아야 한다는 기본 개념이다. 코로나를 비롯 환경위기 등이 현실화되면서 ESG 필요성을 많이 느끼게 됐다. 결국 ‘착한 기업, 자본시장이 되자’는 게 ESG라고 볼 수 있다.▶권기준 SK 수펙스협의회 부사장(이하 권 부사장) = 사회적 인식이 바뀌고 있다. 그 중심에 소비자가 있다. 소비자가 바뀌면 당국이 규제를 만들고 금융기관이 이에 따른다. 투자자들이 우리 기업들에게 변화를 요구한다. 투자자 뿐 아니라 ‘피어 프레셔(Peer Pressure, 동류집단 압력)’도 있다. 이를테면 애플이, 재생에너지로 만든 반도체만 자기들에게 납품해달라고 요구하는 게 한 예다.이해관계자 모두로부터, ESG 관련 관리를 보다 강하게 해줄 것을 요구받고 있는 시대다. 안할 수 없게 됐다. 이제는 그냥 돈버는 기업이 돼선 안된다. 착하게 돈버는 기업이 돼야 한다.▶우상현 KB은행 CIB전무 겸 KB증권 IB 부사장(우 부사장) = ESG가 매우 거시적인 개념이기 때문에 각 사별로 어디에 중심을 두고 자기에 맞는 ESG 체계를 갖출지는 업종·업태에따라 달라질 수 있다. 지금도 ESG는 탄소중립, 기후협약, 사회적기업, 지배구조 등 여러 개념들이 혼재돼 있다. 당분간 1,2년 정도는 각 산업·기업별로 가치정립이 필요할 것이다.━2021년은 ESG 정보공시 표준화 원년, 미래투자로 인식해야━참가자들은 2020년이 ESG 정보관리의 필요성에 대한 인식이 확대된 해였다고 진단했다. 그러면서 “기업에 대한 당국·투자자의 ESG 정보공개 압박은 집요하고도 훨씬 강하게 가해질 것”이라며 “올해가 ESG 정보공개 방식을 표준화하기 위한 원년이 될 것”이라고 입을 모았다. 특히 ESG 정보의 표준화·통일화 작업이 본격화되는 한 해가 될 것이라고 전망했다. 아울러 ESG를 단기 비용요인으로만 생각하지 말고 중장기 수익창출을 위한 투자로 여겨야 한다고도 당부했다.▶박 부장 =  ‘착하게 돈 버는 기업’이란 정의가 쏙 들어온다. 다만 ESG로 수익 창출이 가능할 지 의문이 들 수밖에 없는데. 권기준 SK 수펙스협의회 부사장▶권 부사장 =  ESG는 리스크 요인이자 미래수익 창출을 위한 기회요인이라는 점에서 양면적이다. ESG 관련해서 나쁜 평가를 받으면 심각한 기업가치의 디밸류에이션(Devaluation, 가치훼손)이 발생한다. 무엇 하나 소홀함이 없이 관리가 필요하다는 것을 절절히 느낀다. 이 때문에 SK는 그룹 공통 ESG 성과 지표를 수립해서 30개 지표와 80개 관리항목을 도출하고 관계사들과 어떻게 이를 적용할지 조율하는 작업을 하고 있다.ESG 관련 비용을 단지 비용으로 끝낼 건지, 미래 수익 창출을 위한 투자로 연결시킬 것인지는 기업의 관점과 철학에 달린 문제다. 우리는 당연히 미래를 위한 투자라고 생각한다. 지금은 돈이 들더라도 미래의 비용을 절감해주거나 미래의 수익을 가져올 것이라고 믿는다. ESG 정보를 관리함으로써 디밸류에이션을 방지하고 이를 혁신의 계기로 활용해 리밸류에이션(Revaluation, 가치 재평가)를 받아보자는 것이다. SK건설이 자원순환업체 EMC홀딩스를 인수해 비즈니스 포트폴리오를 바꾸고 SK E&S가 새만금 재생에너지 비즈니스를 만드는 것처럼 하나씩 만들어가고 있다. 지금 당장은 비용일 수 있지만 나중에 더 큰 가치를 창출할 것으로 인식하고 있다.▶우 부사장 = KB금융은 금융사 최초로 ESG 위원회를 구성해 전 계열사의 ESG 경영을 선도하고 소통하도록 했다. 금융권 최초로 탈석탄 선언을 내놓고 계열사 전체의 실천과제를 도출하려고 하고 있다. 당장 ESG는 기업금융 투·융자 사업에서 수익창출 기회의 영역이 될 수 있다. 탈석탄 선언의 일환으로 신재생에너지 분야에 대한 투자가 확대될 수 있기 때문이다. KB금융의 CIB 섹터에서는 10년간 ESG 관련 100조원 규모의 금융을 시현하겠다는 장기 비전을 내놓은 바 있다. DCM(채권자본시장)·ECM(주식자본시장)에서도 ‘그린소셜 에셋’ ‘그린소셜 부동산’ 및 혁신금융 등을 통해 이를 달성하겠다는 것이다. CIB 뿐 아니라 중소기업, 사회적기업, 환경 등 각 부문에서도 실천과제를 계속 내놓고 있다. ▶윤 센터장 = 착하게 돈을 벌어야 한다고 했지만 과연 정말 착한 것인지, 환경에만 착한 건 아닌지, 기업과 사회에 대해서는 과연 착한지, 돈을 버는 방식이 중장기적으로 지속가능한지등을 표준화된 형태로 정보화하는 움직임이 더 거세질 것이다. TCFD(기후변화 리스크의 재무공시를 위한 태스크포스팀) 권고안이나 EU(유럽연합)의 ‘그린 택소노미’(Green Taxonomy, 녹색산업 분류체계) 등이 대표적이다. 이같은 움직임이 나타나는 이유는 정보가 곧 돈이 돼야 하기 때문이다. ESG 관련 정보가 재무정보로, 투자정보로 활용될 수 있으려면 ESG 관련정보의 표준화·통일화 작업이 선행돼야 한다. 기후변화 리스크에 대해서는 당장 올해 국제적으로 비교가능한 재무제표 형태로 나올 것으로 보인다.당장은 기업들이 혼란스러울 수 있다. 그러나 ESG 관련 정보들이 재무제표상 자산에 어떻게 가치를 더하는지, 어떤 목적에서 어느 가치를 창출하는지 철저히 관리하는 기업이라면 추후 ESG 정보공시가 의무화될 때 투자자들에게 더 많이 어필할 수 있을 것이다. ESG 정보를 어떻게 관리하고 준비하느냐가 ESG 규제에 대한 기업의 성패를 좌우할 수 있을 것이다.지난해말 전기요금 개편안을 내놓은 한국전력이 좋은 예다. ESG 비친화적 기업이라는 논란도 있었지만 앞으로는 기후변화 대응 비용이나 신재생에너지 비용 등이 재무제표에 반영될 수 있게 됐다. 한때 외국인 투자자 지분율이 크게 떨어졌지만 최근 한국전력 문의가 늘어나고 있다. 투자자들에게는 ESG 정보를 어떻게 잘 관리하고 리스크를 개선시키는지가 중요한 어필 포인트이기 때문이다.▶김 소장 =  당장 EU 규제를 봐야 한다. 우선 유럽에서 제품을 팔고 유럽 소재 기관투자자들로부터 유치하려는 우리 기업들은 직간접적으로 EU의 ESG 규제에 노출될 수밖에 없다. 나아가 국내에서도 점차 ESG 규제를 입법화 하려는 모습이 나타날 것이다. 그 경우 이미 법안을 제정해 시행하고 있는 EU의 사례가 벤치마크 대상이 될 것이다.EU에서 올해부터 시행되는 규제는 금융상품들이 ESG 요소를 잘 담고 있는지 공개하는 것이다. 또 지속가능 투자를 얼마나 실제 집행하고 있는지를 계량화된 수치로 공개하도록 하는 것도 있다. ESG 정보공개 요구는 지난해보다 훨씬 촘촘하게, 집요하게 이뤄질 것이다. ESG 정보공개를 한 기업에 대해선 실제 과거의 선언이나 약속을 얼마나 이행했는지도 따지게 될 것이다. 특히 EU 당국과 기관투자자는 기업의 이사회나 경영진이 직접 ESG 정보공개를 이행하도록 압박을 가할 것이다.결국 ESG 규제대응은 이사회, 최고경영진이 직접 깊이 이해하고 담당하는 수밖에 없다. 또 ESG가 매우 넓은 이슈이기 때문에 기업의 주 활동지역과 업종, 기업 특성에 맞게 ESG를 관리하면 된다. ESG 이슈를 내 회사에 맞게 파악하고 관리해야 한다는 것이다. 나아가 ESG 규제를 무조건 지키라고 투자자들이 요구하는 게 아니다. 업종에 따라 ESG 측면에서의 개선이 어려운 곳들도 분명 있다. 그 경우에는 왜 안되는지, 충분히 설명하면 된다. EU 규제도 마찬가지다.▶박 부장 = 현장과 관리조직 사이의 갈등이 있을 것 같다. 이상적 방안을 택하려 해도 현장에서 못받아들이는 문제도 있을 것이다. 현실적으로는 오너나 대표 등이 관심을 둬야 ESG 경영이 가능한 것은 아닐까. ESG 친화적인 지속가능경영이 가능하려면 결국은 탑다운(Top-Down, 상의하달) 방식 외에는 답이 없는 것일까. 현장에서 느끼는 부분이 있다면. 우상현 KB은행 CIB전무 겸 KB증권 IB 부사장▶우 부사장 = 초기에는 탑다운 방식의 방향성 설정이 중요하다. 그러나 중장기적으로는 전 구성원과 사회 소통 채널에 체화돼야 한다. KB금융도 CIB 부문에서 10년간 100조원 투·융자, 등 실천 과제를 내놨는데 개인별로도 플라스틱·종이·전력사용 절감 등 개인적 과제도 설정해 이행 중이다. 실제 사무공간에서의 행동실천 과제를 도출해 비즈니스 차원에서의 장기과제도 도출하기 위해서다. 모든 비즈니스와 개인 업무에 ESG가 체화되도록 하는 게 중요하다. 물론 초기에는 어느 정도 탑다운 방식의 전략설정이 필요하다.▶윤 센터장 = 현대차의 변화를 흥미롭게 본다. 이사회 내에 전원 사외이사로 구성된 투명경영위원회를 설치했다. 그 중 한 분을 주주권익보호 담당이사로 지정해 지배구조 헌장도 도입했다. 이사회에 ESG 친화적인 부분들을 내재화하고 있는 것이다. 정의선 회장의 수소차·친환경 관련한 리더십과 이사회의 합리적 의사결정 체계가 조화를 이루는 것은 주주들이 가장 열광할 수 있는 부분이다. 그런 면에서 탑다운이 의미가 있다.▶권 부사장 = 시작은 탑다운이 맞지만 결국 조직 내 체화가 필요하다. 기업은 혁신을 하고 사회문제를 해결해 가면서 비즈니스 모델을 구상해야 하는데 혁신의 주체가 바로 구성원이다. KPI(핵심성과지표)에 ESG가 연계되도록 해야 한다. 우리도 아직 제도화 중이기는 하지만 KPI의 50%를 SV(사회적가치)로, 나머지 50%를 EV(기업가치)에 두도록 하고 있다. 구성원의 평가와 보상에 ESG가 반영되도록 해야 한다.▶김 소장 = 탑다운이 다소 강압적인 느낌이 드는 표현이기는 하지만 이사회와 경영진 본연의 업무를 하는 것이라고 이해하면 거부감이 덜할 수 있다. 회사 의사결정에 있어서 단기·장기 이슈가 충돌하거나 부서간 의견이 다를 때 이사회·경영진은 이를 조율할 의무가 있다. ESG도 마찬가지다. 이사회·경영진이 하면 될 일이다.━ESG 통합 국가전략 부재, 국가경쟁력 제고 차원에서 접근해야━'ESG 규제환경의 변화 - 기업·금융의 갈 길'이라는 주제로 진행된 머니투데이 신년 ESG 전문가 대담이 진행되고 있다.  / 사진=이기범 기자 leekb@ESG 등 비재무적 리스크 요인을 철저히 관리하고 공개하면서 나아가 ESG에서 기회요인을 발굴하는 작업, 말로는 쉽지만 항상 실천은 어려운 법이다. 문제는 기업이 의지가 있다고 하더라도 이를 지속할 만한 상황이 뒷받침돼야 한다. 전문가들은 어떤 점을 미흡하다고 봤을지 알아봤다.▶박 부장 = 우리 정부도 탄소중립 선언을 내놓는 등 ESG 확산에 박차를 가하고 있다. 우리나라는 ESG 경영을 하는 데 어느 정도 우호적인 환경이라고 보시는지 궁금하다.▶권 부사장 = SK가 최근 ‘RE100’, 즉 기업이 사용하는 전력 100%를 재생에너지로 충당하겠다는 글로벌 협약에 한국 최초로 가입했다. RE100은 매년 연간보고서를 내면서 RE100을 달성하기 어려운 나라가 어디인지를 묻는 주관식 설문을 진행한다. 지난해 12월15일 발간된 RE100 연간 보고서에 따르면 한국은 조사대상 174개국 중 세번째로 RE100을 하기 어려운 나라로 꼽혔다. 1위는 중국, 2위는 싱가포르였다. 10위권에는 러시아·뉴질랜드·아일랜드·아르헨티나·인도 등이 있다. 우리가 RE100에 가입하기 전까지 한국기업이 전무했던 상황이기는 하지만 한국에서 영업하는 글로벌 기업들이 많다. 애플의 경우 RE100 이행을 위한 글로벌 투자처를 찾는데 한국에 대해 그렇게 평가했다. 구글도 한국에서 데이터센터를 하려면 전력을 대규모로 써야 하는데 재생에너지 조달이 어렵다고 한 것이다.RE100 하기 어려운 나라 명단에 유럽이나 북미 지역 국가들이 없는 게 눈에 띈다. 이들은 신재생에너지의 가격이나 물량 측면에서 RE100을 하기가 수월한 곳들로 꼽힌다. 이들의 공통점은 은 추후 탄소국경세(탄소 다배출 국가에서 수입하는 제품에 매기는 관세)를 도입하겠다고 선언했다는 점이다. 단지 제품을 생산할 때 배출한 탄소 뿐 아니라 소비자들이 제품을 소비하는 과정에서 배출되는 탄소를 포함한 총량(탄소발자국, Carbon Footprint)을 재서 과세할 것으로 예상된다.RE100은 탄소배출을 줄이기 위한 좋은 방법인데 우리는 절대적으로 불리한 상황이다. 국가경쟁력 관점에서 우리 정부가 범부처 차원에서 통합 방안을 내놔야 한다. 우리 기업들이 글로벌 시장에서 도태되지 않도록 하기 위한, 전향적 정책들이 시급하다.정보공시 표준화도 필요하다. 투자자의 정보 비대칭성이 매우 심하다. 표준화된 ESG 공시가 자리를 잡아야 제대로 된 공시를 해서 거래 상대방으로부터 제대로 된 파트너로 인정받을 수 있다. 표준화된 공시가 있다면 도움이 될 것이다. 정부도 ESG 이슈를 확대하려고 다양한 노력을 기울이고 있지만 정부만의 노력으로는 ESG 확대가 안된다. 기업들이 자발적으로 참여하는 공시제도가 필요하다. 세계 최대 자산운용사 블랙록이 2021년 의결권 행사지침을 지난해 말 내놨다. 주주관여 활동을 더 하겠다는 선언이기도 했지만 ESG 정보공시를 더 잘 하라는 메시지가 담겨 있다.▶김 소장 = ESG 압박이 거세지고 있다. 어떻게 대응하느냐에 따라 ESG는 우리 경제에 독이 될수도 약이 될수도 있다. 이왕이면 약이 되도록 해야 한다. 어차피 우리 자본시장은 외국인 투자비율이 높다. 개방돼 있다. 일본처럼 우리 경제에 유리하게 ESG 규제를 세팅하려는 고민이 필요하다. 일본은 최근 ESG 정보공개를 의무화하는 방안을 도입키로 했다.아예 규제목적에 글로벌 자본시장에서 돌아다니는 ESG 자금을 일본 쪽으로 끌어오기 위한 것이라고 명시했다. 아울러 일본이 탄소중립을 선언한 것도, 탄소중립이 본격화되면 일본기업들이 가진 기술특허들이 상당히 빛을 발한다는 것도 배경에 있다.어떻게 ESG를 해야 우리나라, 우리 경제, 우리 기업에 유리할지 통합적으로 고려해야 한다. 유럽이나 일본과 달리 우리나라는 E와S와G가 분절돼 있다. G, 즉 지배구조에 대해서는 2019년부터 의무공개가 진행되고 있고 상장사 전체로 의무공개 대상이 확대될 예정이다. 그런데 아직 E,S와 관련한 의무공개는 아직 없다. 다만 한국거래소가 E,S 정보공개 가이드라인을 내놓을 것으로 예상되는 정도다. 물론 E,S 관련 정보 역시 G처럼 규제가 새로 도입될 것으로 보인다. 이미 더불어민주당 민형배·이소영 의원이 기업·금융사의 ESG정보를 의무적으로 공개하도록 하는 법안을 발의해 소위원회에 계류돼 있다. 요컨대 기업들이 G(지배구조)를 제대로 세워서 E(환경) S(사회) 관련 리스크를 제대로 관리하고 기회요인을 창출해 내도록 하는 방안을 잘 만들어주면 된다.대담=박재범 증권부장, 정리=황국상 기자   ▶부동산 투자는 [부릿지]▶조 변호사의 가정상담소▶줄리아 투자노트 <저작권자 ⓒ '돈이 보이는 리얼타임 뉴스' 머니투데이, 무단전재 및 재배포 금지>\n",
      "\t\n",
      "\n",
      "1 https://news.naver.com/main/read.naver?mode=LSD&mid=sec&sid1=101&oid=009&aid=0004726689\n"
     ]
    },
    {
     "name": "stdout",
     "output_type": "stream",
     "text": [
      "엔터 치세요 :\n",
      "\n",
      "\n",
      "\n",
      "\n",
      "\n",
      "작년 `착한 투자`에 30조 몰려인베스코솔라 年 220% 급등美기업 IPO 열기도 뜨거워`로빈후드`등 줄줄이 상장대기 올해도 뉴욕증시에서는 ESG 상장지수펀드(ETF)와 기업공개(IPO)주가 서학개미(해외 증시에 투자하는 개인투자자)의 눈길을 끌 것으로 보인다. ESG는 회계 장부상 드러나는 재무제표 외에 기업 비재무 요소인 환경·사회·지배구조 가치를 줄인 말이다. 새롭게 증시에 문을 연 기업 중에서도 쟁쟁한 업체가 많다.우선 ESG 관련 인베스코 솔라 ETF는 지난달 31일(현지시간) 뉴욕증시 마감 가격 기준으로 작년 한 해 시세가 220% 올랐다. 해당 ETF는 엔페이즈에너지와 솔라에지, 퍼스트솔라, 징코솔라 등 태양에너지 기업들 주가를 추종한다. '파리기후변화협약 복귀'를 선언한 미국 조 바이든 정부가 이달 출범하면 친환경 에너지 부문이 상승세를 탈 것이라는 투자자들의 기대를 받는다. 테슬라와 중국 전기차 '니오', 전기차 배터리용 리튬 공급업체 '앨버말' 등을 담고 있는 퍼스트트러스트 나스닥 클린에지 ETF도 177% 올랐다. 글로벌 증시 데이터분석업체 팩트셋이 추산한 바에 따르면 지난해 뉴욕 증시에서는 투자자들이 ESG 관련 ETF에 최소 274억달러(약 30조원)를 쏟아부었다. 이는 사상 최대 규모로 직전 해인 2019년의 두 배 수준이다.   뉴욕증시 ESG ETF는 100여 개인데 지난해 1월부터 12월 16일까지 새로 출시된 것만 31개로, 2019년 전체(16개)의 2배에 달한다. 대표적인 사례가 지난해 7월 나온 '스탠더드앤드푸어스(S&P) 500지수 ESG ETF'다. 출시 넉 달 만에 9000만달러를 끌어모았다.올해도 기업 상장 열기가 이어질 것으로 보인다. 제프 자코프스키 JP모건 미국 증시 수석전략가는 \"지금처럼 금리가 거의 0%인 상황에서는 물가상승률 이상 수익을 낼 수 있는 자산이 많지 않은데 그나마 있다면 미국 주식, 특히 IPO 상장 주식이 대표적\"이라면서 매수세가 몰릴 수밖에 없다고 분석했다. 이런 가운데 지난달 29일 독일계 명품 온라인 상거래 플랫폼 마이테레사는 미국 증권거래위원회(SEC)에 IPO를 신청했다. 회사가 뉴욕증권거래소 IPO를 통해 끌어모을 예상 금액은 1억5000만달러다. 앞서 28일 IPO를 신청한 클라우드 기반 기업용 소프트웨어 업체 퀄트릭스도 올해 1~2월께 나스닥 증권거래소를 통해 증시에 데뷔할 계획이다. 이 밖에 르네상스캐피털에 따르면 청소년 인기 온라인 게임업체 로블록스와 소비자 대출 핀테크(금융기술) 업체 어펌도 올해 초 IPO에 나설 것으로 보인다. 두 회사는 지난달 도어대시와 에어비앤비가 상장 첫날 100%를 넘나드는 주가 폭등세를 기록하는 등 투자 과열 양상을 보이자 IPO 계획을 올해로 미뤘다. 또 한국 배달 플랫폼인 쿠팡과 미국 신선 식료품 배달 플랫폼 인스타카트, 가상화폐 거래소 코인베이스, '미국판 개인 투자 열풍'을 이끈 주식 중개수수료 무료 애플리케이션 로빈후드 등도 뉴욕증시 상장을 저울질 중이다. 기업인수목적회사(SPAC)를 통한 '우회 상장'도 관심사다. '리틀 버핏' 빌 애크먼이 이끄는 퍼싱스퀘어탄틴홀딩스가 핀테크 스타트업 스트라이프를 인수·합병(M&A)할지 눈길을 끈 바 있다. 다만 상장기업 주가는 록업(보호예수) 기간을 전후해 투자 시점을 정해야 한다. 온라인 중고차 거래업체 브이룸은 지난해 6월 상장 때 시초가 대비 100%를 넘나드는 폭등세를 보였고, 한때 70달러를 돌파하기도 했지만 록업이 해제되면서 주가가 급락해 지난달 31일 기준 40.97달러에 마감했다. [김인오 기자]▶ 네이버 메인에서 '매일경제'를 받아보세요▶ 궁금한 제조과정 영상으로 보세요. '이렇게 만들죠'▶ 아파트 살까 청약할까. 여기서 확인하세요. '매부리tv'[ⓒ 매일경제 & mk.co.kr, 무단전재 및 재배포 금지]\n",
      "\t\n",
      "\n",
      "2 https://news.naver.com/main/read.naver?mode=LSD&mid=sec&sid1=101&oid=003&aid=0010271670\n",
      "엔터 치세요 :\n",
      "\n",
      "\n",
      "\n",
      "\n",
      "\n",
      "\"ESG 경영 강화...수출 중소중견기업 맞춤형 지원\"[서울=뉴시스] 방문규 수출입은행장 (사진=수출입은행 제공) 2021.01.01. photo@newsis.com[서울=뉴시스] 신효령 기자 = 방문규 수출입은행장은 1일 \"수출 6000억달러 탈환을 위한 선봉장이 되겠다\"는 새해 포부를 밝혔다.방 행장은 이날 내놓은 신년사에서 \"우리 경제가 어려울 때마다 버팀목 역할을 해온 것은 수출과 해외 부문\"이라며 \"아쉽게도 우리나라 수출은 2018년 6000억달러를 정점으로 2년 연속 내리막길을 걷고 있다\"며 이같이 말했다.그러면서 \"우리 수은은 대외정책금융을 책임지는 기관으로서 모든 역량을 총집중해 수출의 획기적 턴어라운드를 주도하고 우리 경제의 재도약에 앞장서야 할 것\"이라고 부연했다.이를 위해 K-뉴딜의 글로벌화를 적극 추진하겠다는 방침이다. 방 행장은 \"혁신성장 동력 발굴을 위해 새로운 금융상품을 개발하고, 전통산업의 뉴딜 전환계획을 선제적으로 지원하는 등 K-뉴딜 글로벌 진출 지원을 위한 입체적이고 다각적인 방안을 마련해야 할 것\"이라며 \"45년간의 금융지원 경험과 역량, 해외 네트워크를 총동원해 해외 수주를 부활시키는데 최선을 다하겠다\"고 강조했다.ESG(환경·사회·지배구조) 경영 강화에도 나서겠다는 방침이다. 그는 \"ESG 경영을 선제적으로 추진할 것\"이라며 \"업무 전 분야에 걸쳐 ESG 경영을 내재화하고, 작년에 국제기구에 의해 인증된 ISO 37001 '부패방지경영시스템'을 더욱 고도화해 국민에게 신뢰·사랑을 받는 '클린뱅크'로 발전하도록 최선을 다하자\"고 직원들을 독려하기도 했다. 수출 중소중견기업에 대한 맞춤형 지원에 힘쓰겠다는 각오도 전했다. 그는 \"위기시에는 중소기업의 어려움이 가장 심각하다\"며 \"산업별 특성을 반영해 중소기업 지원을 확대하고, 중소 스피드업 대출, 수출초기기업 지원 등을 통해 혁신형 유망 중소·벤처 기업을 조기 발굴·지원하고, 기술개발-생산-수출 등 성장 단계별 맞춤형 지원을 통해 중소기업을 경쟁력 있는 강소기업·유니콘 기업으로 육성하는데 최선의 노력을 다하자\"고 했다.또 방 행장은 디지털 금융 경쟁력 강화를 위해 힘쓰겠다고 했다. 그는 \"지난해 수은은 '디지털워크플레이스'를 구축하고 디지털 전환전략을 수립하는 등 디지털 전환의 첫 발을 내딛었다\"며 \"올해는 디지털금융 전담조직을 신설하고 자동심사시스템 도입과 비대면 온라인서비스를 구축하는 등 '수은 디지털화의 원년'이 될 것이다. 앞으로 맞춤형 온라인 상담, 온라인 서류 간소화를 통해 정책금융 접근성과 편의성을 제고하겠다\"고 말했다．☞공감언론 뉴시스 snow@newsis.com▶ 네이버에서 뉴시스 구독하기▶ K-Artprice, 유명 미술작품 가격 공개▶ 뉴시스 빅데이터 MSI 주가시세표 바로가기<ⓒ 공감언론 뉴시스통신사. 무단전재-재배포 금지>\n",
      "\t\n",
      "\n",
      "3 https://news.naver.com/main/read.naver?mode=LSD&mid=sec&sid1=101&oid=031&aid=0000576959\n",
      "엔터 치세요 :\n",
      "\n",
      "\n",
      "\n",
      "\n",
      "\n",
      "코로나 팬데믹에 '뉴노멀 시대' 활짝…대내외 경제 불안 속 미래 먹거리 찾기 총력지난 2019년 말 중국 우한에서 발생한 코로나19는 '글로벌 퍼펙트스톰'을 일으켰다. 이에 따라 글로벌 가치사슬(Global Value Chain)의 개념도 바뀌고 있다. 코로나19가 언택트 시대를 앞당기고 디지털 전환의 촉매제로 작용하면서다. 미국과 중국을 대척점으로 하는 신냉전도 글로벌 경제 생태계에 엄청난 후폭풍을 낳고 있다. 수출의존도가 높은 한국 경제에 엄청난 변수다. 반(反)기업법 쓰나미 역시 경영 환경에 상당한 영향을 미치고 있다. 이 같은 요인은 2021년 신축년(辛丑年)에 더 심화될 가능성이 높다. 이제 한국 경제는 전환 시대를 넘어 지형도를 바꾸는 변혁기에 들어설 전망이다. [편집자 주] [사진=뉴시스][아이뉴스24 장유미 기자] 코로나19 팬데믹(세계적 대유행)으로 전례 없는 위기를 맞고 있는 한국 경제가 '뉴노멀 시대'를 맞아 재도약 할 준비를 하고 있다. '뉴노멀'은 저성장, 저금리, 저물가 상황을 뜻하는 경제 용어였지만 팬데믹 위기 후 변화를 뜻하는 말로 최근 확장됐다.1일 재계에 따르면 지금껏 한 번도 경험하지 못했던 위기 속에 갇힌 기업들은 위협과 기회가 동시에 존재하는 현 시점에서 각자만의 '뉴노멀 시대'에 대한 대응 전략 마련에 고군분투하고 있다.특히 코로나19 재확산 여파로 사회적 거리두기가 강화되면서 일하는 방식에 상당한 변화가 일어났다. 재택근무는 일상이 됐고, 이에 따른 업무 효율성을 높이기 위해 기업들은 앞 다퉈 화상회의나 원격근무가 가능한 관련 기술 도입에 나섰다. 문서 없는 보고, 회의 시간 단축, 업무 진행 상황 상시 공유 등의 시스템도 잇따라 적용됐다. [그래픽=조은수 기자]일부 기업들은 나아가 포스트 코로나 시대를 대비하기 위해 초지능·초연결·초실감의 4차 산업혁명을 대비하기 위한 작업에 돌입했다. 비대면 시대에 맞는 스마트 플랫폼 구축, 첨단 기술과 감성으로 개인 맞춤 서비스를 제공하는 인공지능(AI) 기술 개발 등에 대규모 투자에 나서는 곳도 늘었다. 이에 따른 기존 산업과 일자리는 축소됐지만, 비대면·스마트·AI 등을 활용한 새로운 산업과 비즈니스, 일자리가 창출됐다.특히 최근 새로운 리더들이 경영 전면에 나선 주요 그룹들의 관련 움직임은 더 빨라지고 있다. 정의선 현대차그룹 회장, 구광모 LG그룹 회장 등이 대표적이다. 이들은 AI와 모빌리티, 로봇 등 미래 사업에 적극 투자함으로써 기업 경쟁력을 끌어올리는 데 사활을 걸고 있다.더불어 최근에는 급변한 환경 변화에 맞춰 'ESG(환경·사회·지배구조) 경영'을 통해 미래 준비에 나선 기업들도 많아졌다. 기업이 사회에 미치는 영향력이 막강해지면서 단기적인 수익성만 추구하는 기업보다 장기적 관점에서 의사 결정과 비즈니스 활동을 펼치는 기업에 대한 긍정적인 평가가 많이 나오고 있어서다. 또 ESG 요소는 자금조달·투자 기준으로도 점차 활용되고 있다.재계 관계자는 \"성공적인 ESG 경영을 위해선 관련 정책과 규제, 시장 트렌드와 자사 비즈니스를 연계한 전략 수립이 필요하다\"며 \"ESG 정보의 체계적 관리와 성과 측정 모델 개발을 통한 ESG 경영도 내재화해야 한다\"고 강조했다. [사진=아이뉴스24 DB]하지만 미·중 무역갈등 심화, 한·일 관계 경색, 국내 반(反) 기업법 홍수 등에 따른 대외적인 문제들이 점차 심화되면서 기업들은 올해 경영 환경 악화에 대한 우려가 깊다. 코로나19로 세계 경제가 혼란에 빠진 상황 속에서도 미국, 중국 등 경제 대국들의 보호무역주의와 자국우선주의가 심화되고 있고, '기업규제 3법(상법·공정거래법·금융그룹감독법)', 'ILO 3법(동조합법·공무원노조법·교원노조법)'의 국회 통과로 많은 활동에 제약이 생겼기 때문이다.이로 인해 기업들은 올해 실적 개선이 불투명한 상황인 만큼 안전, 환경 투자를 제외하고는 투자나 채용은 대폭 줄일 방침이다. 실제로 한국경영자총협회가 지난달 20일 전국 30인 이상 기업 212개 사를 대상으로 조사한 결과 기업 10곳 중 6곳은 올해 신규 투자와 채용을 지난해보다 줄일 것이라고 응답했다. 대신 보유 현금을 늘려 위기를 타개한다는 방침이다.이 같은 분위기 속에 정부는 오는 2025년까지 디지털 뉴딜, 그린 뉴딜, 안전망 강화 등 세 개를 축으로 분야별 투자 및 일자리 창출에 나서 포스트 코로나를 대비하겠다는 '한국판 뉴딜정책' 실현을 추진하고 나섰다. 이를 통해 디지털 초격차를 확대하고 친환경·저탄소 등 그린 경제로 전환을 가속화하는 한편, 실업 불안 및 소득 격차를 완화시킨다는 방침이다. 이에 따른 투자 규모는 오는 2025년까지 160조 원이다.홍남기 경제부총리가 한국판 뉴딜 당정 추진본부 제1차 회의에서 발언하고 있다. [사진=조성우 기자]그러나 경제계는 정부가 이 같은 계획을 앞세우기 전에 민간 활력 회복 및 미래 먹거리 산업 육성을 위해 기업 정책을 전환시키고, 규제 개혁에 먼저 힘을 쏟아야 한다고 강조했다.경제계 관계자는 \"올해 우리 경제는 예기치 못한 코로나19로 상당한 피해를 입었다\"며 \"국내외 주요기관들이 2021년 우리 경제의 완만한 회복을 전망하고 있지만, 코로나19, 글로벌 보호무역 기조 같은 불안요인이 기업들의 시계(視界)를 제약하면서 내년 우리 기업 경영환경을 둘러싼 불확실성은 여전히 높을 것으로 전망된다\"고 밝혔다.이어 \"최근 정부와 여당이 밀어붙여 국회 본회의에서 통과된 기업규제 3법, 노동관계법 등의 연이은 입법이 기업 환경을 더 악화시킬 것\"이라며 \"기업 규제 중심의 정책과 입법들이 기업 활력을 위축시킬 뿐 아니라 우리 경제를 회복시키고 미래 성장 동력을 추진하는 데 걸림돌로 작용할 것\"이라고 덧붙였다.장유미기자 sweet@inews24.com▶네이버 채널에서 '아이뉴스24'를 구독해주세요.▶재밌는 아이뉴스TV 영상보기 ▶아이뉴스24 바로가기[ⓒ 아이뉴스24 무단전재 및 재배포 금지]\n",
      "\n",
      "\n",
      "4 https://news.naver.com/main/read.naver?mode=LSD&mid=sec&sid1=101&oid=009&aid=0004726714\n",
      "엔터 치세요 :\n",
      "\n",
      "\n",
      "\n",
      "\n",
      "\n",
      "4대 금융지주 인사 키워드는우리금융, 감사원 출신 신민철하나銀은 이인영 변호사 영입IT 전문가 수혈한 신한·KB디지털강화로 빅테크와 경쟁실적악화에 조직도 군살 빼기전담부서 꾸려 ESG경영 속도 KB국민·신한·하나·우리 등 4대 금융지주가 내부통제와 디지털금융 강화를 위해 잇달아 외부 전문가 영입에 나섰다. 여기에 초저금리 시대 생존을 위한 조직 슬림화도 진행하며 포스트 코로나 이후 금융 주도권 싸움을 본격 준비하기 시작했다.  1일 금융권에 따르면 4대 금융지주는 이 같은 내용의 조직 개편과 임원 인사를 최근 마무리했다. 지난해 사모펀드 사태의 쓴맛을 본 하나·우리금융은 내부통제 전문가를 영입해 조직 정비에 착수했다. 조직 내 감사 부문을 신설한 우리금융은 감사원 출신인 신민철 2사무차장을 부사장으로 임명했다. 기존에도 감사부가 있었지만 이를 부사장급 임원 조직으로 격상시킨 것이다. 금융권 관계자는 \"신 부사장은 감사원 재직 당시 금융권의 저승사자로 불릴 정도로 금융권 감사를 깐깐히 진행했던 인물로 명성이 높다\"며 \"감사원에서도 원칙주의자로 평가받았던 전문가\"라고 말했다. 행정고시 33회 출신인 신 부사장은 1992년 감사원에서 금융·건설 등을 담당하는 감사관으로 부임한 뒤 이 분야에서 전문성을 쌓아왔다. 최근까지 PwC컨설팅 상임고문을 지내는 등 외부 경험도 풍부하다.   사모펀드 사태로 곤욕을 치렀던 하나은행도 지난해 말 금융권 최초로 '소비자리스크그룹'을 신설하고 그룹장으로 이인영 김앤장 시니어 변호사를 영입했다. 소비자리스크그룹은 고객의 투자자산 현황을 모니터링하고 각 상품의 위험 등급 등에 대한 평가가 제대로 이뤄졌는지 감독하는 역할을 한다. 특히 올해부터는 상품 위험도와 고객 성향 등에 따라 투자상품 판매한도가 정해지기 때문에 한도의 적정성도 함께 점검할 예정이다.  신한금융 또한 준법감시 기능 강화를 위해 준법감시인인 왕호민 상무와 감사팀장인 김성주 본부장을 각각 부사장으로 승진시켜 조직을 키웠다. 이처럼 금융사들이 준법감시 기능 강화에 나선 것은 지난해 라임·옵티머스자산운용 등 펀드 사태로 큰 홍역을 치른 데다 오는 3월 금융소비자보호법 시행을 앞두고 있기 때문이다. 금융지주들은 디지털 역량 강화에도 적극적이다. 이를 위해 신한금융은 은행 산하 혁신 추진 조직인 '디지털 혁신단'을 신설하고 김혜주 전 KT 상무와 김준환 전 SK C&C 상무를 혁신단을 이끌 리더로 영입했다. 김혜주 상무는 국내 1세대 데이터 사이언티스트로 신한은행의 마이데이터 사업을 총괄할 예정이다. 김준환 상무는 빅데이터와 인공지능(AI) 전문가로 은행권의 다양한 데이터를 수집·분석해 AI기술을 실제 산업에 적용하는 역할을 할 것으로 기대된다.하나은행은 미래금융 리테일 자산관리 등의 기능을 중심으로 분리돼 있던 조직을 '디지털리테일금융'으로 통합했다. 온라인과 오프라인 금융 수요를 동시에 충족시켜 플랫폼 금융을 실현하겠다는 계획이다. KB금융도 디지털·정보기술(IT)·데이터 등 기능별로 분리된 조직을 플랫폼 조직으로 전면 개편했다. 사업 조직과 기술 조직 인재들이 함께 근무하며 상품과 서비스를 동시에 기획·개발·운영하겠다는 계획이다. 지난해 말 인사의 또 다른 특징은 ESG(환경·책임·투명경영) 강화다. 신한금융은 전략·지속가능부문(CSSO) 산하에 ESG 기획팀을 신설했다. 유엔 환경계획 금융이니셔티브(UNEP FI) 글로벌운영위원회(GSC) 아시아태평양뱅킹 부문 대표인 박성현 상무가 CSSO 부사장으로 발탁됐다. 그는 탄소제로 프로젝트와 ESG 통합 평가모델 구축 등을 이끌 예정이다. 하나금융과 우리금융도 ESG 전담 부서를 신설했다.조직 효율성과 경쟁력을 높이기 위한 기존 조직의 군살 빼기도 신년 인사의 트렌드다. 하나은행은 임원 중 전무 자리를 11개에서 6개로 줄이는 대신 상무 자리를 3개 늘렸다. 신한금융은 3단계로 운영되던 경영진 직위 체계를 '부사장-상무'의 2단계로 축소했다. 우리금융도 부서를 기존 24개에서 19개로 5개 줄였다. [문일호 기자 / 김유신 기자]▶ 네이버 메인에서 '매일경제'를 받아보세요▶ 궁금한 제조과정 영상으로 보세요. '이렇게 만들죠'▶ 아파트 살까 청약할까. 여기서 확인하세요. '매부리tv'[ⓒ 매일경제 & mk.co.kr, 무단전재 및 재배포 금지]\n",
      "\t\n",
      "\n",
      "5 https://news.naver.com/main/read.naver?mode=LSD&mid=sec&sid1=101&oid=629&aid=0000060501\n"
     ]
    },
    {
     "name": "stdout",
     "output_type": "stream",
     "text": [
      "엔터 치세요 :\n",
      "\n",
      "\n",
      "\n",
      "\n",
      "\n",
      "이재용 삼성전자 부회장은 지난달 30일 서울고법 형사1부 심리로 진행된 국정농단 파기환송심 결심공판에서 최후진술을 통해 \"준법을 넘어 최고 수준 투명성과 도덕성을 갖춘 회사로 만들겠다\"고 말했다. /남용희 기자2021년에도 경영 위기 계속…삼성은 사법 리스크 고민[더팩트ㅣ이성락 기자] 2021년 신축년 새해가 밝았지만, 재계 총수들의 어깨는 여전히 무겁다.올 한 해 글로벌 기업 간 신사업 경쟁이 그 어느 때보다 치열해질 것으로 예상되면서 신성장동력을 확보하는 데 매진해야 하는 상황이지만, 신종 코로나바이러스 감염증(코로나19) 팬데믹 등 대내외 불확실성이 올해까지 지속될 가능성이 높아지면서 고심이 깊어지는 분위기다.기업별로 풀어야 할 과제도 적지 않다. 삼성의 경우 수년째 발목을 잡았던 '사법 리스크'가 여전히 부담 요소로 남아있다.1일 법조계와 재계에 따르면 오는 18일 이재용 삼성전자 부회장의 파기환송심 선고공판이 열린다. 이 부회장의 향후 거취를 결정짓는 이날 판결을 앞두고 삼성은 초긴장 상태다.이 부회장은 지난해 '사법 리스크' 속에 쉼 없는 현장 경영으로 내실 다지기에 총력을 기울였다. 그는 코로나19 사태 이후 주요 사업장을 차례대로 방문하며 임직원을 격려하는 것은 물론, 중국·네덜란드·베트남 등 재계 총수 가운데 사실상 유일하게 글로벌 현장 경영에 나서기도 했다.'총수 리더십'을 바탕으로 지난해 안정적인 사업포트폴리오 구축과 비대면 수요 확대 등으로 매분기 호실적을 달성한 삼성전자는 코로나19 확산과 미중 무역갈등 지속 등 경영 불확실성에도 위기 대응에 성공했다는 평가를 받는다.삼성은 물론 경제계 안팎에서는 자칫 지난 2017년 '초유의 총수 부재 사태'가 재연될 경우 삼성의 미래 경쟁력이 떨어질 수밖에 없다는 우려의 목소리가 나온다. 실제로 글로벌 기업들이 앞다퉈 대규모 신규투자에 열을 올리고 있는 것과 달리 삼성은 지난 2017년 4월 7일 치러진 1심 첫 공판 이후 지금까지 국정농단 재판에 발목을 잡힌 4년여 동안 M&A 등 신사업 관련 이벤트가 자취를 감췄다.상속세 문제도 풀어야 할 과제다. 고(故) 이건희 회장의 주식 상속세액만 11조 원에 달한다. 현재 이재용 부회장의 상속세 재원 마련 방안에 재계 안팎의 관심이 쏠리고 있다. 이재용 부회장 등 유족들의 상속세 납부는 오는 4월 말까지다.재계에서는 이 부회장이 올해 사법 리스크를 해소하는 데 성공할 경우 그룹 준법경영 강화 및 정체돼 있던 신사업 육성에 드라이브를 걸고 '뉴삼성' 비전을 실행에 옮기는 데 집중할 것으로 전망한다.이재용 삼성전자 부회장(왼쪽부터), 정의선 현대자동차그룹 회장, 최태원 SK그룹 회장, 구광모 LG그룹 회장 등 4대 그룹 총수들은 글로벌 복합 위기 속에서 신사업 경쟁력을 강화해야 하는 과제를 안고 있다. /더팩트 DB, 각사 제공지난해 10월 20년 만에 재계 서열 2위 현대자동차그룹의 새 총수가 된 정의선 회장 앞에 놓인 과제도 적지 않다. 지난해부터 추진해 왔던 '스마트 모빌리티 솔루션' 기업 전환 작업은 올해 더욱 구체화될 전망이다.특히, 올해는 사상 첫 전기차 전용 브랜드 '아이오닉'의 신차 출시를 기점으로, 전기·수소차로 자동차 산업 경쟁력을 한 단계 끌어올려야 한다. 여기에 최근 세계적인 로봇 기업 보스턴 다이내믹스 인수를 결정하며 미래를 위한 공격적인 투자에도 시동을 건 정 회장은 도심항공모빌리티·로보틱스 등 미래 사업 구상을 구체화해 '스마트 모빌리티 솔루션' 기업으로서 기틀을 구축해야 하는 만큼 그 어느 해보다 분주한 일정을 소화할 것으로 점쳐진다.지배구조 개편 작업 역시 대표 과제로 꼽힌다. 정 회장은 현대글로비스 지분 23.3%를 비롯해 현대차 1.99%, 현대모비스 0.27%의 지분을 보유해 그룹 주력 기업 지분이 취약한 상태다. 안정적인 경영권 확보를 위해선 순환출자 고리를 깨고 현대글로비스 중심 지주사 전환을 추진해야 한다.SK그룹의 올해 주요 화두는 ESG(환경·사회·지배구조) 경영이다. 지난해 ESG 중심 경영의 밑그림을 그린 최태원 회장은 올해부터 구체화 작업에 나선다. 최 회장의 ESG 경영 의지 아래 SK CEO들도 더 높은 수준의 ESG 경영이 시급하다는 데 공감대를 이루고 있다. 문제는 성과 확대다. 최 회장은 최근 포럼에서 ESG 경영 확산을 위해 글로벌 사회가 공동 협력해야 한다는 점을 강조하기도 했다.취임 4년 차에 접어든 구광모 LG그룹 회장은 미래 사업을 키우기 위한 승부수를 던진 상태다. 배터리 분사, 마그나와의 합작법인 설립 등 전장 사업에 힘을 줬고, 스타트업 발굴 및 인재 확보 등 AI·로봇 사업에 대한 투자도 이어나가고 있다.계열 분리 작업도 마무리 단계다. 구본준 고문이 계열 분리하는 LG신설지주가 오는 5월 1일 출범하면 구광모 회장의 '뉴LG' 시대가 열리는 셈이다. 계열 분리 후 구 회장은 전자·화학·통신 등 주력 사업에 역량을 집중할 계획이다. 재계에서는 올해가 구 회장의 경영 색깔이 본격적으로 드러나는 시발점이 될 것이라는 관측이 나온다.구광모 회장은 지난해 말 최고경영진 40여 명과 화상회의를 열고 올해 중점적으로 추진할 경영 과제를 확정했다. 그는 민첩한 조직 운영과 고객 중심의 질적 성장을 새해 경영 목표로 제시하면서 품질·환경·안전 중심 조직문화 구축을 강조했다. 구 회장은 \"품질·환경·안전은 내 가족이 쓰는 제품, 내 가족이 일하는 곳이라는 생각으로 구성원 개개인이 책임감을 갖고 임하자\"며 \"이를 위해서는 사장단부터 솔선해주길 바란다\"고 말했다.rocky@tf.co.kr - BTS 공연 비하인드 사진 얻는 방법? [팬버십 가입하기▶]   - 내 아이돌 순위는 내가 정한다! [팬앤스타 투표하기] 저작권자 ⓒ 특종에 강한 더팩트 & tf.co.kr 무단 전재 및 재배포 금지\n",
      "\t\n",
      "\n",
      "6 https://news.naver.com/main/read.naver?mode=LSD&mid=sec&sid1=105&oid=138&aid=0002096915\n",
      "엔터 치세요 :\n",
      "\n",
      "\n",
      "\n",
      "\n",
      "\n",
      "2021년1월1일 오전 7시40분  울산 간절곶 해돋이 생중계 캡쳐<제공: 울산 MBC>존경하는 독자 여러분, 2021년 신축년(辛丑年) 새해가 밝았습니다.신축(辛丑)은 상서로운 ‘하얀 소’를 의미합니다. 비록 우직한 걸음이지만 마침내 코로나19를 극복하고 다시 활기차고 역동적인 삶으로 돌아가는 한 해가 될 수 있기를 함께 소망합니다. 우리나라 IT산업과 함께해 온 IT산업 전문 미디어 <디지털데일리>는 올해 창간 16주년을 맞이합니다.지난해 우리 IT산업도 코로나19로 인해 많은 어려움을 겪었습니다. IT인들 모두에게 힘든 시간이었습니다. 예정됐던 국내외의 대형 IT 행사들은 줄줄이 취소되거나 온라인으로 대체됐고, 그만큼 IT기업들의 비즈니스 창출 기회는 줄어들었습니다.  다른 산업에 비해 IT산업이 상대적으로 업황이 좋았다지만 조금만 더 깊게 들여다보면 곳곳에 산재하는 위기감을 숨길 수는 없습니다. IT시장이 실물 경제의 지표와 결코 동떨어질 수는 없기 때문입니다. 어느 해라도 만만했던 적이 없었지만 2021년은 진정으로 위기와 기회가 교차하는 시간이 될 것으로 예상됩니다. 코로나19 여파로 지난해 국내외 거시경제지표들은 대부분 과거 10년래 가장 저조한 기록을 남겼습니다. 하지만 코스피(KOSPI) 지수는 장중 2900을 돌파하는 등 사상 최고치를 기록하며 막을 내렸습니다. 미국 다우지수 등 해외 주요 증시의 흐름도 마찬 가지입니다. 시장은 어렵지만 코로나19가 종식되면 또 다시 폭발적으로 움직일 시장의 역동성에 대한 기대감 또한 교차하기 때문일 겁니다.코로나19 퇴치를 위한 우리 정부의 구체적인 백신 도입 계획도 지난 31일 추가로 확정 발표됐습니다. 이제부터는 누가 지치지 않고 조금만 더 이 어려운 상황을 견뎌내느냐가 2021년 IT시장의 중요한 관전 포인트가 됐습니다. 시장의 위기를 슬기롭게 극복하기위한 보다 과감한 시장 친화적 정책이 지속적으로 펼쳐질 수 있기를 기대합니다. 지난해 우리 경제의 큰 버팀목 역할을 했던 IT산업은 올해도 시장의 기대치가 높습니다. 특히 반도체 등 우리의 주력 IT수출 품목들에 대한 전망이 밝습니다. 시장조사기관마다 다소 차이는 있으나 우리의 주력인 D램은 올해 20~25%, 낸드플래시 시장 역시 15% 안팎으로 성장할 것이라며 슈퍼 사이클을 예측하고 있습니다.  미국은 오는 20일(현지시간) 민주당의 바이든 대통령이 공식 취임합니다. 지난 2년간 지속된 미-중 무역 갈등으로 그 불확실성의 여파를 고스란히 받아야했던 우리 IT산업에게는 새로운 반전의 계기가 될 수 있기를 기대합니다. 2021년 올해 우리 산업계 전반에서 가장 핫 키워드로 떠오르는 것은 환경·사회·지배구조(ESG)일 것입니다. 한국판 뉴딜 정책과 함께 신재생 에너지, 환경·폐기물 처리, 2차전지 등 녹색사업에 대한 투자가 크게 강화될 것으로 예상됩니다. 이미 주요 IT기업들은 ESG 전담 조직을 신설해 대응에 나서고 있습니다. ESG는 단순히 북극 곰을 살리자는 환경 구호가 아니라 미래 시장의 먹거리와 직접적으로 연결된 매우 중차대한 경제 이슈입니다. 아무쪼록 우리 스스로가 과거의 관념에 안주하지 않고 새로운 변화들에 과감하고 용기있게 도전할 수 있는 한 해가 되기를 바랍니다. 존경하는 독자 여러분, <디지털데일리>는 올해도 IT인들의 눈높이에서 IT산업의 현안을 함께 차분하게 고민하고 IT인들의 목소리를 오롯이 담아내는 IT전문 미디어 본연의 역할에 충실할 것을 약속드립니다.<디지털데일리>는 언택트 상황이 당분간 이어질 것으로 보고 비대면 온라인 방식의 버츄얼 컨퍼런스를 통해 다양한 IT 이슈를 담아낼 수 있도록 노력하겠습니다. AI(인공지능)기반의 IT인프라 고도화 전략, 클라우드를 통한 기업들의 IT 운영 플랫폼의 혁신 전략, 컴플라이언스 대응 전략, 금융IT 혁신 전략, IT기업의 ESG 대응 전략 등 다양한 주제로 컨퍼런스 진행할 계획입니다. 또한 디지털데일리 IT전문기자들을 중심으로 IT산업 각 분야별로 주요 이슈를 점검하는 다양한 형태의 신년 기획도 마련했습니다. 존경하는 독자 여러분, 2021년은 지난날의 어려움을 추억으로 회고할 정도로 모든 일들이 잘 풀려나가는 한 해가 될 수 있기를 바랍니다. 올해도 많은 성원과 격려 부탁드립니다.독자 여러분들 가정에 항상 건강과 행운이 함께하기를 바랍니다. 감사합니다. 새해 복 많이 받으십시요.     2021년 1월1일디지털데일리 임직원 拜上  ▶ 네이버에서 디지털데일리 채널 구독하기▶ IT정보의 즐거운 업그레이드 [딜라이트닷넷]<저작권자 © 디지털데일리 무단전재-재배포금지>\n",
      "\t\n",
      "\n",
      "7 https://news.naver.com/main/read.naver?mode=LSD&mid=sec&sid1=101&oid=005&aid=0001396632\n",
      "엔터 치세요 :\n",
      "\n",
      "\n",
      "\n",
      "\n",
      "\n",
      "차기 농협은행장에 권준학(57·사진) 농협중앙회 기획조정본부장(상무)이 선임됐다. NH농협금융지주는 31일 임원후보추천위원회(임추위)를 열고 은행장 후보로 권 상무를 추천했고, 이어 열린 주주총회에서 신임 행장으로 최종 확정했다. 임기는 1일부터 2년간이다.권 신임 행장은 1989년에 농협중앙회에 입사해 농협은행 경기영업본부장, 퇴직연금부장, 개인고객부장, 부행장 등을 거쳐 중앙회 기획조정본부장을 맡았다. 임추위는 “권 신임 행장은 일선 현장과 본부 기획·마케팅 부서를 두루 거쳤으며, 디지털 전환과 ESG(환경·사회·지배구조) 경영, 소비자보호 강화 등을 추진할 적임자로 평가된다”고 밝혔다. 권 신임 행장은 퇴직연금부장 재임 당시 국내 최초 퇴직연금 전용 로보어드바이저 ‘NH로보-Pro’를 도입했고, 은행권 퇴직연금 운용수익률 1위를 달성했다. 개인고객부장 때는 ‘농협금융 통합우수고객제도’ 참여 계열사를 늘렸고, 지역 청소년 금융교육센터를 확대 설치했다.조민아 기자 minajo@kmib.co.kr▶ 네이버에서 국민일보를 구독하세요(클릭)▶ 국민일보 홈페이지 바로가기GoodNews paper ⓒ 국민일보(www.kmib.co.kr), 무단전재 및 수집, 재배포금지\n",
      "\t\n",
      "\n",
      "8 https://news.naver.com/main/read.naver?mode=LSD&mid=sec&sid1=101&oid=008&aid=0004522277\n",
      "엔터 치세요 :\n",
      "\n",
      "\n",
      "\n",
      "\n",
      "\n",
      "\t\n",
      "\t[머니투데이 반준환 기자] [[2021년 증시설문]삼성전자 등 반도체 유망. 여유자금은 주식, 부동산, ESG 펀드에 ] 증시 전문가들은 올해 상반기 안에 한국증시가 ‘코스피 3000 - 코스닥 1000’ 시대를 맞을 것으로 예상했다. 삼성전자, 현대차, LG화학 등 한국을 대표하는 기업들의 성장세가 유지되고 외국인 매수자금 등 수급 여건도 우호적이라는 판단에서다. 리스크 요인으로는 코로나19 (COVID-19) 확산세와 급증한 가계부채를 꼽았다. 머니투데이가 펀드매니저, 애널리스트 등 금융투자업계 전문가 총 237명을 대상으로 2021년 증시전망 설문을 실시한 결과 전문가 4명 중 3명(73%)은 올해 코스피지수가 3000 이상을 쉽게 넘어설 것이라고 답했다. 코스피 고점을 ‘3000’으로 답한 이들은 76명(32.1%)이었고 ‘3100’이라는 응답이 44명(18.6%)이었다. 이어 ‘3200’은 20명(8.4%), ‘3200 이상’이라고 본 이들도 33명(13.9%)에 달했다. 코스피지수 저점을 묻는 질문에는 2500을 꼽은 응답자가 69명(29.1%)으로 가장 많았다. 응답자의 93%는 코스닥지수가 ‘1000’을 돌파할 것으로 봤다. 코스닥지수 고점을 1000이라고 답한 이들이 71명(30%)고 △1100 80명(33.8%) △1200 39명(16.5%) △1200 이상 30명(12.7%) 등으로 집계됐다. 코스닥 저점은 700(95명, 40.1%)이라는 응답이 나왔다. 올해 증시 고점은 2분기(응답자 43.5%), 저점은 4분기(38%)가 언급되는 등 증시가 ‘상고하저’의 흐름을 보일 것으로 예측됐다. 차익매물 부담이 큰 1분기를 저점으로 보는 전문가도 20% 남짓이었다. 유망업종은 반도체, 2차 전지, 제약·바이오, 자동차 등이 언급됐고 주의할 업종은 음식료 및 홈쇼핑, 금융, 기계, 철강 등이 꼽혔다. 삼성전자는 올해 가장 유망한 종목이자 자녀에게 물려줄 주식으로 꼽혔고 해외 주식으로는 테슬라가 주목받았다. 이번 설문에서는 코로나19에 대한 시장의 우려도 재확인됐는데 응답자의 64.9%가 “올해 3분기는 지나야 코로나가 종식될 것”이라고 답했다. 코로나19 이후에도 재택근무, 화상회의 등 언택트 문화가 사회의 주류로 자리잡을 것이란 전망이 압도적이었다. 올해 증시 리스크는 가계부채, 부동산 가격급등, 코로나19 재확산 등이 꼽혔다. 전문가들은 올해도 서울을 중심으로 한 집값 강세가 이어질 것으로 예상하는 등 정부의 부동산 정책을 불신하는 모습을 보였다. 여유자금이 있다면 국내외 주식과 부동산, EGS펀드, 그린뉴딜펀드 등에 투자하는 것이 바람직하다는 답변이 나왔다. 투자 유망국가는 한국, 미국, 중국, 베트남, 인도 등의 순서였다. 올해 한국 경제성장률은 2% 미만, 원/달러 환율은 1000~1100원 구간으로 언급됐다. 반준환 기자 abcd@▶부동산 투자는 [부릿지]▶조 변호사의 가정상담소▶줄리아 투자노트 <저작권자 ⓒ '돈이 보이는 리얼타임 뉴스' 머니투데이, 무단전재 및 재배포 금지> \n",
      "\n",
      "\n",
      "9 https://news.naver.com/main/read.naver?mode=LSD&mid=sec&sid1=101&oid=008&aid=0004522319\n",
      "엔터 치세요 :\n",
      "\n",
      "\n",
      "\n",
      "\n",
      "\n",
      "\t\n",
      "\t[머니투데이 김소연 기자] [[2021년 증시설문]달러, 채권 등 안전자산 인기 시들]금융투자업계 전문가들은 올해도 증시 강세가 예상되는 만큼 여유자금이 생긴다면 국내·외 주식에 투자하는 것이 바람직하다고 조언했다.  2021년 신년 증시 설문조사에 응답한 금융투자업계 전문가 237인들은 여유자금투자처를 묻는 질문에 전체의 61.6%(146명, 중복허용)이 국내 주식에 투자해야 한다고 답했다. 해외 주식이라고 답한 응답자도 이와 비슷한 수준(143명, 60.30%)에 달했다. 국내외 증시가 동반 상승할 것으로 보는 시각이 그만큼 많다는 얘기다. 뒤를 이어 부동산(26.60%), 달러 자산(15.20%), 국내채권(5.50%) 등의 순으로 집계됐다.  펀드 상품을 추천해 달라는 질문에도 비슷한 답변이 나왔다. 전문가 대부분은 올해 펀드 시장에서도 주식형 펀드가 가장 유망하다고 답했다. 유망 펀드를 묻는 질문에 전체 응답자의 51.90%(123명, 중복허용)가 국내·외 주식형펀드를 꼽았다. 주식형 펀드를 제외하면 ESG펀드(37.60%), 그린뉴딜펀드(29.50%)가 유망 투자처로 꼽혔다. 최근 사회책임투자에 대한 인식이 커지면서 국민연금을 비롯해 글로벌 연기금들은 재무요소 못지 않게 비재무적 요소(친환경·사회적 책임 경영·지배구조)를 함께 고려해 투자하는 사례가 늘고 있다.  특히 국민연금은 2022년까지 운용자산의 50%를 책임투자하겠다고 밝힌 만큼 앞으로 ESG펀드가 더욱 유망한 투자처로 떠오를 것으로 보인다. 그린뉴딜펀드도 정부의 신재생에너지 육성 기조와 맞물려 우수한 성과를 낼 것으로 기대되고 있다. 투자 유망국가를 묻는 질문에는 한국이 전체의 61.20%(145명)으로 가장 많았다. 코로나19 사태가 확산하더라도 국내 방역이 뛰어난 만큼 기업들의 실적 악화가 크지 않을 것으로 판단한것으로 풀이된다. 이어 미국(61.2%, 133명), 중국(41.4%, 98명), 베트남(19%), 인도(12.20%), 유럽(10.10%) 순이었다. 김소연 기자 nicksy@▶부동산 투자는 [부릿지]▶조 변호사의 가정상담소▶줄리아 투자노트 <저작권자 ⓒ '돈이 보이는 리얼타임 뉴스' 머니투데이, 무단전재 및 재배포 금지>\n",
      "\t\n",
      "\n",
      "10 https://news.naver.com/main/read.naver?mode=LSD&mid=sec&sid1=101&oid=031&aid=0000576981\n"
     ]
    },
    {
     "name": "stdout",
     "output_type": "stream",
     "text": [
      "엔터 치세요 :\n",
      "\n",
      "\n",
      "\n",
      "\n",
      "\n",
      "'ESG 전도사' 최태원 이어 이재용·정의선·구광모·신동빈·최정우도 가세지난 2019년 말 중국 우한에서 발생한 코로나19는 '글로벌 퍼펙트스톰'을 일으켰다. 이에 따라 글로벌 가치사슬(Global Value Chain)의 개념도 바뀌고 있다. 코로나19가 언택트 시대를 앞당기고 디지털 전환의 촉매제로 작용하면서다. 미국과 중국을 대척점으로 하는 신냉전도 글로벌 경제 생태계에 엄청난 후폭풍을 낳고 있다. 수출의존도가 높은 한국 경제에 엄청난 변수다. 반(反)기업법 쓰나미 역시 경영 환경에 상당한 영향을 미치고 있다. 이 같은 요인은 2021년 신축년(辛丑年)에 더 심화될 가능성이 높다. 이제 한국 경제는 전환 시대를 넘어 지형도를 바꾸는 변혁기에 들어설 전망이다. [편집자 주][아이뉴스24 강길홍 기자] \"인류는 지금 글로벌 환경·사회적 위기에 팬데믹까지 더해진 커다란 도전에 직면해 있다. 이 도전들은 글로벌 사회의 포괄적이고도 조화로운 대응을 요구하고 있다. 무엇보다 기업들이 친환경 사업, 사회적 가치, 신뢰받는 지배구조 등을 추구하는 ESG 경영으로 근본적인 변화를 이뤄 나가야한다.\"'ESG 전도사'로 불리는 최태원 SK그룹 회장이 지난달 열린 '상하이 포럼 2020'에서 개막 연설을 통해 한 말이다. 최 회장이 강조한 것처럼 ESG 경영은 이제 선택이 아닌 생존을 위한 필수 조건이 되고 있다.ESG는 비재무적 요소인 환경(Environment), 사회(Social), 지배구조(Governance)에서 얼마나 많은 가치를 창출하고 있는지를 뜻한다. 착한 투자를 표방하는 펀드들은 ESG를 소홀히 하는 기업들의 주식을 사들이지 않고, 글로벌 기업들 가운데 ESG 기준에 미달하는 업체들과 거래를 하지 않는 경우도 있다.이에 국내 기업들도 앞 다퉈 ESG 경영 방침을 발표하고, 전담조직을 신설하는 등 본격적으로 ESG 경영을 추구하고 있다. 가장 눈에 띄는 곳은 역시 SK그룹이다. 최태원 SK그룹 회장은 'ESG 전도사'로 불릴 만큼 오래전부터 관련 조직을 만들고 이에 대한 투자를 진행해왔다.특히 SK그룹 8개 계열사는 한국 최초로 'RE100'에 가입했다. RE100은 기업이 2050년까지 사용전력량의 100%를 재생에너지 전력으로 조달하겠다는 것을 뜻한다. 최 회장은 지난 9월 전 직원에게 보낸 이메일을 통해 ESG를 기업 경영의 새로운 축으로 삼겠다는 뜻을 밝히기도 했다.왼쪽부터 이재용 삼성전자 부회장, 정의선 현대차그룹 회장, 최태원 SK그룹 회장, 구광모 LG그룹 회장. [아이뉴스24]재계 1위 삼성그룹도 ESG 경영에 관심을 쏟고 있다. 이재용 삼성전자 부회장은 지난 2019년 삼성전자 50주년 창립기념식에서 \"함께 나누고 함께 성장하는 것이 세계 최고를 향한 길\"이라는 메시지를 내놓으며 '동행' 비전을 발표한 바 있다.정의선 현대차그룹 회장은 미래 모빌리티 중심의 사업 전환과 관련해 ESG 기반 아래 '인간 중심의 모빌리티' 구현에 몰두하고 있다. 또한 현대차는 ESG 정보의 투명하고 정확한 전달과 다양한 국내외 이해관계자와의 소통을 위해 2003년 이후 매년 지속가능성 보고서를 발간하고 있다. 이같은 노력을 인정받아 한국IR협의회가 주관한 '2020 한국IR대상 시상식'에서 대상을 수상하기도 했다.구광모 LG그룹 회장은 지난해 연말 인사에서 그룹 CSR 팀장을 맡고 있던 이방수 부사장을 사장으로 승진시켰다. 향후 ESG 경영에 더욱 무게를 두겠다는 의지로 풀이된다. 이에 따라 이방수 사장은 향후 LG의 지속가능한 성장을 위한 ESG 경영을 더욱 강화할 것으로 전망된다.신동빈 롯데그룹 회장은 지난해 11월 롯데정밀화학 울산공장을 방문해 \"코로나19 및 기후변화 등 경영환경의 불확실성이 커지는 가운데 지속가능한 성장을 이루기 위해서는 ESG 경쟁력을 더 강화해야 한다\"고 강조했다.포스코는 국내 철강업계 최초로 ESG 전담 조직을 만들고 ESG 관점에서 종합한 기업시민보고서를 발간했다. 연임에 성공한 최정우 포스코 회장은 그린수소 대량생산 체제 구축 계획을 발표하며 2050년까지 탄소 배출량을 제로로 만들겠다고 선언했다.이밖에도 업종을 불문하고 ESG 경영을 전면에 내세우는 기업들은 더욱 늘어나고 있다. 그동안 기후변화의 주범으로 평가받던 에너지기업은 물론이고 이와 무관한 금융, IT 업계도 ESG 경영 성과를 강조한다. 코로나19로 인한 혼란과 기후변화 등의 문제를 ESG 경영을 내세워 해결한다는 목표다.다만 국내 대다수 기업들의 ESG 경영은 아직 갈 길이 멀다는 지적이다. 한국기업지배구조원(KCGS)은 매년 상장기업의 ESG 평가 결과를 발표하는데, 지난해 최상위 수준인 S등급을 받은 기업은 한곳도 없었다. 또한 평가대상기업의 68%(전년 74%)는 여전히 B등급(보통) 이하로 ESG 경영 수준이 취약한 수준이라는 평가가 나온다.강길홍기자 slize@inews24.com▶네이버 채널에서 '아이뉴스24'를 구독해주세요.▶재밌는 아이뉴스TV 영상보기 ▶아이뉴스24 바로가기[ⓒ 아이뉴스24 무단전재 및 재배포 금지]\n",
      "\n",
      "\n",
      "11 https://news.naver.com/main/read.naver?mode=LSD&mid=sec&sid1=101&oid=050&aid=0000056177\n",
      "엔터 치세요 :\n",
      "\n",
      "\n",
      "\n",
      "\n",
      "\n",
      "[커버스토리=라이벌 경영 맞수, 2021년도 달린다] -조용병 신한금융 회장 vs 윤종규 KB금융 회장 신한금융그룹과 KB금융그룹은 한국 ‘리딩 금융그룹’ 왕좌를 놓고 치열한 경쟁을 벌이고 있다. 두 금융그룹은 혁신을 위해 비은행 부문 계열사 강화와 디지털 혁신, 탈석탄 경영을 통한 환경·사회·지배구조(ESG) 강화를 내걸고 있다. 신한금융은 지난 2년 연속 리딩 금융그룹 자리에 올랐다. 2020년엔 3분기까지  KB금융이 뒤를 바짝 쫓았다. 2020년 3분기 순이익은 KB금융이 약 200억원 앞섰고 3분기 누적으론 신한금융이 약 700억원 앞서며 선두 자리를 차지하고 있다. 특히 주요 계열사인 은행은 KB국민은행 실적이 신한은행을 앞섰다. 조용병 회장이 이끄는 신한금융과 윤종규 회장이 이끄는 KB금융은 2020년 3분기 나란히 순이익 1조원 시대를 열었다. 금융지주가 분기에 1조원 이상의 순이익을 기록한 것은 2008년 금융지주 체제가 출범한 이후 처음이다. 2020년 4분기 실적은 발표되지 않았지만 증권업계 평균 실적 전망에서는 2020년 두 금융지주의 순이익 수치 차이가 거의 없다. ◆2021년 비은행 중요성 커져 2021년은 ‘조용병 2기’와 ‘윤종규 3기’가 맞붙는 해다. 2020년 3월 연임에 성공한 조 회장과 2020년 11월 3연임에 성공한 윤 회장은 취임 이후 그룹의 성장을 이끌어 왔다. 조 회장이 취임한 2017년 리딩 뱅크는 KB금융지주가 차지했고 신한금융은 8년 만에 선두 자리에서 내려왔다. 조 회장은 리딩 뱅크 자리를 재탈환하기 위해 공격적인 인수·합병(M&A) 등을 통해 몸집을 불렸다. 2018년 신한금융은 생명보험사 오렌지라이프와 부동산 신탁 회사 아시아신탁을 자회사로 편입해 비은행 부문 포트폴리오를 강화했다. 신한금융이 오렌지라이프 이전에 M&A했던 곳은 2007년 LG카드(현재 신한카드)로 무려 11년 만의 M&A였다. 조 회장은 비은행 포트폴리오 강화와 동시에 계열사별로 흩어져 있던 글로벌부문·디지털부문·자산관리부문 등을 매트릭스 조직으로 재편해 지주 차원에서 총괄하는 체제를 꾸렸다. 그 결과 1년 만인 2018년 리딩 금융그룹 자리를 탈환했다. 신한금융 전체 순이익에서 비은행이 차지하는 비율도 점점 높아지고 있다. 2019년 34%에서 2020년 3분기 41%까지 성장했다. 자본 시장과 글로벌 부문에서도 그룹 핵심 이익 성장을 이어 가며 질적으로 성장했다. 그룹의 핵심 사업 분야인 글로벌 부문도 전년 동기 대비 534억원 증가해 3분기 누적 영업이익 7916억원을 기록했다. 윤 회장이 이끄는 KB금융 역시 재임 기간 동안 탄탄한 경영 성과를 올렸다. KB금융의 자산은 윤 회장 취임 첫해인 2014년 308조원에서 2020년 상반기 570조원으로 늘었다. 2017년에는 그룹 설립 후 처음으로 당기순이익 3조원을 달성했고 한국 금융지주로는 처음으로 3년 연속 3조원대의 순이익을 이어 갔다. 윤 회장은 취임 이후 비금융 경쟁력을 강화하는 데 주력했다. 2015년 현대증권(현 KB증권), 2016년 LIG손해보험(현 KB손해보험)에 이어 2020년 상반기 푸르덴셜생명까지 대형 M&A를 잇따라 성공시켰다. 이에 따라 KB금융은 은행·증권·카드·보험 등을 아우르는 사업 포트폴리오를 완성했다. 윤 회장은 취임 이후 글로벌 금융 인프라를 통해 글로벌 역량을 확장했다. KB금융의 글로벌 자산 규모는 취임 당시인 2014년 45억5800만 달러에서 2020년 2분기 167억7300만 달러로 늘었다. 2020년 들어서만 KB국민은행은 인도네시아·캄보디아·미얀마에 잇따라 진출했다. KB국민카드는 태국에 진출했다. 신종 코로나바이러스 감염증(코로나19) 사태의 악조건을 뚫고 인도네시아에서 KB국민은행이 부코핀은행 최대 주주로 올라선 것은 KB금융의 종합 금융 역량 덕분이었다. 윤 회장은 글로벌 투자 기업 칼라일그룹과 손잡으며 새로운 성장 동력 확보를 위한 시동도 걸었다.◆디지털·ESG 위한 조직 개편두 금융그룹은 2021년 ‘디지털 금융’ 전환과 ‘ESG 경영’에 사활을 걸고 있다. 특히 금융의 미래가 걸린 디지털 전환(DT)에 그룹의 모든 역량을 쏟으며 경쟁하고 있다. 신한금융은 그룹 중심 생태계 구축을 통해 DT를 가속화하고 있다. DT를 통한 수익성 제고 역시 가시화되고 있다. 2020년 3분기에는 금융그룹 중 유일하게 디지털 플랫폼을 통한 영업수익을 발표했다. 신한금융이 디지털 플랫폼을 통해 벌어들인 영업수익은 3분기 기준 3426억원이다. 특히 2020년 3분기 동안 디지털을 활용해 1922억원을 절감하며 그룹 총영업이익경비율(CIR)이 42.5%를 기록하는 등 금융권 최고 수준의 효율성을 유지했다. 또한 그룹 당기순이익의 10% 수준까지 디지털 예산 편성을 확대하고 조직·시스템·인적 역량 강화 등 전방위적 DT 개혁을 추진하고 있다. 신한금융은 조 회장의 주도하에 성공적인 DT를 위해 그룹 전체의 디지털 전환을 전담할 ‘디지로그(Digilog)위원회’를 신설했다. KB금융은 2020년 12월 DT 가속화를 위한 조직 개편에 나섰다. 먼저 정보기술(IT) 인력과 기획 인력이 협업하는 ‘플랫폼’ 조직과 ‘AI혁신센터’를 신설하고 ‘넘버원(No.1) 금융 플랫폼 기업’ 도약을 목표로 삼았다. 이번에 신설된 AI혁신센터에서는 그룹 내 AI 관련 추진 전략 수립과 계열사 간 협업을 지원할 예정이다.또한 기존 ‘디지털혁신총괄(CDIO)’을 ‘디지털플랫폼총괄(CDPO)’로 변경해 업무 전문성을 높였다. 새 CDPO에 한동환 부사장(KB국민은행 디지털금융그룹 전 부행장)이 발탁됐다. 두 그룹은 나란히 ‘탈석탄’을 선포하고 ESG 전담 조직을 신설하며 ESG 경영에 속도를 붙이고 있다. ESG가 금융 시장의 새 패러다임으로 자리 잡았기 때문이다. KB금융그룹은 중·장기 로드맵인 ‘KB 그린웨이 2030’을 바탕으로 ESG 경영을 추진하고 있다. 2030년까지 그룹 탄소 배출량을 25% 감축(2017년 대비)하고 동시에 현재 약 20조원 규모의 ‘ESG 상품·투자·대출’을 50조원까지 확대하는 것을 전략적 목표로 하고 있다. . 신한금융은 2020년 11월 동아시아 금융그룹 최초로 기후 변화에 따른 국제 협력에 적극 동참하기 위해 친환경 전략인 ‘제로 카본 드라이브(Zero Carbon Drive)’를 선언했다. 김영은 기자 kye0218@hankyung.com[자세한 내용은 01월 04일 발행되는 한경비즈니스 1310호에서 확인할 수 있습니다][본 기사는 한경비즈니스 제 1309호(2020.12.28 ~ 2021.01.03) 기사입니다.]▶ 한경비즈니스 네이버 뉴스에서 [구독 클릭]▶ 요즘 핫한 유튜버&기업 다 있다! 뉴니콘 유튜브 확인▶ 잡지 정기구독 신청 ⓒ 한경비즈니스, 무단전재 및 재배포 금지\n",
      "\t\n",
      "\n",
      "12 https://news.naver.com/main/read.naver?mode=LSD&mid=sec&sid1=101&oid=009&aid=0004726902\n",
      "엔터 치세요 :\n",
      "\n",
      "\n",
      "\n",
      "\n",
      "\n",
      "문윤정 신한금융투자 대치센트레빌지점 부지점장\"ESG·반도체·배터리·K드라마·바이오에 주목\"[이미지 출처 = 게티이미지뱅크]코스피가 사상 최고가로 작년을 마감하며 3000선 돌파 기대감도 커지고 있다. 같은 맥락에서 코스닥도 1000선 고지에 바짝 다가섰다. 작년 신종 코로나바이러스 감염증(코로나19) 확산 사태로 3월에는 증시가 급락했지만, 이 때부터 9개월 동안 랠리를 펼친 결과다. 그러나 증권 전문가들은 올해는 작년처럼 수익을 내기 쉽지만은 않을 것이라고 경고한다. 작년엔 중앙은행이 푼 유동성과 '동학개미'라 불리는 개인투자자들의 자금이 유입되며 증시를 밀어 올렸지만, 올해는 돈이 더 들어올지 장담하기 어렵다. 물이 빠지면 누가 옷을 입지 않았는지 드러난다는 말이 있듯이, 올해는 기업의 펀더멘털이 주가를 결정할 것으로 보인다. 스타PB로 꼽히는 문윤정 신한금융투자 대치센트레빌지점 부지점장은 지난달 30일 매경닷컴과의 인터뷰에서 올해 유망 주식 테마에  대해 ESG(환경·사회·지배구조), 반도체, K-드라마, 2차전지, 제약·바이오라고 말했다.  투자업계에서 ESG가 주목받게 된 계기는 작년 초 세계 최대 자산운용사 블랙록의 래리 핑크 회장의 주주서한에서 '가장 핵심적인 투자 모델'이 된다고 언급된 것이다. 올해 들어서는 코로나19 확산 사태로 인해 환경 오염에 대한 경각심이 높아지면서 사회적 책임 투자가 부각됐다. 특히 조 바이든 미국 대통령 당선인의 핵심 정책이 환경 정책인 점도 사회적 책임 투자에 긍정적이다. 문 부지점장은 \"우리나라에서도 ESG 관련 산업이 발전하면서 연기금과 기관들의 투자가 증대될 것\"이라고 기대했다. 특히 작년 7월 14일 발표된 한국판 뉴딜 계획의 한 축이 그린 뉴딜이다. 당장 그린 산업의 핵심은 석유(화석연료)의 대체다. 이를 위해서는 2차전지가 필요하다. 문 부지점장은 \"미국·유럽 등 선진국을 중심으로 친환경 자동차와 신재생 발전의 수요가 폭발적으로 증가될 것\"이라고 예상한다. 특히 올해부터는 글로벌 완성차업체들의 전기차 모델이 본격적으로 시장에 출시될 예정으로 전기차 배터리 시장의 규모의 급격한 성장이 예상돼 관련 기업의 전망이 밝다고 문 부지점장은 내다봤다.  작년말 코스피의 상승 동력이 됐던 반도체 업종도 유망 테마로 꼽혔다. 특히 작년 마지막 거래일엔 코스피 시가총액 1위인 삼성전자가 3.45% 상승하는 기염을 토하며 8만원선에 안착했다. 문 부지점장은 \"작년 12월 첫째주에는 주간 반도체 판매 금액이 100억달러를 넘어선 가운데 파운드리 시장이 최대 호황을 이어가고 있다\"며 \"반도체 수요 증가에 따른 업황 호전으로 반도체 기업뿐만 아니라, 반도체 소재·부품·장비 기업에 대한 투자도 활발해질 것\"이라고 기대했다. 콘텐츠 분야에서는 한국의 드라마 제작사가 특히 주목받고 있다. 코로나19 확산 사태로 영상 콘텐츠 소비가 늘면서 작년부터 성장세를 보여왔다. 문 부지점장은 \"성장성이 높은 아시아 지역 선점을 위한 콘텐츠 경쟁이 늘어나는 가운데 아시아권 최상위의 인지도를 보유한 K-드라마의 수혜가 꾸준히 지속될 것\"이라며 \"내년에는 이 같은 열기가 확대돼 서구권으로의 K-드라마 진출에 따른 시장 확대가 예상된다\"고 말했다. 올해 제약·바이오 업종의 주가는 실적에 좌우된다는 게 문 부지점장의 생각이다. 그는 \"(국내 백신 업체들이) 코로나19 백신 생산 위탁생산(CMO) 계약을 수주함에 관련 기업의 실적이 크개 개선될 것\"이라며 \"필수 소비재 성격을 지닌 제약 기업의 실적 전망도 양호하고, 바이오시밀러 등을 수출하는 기업들도 호실적이 예상된다\"고 말했다. [한경우 매경닷컴 기자 case10@mkinternet.com]▶ 네이버 메인에서 '매일경제'를 받아보세요▶ 궁금한 제조과정 영상으로 보세요. '이렇게 만들죠'▶ 아파트 살까 청약할까. 여기서 확인하세요. '매부리tv'[ⓒ 매일경제 & mk.co.kr, 무단전재 및 재배포 금지]\n",
      "\t\n",
      "\n",
      "13 https://news.naver.com/main/read.naver?mode=LSD&mid=sec&sid1=101&oid=003&aid=0010272615\n",
      "엔터 치세요 :\n",
      "\n",
      "\n",
      "\n",
      "\n",
      "\n",
      "[서울=뉴시스] 최지윤 기자 = 환경을 지키기 위한 '가치 소비'가 중요한 시대다. 투명 페트병 분리배출 의무화가 전국적으로 확대 시행되면서 재활용성이 뛰어난 페트가 주목 받고 있다. 한국순환자원유통지원센터의 재활용 의무이행 실적 조사에 따르면, 2018년 종이팩 재활용률은 22%, 페트병 재활용률은 80%에 달했다. 페트는 단일 플라스틱 재질로 만들어져 분리수거 항목 중 재활용률이 높다. 유색, 혼합 플라스틱보다 오염도가 낮아 세척 과정이 간편하다. 가볍고 튼튼해 유통과정 중 별도 완충재도 필요하지 않다. 의류, 육아용품 등 고부가가치 상품으로도 재생산할 수 있다.마이노멀은 설탕대체 감미료 '키토 알룰로스'를 투명 용기에 담아 유통하고 있다. 재활용이 쉬운 투명 페트병을 더욱 다양한 제품에 활용할 예정이다. 내년부터 열알칼리성 접착제 사용, 절취가 쉬운 비접착식 라벨 등을 통해 분리배출이 쉽도록 패키지 변경 작업을 계속할 계획이다.롯데칠성음료는 4월부터 '트레비 레몬' '델몬트 주스' '옥수수수염 차' '밀키스' '초가을우엉차' '칸타타 콘트라베이스' 총 6개 페트병에 재활용이 되는 '에코 라벨'을 적용했다. 제품명을 페트병에 음각으로 새기고 라벨을 없앤 '아이시스8.0 에코' 1.5ℓ도 선보였다.산수음료는 국내 최초 저탄소 바이오 페트병 제작에 성공했다. 생수병, 뚜껑, 라벨을 모두 생분해성 플라스틱으로 제작했다. 이 페트병은 일정 조건에서 180일 내 생분해 돼 퇴비화가 가능하다.패션업계에서도 '배출-재활용-제품생산-소비'로 이어지는 투명 페트병 자원 순환 시스템을 통해 다양한 제품을 선보이고 있다. 비와이엔블랙야크는 국내 최초로 투명 페트병을 재활용한 '케이-알피이티 재생섬유'로 의류용품을 생산하고 있다. 노스페이스는 페트병 1080만 개(500㎖ 기준)을 재활용한 '에코 플리스 컬렉션'을 기획했다. 빅사이즈 백팩, 리사이클링 가죽 소재가 적용된 스니커즈 등을 내놨다.지자체와 일반 기업도 페트를 친환경적으로 사용할 수 있는 방법을 강구하고 있다. 제주국제자유도시개발센터는 제주 순환형 리사이클 프로젝트를 실시하고 있다. 페트병 수거, 재활용 플레이크 생산, 리사이클 섬유 등을 활용해 가방 등을 제작하는 사업이다. 삼다수, 효성티앤씨, 플리츠마마 등이 참여하고 있다.GS칼텍스는 폐플라스틱 재활용 소재로 만든 복합수지를 기반으로 ESG(환경·사회·지배구조) 역량을 강화한다. 복합수지는 자동차와 가전 부품 원재료로 광범위하게 사용되는 기능성 플라스틱이다. 폐플라스틱 재활용 소재로 만들며, 국내 정유사 중 GS칼텍스만 생산하고 있다．☞공감언론 뉴시스 plain@newsis.com▶ 네이버에서 뉴시스 구독하기▶ K-Artprice, 유명 미술작품 가격 공개▶ 뉴시스 빅데이터 MSI 주가시세표 바로가기<ⓒ 공감언론 뉴시스통신사. 무단전재-재배포 금지>\n",
      "\t\n",
      "\n",
      "14 https://news.naver.com/main/read.naver?mode=LSD&mid=sec&sid1=101&oid=629&aid=0000060579\n"
     ]
    },
    {
     "name": "stdout",
     "output_type": "stream",
     "text": [
      "엔터 치세요 :\n",
      "\n",
      "\n",
      "\n",
      "\n",
      "\n",
      "2일 정유업계에 따르면 지난해 국내 정유4사는 코로나19 여파에 직격탄을 맞으며 총 5조 원에 육박하는 적자를 기록하는 등 '최악의 해'를 보냈다. /더팩트 DB친환경 사업 진출·신사업 확대 등 수익 활로 찾기 나서[더팩트ㅣ이한림 기자] 지난해 사상 최악의 실적으로 한 해 농사를 망친 국내 정유4사(SK이노베이션·GS칼텍스·현대오일뱅크·에쓰오일)가 올해 반등을 노리고 있다. 수익성 높은 사업에 대한 비중을 높이고 유가에 영향을 크게 받지 않는 신사업군을 확대해 활로를 찾겠다는 방침이다.2일 정유업계에 따르면 국내 정유4사는 지난해 3분기까지 4조8074억 원의 누적 적자를 기록했다. 4분기에도 코로나19 재확산 여파가 지속되면서 적자 기조는 탈피하지 못할 전망이다. 최근 3년 간 수조원대 영업이익을 내며 호황기를 누렸던 것과 대조적인 결과이다. 더욱이 코로나 펜데믹 여파에 내년에도 업황 개선은 기대하기 어려울 것으로 보인다.업계에서는 정유4사가 5조 원대에 육박하는 누적 적자를 기록한 것에 대해 국제 유가가 요동치고 석유 제품 수요가 급감해 재고 관련 손실이 불어난 영향으로 보고 있다.특히 정유사 매출의 상당부분을 차지하는 항공유나 선박연료로 쓰이는 벙커C유 등 석유 제품 수요의 감소는 사상 초유의 '마이너스(-)' 정제마진으로 이어지면서 최악의 해를 보내게 됐다. 최종 석유제품 가격에서 원유나 수송·운영비 등을 뺀 정제마진은 일반적으로 4달러를 손익분기점으로 보고 있는 것을 감안하면 공장을 돌리면 돌릴수록, 석유제품을 팔면 팔수록 손해를 보는 구조로 이어졌다.하반기 다소 업황이 개선되면서 적자 폭을 줄였으나 내년에도 석유 제품 수요 증가를 기대하기 어렵다는 전망이 나오면서 실적 부진을 완전히 털어내기는 어렵다는 시각이 지배적이다.이에 정유사들은 위기를 기회로 삼겠다는 입장이다. 강력한 체질 개선 천명을 통해 기존 사업 구조를 변경하고, 기후 변화 이슈 증가로 수요가 확대되는 친환경 제품 생산에 주력하거나 전기차, 주유소 인프라 사업 등 새로운 사업군을 확대할 움직임을 보이고 있다.ESG(환경·사회·지배구조) 중심 경영을 강조하고 있는 SK이노베이션은 석유 중심의 사업 구조를 친환경 플랫폼 사업으로 전환하는 체질 개선에 주력하고 있다. 정유 사업 계열사 SK에너지가 지난 6월 세차와 주차 서비스를 전문으로 하는 업체들과 제휴해 차량 관리 통합 플랫폼 서비스 '머핀'을 출시한 게 대표적이다.윤활유 사업 계열사 SK루브리컨츠의 친환경 제품 출시도 빼놓을 수 없다. SK루브리컨츠는 지난해 9월 친환경 용기로 만든 '지크 제로'와 '지크 월드시리즈' 등을 시장에 내놓으면서 친환경 전환 실천을 강조하기도 했다.국내 정유4사가 올해 점진적 수요 회복을 기대하면서도 비정유부문을 확대해 새로운 수익원을 만들겠다는 방침을 세우고 있다. /더팩트 DBGS칼텍스와 현대오일뱅크는 주유소 공간을 활용한 인프라 사업에서 활로를 찾고 있다. 먼저 GS칼텍스는 지난해 10월 주유소를 활용한 신사업인 '에너지플러스 허브' 계획 공개를 통해 주유소에서 마이크로 모빌리티, 물류, F&B 등 사업을 함께 영위할 수 있는 복합 에너지스테이션으로 탈바꿈하는 공간으로 바꾸겠다고 선포하기도 했다.지난해 초 SK네트웍스의 주유소 300여 개를 인수하면서 정유업계 주유소 보유 2위로 올라선 현대오일뱅크 역시 주유소 공간을 활용한 인프라 사업 강화에 집중하고 있다. 이를 위해 지난해 9월 기존 주유소 인프라에 수소충전소 사업을 추가해 오는 2025년까지 80개의 수소충전소를 운영할 계획을 내놓기도 했다. 같은 기간 베트남 세차업체 비엣워시를 인수해 2조5000억 원 규모의 프리미엄 세차시장에 뛰어든 것도 새로운 사업을 통한 수익성 찾기의 일환으로 꼽힌다.양사는 비정유부문에서 석유화학사업 역량도 확대하고 있다. 플라스틱이나 합성고무, 합성섬유 등 수요가 오르고 있는 석유화학제품의 기초 원료인 올레핀 제조 공장의 준공을 모두 올해로 계획하고 있어서다. GS칼텍스와 현대오일뱅크는 올레핀 공장 가동을 통해 연간 영업이익이 4000억 원에서 6000억 원 가량 확대될 것으로 기대하고 있다.일찌감치 석유화학사업을 신성장동력으로 삼고 7조 원 가량을 투자한 에쓰오일도 올해 비정유부문 비중을 크게 늘리고 가시적인 수익성을 내겠다는 방침이다. 이를 위해 지난달 석유화학 비중을 최대 25%까지 늘리는 '비전2030'을 발표하기도 했다. 신사업 분야에서도 전략적 검토를 지속해 성장 기회를 모색하는 비전을 반드시 달성하겠다는 방침이다.정유업계 관계자는 \"지난해 무더기 적자를 겪은 국내 정유사들이 올해를 단순한 사업 확대가 아닌 새로운 성장동력을 키우는 기회로 삼겠다는 복안이 깔린 행보를 보이고 있다\"며 \"내년에도 코로나19 펜데믹 영향으로 정유업황이 크게 개선되지 않을 전망이지만 점진적인 수요 회복을 기대함과 동시에 신사업에서 수익성을 찾는 노력에 집중할 것으로 보인다\"고 말했다.2kuns@tf.co.kr - BTS 공연 비하인드 사진 얻는 방법? [팬버십 가입하기▶]   - 내 아이돌 순위는 내가 정한다! [팬앤스타 투표하기] 저작권자 ⓒ 특종에 강한 더팩트 & tf.co.kr 무단 전재 및 재배포 금지\n",
      "\t\n",
      "\n",
      "15 https://news.naver.com/main/read.naver?mode=LSD&mid=sec&sid1=101&oid=241&aid=0003082412\n",
      "엔터 치세요 :\n",
      "\n",
      "\n",
      "\n",
      "\n",
      "\n",
      "\t\n",
      "\t[일간스포츠 권지예]   신한카드     신한카드는 경기도 용인시 수지구에 소재한  ‘광교마을지역아동센터’에 508번째이자 임직원 모금으로 마련한 7번째 ‘신한카드 아름인 도서관’을 개관했다고 2일 밝혔다.      신한카드 임직원들은 그 동안 ESG 실천을 위해 매월 급여 중 일부를 ‘사랑의 계좌’와 ‘우수리’란 이름으로 모금 중에 있으며, 2001년부터 지금까지 197명의 난치병 환아 치료비로 17억여원을 지원했고, 지역사회 7곳에 ‘아름인 도서관’을 개관했다.    특히, 올해에는 임직원 모금액으로 코로나19 극복을 위해 취약계층을 대상으로 밀키트와 마스크, 손소독제 등 위생용품을 지원하고, 코로나19 환자들을 위해 고생하는 의료진들을 위한 응원 키트(위생용품, 비타민, 건강용품 등으로 구성)를 지원했다.    권지예 기자 kwon.jiye@joongang.co.kr   ▶ [오늘의 운세 바로가기] [만화 바로가기]▶ [큐라프록스 골든디스크 인기투표]     ⓒ일간스포츠(https://isplus.joins.com) 무단 전재 및 재배포 금지\"\n",
      "\t\n",
      "\n",
      "16 https://news.naver.com/main/read.naver?mode=LSD&mid=sec&sid1=101&oid=009&aid=0004727180\n",
      "엔터 치세요 :\n",
      "\n",
      "\n",
      "\n",
      "\n",
      "\n",
      " 나재철 금융투자협회장(사진)이 신년사에서 환경·책임·투명경영(ESG) 상품 출시 지원과 뉴딜펀드 활성화, 퇴직연금 디폴트 옵션 도입 등을 올해 과제로 제시했다. 나 회장은 3일 배포한 신년사에서 \"자본시장 친화적 ESG 제도·인프라스트럭처 마련과 금융투자회사의 ESG 상품 출시 및 관련 딜 수행을 지원하겠다\"며 \"우리 경제의 한 단계 재도약을 위해 추진되는 K뉴딜사업이 성공할 수 있도록 뉴딜펀드 활성화 등을 통해 우리 자본시장의 적극적인 지원이 이뤄지도록 하겠다\"고 강조했다.그는 증권거래세 폐지, 장기 투자에 대한 세제 혜택 등 자본시장 과세 체계 개선도 추진과제로 꼽았다. 또 사모펀드 사태를 겪은 금융투자산업 신뢰 회복에 대한 의지도 드러냈다. 나 회장은 \"선제적인 리스크 관리와 금융투자회사 내부통제 제도의 합리적 개선을 추진하겠다\"며 \"공모펀드 활성화도 적극 지원해  펀드시장의 기여도를 높이겠다\"고 강조했다. [문지웅 기자]▶ 네이버 메인에서 '매일경제'를 받아보세요▶ 궁금한 제조과정 영상으로 보세요. '이렇게 만들죠'▶ 아파트 살까 청약할까. 여기서 확인하세요. '매부리tv'[ⓒ 매일경제 & mk.co.kr, 무단전재 및 재배포 금지]\n",
      "\t\n",
      "\n",
      "17 https://news.naver.com/main/read.naver?mode=LSD&mid=sec&sid1=101&oid=014&aid=0004557744\n",
      "엔터 치세요 :\n",
      "\n",
      "\n",
      "\n",
      "\n",
      "\n",
      "<2> ESG 경제 전환 시작됐다국내 ESG펀드·채권시장 가파른 성장‘큰손’ 국민연금, 자산 절반을 ESG로기관투자가도 운용자산 편입 적극적\"단기적 재무 마이너스 부담\" 지적도  ESG(환경·사회·지배구조) 투자·경영은 전 세계적으로 거스를 수 없는 흐름이다. 특히 '한국이 최대 탄소배출국'이라는 부정적 인식을 전환하기 위해 정부는 기후환경, 사회적책임투자(SRI)와 관련해 강력한 드라이브 정책을 추진 중이다.   전문가들은 ESG가 고려되지 않는다면 기업들의 투자유치는 물론 기업의 장기적 성장은 불가능하다고 보고 있다. 장기적으로 정부가 ESG 투자 및 경영을 하는 기관투자가, 기업에 인센티브를 제공하는 것은 물론 그렇지 않은 기업들에 규제 카드를 내놓을 것이란 예상도 나오고 있기 때문이다.   ■늘어나는 ESG 투자   3일 관련업계에 따르면 ESG 투자는 지난 2006년 유엔의 책임투자원칙(PRI) 발표 후 유럽을 중심으로 빠르게 성장했다. PRI 서명기관 수는 2006년만 해도 63개에 불과했지만 2020년 3000개를 넘어섰고 이들이 운용하는 자산은 6조5000억달러에서 103조4000억달러로 16배가량 늘었다.   국내 ESG 투자는 초기 단계지만 성장 속도는 빠르다. 자본시장연구원에 따르면 국내 주식형 ESG 공모펀드는 2005년까지 1개(미래에셋3억만들기좋은기업 펀드)에 불과했다. 그러나 국내 ESG펀드는 2020년 10월 말 46개, 펀드 순자산 1조1211억원 규모로 급증했다.   김재은 NH투자증권 연구원은 \"지난해 ESG 펀드는 시장 대비 초과 성과를 기록하고 있다\"며 \"지배구조에 대한 프리미엄은 꾸준하게 나타나고 있다\"고 밝혔다.   ESG채권 발행 시장 덩치도 커지고 있다. 지난해 원화 ESG채권 발행액(1~9월)은 48조4000억원으로 지난 2019년 발행액 27조4000억원을 이미 넘었다. 2018년 연간 ESG 채권 발행액이 1조3000억원이었던 것과 비교하면 성장 속도는 상당히 가파르다.   ■ESG로 바쁜 연기금·신평사·회계업계   ESG 투자 시대가 본격화하면서 기업, 연기금, 신용평가 및 회계업계의 움직임은 분주하다. 무엇보다 투자의 큰손에 해당하는 국민연금이 2022년까지 ESG 자산을 전체 자산의 50% 수준으로 확대하고 더 나아가 ESG투자를 해외주식과 국내 채권으로 확대하겠다고 발표했기 때문이다. 또 국민연금은 위탁운용기관 선정 시에도 선정기준에 ESG 채권 투자계획 및 실적 등을 반영키로 했다. ESG 요소를 기금의 투자의사 결정 단계에 반영한다는 의미다.   그 밖의 연기금, 자산운용사 등 기관투자가들이 ESG 관련 주식, 채권을 운용자산에 적극적으로 편입하려는 움직임을 보이고 있다.   실제 국내 공적 연기금 사회적책임 투자 규모 추이는 빠르게 증가하고 있다. KB증권에 따르면 국내 국민연금, 사학연금, 공무원연금 등 공적 연기금의 사회적책임 투자 규모는 2017년 7조원 수준에서 2019년 말 32조원 을 넘어섰다.   전문가들은 향후 ESG 투자 유무는 주주간섭의 요인이 될 수 있다고도 보고 있다. 이미 해외 사례에서 기관투자가들이 기업들에 ESG 투자를 늘리는 것을 요구하고 있다. 기업과 자산운용사들에 ESG 투자는 선택이 아닌 필수의 시대가 되고 있는 셈이다.   국내 기업들도 ESG 경영으로 변화를 발 빠르게 맞을 준비에 나섰다. 가령 삼성그룹의 모든 금융계열사, KB금융과 농협금융이 탈석탄 선언을 하고 관련 투자 중단선언을 한 점도 이런 이유다.   이렇다 보니 신용평가, 회계업계에서는 ESG 자산을 평가하고 회계처리 방법론 고민과 인프라 구축으로 분주하다. 신용평가사들 역시 ESG를 신용평가 영역에서 중요한 팩터로서 다룬다는 입장이다. 이를 위해 신평사들은 ESG 인증사업에 뛰어들고 있다. 한국신용평가는 지난 2020년 10월 한국중부발전을 대상으로 ESG 채권 인증평가를 처음으로 실시했다. 한국기업평가와 나이스신용평가도 ESG 채권 인증평가에 나설지 검토 중이다.   정부는 한국형 그린뉴딜 차원에서 '녹색채권 전용펀드' 설립도 고려하고 있다. 더 나아가 녹색채권투자공사 설립도 논의 단계다.   회계처리 문제도 중요해지면서 회계업계도 발 빠른 대응을 준비하고 있다. 회계기준원은 ESG 대응을 위해 기업들과 태스크포스(TF)를 만들었다. 비재무적 요소인 ESG를 회계처리에 어떻게 반영할지 고민이 커지고 있기 때문이다. 법무법인 화우는 기업들에 ESG 업무를 효율적이고 체계적으로 자문할 수 있는 ESG 그룹을 출범시키기도 했다.   ■ESG 근본적 한계는…   하지만 투자기간에 대한 근본적인 한계도 지적된다. ESG는 장기적으로 투자하는 투자자에게 도움이 되는 지표이지만 단기적으로 재무상태에 마이너스적 요소이기 때문이다.   예를 들어 기업들이 ESG 경영을 고려해 시설투자(CAPEX, 시설 투자)를 할 때 온실가스를 저감하는 장치를 추가하면 단기적인 재무적 성과에 부정적인 영향을 미친다. 비용이 추가되면서 생산효율을 낮추기 때문이다.   하지만 온실가스를 저감한 것은 배출권거래제를 이행하는 데 도움을 준다. 배출권거래제는 지구온난화를 막기 위해 2015년 시작된 제도로, 기업에 온실가스 배출권을 할당하고 할당된 배출권 범위 안에서 온실가스를 배출하도록 하는 제도다. 할당량보다 많은 온실가스를 배출하는 기업은 배출권을 구매하거나 과징금을 내야 한다. 정부는 2021∼2025년 할당계획상 현행 3%에서 10%로 상향 조정한 바 있다.   아울러 국내 (민간)기업들은 ESG 경영에 따른 기업의 부담 요인이 크지만 혜택이 미미하다는 지적도 나온다. 시장 전문가들은 기업들이 ESG 채권을 발행하는 주요 목적이 대부분 정부의 직간접적 압박, 기업홍보 효과에 그치고 있다고 목소리를 높였다.   김형수 한국신용평가 연구원은 \"기업들의 ESG 채권 발행 시 추가적인 ESG 인증비용 발생, 발행 후 별도 자금관리 및 보고서 공시 등 실무담당자의 추가 업무 증가로 이어지고 있다\"며 \"즉 혜택에 비해 발행에 따른 기업의 부담요인이 크다\"고 지적했다. 발행기업, 투자기업에 대한 직접적인 정부의 지원이 필요하다는 설명이다.   류영재 서스틴베스트 대표는 \"ESG 투자를 제대로 할 수 있는 자금은 국민연금밖에 없다. 국민연금은 10년을 보고 투자할 수 있는 유일한 펀드\"라며 \"나머지 민간에서 ESG 펀드에 투자한다는 것은 사실 거짓말이라고 볼 수 있다. 단기투자에 대한 성과를 평가받기 때문\"이라고 말했다.  khj91@fnnews.com 김현정 강구귀 기자 ▶ 헉! 소리나는 스!토리 뉴스 [헉스]▶ '아는 척'하고 싶은 당신을 위한 [두유노우]▶ 날로먹고 구워먹는 금융이슈 [파인애플]  ※ 저작권자 ⓒ 파이낸셜뉴스. 무단 전재-재배포 금지\n",
      "\t\n",
      "\n",
      "18 https://news.naver.com/main/read.naver?mode=LSD&mid=sec&sid1=101&oid=015&aid=0004477172\n",
      "엔터 치세요 :\n",
      "\n",
      "\n",
      "\n",
      "\n",
      "\n",
      "더 빨라진 ESG 시계 (1) K기업 ESG경영 현주소삼성전자·현대차 'B'등급…제조업 중심, 환경평가서 불리글로벌 ESG 제도화 눈앞…경영 시스템 개선 서둘러야기업에서 새로운 생산설비를 가동하거나 매출이 급증할 때 속앓이를 하는 사람들이 있다. ESG(환경·사회·지배구조) 경영을 담당하는 임직원이다. 한 대기업 ESG 담당자는 “업황이 좋아 공장을 완전가동하는 해엔 온실가스 배출과 에너지 소비도 늘어난다”며 “회사가 잘 굴러가는 건 좋지만 ESG 순위 하락은 감수해야 한다”고 말했다.3일 글로벌 기관투자가들이 많이 참조하는 모건스탠리캐피털인터내셔널(MSCI) 2019년 평가 보고서에 따르면 삼성전자(BBB) 현대자동차(B) SK하이닉스(BB) 등 국내 ‘빅3’의 ESG 등급 앞자리는 모두 ‘B’다. 포스코(BBB)도 마찬가지다. 에너지를 많이 쓰는 제조업 비중이 높다 보니 E(환경)와 관련한 점수에서 손해를 본다는 것이 전문가들의 분석이다.한국경제신문과 IBS컨설팅의 조사 결과도 이를 뒷받침한다. 국내 주요 20개 기업 중 2017~2019년 온실가스 배출량을 감축한 곳은 9곳, 에너지 소비를 줄인 곳은 5곳에 그쳤다. 제조업이 핵심인 한국 대기업의 특성상 글로벌 평가기관의 눈높이를 맞출 만큼 환경 관련 지표를 끌어올리는 게 쉽지 않다는 분석이다. 글로벌 평가기관들이 최고경영자(CEO) 형사처벌 규정이 유독 많은 한국의 특수성을 고려하지 않는 점도 ESG 등급이 낮게 나오는 이유로 꼽혔다.전문가들은 거스를 수 없는 대세로 자리잡은 ESG의 규범화와 제도화가 좀 더 진행되면 한국 기업들이 불이익을 받을 수 있다고 경고한다. ESG를 투자 잣대로 삼는 글로벌 펀드들이 투자 대상에서 제외하거나 유럽 국가들이 온실가스 배출량이 많은 업체에 ‘탄소세 폭탄’을 물릴 가능성도 거론된다.파리기후협약에 따라 2030년까지 온실가스 3억1500만t을 줄여야 하는 한국 정부가 오염물질 배출 기업의 벌금을 선제적으로 올릴 수 있다는 관측도 나온다. 윤석모 삼성증권 ESG연구소장은 “한국 기업들이 ‘ESG 충격’을 피하려면 발 빠르게 경영 시스템 전반을 손봐야 한다”고 지적했다.송형석 기자 click@hankyung.com▶ 경제지 네이버 구독 첫 400만, 한국경제 받아보세요▶ 한경 고품격 뉴스레터, 원클릭으로 구독하세요▶ 한국경제신문과 WSJ, 모바일한경으로 보세요 ⓒ 한국경제 & hankyung.com, 무단전재 및 재배포 금지\n",
      "\t\n",
      "\n",
      "19 https://news.naver.com/main/read.naver?mode=LSD&mid=sec&sid1=101&oid=081&aid=0003152739\n"
     ]
    },
    {
     "name": "stdout",
     "output_type": "stream",
     "text": [
      "엔터 치세요 :\n",
      "\n",
      "\n",
      "\n",
      "\n",
      "\n",
      "최태원 SK그룹 회장주요 기업 총수들이 신년사를 통해 최근 재계 화두인 ‘ESG(환경·사회·지배구조) 경영’으로 코로나19 위기를 돌파하자고 입을 모았다.3일 업계에 따르면 최태원 SK그룹 회장은 구성원들에게 메일로 보낸 신년사에서 “여러 부침 속에서도 SK가 지금의 모습으로 성장할 수 있었던 것은 우리만 잘해서가 아니라 사회가 허락한 기회와 응원 덕”이라며 “사회와 공감하며 문제 해결을 위해 함께 노력하는 ‘새로운 기업가 정신’이 필요할 때”라고 말했다. 그는 “우리는 사회가 원하는 것이 무엇인지 제대로 헤아리지 못했다. 기업의 역할을 다시 생각하게 된다”면서 “기후 변화나 팬데믹(대유행) 같은 대재난은 사회의 가장 약한 곳을 먼저 무너뜨린다. 기업도 더이상 이러한 문제로부터 자유로울 수 없다”고 강조했다.조현준 효성 회장조현준 효성그룹 회장은 “효성을 고객이 믿고 인정하는 ‘프리미엄 브랜드’로 만들어야 한다”고 강조했다. 그는 “지난해 ESG 평가에서 효성 5개사가 A등급 이상을 받는 성과를 올렸다”면서 “한층 더 노력해 환경보호와 정도경영, 투명경영을 선도하고 협력사들과의 동반성장을 추구함으로써 국민으로부터 사랑과 신뢰를 받는 효성이 되도록 하자”고 말했다.정지선 현대백화점그룹 회장정지선 현대백화점그룹 회장은 “고객이 궁극적으로 원하는 가치를 찾아 사업 프로세스와 일하는 방식을 바꿔 미래 성장을 준비하자”고 제안했다. 그는 “코로나19와 수년째 지속되는 경기침체 그리고 디지털 전환을 축으로 한 산업 패러다임의 급변으로 어려운 사업 환경이 예상된다. 변화의 흐름을 읽고 잠재적인 고객의 니즈를 찾아내는 역량이 무엇보다 중요해지고 있다”고 강조했다.유경선 유진그룹 회장유경선 유진그룹 회장도 “팬데믹을 넘기 위해서는 ‘팬덤’(열성 팬층)이 필요하다”면서 “마치 방탄소년단(BTS)이 아미(Army)라는 팬클럽과 함께 세계적인 팬덤을 이끄는 것처럼 현재의 역량과 시선을 한 단계 올린다면 주주와 고객, 임직원과 사회구성원 모두가 환호하는 탁월한 회사를 만들 수 있다”고 말했다.한편 국내 5대 그룹인 삼성전자, 현대자동차, SK, LG, 롯데는 코로나19로 인해 4일 시무식을 비대면 방식으로 진행하거나 아예 생략할 계획이다.한재희 기자 jh@seoul.co.kr▶ 네이버에서 서울신문 구독하기 클릭! ▶ 세상에 이런 일이 ▶ [연예계 뒷얘기] 클릭!ⓒ 서울신문(www.seoul.co.kr), 무단전재 및 재배포금지\n",
      "\t\n",
      "\n",
      "20 https://news.naver.com/main/read.naver?mode=LSD&mid=sec&sid1=101&oid=005&aid=0001396942\n",
      "엔터 치세요 :\n",
      "\n",
      "\n",
      "\n",
      "\n",
      "\n",
      "‘탈석탄 금융’도 주목할 만…“단순 선언 넘어서야”국내 금융권이 올해 ESG(환경·사회·지배구조) 경영 및 투자에 박차를 가한다. 이 가운데 핵심은 환경이다. 코로나19 사태 이후 기후변화 리스크가 금융권에서도 중요하게 다뤄지고 있고, 현 정부의 탄소 중립 선언, 그린 뉴딜 정책과 맞물려 있기 때문이다.주요 금융지주들은 이번 연말 인사에서 ESG 담당 부서를 줄줄이 신설했다. 신한금융지주는 그룹 내 전략·지속가능부문 산하에 ESG 기획팀을 새로 만들었다. 우리금융지주는 ESG 경영부를 꾸렸고, 하나금융지주는 은행 경영전략본부 안에 ESG 전담 부서인 ‘ESG 기획 섹션’을 만들었다.NH농협은행은 올해 안에 ESG 추진위원회와 녹색금융사업단 등을 만들 계획이다. 농협은행은 3일 국제표준화기구(ISO)가 제정한 ‘ISO 14001 환경경영체제 국제표준 인증’을 획득했다고도 밝혔다. 이는 기업이 환경 친화적인 경영을 하고 있는지 지속적으로 평가하는 국제적 기준이다.KB금융지주는 지난해 초부터 기존의 사회공헌문화부를 ESG 전략부로 개편, 일찍이 ESG 경영 체계를 강화했다. 이사회 내에선 ESG 위원회도 운영되고 있다.ESG 가운데 환경에 무게중심이 가 있는 만큼 이른바 ‘탈(脫)석탄 금융’ 행보도 이어지고 있다. KB금융은 지난해 9월 금융그룹에선 최초로 탈석탄 금융을 선언했다. 석탄화력발전소 건설 관련 신규 프로젝트 파이낸싱(PF)과 채권 인수 사업을 전면 중단하기로 한 것이다.이어 신한금융은 친환경 전략인 ‘제로 카본 드라이브(Zero Carbon Drive)’를 발표했다. 그룹 자산 포트폴리오의 탄소 배출량을 2030년 38%, 2040년 69% 줄이고, 2050년에는 ‘0%’까지 떨어뜨리겠다는 목표가 골자다. 우리금융도 지난달 ‘2050 탄소중립 금융그룹’을 선언, 앞으로 석탄발전소 건설을 위한 신규 PF를 중단하고, 기존 투자된 관련 자산은 리파이낸싱(재융자) 시점에 회수하기로 했다.삼성 금융 계열사들도 기후변화 위기에 선제 대응하기 위해 ‘탈석탄 금융’을 시행하겠다고 밝힌 바 있다. 삼성생명과 삼성화재는 석탄화력발전소에 직접적 투자나 융자를 하지 않기로 했고, 삼성증권과 삼성자산운용은 석탄 채굴·발전 사업에 대한 투자를 배제하기로 했다.국책은행인 산업은행은 최근 활발히 발행되고 있는 ESG 채권에 대한 신뢰성을 높이기 위해 지난해 발행된 1조2000억에 대한 외부 검증을 마쳤다. ESG 채권이란 기업이 채권 발행으로 조달한 자금을 친환경, 사회적 사업 등에 한해 쓰겠다고 확약한 특수목적채권이다. ESG 채권 조달 자금이 원래 목적에 따라 사용되지 않는 일명 ‘ESG 워싱(Washing)’을 방지하기 위해서다.조보람 NH투자증권 연구원은 “한때 사회공헌의 상징 정도로 여겨졌던 ESG는 이제 금융권 리스크 관리 전략의 핵심이 됐다”며 “향후 국내 은행들에겐 ESG 투자 관련 탈석탄 등 단순한 선언을 넘어 주도적인 역할을 할 수 있을지가 중요한 과제가 될 것”이라고 내다봤다.조민아 기자 minajo@kmib.co.kr▶ 네이버에서 국민일보를 구독하세요(클릭)▶ 국민일보 홈페이지 바로가기GoodNews paper ⓒ 국민일보(www.kmib.co.kr), 무단전재 및 수집, 재배포금지\n",
      "\t\n",
      "\n",
      "21 https://news.naver.com/main/read.naver?mode=LSD&mid=sec&sid1=101&oid=018&aid=0004819929\n",
      "엔터 치세요 :\n",
      "\n",
      "\n",
      "\n",
      "\n",
      "\n",
      "삼성증권 ‘ESG 자본시장의 뉴 노멀’ 보고서에너지 전환·플랫폼·주주권, ESG 이슈 ‘주목’[이데일리 김윤지 기자] 삼성증권은 중단기적으로 기업 환경에 영향을 줄 ESG(환경·사회·지배구조) 이슈로 에너지 전환, 플랫폼 비즈니스에서의 노동 및 데이터 거버넌스, 주주권 강화를 꼽았다.3일 삼성증권은 ‘ESG 자본시장의 뉴 노멀’ 보고서를 통해 “기후 변화와 코로나19, ESG 공시 표준 수립의 본격화, 스튜어드십 코드의 ESG 강화 추세로 인해 앞으로 ESG 투자 규모는 폭발적으로 성장할 가능성이 높다”고 전망했다. ESG 성과와 재무적 성과의 연관성에 대해선 ESG가 상대적으로 높은 수익률은 보장하진 않으나 최소한 변동성 관리 측면에서 효과적이라고 판단했다. 2004년부터 2018년까지 총 1만723개의 펀드를 지속가능성 펀드와 일반 펀드로 나눠 분석한 결과 지속가능성 펀드는 일반 펀드 대비 수익성 측면에서 큰 차이를 보이지 않았으나 변동성 측면에서 지속적으로 우수한 성과를 보였다고 결론을 내렸다. 주목할 이슈 중 하나는 에너지 전환(E)이었다. 올해부터 187개국이 비준한 파리협정에 근거한 신기후체제가 출범한다. 지구 평균 온도 상승폭을 산업화 이전 대비 2℃ 미만으로 유지하고, 1.5℃  이하로 제한하기 위한 범세계적 노력을 기울이는 것이 골자다. 삼성증권은 “주요 국가들은 구체적인 온실가스 감축 목표를 설정한 만큼 화석연료를 수소, 태양광, 풍력 등 재생에너지로 대체할 수밖에 없다”면서 “2019년 기준 전세계적으로 250조원 수준인 탄소배출권 시장도 확대될 것”이라고 내다봤다.사회(S) 요소로 수 년간 가파르게 성장한 플랫폼 비즈니스가 꼽혔다. 이는 플랫폼 노동과 데이터 거버넌스라는 새로운 논란을 야기하고 있다. 공유 차량 플랫폼 우버 드라이버와 같은 ‘플랫폼 노동자’는 기업으로선 정규직 채용에 따른 부담을 줄이고 노동자는 자투리 여유시간을 활용한다는 장점이 있으나 노동자의 고용불안정이란 그림자가 존재한다. 한국고용정보원에 따르면 국내 플랫폼 노동자도 약 47만 명에서 54만 명 정도로 추산된다. 또 플랫폼에 축적된 데이터의 가치와 중요성이 강조되면서 기업이 보유한 데이터에 대한 관리 준칙의 필요성이 대두되고 있다.삼성증권은 주주권 강화(G)도 조명했다. 지난달 9일 ‘공정경제 3법’(상법, 공정거래법 개정안, 금융복합기업진단 감독법)이 국회 본회의를 통과했다. 삼성증권은 “제도적 변화 외에도 적극적 주주권 행사를 동반하는 ESG 투자 전략 등 기관 투자자를 중심으로 한 주주관여활동의 증가가 예상된다”고 내다봤다.김윤지 (jay3@edaily.co.kr)▶ #24시간 빠른 #미리보는 뉴스 #eNews+▶ 네이버에서 '이데일리 뉴스'를 만나보세요▶ 빡침해소, 청춘뉘우스 '스냅타임'＜ⓒ종합 경제정보 미디어 이데일리 - 무단전재 & 재배포 금지＞\n",
      "\n",
      "\n",
      "22 https://news.naver.com/main/read.naver?mode=LSD&mid=sec&sid1=105&oid=030&aid=0002921494\n",
      "엔터 치세요 :\n",
      "\n",
      "\n",
      "\n",
      "\n",
      "\n",
      "이정환 KT ESG 경영추진실 담당.개인화 음성합성(P-TTS)를 이용해 청각장애인 목소리를 찾아준 KT '목소리 찾기 프로젝트'가 올해 기업간(B2B) 프로젝트로 확대된다.KT는 한국장애인고용공단과 협력해 사회생활을 하는 청각장애인 근무지를 파악, 직장 내 커뮤니케이션 도구로 '마음 톡' 애플리케이션(앱)을 제공한다.'마음 톡'은 인공지능(AI)을 통해 구현된 목소리로 소통할 수 있도록 청각장애인과 가족·지인이 이용할 수 있는 전용 앱이다.대상자 모집은 1분기 예정이다. 코로나19가 완화돼 청각장애인이 일터로 복귀하는 시점을 감안한 것이다.이정환 KT ESG경영추진실 담당은 “지난해 1차 모집 취지가 '세상에서 하나밖에 없는 내 목소리'였다면 2차는 '장애인이 사회생활을 하면서도 힘 있게 살아갈 수 있게끔 돕자'는 것”이라며 “사회생활을 하면서 일반인과 마주하는 청각장애인에게 보다 나은 근로환경을 지원하고자 한다”고 배경을 설명했다.KT는 일부 대학에도 '마음 톡'을 제공해 청각장애인 취업준비생이 일자리를 얻는 데 도움을 줄 계획이다. 취준생이 구직 활동을 하며 직면할 수 있는 소통의 장벽을 낮추겠다는 의지다.2차 참가자의 목소리는 연예인이나 기가지니 목소리로 구현된다. 원하는 참가자에 한해 본인 목소리 찾기도 추가로 진행한다.이 담당은 지속적으로 기술을 고도화할 것이라고 말했다. 이 담당은 “청각장애인에게 목소리는 소리 이상의 의미”라며 “AI로 구현된 목소리는 가족의 정, 선물인 동시에 삶의 질을 높이는 수단”이라고 설명했다.특히 STT 개선에 주력할 방침이다. 이 담당은 “아직까지 말이 텍스트로 완벽하게 구현되지는 않는다”면서 “라디오 소리 등 외부의 소리가 겹쳐도, 사투리나 들쭉날쭉한 크기 등 정제되지 않은 소리까지 완벽하게 처리 가능하도록 할 방침”이라고 말했다.목소리 찾기 프로젝트는 KT가 소리로 소통하는 데 어려움을 겪는 이들에게 제공하는 차별적 사회공헌이다.1차 모집 당시 청각장애인 동성 가족 음성 데이터를 수집, 인공지능(AI)이 딥러닝을 통해 음색, 어조, 말투를 만들었다. 일반인 메시지는 STT(Speech to Text)로 구현되고 청각장애인의 메시지는 TTS(Text to Speech)로 전달된다.손지혜기자 jh@etnews.com▶ “2021년, 꼭 알아야할 클라우드 기술과 비즈니스” 21일 방송▶ 네이버 홈에서 [전자신문] 구독하기 [Copyright ⓒ 전자신문 & 전자신문인터넷, 무단전재 및 재배포 금지]\n",
      "\n",
      "\n",
      "23 https://news.naver.com/main/read.naver?mode=LSD&mid=sec&sid1=101&oid=022&aid=0003538902\n",
      "엔터 치세요 :\n",
      "\n",
      "\n",
      "\n",
      "\n",
      "\n",
      "생존과제 된 디지털 혁신전담 추진단 가동 새 플랫폼 구축 전력신용평가·대출·자산관리 등 디지털화데이터 기반 고객 맞춤형 서비스 제공기업 가치·지속 가능 경영재무 성과만 강조하던 패러다임 변화투명한 기업지배구조·책임경영 강화기후변화 대응 탈석탄·탄소제로 선언   2020년 신종 코로나바이러스 감염증(코로나19) 대응 차원으로 완화적 통화 기조를 위해 한국은행은 기준금리를 1.25%에서 두 차례 낮춰 0.50%까지 내렸다. 초저금리는 곧 이자이익 하락과 순이자마진의 고전을 의미한다. 그럼에도 5대 금융그룹은 2020년 선방한 한 해를 보냈다.  이자가 금융그룹 전체 수익에서 차지하는 비중이 절대적이기에 5대 금융그룹의 경영환경은 결코 녹록지 않았지만, 3분기까지 누적 순이익을 기준으로 하면 농협금융지주와 KB금융지주는 전년 동기 대비 각각 4.8%, 3.6%의 성장을 이뤄냈다. 하나금융지주와 신한금융지주 역시 각각 3.2%, 1.9% 성장하는 성과를 냈다. 우리금융지주는 증권 계열사 부재, 코로나19 관련 충당금, 사모펀드 사태 비용 등으로 고전했지만, 4분기 들어 회복세를 탄 것으로 관측된다.  금융그룹들은 지난해에 이어 올해 2021년에도 코로나19와 함께하는 한 해를 보내야 한다. 코로나19로 ‘비대면’ 거래의 편의성을 혁신해야만 살아남을 수 있다. 이는 곧 디지털 전환(DT)이 그룹의 성패를 결정짓는다는 얘기다. 금융그룹은 올해 디지털 혁신과 함께 전 세계적으로 중요성이 대두되고 있는 ESG(환경, 사회적 책임, 기업 지배구조) 경영에 금융그룹의 역량을 집중할 것으로 전망된다.     ◆ ‘위드 코로나’, 각 그룹의 디지털 전략은?  신한금융그룹은 ‘디지털(Digital)과 아날로그(Analog)의 선순환 가속화’를 통한 고객과 기업, 직원의 가치 제고를 위해 ‘디지로그(Digilog)’를 그룹 디지털 전환의 지향점으로 선정했다. 신한금융은 조용병 회장 직속으로 새로운 디지털 플랫폼 구축을 위해 본부장급 추진단장 및 실무자 포함 총 30명으로 구성된 ‘룬샷 조직’을 신설해 가동 중이다. 그룹 전체의 디지털 전환을 전담할 ‘디지로그위원회’도 신설했다.  신한금융은 인공지능과 빅데이터, 블록체인, 클라우드 등 4가지 분야로 나눠 디지털 신기술을 개발 중이다. 2018년 9월엔 금융권 최초로 인공지능(AI) 전문자회사인 ‘신한AI’를 설립했다.  KB금융의 디지털 혁신 전략의 중심에는 ‘고객가치’가 자리 잡고 있다. 디지털 기술 자체나 빅테크 기업과의 경쟁보다는 고객에게 더 나은 혜택을 제공하기 위해 필요한 디지털 기술을 활용함으로써 금융 세계에서도 고객의 행복을 이끌어내겠다는 의미이다. 그 대표적인 사례가 금융권 최초로 통신업에 진출한 ‘리브 엠(Liiv M)’과 KB모바일인증서다. 둘 다 금융고객들의 생활 편의를 위해 진출하고 개발해낸 디지털 혁신의 성과라는 평가다.    하나금융은 업무 프로세스를 디지털화하여 디지털 채널에서 제공할 수 있는 서비스를 더욱 확대한다는 방침이다. 2019년 출시한 하나원큐 신용대출을 시작으로 한 대출 디지털화가 대표적 사례다. 하나금융은 주택 관련 대출이나 기업 보증서 담보 대출을 디지털화하고 있으며, 비대면 상품 가입 범위를 법인고객, 관계사로 확대하는 작업도 추진 중이다. 영업점을 방문하지 않고 디지털 채널에서만 거래하는 고객을 관리하기 위해 QR코드 기반 홍보, 디지털 및 모바일 브랜치(지점)를 통한 집단대출 유치, 신규고객 섭외를 비롯해 개별 고객과 디지털 채널에서 직접적으로 소통할 수 있는 시스템도 검토 중이다.  우리금융은 지난해 7월 우리은행 내 조직개편을 통해 디지털 전환 강화를 전담하는 DT추진단을 신설했다. DT추진단 내 AI사업부를 신설해 인공지능 신기술의 은행 사업 적용을 연구하고 지원함으로써 최신 디지털 기술 경쟁을 선도할 계획이다. NH농협금융은 ‘고객경험 혁신’ ‘오퍼레이션 디지털화’ ‘혁신 신사업 추진’ ‘실행 인프라 구축’을 디지털 전환 4대 전략 방향으로 세우고 1조2000억원을 투자해 디지털 핵심영역을 직무에 적용할 수 있는 ‘디지털 인재’ 3000명을 양성하고, ‘애자일(agile) 조직’ 50개를 달성한다는 계획을 추진하고 있다.    ◆지속가능 경영을 위해… ESG경영 추진 가속화  ESG 경영은 최근 떠오른 화두다. 당기순이익 등 기업의 재무적 성과만을 판단하던 이전의 전통적 방식과 다르게 장기적 관점에서 기업 가치와 지속가능성에 영향을 주는 환경, 사회, 지배구조 등의 비재무적 요소를 충분히 반영해 평가하겠다는 것이 ESG 경영의 핵심이다.  신한금융그룹은 그룹 최고전략책임자(CSO) 및 그룹별 CSO 선임을 통해 그룹의 ESG 전략과 이행 방향을 논의하는 ‘그룹 지속가능경영협의회’를 운영하고 있다. 아울러 각 계열사 별로 ESG 담당 부서를 두고 일관성 있는 지속가능경영 추진전략을 운영하고 있다. 신한금융은 기후변화에 따른 국제협력에 적극 동참하기 위한 진일보한 친환경 전략인 ‘제로 카본 드라이브(Zero Carbon Drive)’선언을 통해 2050년까지 그룹 자산 포트폴리오의 탄소 배출량을 ‘제로’로 만든다는 목표를 세웠다.  KB금융그룹의 3대 ESG 전략 방향은 ‘환경을 위한 기후변화 전략 고도화’, ‘사회를 위한 책임경영 내재화’, ‘투명한 기업지배구조 확산’이다. 이사회 내에 ESG위원회를 신설해 그룹의 전략을 수립하는 등 ESG 경영체계를 확립하고 있는 KB금융은 그룹의 탄소 배출량 감축과 에너지 사용 효율화를 통해 저탄소 경제로의 전환을 가속화하고, 신재생에너지와 녹색산업 등 친환경 부문에 대한 투·융자 확대를 통해 친환경 금융 생태계를 선도해 나갈 계획이다.  하나금융그룹은 사회책임경영 관련 최고 의사결정기구인 행복나눔위원회를 사회가치경영위원회로 변경하여 ESG 전략을 포함한 사회가치경영과 관련한 정책 수립, 사업계획을 결의하고 있다. 글로벌 원칙 및 가치를 반영하고자 유엔 지속가능발전목표(SDGs)와 연계하여 일자리 창출, 미래인재 양성, 웰빙문화 조성 등 다양한 분야에서 사회가치 창출에 기여하고 있다.  우리금융그룹은 기후변화 위기 대응을 위한 금융의 역할을 선도하고자 ‘2050 탄소중립 금융그룹’을 선언했다. 그 첫걸음으로 ‘탈석탄 금융’을 선포했으며, ESG 전담부서를 만들고 자회사 대표들이 참여해 ESG 전략을 논의하는 위원회도 신설할 예정이다.  NH농협금융그룹은 지주 및 계열사 합동으로 TF를 운영해 ESG 경영 인프라 구축 방안을 수립해나가고 있다. 은행 내에 녹색금융 사업단과 ESG추진위원회를 신설하고, 지주는 금융권 최초로 환경부와 MOU를 체결하며 녹색분야 투자 및 환경책임투자를 확대할 예정이다.   남정훈 기자 che@segye.comⓒ 세상을 보는 눈, 세계일보\n",
      "\n",
      "\n",
      "24 https://news.naver.com/main/read.naver?mode=LSD&mid=sec&sid1=104&oid=015&aid=0004477182\n"
     ]
    },
    {
     "name": "stdout",
     "output_type": "stream",
     "text": [
      "엔터 치세요 :\n",
      "\n",
      "\n",
      "\n",
      "\n",
      "\n",
      "툭하면 경영권 공격거래업체 주문 끊기도미국 최대 에너지기업 엑슨모빌은 지난달 7일 행동주의 투자기업 엔진넘버원으로부터 ESG(환경·사회·지배구조) 활동을 강화하지 않으면 이사진 4명을 갈아치우겠다는 경고를 받았다. 엔진넘버원은 엑슨모빌에 온실가스 감축 방안을 내놓고 신재생에너지 사업을 늘리라고 요구했다. 압박이 커지자 엑슨모빌은 1주일 만에 평상시 가스전에서 배출되는 잉여가스를 태우는 플레어링을 2030년부터 아예 끊기로 하는 등 온실가스 배출 강도를 줄이겠다고 약속했다.글로벌 기업 중에도 ESG 리스크로 고민하는 곳이 늘고 있다. ESG 경영에 소홀하다는 이유로 소비자와 거래처는 물론 투자기업들까지 등을 돌리고, 엑슨모빌처럼 경영권 공격을 받는 사례가 발생하고 있어서다.구글은 지난달 말 사우디아라비아 국영 석유기업 아람코와 제휴해 클라우드컴퓨팅 시장에 진출하는 과정에서 반발을 겪었다. 구글의 데이터 서비스가 사우디 왕실을 비판하는 이들을 감시하는 데에 악용될 수 있다는 우려가 제기돼서다. 지난해 6월엔 아마존이 미국 경찰과 이미 계약한 안면인식 기술 서비스 사업을 1년간 유예하기로 했다. 미국 경찰의 인종차별 논란이 커지자 아마존이 자사 기술을 인종차별 도구로 팔았다는 비판 여론이 들끓었기 때문이다. 모두 ESG 리스크가 사업 발목을 잡은 사례다.세계 최대 의료용 장갑 제조업체인 말레이시아의 탑글러브코퍼레이션은 올 들어 ‘지속가능한 근로환경’ 문제로 홍역을 치르고 있다. 지난해 7월엔 미국이 노동착취 우려가 있다며 탑글러브의 자회사 두 곳에서 생산한 장갑을 수입제한 목록에 올렸다.지난해 10월부터는 열악한 근무환경 때문에 공장 내 신종 코로나바이러스 감염증(코로나19) 확진자가 폭증해 공장을 폐쇄하고 당국의 대대적 조사를 받았다. 탑글러브가 부랴부랴 1억링깃(약 270억원)을 들여 근로환경을 개선하겠다고 발표했지만 이젠 거래기업들이 발을 빼는 분위기다. 지난달 27일엔 크리넥스, 하기스 등 생활용품 브랜드를 운영하는 주요 거래처 킴벌리클라크가 거래를 재고하겠다고 밝히면서 탑글러브는 사면초가에 몰렸다.선한결 기자 always@hankyung.com▶ 경제지 네이버 구독 첫 400만, 한국경제 받아보세요▶ 한경 고품격 뉴스레터, 원클릭으로 구독하세요▶ 한국경제신문과 WSJ, 모바일한경으로 보세요 ⓒ 한국경제 & hankyung.com, 무단전재 및 재배포 금지\n",
      "\t\n",
      "\n",
      "25 https://news.naver.com/main/read.naver?mode=LSD&mid=sec&sid1=105&oid=001&aid=0012119032\n",
      "엔터 치세요 :\n",
      "\n",
      "\n",
      "\n",
      "\n",
      "\n",
      "\"다양한 국내외 기업과 개방적 협력 필요\"(서울=연합뉴스) 조성흠 기자 = 박정호 SK텔레콤 CEO는 4일 \"인공지능(AI) 혁신과 ESG(환경·사회적 책임·지배구조) 경영으로 사랑받는 빅테크 기업이 되자\"고 말했다.    박 CEO는 이날 비대면으로 열린 SK ICT 패밀리 신년 인사회에서 \"AI가 회사의 모든 업무와 대고객 서비스 혁신의 기반이 돼야 한다\"며 이같이 밝혔다.    SK텔레콤이 자체 개발한 실시간 영상전송 솔루션 'T라이브캐스터'로 진행된 이날 행사에는 SK텔레콤, SK브로드밴드, ADT캡스, 11번가 등 SK ICT 패밀리사 및 임직원, 노조위원장 등이 참여했다.    박 CEO는 \"우리는 이미 많은 서비스에 AI를 적용하고 있지만, 아직 완벽하지 않다\"며 \"상황에 따른 고객의 수요에 최적화된 솔루션을 AI 기반으로 제공할 수 있도록 해야 한다\"고 설명했다.    또한 '포스트 코로나' 시대의 혁신을 위해 서로 다른 사업 간 초협력과 개방성을 강조했다.    그는 \"우리 혼자만의 스토리와 역량만으로는 최고가 될 수 없다\"며 \"다양한 영역의 국내외 기업들과 과감하게 협력할 수 있는 개방적 협력이 필요하다\"고 말했다.    박 CEO는 빅테크 기업으로서 사회적 책임과 ESG 경영의 중요성에 대해서도 역설했다.    그는 \"신종 코로나바이러스 감염증 상황에서 어려움을 겪고 있는 분들께 우리의 정보통신기술(ICT) 역량으로 도움을 줄 방안을 모색해 보자\"며 \"사회 구성원과 이해 관계자들에게 사랑받는 빅테크 기업이 돼야 한다\"고 당부했다.[SK텔레콤 제공. 재판매 및 DB 금지]    josh@yna.co.kr▶네이버에서도 뉴스는 연합뉴스[구독 클릭]▶[팩트체크]검찰총장의 '벌금수배 해제'는 월권?▶제보하기<저작권자(c) 연합뉴스(https://www.yna.co.kr/), 무단 전재-재배포 금지>\n",
      "\t\n",
      "\n",
      "26 https://news.naver.com/main/read.naver?mode=LSD&mid=sec&sid1=101&oid=003&aid=0010275804\n",
      "엔터 치세요 :\n",
      "\n",
      "\n",
      "\n",
      "\n",
      "\n",
      "\"ESG는 시대적 요구…ESG 경영 본격화 할 것\"\"환경 사업 중심으로 전환…기술과 금융 접목\"\"수소사업 추진단 발족…연료전지 사업 가속\"\"스마트 컨스트럭션으로 생산성 향상 시킬 것\"[서울=뉴시스]SK건설 안재현 대표이사 사장. (제공 = SK건설) [서울=뉴시스] 이혜원 기자 = 안재현 SK건설 대표이사 사장이 새해에는 ESG(환경·사회·지배구조)를 선도하는 친환경 기업으로 리포지셔닝(repositioning)하겠다고 밝혔다. 4일 안재현 SK건설 대표는 신년사를 통해 \"ESG는 시대적 요구이고, 기업의 가치를 높이기 위한 기업경영의 새로운 축\"이라며 이같이 강조했다.그는 \"ESG의 기본 전제 조건이 안전인 만큼 본사와 현장이 협업하는 세이프티 플랫폼을 강화하고 이와 관련한 사업을 추진할 계획\"이라고 설명했다. 이어 안 대표는 환경 사업을 중심으로 포트폴리오를 전환하겠다고 밝혔다.그는 \"국내 최대 종합 환경플랫폼 기업인 EMC홀딩스를 기반으로 여러 관계사 및 비즈파트너와의 '오또'(One Team Operation·각 분야 전문가들이 수평적 논의로 문제를 해결해 나가는 체계)를 통해 기술과 금융을 접목한 다양한 사업들을 추진하겠다\"며 \"수소사업 추진단도 발족해, 연료전지 사업으로 글로벌 시장 진출 기회를 모색할 계획\"이라고 말했다.또 그는 \"현재 진행 중인 국내외 프로젝트들을 성공적으로 완수하겠다\"며 \"디지털 트랜스포메이션(DT)·표준화·모듈화 등 스마트 컨스트럭션을 통해 생산성을 향상시키고 리스크를 관리하는데 모든 역량을 집중할 방침\"이라고 말했다.마지막으로 안 대표는 \"새롭게 다가올 뉴노멀 시대에 가장 필요한 것은 '오또'라고 생각한다\"라며 \"점점 더 복잡해지는 대내외 환경을 극복할 수 있도록 기술 기업과의 협업, 금융과의 협업, 글로벌 파트너와의 협업을 강화해 나가야한다\"고 강조했다.☞공감언론 뉴시스 march11@newsis.com▶ 네이버에서 뉴시스 구독하기▶ K-Artprice, 유명 미술작품 가격 공개▶ 뉴시스 빅데이터 MSI 주가시세표 바로가기<ⓒ 공감언론 뉴시스통신사. 무단전재-재배포 금지>\n",
      "\t\n",
      "\n",
      "27 https://news.naver.com/main/read.naver?mode=LSD&mid=sec&sid1=101&oid=008&aid=0004523038\n"
     ]
    }
   ],
   "source": [
    "headers = {\"User-Agent\": \"Mozilla/5.0 (Windows NT 10.0; Win64; x64) AppleWebKit/537.36 (KHTML, like Gecko) Chrome/87.0.4280.88 Safari/537.36\"}\n",
    "\n",
    "for index, url in tqdm(enumerate(text_url['url'])):\n",
    "    print(index, url)\n",
    "    \n",
    "    try :\n",
    "        resp = requests.get(url, headers = headers)\n",
    "        html = BeautifulSoup(resp.text, \"html.parser\")\n",
    "        content = html.find_all('div', {'class' : '_article_body_contents article_body_contents'})[0].text\n",
    "        print(content)\n",
    "        text_url.iloc[index, 2] = content\n",
    "        sql = \"\"\"INSERT INTO esg_url_crawl(content) VALUES(%s)\"\"\"\n",
    "        cursor.executemany(sql, data)\n",
    "        conn.commit()\n",
    "    except :\n",
    "        text_url.iloc[index, 2] = \"ERROR\""
   ]
  },
  {
   "cell_type": "code",
   "execution_count": 19,
   "metadata": {},
   "outputs": [
    {
     "data": {
      "text/plain": [
       "\"\\n\\n\\n\\n\\n// flash 오류를 우회하기 위한 함수 추가\\nfunction _flash_removeCallback() {}\\n\\n\\t\\n\\t[머니투데이 대담=박재범 증권부장, 정리=황국상 기자  ] [[포스트 코로나, ESG가 경제 시스템을 바꾼다]산업·금융·법조계 ESG 전문가 대담]/사진제공=이미지투데이2020년은 ESG(환경·사회적 가치·지배구조) 논의의 원년으로 평가된다. 포털 사이트 다음(Daum)에서 ‘ESG’를 키워드로 해서 검색되는 뉴스 건수만 2만9200건(2020년 12월24일 기준)에 이른다. 2000년 1월부터 2019년 12월말까지, 20년간 나온 전체 ESG 뉴스 건수(약 1만2600건)의 2배를 넘는다. ESG가 주목을 받은 것은 지난해 전세계를 뒤흔든 코로나19(COVID-19) 때문이었다. 전염병이 경제 시스템 전반에 충격을 가하자 정부와 기업들은 그간 눈여겨 보지 않았던 비재무적 리스크 요인에 대한 관리 필요성을 절감했다. 주요 기업이나 금융사들이 ESG를 전사 리스크 관리나 전략기획 차원에서 다루기 시작한 것도 2020년부터다. 올해는 어떨까. 머니투데이는 2021년 신축년을 맞아 기업과 금융, 법조계 등 다양한 분야에서 활동하는 ESG 전문가들을 초빙해 ‘ESG 규제환경의 변화 - 기업·금융의 갈 길’이라는 주제로 대담을 진행했다.이번 대담에는 권기준 SK 수펙스협의회 SV위원회 부사장, 김성우 김앤장법률사무소 환경에너지연구소장, 우상현 KB은행 CIB(기업투자금융) 전무 겸 KB증권 IB(투자은행) 부사장, 윤석모 삼성증권 리서치센터장 겸 ESG연구소장이 참여했다.(이상 가나다 순) 코로나19가 확산되고 있는 시기임을 감안해 이번 대담은 박재범 머니투데이 증권부장 진행에 따라 온라인 화상회의로 진행됐다.━돈 버는 방식의 변화… '해 안끼치고 돈 벌기'→'착하게 돈 벌기'━ESG는 경제 중심, 기업 활동 중심에 들어와 있다. 이에 비해 아직 일반 국민의 체감도는 떨어진다. ‘뜬구름 잡는’ 선언처럼 느끼는 이도 적잖다. 다소 구체화된 ‘지속 가능한 경영’이란 시각도 있다. 대담 참여자들은 “착한 기업, 착하게 돈버는 기업, 착한 자본시장”으로 ESG 의미를 설명했다. ▶박재범 증권부장(이하 박 부장) =  대기업들에게는 ESG가 주요 화두가 된지 오래지만 중소기업이나 일반 국민들에게는 ESG가 아직 낯설다. ESG를 알기 쉽게 설명해달라. 우리 기업들이 어떻게 ESG 경영을 하고 있는지 소개도 부탁드린다.▶김성우 김앤장 환경에너지연구소장(이하 김 소장) = 이미 ESG를 위한 여건은 마련돼 있다. 일반 국민들도 미세먼지 사태 등을 경험하며 환경 리스크에 대한 고민이 깊어졌다. 화석연료를 덜 쓰고 에너지를 아껴서 기후변화 위기를 막아보자는 인식도 높아졌다. 이같은 공감대에 힘입어 연기금 등 글로벌 투자자들이 기업에 ESG 정보공개 압박을 가하기 시작했다. ESG 리스크 관리 필요성에 대한 대중의 인식이 높아지지 않으면 투자자들이 적극적으로 압박하지 못한다.▶윤석모 삼성증권 리서치센터장 겸 ESG연구소장(이하 윤 센터장) = 18세기부터 이미 윤리투자가 존재했다. 기업이 재무적 성과를 거두는 과정에서 사회나 환경 등 다른 부문에 피해를 끼치지 않아야 한다는 기본 개념이다. 코로나를 비롯 환경위기 등이 현실화되면서 ESG 필요성을 많이 느끼게 됐다. 결국 ‘착한 기업, 자본시장이 되자’는 게 ESG라고 볼 수 있다.▶권기준 SK 수펙스협의회 부사장(이하 권 부사장) = 사회적 인식이 바뀌고 있다. 그 중심에 소비자가 있다. 소비자가 바뀌면 당국이 규제를 만들고 금융기관이 이에 따른다. 투자자들이 우리 기업들에게 변화를 요구한다. 투자자 뿐 아니라 ‘피어 프레셔(Peer Pressure, 동류집단 압력)’도 있다. 이를테면 애플이, 재생에너지로 만든 반도체만 자기들에게 납품해달라고 요구하는 게 한 예다.이해관계자 모두로부터, ESG 관련 관리를 보다 강하게 해줄 것을 요구받고 있는 시대다. 안할 수 없게 됐다. 이제는 그냥 돈버는 기업이 돼선 안된다. 착하게 돈버는 기업이 돼야 한다.▶우상현 KB은행 CIB전무 겸 KB증권 IB 부사장(우 부사장) = ESG가 매우 거시적인 개념이기 때문에 각 사별로 어디에 중심을 두고 자기에 맞는 ESG 체계를 갖출지는 업종·업태에따라 달라질 수 있다. 지금도 ESG는 탄소중립, 기후협약, 사회적기업, 지배구조 등 여러 개념들이 혼재돼 있다. 당분간 1,2년 정도는 각 산업·기업별로 가치정립이 필요할 것이다.━2021년은 ESG 정보공시 표준화 원년, 미래투자로 인식해야━참가자들은 2020년이 ESG 정보관리의 필요성에 대한 인식이 확대된 해였다고 진단했다. 그러면서 “기업에 대한 당국·투자자의 ESG 정보공개 압박은 집요하고도 훨씬 강하게 가해질 것”이라며 “올해가 ESG 정보공개 방식을 표준화하기 위한 원년이 될 것”이라고 입을 모았다. 특히 ESG 정보의 표준화·통일화 작업이 본격화되는 한 해가 될 것이라고 전망했다. 아울러 ESG를 단기 비용요인으로만 생각하지 말고 중장기 수익창출을 위한 투자로 여겨야 한다고도 당부했다.▶박 부장 =  ‘착하게 돈 버는 기업’이란 정의가 쏙 들어온다. 다만 ESG로 수익 창출이 가능할 지 의문이 들 수밖에 없는데. 권기준 SK 수펙스협의회 부사장▶권 부사장 =  ESG는 리스크 요인이자 미래수익 창출을 위한 기회요인이라는 점에서 양면적이다. ESG 관련해서 나쁜 평가를 받으면 심각한 기업가치의 디밸류에이션(Devaluation, 가치훼손)이 발생한다. 무엇 하나 소홀함이 없이 관리가 필요하다는 것을 절절히 느낀다. 이 때문에 SK는 그룹 공통 ESG 성과 지표를 수립해서 30개 지표와 80개 관리항목을 도출하고 관계사들과 어떻게 이를 적용할지 조율하는 작업을 하고 있다.ESG 관련 비용을 단지 비용으로 끝낼 건지, 미래 수익 창출을 위한 투자로 연결시킬 것인지는 기업의 관점과 철학에 달린 문제다. 우리는 당연히 미래를 위한 투자라고 생각한다. 지금은 돈이 들더라도 미래의 비용을 절감해주거나 미래의 수익을 가져올 것이라고 믿는다. ESG 정보를 관리함으로써 디밸류에이션을 방지하고 이를 혁신의 계기로 활용해 리밸류에이션(Revaluation, 가치 재평가)를 받아보자는 것이다. SK건설이 자원순환업체 EMC홀딩스를 인수해 비즈니스 포트폴리오를 바꾸고 SK E&S;가 새만금 재생에너지 비즈니스를 만드는 것처럼 하나씩 만들어가고 있다. 지금 당장은 비용일 수 있지만 나중에 더 큰 가치를 창출할 것으로 인식하고 있다.▶우 부사장 = KB금융은 금융사 최초로 ESG 위원회를 구성해 전 계열사의 ESG 경영을 선도하고 소통하도록 했다. 금융권 최초로 탈석탄 선언을 내놓고 계열사 전체의 실천과제를 도출하려고 하고 있다. 당장 ESG는 기업금융 투·융자 사업에서 수익창출 기회의 영역이 될 수 있다. 탈석탄 선언의 일환으로 신재생에너지 분야에 대한 투자가 확대될 수 있기 때문이다. KB금융의 CIB 섹터에서는 10년간 ESG 관련 100조원 규모의 금융을 시현하겠다는 장기 비전을 내놓은 바 있다. DCM(채권자본시장)·ECM(주식자본시장)에서도 ‘그린소셜 에셋’ ‘그린소셜 부동산’ 및 혁신금융 등을 통해 이를 달성하겠다는 것이다. CIB 뿐 아니라 중소기업, 사회적기업, 환경 등 각 부문에서도 실천과제를 계속 내놓고 있다. ▶윤 센터장 = 착하게 돈을 벌어야 한다고 했지만 과연 정말 착한 것인지, 환경에만 착한 건 아닌지, 기업과 사회에 대해서는 과연 착한지, 돈을 버는 방식이 중장기적으로 지속가능한지등을 표준화된 형태로 정보화하는 움직임이 더 거세질 것이다. TCFD(기후변화 리스크의 재무공시를 위한 태스크포스팀) 권고안이나 EU(유럽연합)의 ‘그린 택소노미’(Green Taxonomy, 녹색산업 분류체계) 등이 대표적이다. 이같은 움직임이 나타나는 이유는 정보가 곧 돈이 돼야 하기 때문이다. ESG 관련 정보가 재무정보로, 투자정보로 활용될 수 있으려면 ESG 관련정보의 표준화·통일화 작업이 선행돼야 한다. 기후변화 리스크에 대해서는 당장 올해 국제적으로 비교가능한 재무제표 형태로 나올 것으로 보인다.당장은 기업들이 혼란스러울 수 있다. 그러나 ESG 관련 정보들이 재무제표상 자산에 어떻게 가치를 더하는지, 어떤 목적에서 어느 가치를 창출하는지 철저히 관리하는 기업이라면 추후 ESG 정보공시가 의무화될 때 투자자들에게 더 많이 어필할 수 있을 것이다. ESG 정보를 어떻게 관리하고 준비하느냐가 ESG 규제에 대한 기업의 성패를 좌우할 수 있을 것이다.지난해말 전기요금 개편안을 내놓은 한국전력이 좋은 예다. ESG 비친화적 기업이라는 논란도 있었지만 앞으로는 기후변화 대응 비용이나 신재생에너지 비용 등이 재무제표에 반영될 수 있게 됐다. 한때 외국인 투자자 지분율이 크게 떨어졌지만 최근 한국전력 문의가 늘어나고 있다. 투자자들에게는 ESG 정보를 어떻게 잘 관리하고 리스크를 개선시키는지가 중요한 어필 포인트이기 때문이다.▶김 소장 =  당장 EU 규제를 봐야 한다. 우선 유럽에서 제품을 팔고 유럽 소재 기관투자자들로부터 유치하려는 우리 기업들은 직간접적으로 EU의 ESG 규제에 노출될 수밖에 없다. 나아가 국내에서도 점차 ESG 규제를 입법화 하려는 모습이 나타날 것이다. 그 경우 이미 법안을 제정해 시행하고 있는 EU의 사례가 벤치마크 대상이 될 것이다.EU에서 올해부터 시행되는 규제는 금융상품들이 ESG 요소를 잘 담고 있는지 공개하는 것이다. 또 지속가능 투자를 얼마나 실제 집행하고 있는지를 계량화된 수치로 공개하도록 하는 것도 있다. ESG 정보공개 요구는 지난해보다 훨씬 촘촘하게, 집요하게 이뤄질 것이다. ESG 정보공개를 한 기업에 대해선 실제 과거의 선언이나 약속을 얼마나 이행했는지도 따지게 될 것이다. 특히 EU 당국과 기관투자자는 기업의 이사회나 경영진이 직접 ESG 정보공개를 이행하도록 압박을 가할 것이다.결국 ESG 규제대응은 이사회, 최고경영진이 직접 깊이 이해하고 담당하는 수밖에 없다. 또 ESG가 매우 넓은 이슈이기 때문에 기업의 주 활동지역과 업종, 기업 특성에 맞게 ESG를 관리하면 된다. ESG 이슈를 내 회사에 맞게 파악하고 관리해야 한다는 것이다. 나아가 ESG 규제를 무조건 지키라고 투자자들이 요구하는 게 아니다. 업종에 따라 ESG 측면에서의 개선이 어려운 곳들도 분명 있다. 그 경우에는 왜 안되는지, 충분히 설명하면 된다. EU 규제도 마찬가지다.▶박 부장 = 현장과 관리조직 사이의 갈등이 있을 것 같다. 이상적 방안을 택하려 해도 현장에서 못받아들이는 문제도 있을 것이다. 현실적으로는 오너나 대표 등이 관심을 둬야 ESG 경영이 가능한 것은 아닐까. ESG 친화적인 지속가능경영이 가능하려면 결국은 탑다운(Top-Down, 상의하달) 방식 외에는 답이 없는 것일까. 현장에서 느끼는 부분이 있다면. 우상현 KB은행 CIB전무 겸 KB증권 IB 부사장▶우 부사장 = 초기에는 탑다운 방식의 방향성 설정이 중요하다. 그러나 중장기적으로는 전 구성원과 사회 소통 채널에 체화돼야 한다. KB금융도 CIB 부문에서 10년간 100조원 투·융자, 등 실천 과제를 내놨는데 개인별로도 플라스틱·종이·전력사용 절감 등 개인적 과제도 설정해 이행 중이다. 실제 사무공간에서의 행동실천 과제를 도출해 비즈니스 차원에서의 장기과제도 도출하기 위해서다. 모든 비즈니스와 개인 업무에 ESG가 체화되도록 하는 게 중요하다. 물론 초기에는 어느 정도 탑다운 방식의 전략설정이 필요하다.▶윤 센터장 = 현대차의 변화를 흥미롭게 본다. 이사회 내에 전원 사외이사로 구성된 투명경영위원회를 설치했다. 그 중 한 분을 주주권익보호 담당이사로 지정해 지배구조 헌장도 도입했다. 이사회에 ESG 친화적인 부분들을 내재화하고 있는 것이다. 정의선 회장의 수소차·친환경 관련한 리더십과 이사회의 합리적 의사결정 체계가 조화를 이루는 것은 주주들이 가장 열광할 수 있는 부분이다. 그런 면에서 탑다운이 의미가 있다.▶권 부사장 = 시작은 탑다운이 맞지만 결국 조직 내 체화가 필요하다. 기업은 혁신을 하고 사회문제를 해결해 가면서 비즈니스 모델을 구상해야 하는데 혁신의 주체가 바로 구성원이다. KPI(핵심성과지표)에 ESG가 연계되도록 해야 한다. 우리도 아직 제도화 중이기는 하지만 KPI의 50%를 SV(사회적가치)로, 나머지 50%를 EV(기업가치)에 두도록 하고 있다. 구성원의 평가와 보상에 ESG가 반영되도록 해야 한다.▶김 소장 = 탑다운이 다소 강압적인 느낌이 드는 표현이기는 하지만 이사회와 경영진 본연의 업무를 하는 것이라고 이해하면 거부감이 덜할 수 있다. 회사 의사결정에 있어서 단기·장기 이슈가 충돌하거나 부서간 의견이 다를 때 이사회·경영진은 이를 조율할 의무가 있다. ESG도 마찬가지다. 이사회·경영진이 하면 될 일이다.━ESG 통합 국가전략 부재, 국가경쟁력 제고 차원에서 접근해야━'ESG 규제환경의 변화 - 기업·금융의 갈 길'이라는 주제로 진행된 머니투데이 신년 ESG 전문가 대담이 진행되고 있다.  / 사진=이기범 기자 leekb@ESG 등 비재무적 리스크 요인을 철저히 관리하고 공개하면서 나아가 ESG에서 기회요인을 발굴하는 작업, 말로는 쉽지만 항상 실천은 어려운 법이다. 문제는 기업이 의지가 있다고 하더라도 이를 지속할 만한 상황이 뒷받침돼야 한다. 전문가들은 어떤 점을 미흡하다고 봤을지 알아봤다.▶박 부장 = 우리 정부도 탄소중립 선언을 내놓는 등 ESG 확산에 박차를 가하고 있다. 우리나라는 ESG 경영을 하는 데 어느 정도 우호적인 환경이라고 보시는지 궁금하다.▶권 부사장 = SK가 최근 ‘RE100’, 즉 기업이 사용하는 전력 100%를 재생에너지로 충당하겠다는 글로벌 협약에 한국 최초로 가입했다. RE100은 매년 연간보고서를 내면서 RE100을 달성하기 어려운 나라가 어디인지를 묻는 주관식 설문을 진행한다. 지난해 12월15일 발간된 RE100 연간 보고서에 따르면 한국은 조사대상 174개국 중 세번째로 RE100을 하기 어려운 나라로 꼽혔다. 1위는 중국, 2위는 싱가포르였다. 10위권에는 러시아·뉴질랜드·아일랜드·아르헨티나·인도 등이 있다. 우리가 RE100에 가입하기 전까지 한국기업이 전무했던 상황이기는 하지만 한국에서 영업하는 글로벌 기업들이 많다. 애플의 경우 RE100 이행을 위한 글로벌 투자처를 찾는데 한국에 대해 그렇게 평가했다. 구글도 한국에서 데이터센터를 하려면 전력을 대규모로 써야 하는데 재생에너지 조달이 어렵다고 한 것이다.RE100 하기 어려운 나라 명단에 유럽이나 북미 지역 국가들이 없는 게 눈에 띈다. 이들은 신재생에너지의 가격이나 물량 측면에서 RE100을 하기가 수월한 곳들로 꼽힌다. 이들의 공통점은 은 추후 탄소국경세(탄소 다배출 국가에서 수입하는 제품에 매기는 관세)를 도입하겠다고 선언했다는 점이다. 단지 제품을 생산할 때 배출한 탄소 뿐 아니라 소비자들이 제품을 소비하는 과정에서 배출되는 탄소를 포함한 총량(탄소발자국, Carbon Footprint)을 재서 과세할 것으로 예상된다.RE100은 탄소배출을 줄이기 위한 좋은 방법인데 우리는 절대적으로 불리한 상황이다. 국가경쟁력 관점에서 우리 정부가 범부처 차원에서 통합 방안을 내놔야 한다. 우리 기업들이 글로벌 시장에서 도태되지 않도록 하기 위한, 전향적 정책들이 시급하다.정보공시 표준화도 필요하다. 투자자의 정보 비대칭성이 매우 심하다. 표준화된 ESG 공시가 자리를 잡아야 제대로 된 공시를 해서 거래 상대방으로부터 제대로 된 파트너로 인정받을 수 있다. 표준화된 공시가 있다면 도움이 될 것이다. 정부도 ESG 이슈를 확대하려고 다양한 노력을 기울이고 있지만 정부만의 노력으로는 ESG 확대가 안된다. 기업들이 자발적으로 참여하는 공시제도가 필요하다. 세계 최대 자산운용사 블랙록이 2021년 의결권 행사지침을 지난해 말 내놨다. 주주관여 활동을 더 하겠다는 선언이기도 했지만 ESG 정보공시를 더 잘 하라는 메시지가 담겨 있다.▶김 소장 = ESG 압박이 거세지고 있다. 어떻게 대응하느냐에 따라 ESG는 우리 경제에 독이 될수도 약이 될수도 있다. 이왕이면 약이 되도록 해야 한다. 어차피 우리 자본시장은 외국인 투자비율이 높다. 개방돼 있다. 일본처럼 우리 경제에 유리하게 ESG 규제를 세팅하려는 고민이 필요하다. 일본은 최근 ESG 정보공개를 의무화하는 방안을 도입키로 했다.아예 규제목적에 글로벌 자본시장에서 돌아다니는 ESG 자금을 일본 쪽으로 끌어오기 위한 것이라고 명시했다. 아울러 일본이 탄소중립을 선언한 것도, 탄소중립이 본격화되면 일본기업들이 가진 기술특허들이 상당히 빛을 발한다는 것도 배경에 있다.어떻게 ESG를 해야 우리나라, 우리 경제, 우리 기업에 유리할지 통합적으로 고려해야 한다. 유럽이나 일본과 달리 우리나라는 E와S와G가 분절돼 있다. G, 즉 지배구조에 대해서는 2019년부터 의무공개가 진행되고 있고 상장사 전체로 의무공개 대상이 확대될 예정이다. 그런데 아직 E,S와 관련한 의무공개는 아직 없다. 다만 한국거래소가 E,S 정보공개 가이드라인을 내놓을 것으로 예상되는 정도다. 물론 E,S 관련 정보 역시 G처럼 규제가 새로 도입될 것으로 보인다. 이미 더불어민주당 민형배·이소영 의원이 기업·금융사의 ESG정보를 의무적으로 공개하도록 하는 법안을 발의해 소위원회에 계류돼 있다. 요컨대 기업들이 G(지배구조)를 제대로 세워서 E(환경) S(사회) 관련 리스크를 제대로 관리하고 기회요인을 창출해 내도록 하는 방안을 잘 만들어주면 된다.대담=박재범 증권부장, 정리=황국상 기자   ▶부동산 투자는 [부릿지]▶조 변호사의 가정상담소▶줄리아 투자노트 <저작권자 ⓒ '돈이 보이는 리얼타임 뉴스' 머니투데이, 무단전재 및 재배포 금지>\\n\\t\\n\""
      ]
     },
     "execution_count": 19,
     "metadata": {},
     "output_type": "execute_result"
    }
   ],
   "source": [
    "\n",
    "text_url.iloc[0,-1]"
   ]
  },
  {
   "cell_type": "code",
   "execution_count": 21,
   "metadata": {},
   "outputs": [
    {
     "data": {
      "text/plain": [
       "25"
      ]
     },
     "execution_count": 21,
     "metadata": {},
     "output_type": "execute_result"
    }
   ],
   "source": [
    "# 수집되지 않은 기사 수 25개\n",
    "len(text_url[text_url['content'] =='ERROR'])"
   ]
  },
  {
   "cell_type": "code",
   "execution_count": 23,
   "metadata": {},
   "outputs": [],
   "source": [
    "text_url.to_csv('text_url_2021.csv', encoding = 'utf-8-sig', index = False)"
   ]
  },
  {
   "cell_type": "code",
   "execution_count": null,
   "metadata": {},
   "outputs": [],
   "source": []
  },
  {
   "cell_type": "code",
   "execution_count": null,
   "metadata": {},
   "outputs": [],
   "source": []
  },
  {
   "cell_type": "code",
   "execution_count": 39,
   "metadata": {},
   "outputs": [
    {
     "data": {
      "text/plain": [
       "'\\n\\n\\n\\n\\n\\t\\n\\tKB증권 \\'환경·사회·지배구조 이슈분석\\' 보고서KB증권[연합뉴스TV 제공]    (서울=연합뉴스) 임미나 기자 = KB증권은 30일 세계적인 자산운용사 SSGA(State Street Global Advisors)가 최근 주요 글로벌 기업들에 ESG(환경·사회·지배구조) 문제 개선을 공식 요구하고 나섰다며 향후 국내 기업에도 영향을 줄 것으로 전망했다.    김준섭 연구원은 \\'ESG 이슈분석\\' 보고서에서 \"세계 3대 운용사인 SSGA가 지난 28일 ESG 기준에 미달한 대기업을 대상으로 ESG 관련 문제를 개선할 것을 요구하는 내용의 서신을 발송했다\"며 \"SSGA는 (EGS 관련) 주주관여 활동을 지속하는 한편 올해부터 의결권을 적극적으로 행사하겠다고 밝혔다\"고 전했다.    김 연구원은 SSGA가 이 서신에서 지난해 도입한 ESG 평가 기준(R-Factor)을 공개하면서 2022년까지 모든 기업을 대상으로 ESG 관여 전략을 시행한다는 계획(로드맵)을 밝혔다고 덧붙였다.    SSGA는 2017년 이후 다양성 및 성 평등 문제를 중심으로 ESG 활동을 추진해 왔으며, 그 결과 583개 기업이 이사회에 여성 이사를 선임한 것으로 알려져 있다.    김 연구원은 \"SSGA는 평가 기준을 통해 6천여개 기업과 산업을 대상으로 표준화된 ESG 평가를 시도했다는 점에서 의미가 있다\"며 향후 ESG 평가 표준이 형성될 것으로 기대했다.    그는 \"현재 여러 ESG 지표의 난립과 수많은 규약이 ESG 투자의 걸림돌로 작용하고 있으나, 평가 방식이 표준화되면서 ESG 투자가 활성화할 전망\"이라고 분석했다.    또 SSGA가 이번에 서신을 보낸 대상 가운데 한국 기업은 없어 올해 국내에서 이와 관련한 주총 의결권 행사 이슈는 없을 것으로 예상했지만, 조만간 국내 기업에도 SSGA의 전략이 영향을 줄 것으로 내다봤다.    그는 SSGA가 국내 운용사와 협업해 상장지수펀드(ETF)를 출시하고 전주에 사무소를 여는 등 국내 노출도를 높이고 있으며 2022년까지 한국 기업 투자 비중을 확대하겠다고 공언한 바 있다며 \"SSGA의 주주 관여 전략이 국내에서도 이슈화될 전망\"이라고 말했다.    mina@yna.co.kr▶확 달라진 연합뉴스 웹을 만나보세요▶네이버 [연합뉴스] 채널 구독   ▶뭐 하고 놀까? #흥\\n\\n'"
      ]
     },
     "execution_count": 39,
     "metadata": {},
     "output_type": "execute_result"
    }
   ],
   "source": [
    "html.find_all('div', {'class' : '_article_body_contents article_body_contents'})[0].text"
   ]
  },
  {
   "cell_type": "code",
   "execution_count": null,
   "metadata": {},
   "outputs": [],
   "source": []
  },
  {
   "cell_type": "code",
   "execution_count": 23,
   "metadata": {},
   "outputs": [
    {
     "ename": "AttributeError",
     "evalue": "'Series' object has no attribute 'itertuples'",
     "output_type": "error",
     "traceback": [
      "\u001b[1;31m---------------------------------------------------------------------------\u001b[0m",
      "\u001b[1;31mAttributeError\u001b[0m                            Traceback (most recent call last)",
      "\u001b[1;32m<ipython-input-23-a990bfc34563>\u001b[0m in \u001b[0;36m<module>\u001b[1;34m\u001b[0m\n\u001b[0;32m      7\u001b[0m \u001b[0mcontent\u001b[0m \u001b[1;33m=\u001b[0m \u001b[0mtext_url\u001b[0m\u001b[1;33m[\u001b[0m\u001b[1;34m'content'\u001b[0m\u001b[1;33m]\u001b[0m\u001b[1;33m\u001b[0m\u001b[1;33m\u001b[0m\u001b[0m\n\u001b[0;32m      8\u001b[0m \u001b[0mcontent\u001b[0m\u001b[1;33m\u001b[0m\u001b[1;33m\u001b[0m\u001b[0m\n\u001b[1;32m----> 9\u001b[1;33m \u001b[0mdata\u001b[0m \u001b[1;33m=\u001b[0m \u001b[0mlist\u001b[0m\u001b[1;33m(\u001b[0m\u001b[0mcontent\u001b[0m\u001b[1;33m.\u001b[0m\u001b[0mitertuples\u001b[0m\u001b[1;33m(\u001b[0m\u001b[0mindex\u001b[0m\u001b[1;33m=\u001b[0m\u001b[1;32mFalse\u001b[0m\u001b[1;33m,\u001b[0m \u001b[0mname\u001b[0m\u001b[1;33m=\u001b[0m\u001b[1;32mNone\u001b[0m\u001b[1;33m)\u001b[0m\u001b[1;33m)\u001b[0m\u001b[1;33m\u001b[0m\u001b[1;33m\u001b[0m\u001b[0m\n\u001b[0m\u001b[0;32m     10\u001b[0m \u001b[1;31m#data\u001b[0m\u001b[1;33m\u001b[0m\u001b[1;33m\u001b[0m\u001b[1;33m\u001b[0m\u001b[0m\n\u001b[0;32m     11\u001b[0m \u001b[1;33m\u001b[0m\u001b[0m\n",
      "\u001b[1;32mC:\\ProgramData\\Anaconda3\\lib\\site-packages\\pandas\\core\\generic.py\u001b[0m in \u001b[0;36m__getattr__\u001b[1;34m(self, name)\u001b[0m\n\u001b[0;32m   5463\u001b[0m             \u001b[1;32mif\u001b[0m \u001b[0mself\u001b[0m\u001b[1;33m.\u001b[0m\u001b[0m_info_axis\u001b[0m\u001b[1;33m.\u001b[0m\u001b[0m_can_hold_identifiers_and_holds_name\u001b[0m\u001b[1;33m(\u001b[0m\u001b[0mname\u001b[0m\u001b[1;33m)\u001b[0m\u001b[1;33m:\u001b[0m\u001b[1;33m\u001b[0m\u001b[1;33m\u001b[0m\u001b[0m\n\u001b[0;32m   5464\u001b[0m                 \u001b[1;32mreturn\u001b[0m \u001b[0mself\u001b[0m\u001b[1;33m[\u001b[0m\u001b[0mname\u001b[0m\u001b[1;33m]\u001b[0m\u001b[1;33m\u001b[0m\u001b[1;33m\u001b[0m\u001b[0m\n\u001b[1;32m-> 5465\u001b[1;33m             \u001b[1;32mreturn\u001b[0m \u001b[0mobject\u001b[0m\u001b[1;33m.\u001b[0m\u001b[0m__getattribute__\u001b[0m\u001b[1;33m(\u001b[0m\u001b[0mself\u001b[0m\u001b[1;33m,\u001b[0m \u001b[0mname\u001b[0m\u001b[1;33m)\u001b[0m\u001b[1;33m\u001b[0m\u001b[1;33m\u001b[0m\u001b[0m\n\u001b[0m\u001b[0;32m   5466\u001b[0m \u001b[1;33m\u001b[0m\u001b[0m\n\u001b[0;32m   5467\u001b[0m     \u001b[1;32mdef\u001b[0m \u001b[0m__setattr__\u001b[0m\u001b[1;33m(\u001b[0m\u001b[0mself\u001b[0m\u001b[1;33m,\u001b[0m \u001b[0mname\u001b[0m\u001b[1;33m:\u001b[0m \u001b[0mstr\u001b[0m\u001b[1;33m,\u001b[0m \u001b[0mvalue\u001b[0m\u001b[1;33m)\u001b[0m \u001b[1;33m->\u001b[0m \u001b[1;32mNone\u001b[0m\u001b[1;33m:\u001b[0m\u001b[1;33m\u001b[0m\u001b[1;33m\u001b[0m\u001b[0m\n",
      "\u001b[1;31mAttributeError\u001b[0m: 'Series' object has no attribute 'itertuples'"
     ]
    }
   ],
   "source": [
    "#db 입력\n",
    "conn = pymysql.connect(host='127.0.0.1', user='root', password='1234',db='esg_db', charset='utf8mb4')\n",
    "cursor = conn.cursor()\n",
    "\n",
    "text_url = pd.read_csv('text_url_2021.csv')\n",
    "\n",
    "content = text_url['content']\n",
    "content\n",
    "data = list(content.itertuples(index=False, name=None))\n",
    "#data\n",
    "\n",
    "sql = \"\"\"\n",
    "INSERT INTO esg_url_crawl(\n",
    "    content) VALUES(%s)\n",
    "\"\"\"\n",
    "\n",
    "cursor.executemany(sql, content)\n",
    "conn.commit()"
   ]
  },
  {
   "cell_type": "code",
   "execution_count": 8,
   "metadata": {},
   "outputs": [],
   "source": []
  },
  {
   "cell_type": "code",
   "execution_count": 14,
   "metadata": {},
   "outputs": [
    {
     "data": {
      "text/plain": [
       "0       \\n\\n\\n\\n\\n// flash 오류를 우회하기 위한 함수 추가\\nfunction...\n",
       "1       \\n\\n\\n\\n\\n// flash 오류를 우회하기 위한 함수 추가\\nfunction...\n",
       "2       \\n\\n\\n\\n\\n// flash 오류를 우회하기 위한 함수 추가\\nfunction...\n",
       "3       \\n\\n\\n\\n\\n// flash 오류를 우회하기 위한 함수 추가\\nfunction...\n",
       "4       \\n\\n\\n\\n\\n// flash 오류를 우회하기 위한 함수 추가\\nfunction...\n",
       "                              ...                        \n",
       "3467    \\n\\n\\n\\n\\n// flash 오류를 우회하기 위한 함수 추가\\nfunction...\n",
       "3468    \\n\\n\\n\\n\\n// flash 오류를 우회하기 위한 함수 추가\\nfunction...\n",
       "3469    \\n\\n\\n\\n\\n// flash 오류를 우회하기 위한 함수 추가\\nfunction...\n",
       "3470    \\n\\n\\n\\n\\n// flash 오류를 우회하기 위한 함수 추가\\nfunction...\n",
       "3471    \\n\\n\\n\\n\\n// flash 오류를 우회하기 위한 함수 추가\\nfunction...\n",
       "Name: content, Length: 3472, dtype: object"
      ]
     },
     "execution_count": 14,
     "metadata": {},
     "output_type": "execute_result"
    }
   ],
   "source": []
  },
  {
   "cell_type": "code",
   "execution_count": null,
   "metadata": {},
   "outputs": [],
   "source": []
  }
 ],
 "metadata": {
  "kernelspec": {
   "display_name": "Python 3",
   "language": "python",
   "name": "python3"
  },
  "language_info": {
   "codemirror_mode": {
    "name": "ipython",
    "version": 3
   },
   "file_extension": ".py",
   "mimetype": "text/x-python",
   "name": "python",
   "nbconvert_exporter": "python",
   "pygments_lexer": "ipython3",
   "version": "3.8.3"
  },
  "toc": {
   "base_numbering": 1,
   "nav_menu": {},
   "number_sections": false,
   "sideBar": true,
   "skip_h1_title": false,
   "title_cell": "Table of Contents",
   "title_sidebar": "Contents",
   "toc_cell": false,
   "toc_position": {},
   "toc_section_display": true,
   "toc_window_display": false
  },
  "varInspector": {
   "cols": {
    "lenName": 16,
    "lenType": 16,
    "lenVar": 40
   },
   "kernels_config": {
    "python": {
     "delete_cmd_postfix": "",
     "delete_cmd_prefix": "del ",
     "library": "var_list.py",
     "varRefreshCmd": "print(var_dic_list())"
    },
    "r": {
     "delete_cmd_postfix": ") ",
     "delete_cmd_prefix": "rm(",
     "library": "var_list.r",
     "varRefreshCmd": "cat(var_dic_list()) "
    }
   },
   "types_to_exclude": [
    "module",
    "function",
    "builtin_function_or_method",
    "instance",
    "_Feature"
   ],
   "window_display": false
  }
 },
 "nbformat": 4,
 "nbformat_minor": 5
}
